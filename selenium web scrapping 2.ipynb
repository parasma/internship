{
 "cells": [
  {
   "cell_type": "markdown",
   "id": "2ce3b4ee",
   "metadata": {},
   "source": [
    "## ANS 6"
   ]
  },
  {
   "cell_type": "code",
   "execution_count": 2,
   "id": "65bb0cf4",
   "metadata": {},
   "outputs": [
    {
     "name": "stdout",
     "output_type": "stream",
     "text": [
      "Requirement already satisfied: selenium in c:\\users\\dell\\anaconda3\\lib\\site-packages (4.2.0)\n",
      "Requirement already satisfied: urllib3[secure,socks]~=1.26 in c:\\users\\dell\\anaconda3\\lib\\site-packages (from selenium) (1.26.7)\n",
      "Requirement already satisfied: trio-websocket~=0.9 in c:\\users\\dell\\anaconda3\\lib\\site-packages (from selenium) (0.9.2)\n",
      "Requirement already satisfied: trio~=0.17 in c:\\users\\dell\\anaconda3\\lib\\site-packages (from selenium) (0.21.0)\n",
      "Requirement already satisfied: async-generator>=1.9 in c:\\users\\dell\\anaconda3\\lib\\site-packages (from trio~=0.17->selenium) (1.10)\n",
      "Requirement already satisfied: cffi>=1.14 in c:\\users\\dell\\anaconda3\\lib\\site-packages (from trio~=0.17->selenium) (1.14.6)\n",
      "Requirement already satisfied: sniffio in c:\\users\\dell\\anaconda3\\lib\\site-packages (from trio~=0.17->selenium) (1.2.0)\n",
      "Requirement already satisfied: sortedcontainers in c:\\users\\dell\\anaconda3\\lib\\site-packages (from trio~=0.17->selenium) (2.4.0)\n",
      "Requirement already satisfied: idna in c:\\users\\dell\\anaconda3\\lib\\site-packages (from trio~=0.17->selenium) (3.2)\n",
      "Requirement already satisfied: attrs>=19.2.0 in c:\\users\\dell\\anaconda3\\lib\\site-packages (from trio~=0.17->selenium) (21.2.0)\n",
      "Requirement already satisfied: outcome in c:\\users\\dell\\anaconda3\\lib\\site-packages (from trio~=0.17->selenium) (1.1.0)\n",
      "Requirement already satisfied: pycparser in c:\\users\\dell\\anaconda3\\lib\\site-packages (from cffi>=1.14->trio~=0.17->selenium) (2.20)\n",
      "Requirement already satisfied: wsproto>=0.14 in c:\\users\\dell\\anaconda3\\lib\\site-packages (from trio-websocket~=0.9->selenium) (1.1.0)\n",
      "Requirement already satisfied: PySocks!=1.5.7,<2.0,>=1.5.6 in c:\\users\\dell\\anaconda3\\lib\\site-packages (from urllib3[secure,socks]~=1.26->selenium) (1.7.1)\n",
      "Requirement already satisfied: pyOpenSSL>=0.14 in c:\\users\\dell\\anaconda3\\lib\\site-packages (from urllib3[secure,socks]~=1.26->selenium) (21.0.0)\n",
      "Requirement already satisfied: cryptography>=1.3.4 in c:\\users\\dell\\anaconda3\\lib\\site-packages (from urllib3[secure,socks]~=1.26->selenium) (3.4.8)\n",
      "Requirement already satisfied: certifi in c:\\users\\dell\\anaconda3\\lib\\site-packages (from urllib3[secure,socks]~=1.26->selenium) (2021.10.8)\n",
      "Requirement already satisfied: six>=1.5.2 in c:\\users\\dell\\anaconda3\\lib\\site-packages (from pyOpenSSL>=0.14->urllib3[secure,socks]~=1.26->selenium) (1.16.0)\n",
      "Requirement already satisfied: h11<1,>=0.9.0 in c:\\users\\dell\\anaconda3\\lib\\site-packages (from wsproto>=0.14->trio-websocket~=0.9->selenium) (0.13.0)\n"
     ]
    }
   ],
   "source": [
    "! pip install selenium"
   ]
  },
  {
   "cell_type": "code",
   "execution_count": 3,
   "id": "7a8d957c",
   "metadata": {},
   "outputs": [],
   "source": [
    "import selenium\n",
    "import pandas as pd\n",
    "from selenium import webdriver\n",
    "import warnings\n",
    "warnings.filterwarnings(\"ignore\")\n",
    "import time"
   ]
  },
  {
   "cell_type": "code",
   "execution_count": 4,
   "id": "56366bc3",
   "metadata": {},
   "outputs": [],
   "source": [
    "driver=webdriver.Chrome(r\"C:\\web driver\\chromedriver.exe\")"
   ]
  },
  {
   "cell_type": "code",
   "execution_count": 5,
   "id": "bde625a6",
   "metadata": {},
   "outputs": [],
   "source": [
    "driver=webdriver.Chrome(\"chromedriver.exe\")"
   ]
  },
  {
   "cell_type": "code",
   "execution_count": 6,
   "id": "25b414c8",
   "metadata": {},
   "outputs": [],
   "source": [
    "driver=webdriver.Chrome(\"chromedriver.exe\")\n",
    "time.sleep(2)"
   ]
  },
  {
   "cell_type": "code",
   "execution_count": 8,
   "id": "92bc1510",
   "metadata": {},
   "outputs": [],
   "source": [
    "driver.get(\"https://www.flipkart.com/\")"
   ]
  },
  {
   "cell_type": "code",
   "execution_count": 9,
   "id": "1445e05c",
   "metadata": {},
   "outputs": [],
   "source": [
    "search_field_products=driver.find_element_by_class_name(\"_3704LK\")\n",
    "search_field_products.send_keys(\"sneakers\")"
   ]
  },
  {
   "cell_type": "code",
   "execution_count": 10,
   "id": "51a095e4",
   "metadata": {},
   "outputs": [],
   "source": [
    "search_button=driver.find_element_by_xpath(\"/html/body/div[1]/div/div[1]/div[1]/div[2]/div[2]/form/div/button\")\n",
    "search_button.click()"
   ]
  },
  {
   "cell_type": "code",
   "execution_count": 11,
   "id": "3b81d3d5",
   "metadata": {},
   "outputs": [],
   "source": [
    "brand_list=[]\n",
    "Product_description=[]\n",
    "price_list=[]"
   ]
  },
  {
   "cell_type": "code",
   "execution_count": 12,
   "id": "1408bfec",
   "metadata": {},
   "outputs": [
    {
     "data": {
      "text/plain": [
       "[<selenium.webdriver.remote.webelement.WebElement (session=\"08870b69c6c066be65edd3d719de747c\", element=\"58848287-686a-4a4a-b060-caf75df94031\")>,\n",
       " <selenium.webdriver.remote.webelement.WebElement (session=\"08870b69c6c066be65edd3d719de747c\", element=\"87432b17-78a8-43da-afe4-e4572066e044\")>,\n",
       " <selenium.webdriver.remote.webelement.WebElement (session=\"08870b69c6c066be65edd3d719de747c\", element=\"d986560b-9912-4fe0-8411-74b00b184cd5\")>,\n",
       " <selenium.webdriver.remote.webelement.WebElement (session=\"08870b69c6c066be65edd3d719de747c\", element=\"84d2acb6-f380-4ef6-ad71-73513e085d78\")>,\n",
       " <selenium.webdriver.remote.webelement.WebElement (session=\"08870b69c6c066be65edd3d719de747c\", element=\"abf7602f-768b-4b8f-b539-09f9b6c10cc0\")>,\n",
       " <selenium.webdriver.remote.webelement.WebElement (session=\"08870b69c6c066be65edd3d719de747c\", element=\"fda2b203-a02d-4652-9f30-2ebe15f3a0b7\")>,\n",
       " <selenium.webdriver.remote.webelement.WebElement (session=\"08870b69c6c066be65edd3d719de747c\", element=\"7f52c436-4ba7-4361-98fd-d3ee40094815\")>,\n",
       " <selenium.webdriver.remote.webelement.WebElement (session=\"08870b69c6c066be65edd3d719de747c\", element=\"be846a2e-de11-4492-a12d-be73a2c03e92\")>,\n",
       " <selenium.webdriver.remote.webelement.WebElement (session=\"08870b69c6c066be65edd3d719de747c\", element=\"687d2d3f-46ee-4e88-b28c-c7f834f4610b\")>,\n",
       " <selenium.webdriver.remote.webelement.WebElement (session=\"08870b69c6c066be65edd3d719de747c\", element=\"91700816-b381-46b5-a1c7-b51979ef2a3b\")>,\n",
       " <selenium.webdriver.remote.webelement.WebElement (session=\"08870b69c6c066be65edd3d719de747c\", element=\"8fc3bffd-bd5b-4217-8250-278ca70f90f4\")>,\n",
       " <selenium.webdriver.remote.webelement.WebElement (session=\"08870b69c6c066be65edd3d719de747c\", element=\"37a3ce6f-8d0d-465f-9fe3-8b1496fd5895\")>,\n",
       " <selenium.webdriver.remote.webelement.WebElement (session=\"08870b69c6c066be65edd3d719de747c\", element=\"27b8b569-093e-4071-af33-1684638f2fc2\")>,\n",
       " <selenium.webdriver.remote.webelement.WebElement (session=\"08870b69c6c066be65edd3d719de747c\", element=\"0a9ca771-fabe-4d2f-85e2-30c890d81f8e\")>,\n",
       " <selenium.webdriver.remote.webelement.WebElement (session=\"08870b69c6c066be65edd3d719de747c\", element=\"da4efaa2-fd31-4281-b76b-21c1e1f581f5\")>,\n",
       " <selenium.webdriver.remote.webelement.WebElement (session=\"08870b69c6c066be65edd3d719de747c\", element=\"8be185e7-c019-4219-bc11-428fbb201dad\")>,\n",
       " <selenium.webdriver.remote.webelement.WebElement (session=\"08870b69c6c066be65edd3d719de747c\", element=\"4451ed5d-6837-4d2f-834f-f42f01481b17\")>,\n",
       " <selenium.webdriver.remote.webelement.WebElement (session=\"08870b69c6c066be65edd3d719de747c\", element=\"5939c0a4-1cb4-496b-9701-d5bfd9ae68cb\")>,\n",
       " <selenium.webdriver.remote.webelement.WebElement (session=\"08870b69c6c066be65edd3d719de747c\", element=\"16af1a12-3719-452c-820d-cf89b62016e4\")>,\n",
       " <selenium.webdriver.remote.webelement.WebElement (session=\"08870b69c6c066be65edd3d719de747c\", element=\"8f660ac6-ede0-4a3c-a1f6-1bf114d45ec5\")>,\n",
       " <selenium.webdriver.remote.webelement.WebElement (session=\"08870b69c6c066be65edd3d719de747c\", element=\"5a43befd-b93c-44a4-9dbd-02039cb36b21\")>,\n",
       " <selenium.webdriver.remote.webelement.WebElement (session=\"08870b69c6c066be65edd3d719de747c\", element=\"5bee6132-826d-4813-8909-c915c796f7fe\")>,\n",
       " <selenium.webdriver.remote.webelement.WebElement (session=\"08870b69c6c066be65edd3d719de747c\", element=\"345c6b14-3b4a-4719-ac33-ec01e61d5123\")>,\n",
       " <selenium.webdriver.remote.webelement.WebElement (session=\"08870b69c6c066be65edd3d719de747c\", element=\"732abdd6-8b9e-47d4-b9d3-628587ff6651\")>,\n",
       " <selenium.webdriver.remote.webelement.WebElement (session=\"08870b69c6c066be65edd3d719de747c\", element=\"9e8116da-843b-45b8-8256-097eedaefa61\")>,\n",
       " <selenium.webdriver.remote.webelement.WebElement (session=\"08870b69c6c066be65edd3d719de747c\", element=\"f6702592-9956-46ed-b041-77aad4b448d9\")>,\n",
       " <selenium.webdriver.remote.webelement.WebElement (session=\"08870b69c6c066be65edd3d719de747c\", element=\"4abeb185-686b-4b6b-99ba-4bf6d2ebe9b2\")>,\n",
       " <selenium.webdriver.remote.webelement.WebElement (session=\"08870b69c6c066be65edd3d719de747c\", element=\"d7b804fb-8ce7-4708-8c43-66e2139ce5e4\")>,\n",
       " <selenium.webdriver.remote.webelement.WebElement (session=\"08870b69c6c066be65edd3d719de747c\", element=\"fc09d419-2a60-4b50-a078-3db69929353c\")>,\n",
       " <selenium.webdriver.remote.webelement.WebElement (session=\"08870b69c6c066be65edd3d719de747c\", element=\"26380e7e-97aa-4395-8ceb-b3482744d05d\")>,\n",
       " <selenium.webdriver.remote.webelement.WebElement (session=\"08870b69c6c066be65edd3d719de747c\", element=\"049edcdb-6898-4385-ad87-053c2ef1d7c4\")>,\n",
       " <selenium.webdriver.remote.webelement.WebElement (session=\"08870b69c6c066be65edd3d719de747c\", element=\"20d24630-0188-4e3c-bfa6-fad821c6083e\")>,\n",
       " <selenium.webdriver.remote.webelement.WebElement (session=\"08870b69c6c066be65edd3d719de747c\", element=\"f8ccf7a0-8e63-40a1-a9fb-37666a400f47\")>,\n",
       " <selenium.webdriver.remote.webelement.WebElement (session=\"08870b69c6c066be65edd3d719de747c\", element=\"06b6ea8b-f56f-491f-9469-4a639e42651d\")>,\n",
       " <selenium.webdriver.remote.webelement.WebElement (session=\"08870b69c6c066be65edd3d719de747c\", element=\"433077ab-c31d-47ed-9bc4-0fe373765dcb\")>,\n",
       " <selenium.webdriver.remote.webelement.WebElement (session=\"08870b69c6c066be65edd3d719de747c\", element=\"311cbaf8-f681-4667-8d42-18e8e1724c7d\")>,\n",
       " <selenium.webdriver.remote.webelement.WebElement (session=\"08870b69c6c066be65edd3d719de747c\", element=\"79ad12b9-7f72-47b3-aa5b-a2bf7ec2c445\")>,\n",
       " <selenium.webdriver.remote.webelement.WebElement (session=\"08870b69c6c066be65edd3d719de747c\", element=\"55034fce-6a96-4b3c-a0a5-8fa8f4fd7823\")>,\n",
       " <selenium.webdriver.remote.webelement.WebElement (session=\"08870b69c6c066be65edd3d719de747c\", element=\"3ae912ce-617d-4e44-9711-7b5502a8f0d3\")>,\n",
       " <selenium.webdriver.remote.webelement.WebElement (session=\"08870b69c6c066be65edd3d719de747c\", element=\"1255c1b8-fa44-4f8c-b339-9a2dbd223eb7\")>]"
      ]
     },
     "execution_count": 12,
     "metadata": {},
     "output_type": "execute_result"
    }
   ],
   "source": [
    "brand_tags=driver.find_elements_by_xpath(\"//div[@class='_2WkVRV']\")\n",
    "brand_tags"
   ]
  },
  {
   "cell_type": "code",
   "execution_count": 13,
   "id": "fd4da9e3",
   "metadata": {},
   "outputs": [
    {
     "data": {
      "text/plain": [
       "['Echor',\n",
       " 'NAUTICA',\n",
       " 'BIRDE',\n",
       " 'Layasa',\n",
       " 'Magnolia',\n",
       " 'BRUTON',\n",
       " 'Robbie jones',\n",
       " 'luxury fashion',\n",
       " 'BRUTON',\n",
       " 'URBANBOX',\n",
       " 'Labbin',\n",
       " 'BRUTON',\n",
       " 'Robbie jones',\n",
       " 'Robbie jones',\n",
       " 'Kraasa',\n",
       " 'RapidBox',\n",
       " 'BRUTON',\n",
       " 'aadi',\n",
       " 'Robbie jones',\n",
       " 'Strollin',\n",
       " 'D-SNEAKERZ',\n",
       " 'Dicy',\n",
       " 'U.S. POLO ASSN.',\n",
       " 'HOTSTYLE',\n",
       " 'ASTEROID',\n",
       " 'bluemaker',\n",
       " 'HOTSTYLE',\n",
       " 'luxury fashion',\n",
       " 'KWIK FIT',\n",
       " 'Kraasa',\n",
       " 'PUMA',\n",
       " 'ASTEROID',\n",
       " 'CLYMB',\n",
       " 'Robbie jones',\n",
       " 'Dizzler',\n",
       " 'HOTSTYLE',\n",
       " 'aadi',\n",
       " 'Robbie jones',\n",
       " 'Kzaara',\n",
       " 'SLAZENGER']"
      ]
     },
     "execution_count": 13,
     "metadata": {},
     "output_type": "execute_result"
    }
   ],
   "source": [
    "for i in brand_tags:\n",
    "    brands=i.text\n",
    "    brand_list.append(brands)\n",
    "brand_list"
   ]
  },
  {
   "cell_type": "code",
   "execution_count": 14,
   "id": "68c46523",
   "metadata": {},
   "outputs": [
    {
     "name": "stdout",
     "output_type": "stream",
     "text": [
      "40\n"
     ]
    }
   ],
   "source": [
    "print(len(brand_list))"
   ]
  },
  {
   "cell_type": "code",
   "execution_count": 15,
   "id": "ff9b33d4",
   "metadata": {},
   "outputs": [
    {
     "data": {
      "text/plain": [
       "[<selenium.webdriver.remote.webelement.WebElement (session=\"08870b69c6c066be65edd3d719de747c\", element=\"be84fc5b-efb3-411a-925b-705a2360864a\")>,\n",
       " <selenium.webdriver.remote.webelement.WebElement (session=\"08870b69c6c066be65edd3d719de747c\", element=\"8d500fc8-92fe-43d8-90f7-df1c5067fc84\")>,\n",
       " <selenium.webdriver.remote.webelement.WebElement (session=\"08870b69c6c066be65edd3d719de747c\", element=\"7cf621b3-3147-4d01-a955-6918d2c1f4d2\")>,\n",
       " <selenium.webdriver.remote.webelement.WebElement (session=\"08870b69c6c066be65edd3d719de747c\", element=\"764a8a8c-a551-4f60-9921-b33f20ee0361\")>,\n",
       " <selenium.webdriver.remote.webelement.WebElement (session=\"08870b69c6c066be65edd3d719de747c\", element=\"195a034a-f83c-4239-a635-ef81a66e006c\")>,\n",
       " <selenium.webdriver.remote.webelement.WebElement (session=\"08870b69c6c066be65edd3d719de747c\", element=\"607d8d61-7aa6-448f-aa54-8413de0a3872\")>,\n",
       " <selenium.webdriver.remote.webelement.WebElement (session=\"08870b69c6c066be65edd3d719de747c\", element=\"f218e4d2-0ad4-4539-bfd0-e8db06143c71\")>,\n",
       " <selenium.webdriver.remote.webelement.WebElement (session=\"08870b69c6c066be65edd3d719de747c\", element=\"a78c46d0-099c-4ed2-a836-83b744e3da61\")>,\n",
       " <selenium.webdriver.remote.webelement.WebElement (session=\"08870b69c6c066be65edd3d719de747c\", element=\"e9776598-b4c7-4b1b-a797-8212662faa1f\")>,\n",
       " <selenium.webdriver.remote.webelement.WebElement (session=\"08870b69c6c066be65edd3d719de747c\", element=\"e12dcf5a-e772-47ed-9d22-39d1207d2154\")>,\n",
       " <selenium.webdriver.remote.webelement.WebElement (session=\"08870b69c6c066be65edd3d719de747c\", element=\"1dab12ab-7e12-4172-aafc-a8de2a6b1f81\")>,\n",
       " <selenium.webdriver.remote.webelement.WebElement (session=\"08870b69c6c066be65edd3d719de747c\", element=\"f246f26d-33fc-46c3-b101-b689be6218b5\")>,\n",
       " <selenium.webdriver.remote.webelement.WebElement (session=\"08870b69c6c066be65edd3d719de747c\", element=\"83b8a182-e73c-40a7-ad8f-fe9ff8d974df\")>,\n",
       " <selenium.webdriver.remote.webelement.WebElement (session=\"08870b69c6c066be65edd3d719de747c\", element=\"b845e823-6196-44a7-952a-0d1f32ca4b8f\")>,\n",
       " <selenium.webdriver.remote.webelement.WebElement (session=\"08870b69c6c066be65edd3d719de747c\", element=\"085783e1-909a-40f1-8b18-ebf9cfaa8c06\")>,\n",
       " <selenium.webdriver.remote.webelement.WebElement (session=\"08870b69c6c066be65edd3d719de747c\", element=\"3be95e51-4b9a-4967-a29e-44be18c9c067\")>,\n",
       " <selenium.webdriver.remote.webelement.WebElement (session=\"08870b69c6c066be65edd3d719de747c\", element=\"5aac2c61-09b1-43b5-8cc8-2b918a379425\")>,\n",
       " <selenium.webdriver.remote.webelement.WebElement (session=\"08870b69c6c066be65edd3d719de747c\", element=\"66fbf7aa-8d44-48e2-8e05-103e097dbf01\")>,\n",
       " <selenium.webdriver.remote.webelement.WebElement (session=\"08870b69c6c066be65edd3d719de747c\", element=\"80abd6bb-bb9e-4392-8402-d448fd5beca7\")>,\n",
       " <selenium.webdriver.remote.webelement.WebElement (session=\"08870b69c6c066be65edd3d719de747c\", element=\"b488520d-05a3-4e82-b465-b6a790ebab5a\")>,\n",
       " <selenium.webdriver.remote.webelement.WebElement (session=\"08870b69c6c066be65edd3d719de747c\", element=\"a0eb004b-a0c3-483f-afb7-c03b5fe383c3\")>,\n",
       " <selenium.webdriver.remote.webelement.WebElement (session=\"08870b69c6c066be65edd3d719de747c\", element=\"e1f1ba5d-d4e1-4b15-baec-c74feb6aa660\")>,\n",
       " <selenium.webdriver.remote.webelement.WebElement (session=\"08870b69c6c066be65edd3d719de747c\", element=\"a1a531e9-61f5-4173-bdc6-054529528714\")>,\n",
       " <selenium.webdriver.remote.webelement.WebElement (session=\"08870b69c6c066be65edd3d719de747c\", element=\"f68383eb-87ee-42ed-9e23-3d60323bd647\")>,\n",
       " <selenium.webdriver.remote.webelement.WebElement (session=\"08870b69c6c066be65edd3d719de747c\", element=\"c037f1ac-0b91-421d-96bf-6572893747ef\")>,\n",
       " <selenium.webdriver.remote.webelement.WebElement (session=\"08870b69c6c066be65edd3d719de747c\", element=\"e5a09bd5-b21d-4c1b-b593-c0f6fb3aa7db\")>,\n",
       " <selenium.webdriver.remote.webelement.WebElement (session=\"08870b69c6c066be65edd3d719de747c\", element=\"464f3d27-9703-4396-86ae-7ee6dd331b7f\")>,\n",
       " <selenium.webdriver.remote.webelement.WebElement (session=\"08870b69c6c066be65edd3d719de747c\", element=\"09268fc2-5221-4ce0-8b66-d87895db32ea\")>,\n",
       " <selenium.webdriver.remote.webelement.WebElement (session=\"08870b69c6c066be65edd3d719de747c\", element=\"0a01849c-a39c-4e22-98f0-d7381911a5b0\")>,\n",
       " <selenium.webdriver.remote.webelement.WebElement (session=\"08870b69c6c066be65edd3d719de747c\", element=\"d42f55cb-e985-4d78-9ff5-cc96f5af4828\")>,\n",
       " <selenium.webdriver.remote.webelement.WebElement (session=\"08870b69c6c066be65edd3d719de747c\", element=\"a21abd52-6e60-4c3e-a9da-fe6f78a474fa\")>,\n",
       " <selenium.webdriver.remote.webelement.WebElement (session=\"08870b69c6c066be65edd3d719de747c\", element=\"c3897889-b5b9-48b9-b351-f6906ddcd719\")>,\n",
       " <selenium.webdriver.remote.webelement.WebElement (session=\"08870b69c6c066be65edd3d719de747c\", element=\"a2b3c2ae-9559-4b83-9247-938c9138c807\")>,\n",
       " <selenium.webdriver.remote.webelement.WebElement (session=\"08870b69c6c066be65edd3d719de747c\", element=\"cc183165-c631-456e-91a1-7d54ad494541\")>,\n",
       " <selenium.webdriver.remote.webelement.WebElement (session=\"08870b69c6c066be65edd3d719de747c\", element=\"fd5211ef-96a1-4e27-8bea-a917ef9da4a8\")>,\n",
       " <selenium.webdriver.remote.webelement.WebElement (session=\"08870b69c6c066be65edd3d719de747c\", element=\"de818b46-121f-46a8-8859-b43bbf6d86e5\")>,\n",
       " <selenium.webdriver.remote.webelement.WebElement (session=\"08870b69c6c066be65edd3d719de747c\", element=\"4a30b304-6a4e-409a-b074-94e82c88f27f\")>,\n",
       " <selenium.webdriver.remote.webelement.WebElement (session=\"08870b69c6c066be65edd3d719de747c\", element=\"81fb01af-1e8f-4c2a-afb1-db304440c3a8\")>,\n",
       " <selenium.webdriver.remote.webelement.WebElement (session=\"08870b69c6c066be65edd3d719de747c\", element=\"fc7cf291-a6e6-4351-9875-3e7f3fb7fca9\")>,\n",
       " <selenium.webdriver.remote.webelement.WebElement (session=\"08870b69c6c066be65edd3d719de747c\", element=\"0dd93e4d-e397-4eb1-befe-629d7302950b\")>]"
      ]
     },
     "execution_count": 15,
     "metadata": {},
     "output_type": "execute_result"
    }
   ],
   "source": [
    "price_tags=driver.find_elements_by_xpath(\"//div[@class='_30jeq3']\")\n",
    "price_tags"
   ]
  },
  {
   "cell_type": "code",
   "execution_count": 16,
   "id": "c0fb251d",
   "metadata": {},
   "outputs": [
    {
     "data": {
      "text/plain": [
       "['₹569',\n",
       " '₹1,324',\n",
       " '₹299',\n",
       " '₹399',\n",
       " '₹374',\n",
       " '₹199',\n",
       " '₹399',\n",
       " '₹448',\n",
       " '₹283',\n",
       " '₹198',\n",
       " '₹474',\n",
       " '₹499',\n",
       " '₹379',\n",
       " '₹399',\n",
       " '₹419',\n",
       " '₹660',\n",
       " '₹269',\n",
       " '₹319',\n",
       " '₹399',\n",
       " '₹439',\n",
       " '₹284',\n",
       " '₹284',\n",
       " '₹1,295',\n",
       " '₹180',\n",
       " '₹474',\n",
       " '₹399',\n",
       " '₹245',\n",
       " '₹450',\n",
       " '₹397',\n",
       " '₹449',\n",
       " '₹2,089',\n",
       " '₹519',\n",
       " '₹519',\n",
       " '₹379',\n",
       " '₹470',\n",
       " '₹258',\n",
       " '₹299',\n",
       " '₹379',\n",
       " '₹244',\n",
       " '₹979']"
      ]
     },
     "execution_count": 16,
     "metadata": {},
     "output_type": "execute_result"
    }
   ],
   "source": [
    "for i in price_tags:\n",
    "    prices=i.text\n",
    "    price_list.append(prices)\n",
    "price_list        "
   ]
  },
  {
   "cell_type": "code",
   "execution_count": 17,
   "id": "c1c05005",
   "metadata": {},
   "outputs": [
    {
     "data": {
      "text/plain": [
       "[<selenium.webdriver.remote.webelement.WebElement (session=\"08870b69c6c066be65edd3d719de747c\", element=\"e13d540a-8bba-43be-8e7d-a5c67c473188\")>,\n",
       " <selenium.webdriver.remote.webelement.WebElement (session=\"08870b69c6c066be65edd3d719de747c\", element=\"dc36710f-4127-4c69-b081-d7cca02cdcfb\")>,\n",
       " <selenium.webdriver.remote.webelement.WebElement (session=\"08870b69c6c066be65edd3d719de747c\", element=\"c64b08e6-144b-439a-9389-40da55e44782\")>,\n",
       " <selenium.webdriver.remote.webelement.WebElement (session=\"08870b69c6c066be65edd3d719de747c\", element=\"c6d290a8-900e-4735-99b5-76fe19868fce\")>,\n",
       " <selenium.webdriver.remote.webelement.WebElement (session=\"08870b69c6c066be65edd3d719de747c\", element=\"9da83675-575a-4d02-8bc8-f3ac435489a1\")>,\n",
       " <selenium.webdriver.remote.webelement.WebElement (session=\"08870b69c6c066be65edd3d719de747c\", element=\"0ca91eee-b97a-486b-8506-520cb3b365b5\")>,\n",
       " <selenium.webdriver.remote.webelement.WebElement (session=\"08870b69c6c066be65edd3d719de747c\", element=\"3aa665a5-67e3-4e66-9c27-0585b7017393\")>,\n",
       " <selenium.webdriver.remote.webelement.WebElement (session=\"08870b69c6c066be65edd3d719de747c\", element=\"1b6898f7-385b-46a4-adb8-3a6cbee1773f\")>,\n",
       " <selenium.webdriver.remote.webelement.WebElement (session=\"08870b69c6c066be65edd3d719de747c\", element=\"74312614-d4b2-4c4d-ad1f-3dc1420b5138\")>,\n",
       " <selenium.webdriver.remote.webelement.WebElement (session=\"08870b69c6c066be65edd3d719de747c\", element=\"dc63b19e-a9bd-4685-b385-e8650c6cf123\")>,\n",
       " <selenium.webdriver.remote.webelement.WebElement (session=\"08870b69c6c066be65edd3d719de747c\", element=\"409675ac-b859-45d6-a316-1805c13cd4a2\")>,\n",
       " <selenium.webdriver.remote.webelement.WebElement (session=\"08870b69c6c066be65edd3d719de747c\", element=\"64651102-d116-48c9-92b8-90852e5c7f85\")>,\n",
       " <selenium.webdriver.remote.webelement.WebElement (session=\"08870b69c6c066be65edd3d719de747c\", element=\"6e51fa5b-46b4-46ab-a7f3-55a1b1938122\")>,\n",
       " <selenium.webdriver.remote.webelement.WebElement (session=\"08870b69c6c066be65edd3d719de747c\", element=\"b9c16f9d-26e8-4014-8fa0-89e8c5da866e\")>,\n",
       " <selenium.webdriver.remote.webelement.WebElement (session=\"08870b69c6c066be65edd3d719de747c\", element=\"362f53a4-7ae5-4797-bcda-a239b0219748\")>,\n",
       " <selenium.webdriver.remote.webelement.WebElement (session=\"08870b69c6c066be65edd3d719de747c\", element=\"7c1308ad-5ca6-46f8-a453-eeb171a22e55\")>,\n",
       " <selenium.webdriver.remote.webelement.WebElement (session=\"08870b69c6c066be65edd3d719de747c\", element=\"0c3e20fa-1555-4922-982f-0acddd86c8ad\")>,\n",
       " <selenium.webdriver.remote.webelement.WebElement (session=\"08870b69c6c066be65edd3d719de747c\", element=\"f136d632-e7b1-4697-8fdf-65d8e527e1d5\")>,\n",
       " <selenium.webdriver.remote.webelement.WebElement (session=\"08870b69c6c066be65edd3d719de747c\", element=\"937174b9-06b7-4e6b-8006-fb9d837e9563\")>,\n",
       " <selenium.webdriver.remote.webelement.WebElement (session=\"08870b69c6c066be65edd3d719de747c\", element=\"9880e7be-e7e4-4079-9a2f-ccc2868c64cd\")>,\n",
       " <selenium.webdriver.remote.webelement.WebElement (session=\"08870b69c6c066be65edd3d719de747c\", element=\"f3edf5c0-f706-4f93-88c4-f3eac6aa4909\")>,\n",
       " <selenium.webdriver.remote.webelement.WebElement (session=\"08870b69c6c066be65edd3d719de747c\", element=\"e186629d-0530-4c6e-b80b-d1d4f41b1c4f\")>,\n",
       " <selenium.webdriver.remote.webelement.WebElement (session=\"08870b69c6c066be65edd3d719de747c\", element=\"99c62fe7-3d75-4230-961a-c0f651c8f022\")>,\n",
       " <selenium.webdriver.remote.webelement.WebElement (session=\"08870b69c6c066be65edd3d719de747c\", element=\"4b38ac0f-4032-463b-9710-9d92a53106bb\")>,\n",
       " <selenium.webdriver.remote.webelement.WebElement (session=\"08870b69c6c066be65edd3d719de747c\", element=\"2bacf6be-bf58-44fa-8113-89be2924d16f\")>,\n",
       " <selenium.webdriver.remote.webelement.WebElement (session=\"08870b69c6c066be65edd3d719de747c\", element=\"5547b885-9842-476d-b272-ebecca86a068\")>,\n",
       " <selenium.webdriver.remote.webelement.WebElement (session=\"08870b69c6c066be65edd3d719de747c\", element=\"c2f47bf4-81dd-42bf-ba37-43d026adb413\")>,\n",
       " <selenium.webdriver.remote.webelement.WebElement (session=\"08870b69c6c066be65edd3d719de747c\", element=\"bdf5af50-48d8-454d-9ce2-5d0c0bbf6910\")>,\n",
       " <selenium.webdriver.remote.webelement.WebElement (session=\"08870b69c6c066be65edd3d719de747c\", element=\"2b6c79d0-557f-466e-9374-c1ca7e01f32c\")>,\n",
       " <selenium.webdriver.remote.webelement.WebElement (session=\"08870b69c6c066be65edd3d719de747c\", element=\"0602de0d-5ad0-41e5-a05d-03b750803c8b\")>,\n",
       " <selenium.webdriver.remote.webelement.WebElement (session=\"08870b69c6c066be65edd3d719de747c\", element=\"89d91e54-40ee-4053-b31f-5cd7f98ae739\")>,\n",
       " <selenium.webdriver.remote.webelement.WebElement (session=\"08870b69c6c066be65edd3d719de747c\", element=\"a82f9e6a-a6ab-4d2b-8086-10fc613b68c3\")>,\n",
       " <selenium.webdriver.remote.webelement.WebElement (session=\"08870b69c6c066be65edd3d719de747c\", element=\"ccf94aa0-85bc-4379-acf3-70b113288d91\")>,\n",
       " <selenium.webdriver.remote.webelement.WebElement (session=\"08870b69c6c066be65edd3d719de747c\", element=\"246dae12-83ce-4f41-bcab-b512a7383e9d\")>,\n",
       " <selenium.webdriver.remote.webelement.WebElement (session=\"08870b69c6c066be65edd3d719de747c\", element=\"5006c03c-58c9-4361-b18d-fdf2ccc02cd4\")>]"
      ]
     },
     "execution_count": 17,
     "metadata": {},
     "output_type": "execute_result"
    }
   ],
   "source": [
    "description_tags=driver.find_elements_by_xpath(\"//a[@class='IRpwTa']\")\n",
    "description_tags"
   ]
  },
  {
   "cell_type": "code",
   "execution_count": 18,
   "id": "9ba85c54",
   "metadata": {},
   "outputs": [
    {
     "data": {
      "text/plain": [
       "[\"Men's Casual sneaker shoes running shoes walking shoes ...\",\n",
       " 'Sneakers For Men',\n",
       " 'Stylish Comfortable Lightweight, Breathable Walking Sho...',\n",
       " 'Sneakers For Men',\n",
       " 'Sneakers For Men',\n",
       " 'Lightweight Pack Of 1 Trendy Sneakers Sneakers For Men',\n",
       " 'Casual Sneakers Green Shoes For Men And Boys Sneakers F...',\n",
       " 'Luxury Fashionable casual shoes Sneakers For Men',\n",
       " 'Modern Trendy Sneakers Shoes Sneakers For Men',\n",
       " 'Sneakers For Men',\n",
       " 'Combo Pack Of 4 Casual Shoes Loafer Shoes Sneakers For ...',\n",
       " 'Sneakers For Men',\n",
       " 'Casual Sneakers Canvas Shoes For Men Sneakers For Men',\n",
       " 'Shark-41 Sneakers For Men',\n",
       " 'Modern Trendy Sneakers Shoes Sneakers For Men',\n",
       " 'Sneakers For Men',\n",
       " 'Sneakers For Men',\n",
       " \"Casual , Partywear Sneakers Shoes For Men's And Boys Wh...\",\n",
       " 'Sneakers For Men',\n",
       " 'PANAL Sneakers For Men',\n",
       " \"Original Luxury Branded Fashionable Men's Casual Walkin...\",\n",
       " 'casual for men Sneakers For Men',\n",
       " 'Sneakers For Men',\n",
       " 'Sneakers For Men',\n",
       " 'Kwik FIT casual sneaker shoes and partywear shoes Casua...',\n",
       " 'Series 7 Sneakers For Men',\n",
       " 'Puma Smash Vulc Sneakers For Men',\n",
       " 'Wings Print Premium Fancy Stylish Fashion Sneakers Clas...',\n",
       " 'Sneakers For Men',\n",
       " 'Casual Sneakers White Shoes For Men Sneakers For Men',\n",
       " 'CR-1 Sneakers For Men',\n",
       " 'Sneakers For Men',\n",
       " 'Sneakers For Men',\n",
       " 'Sneakers For Men',\n",
       " 'Sneakers For Men']"
      ]
     },
     "execution_count": 18,
     "metadata": {},
     "output_type": "execute_result"
    }
   ],
   "source": [
    "for i in description_tags:\n",
    "    description=i.text\n",
    "    Product_description.append(description)\n",
    "Product_description  "
   ]
  },
  {
   "cell_type": "code",
   "execution_count": 19,
   "id": "e6278976",
   "metadata": {},
   "outputs": [
    {
     "name": "stdout",
     "output_type": "stream",
     "text": [
      "35\n"
     ]
    }
   ],
   "source": [
    "print(len(Product_description))"
   ]
  },
  {
   "cell_type": "code",
   "execution_count": 20,
   "id": "abfb735d",
   "metadata": {},
   "outputs": [
    {
     "data": {
      "text/plain": [
       "[<selenium.webdriver.remote.webelement.WebElement (session=\"08870b69c6c066be65edd3d719de747c\", element=\"79544406-0655-4153-aa7e-88a66caf414a\")>,\n",
       " <selenium.webdriver.remote.webelement.WebElement (session=\"08870b69c6c066be65edd3d719de747c\", element=\"5d15f02f-0c29-471d-b028-d3115b6d6719\")>,\n",
       " <selenium.webdriver.remote.webelement.WebElement (session=\"08870b69c6c066be65edd3d719de747c\", element=\"8096d3f5-bf6e-4ca9-a2f5-07ec410ba46a\")>,\n",
       " <selenium.webdriver.remote.webelement.WebElement (session=\"08870b69c6c066be65edd3d719de747c\", element=\"88340291-d304-4448-bfb1-bad22f59baba\")>,\n",
       " <selenium.webdriver.remote.webelement.WebElement (session=\"08870b69c6c066be65edd3d719de747c\", element=\"10e9288c-98b4-4dc5-b00f-1ff4c2bff5e2\")>]"
      ]
     },
     "execution_count": 20,
     "metadata": {},
     "output_type": "execute_result"
    }
   ],
   "source": [
    "description_tag=driver.find_elements_by_xpath(\"//a[@class='IRpwTa _2-ICcC']\")\n",
    "description_tag"
   ]
  },
  {
   "cell_type": "code",
   "execution_count": 21,
   "id": "1e3fb13c",
   "metadata": {},
   "outputs": [
    {
     "data": {
      "text/plain": [
       "[\"Men's Casual sneaker shoes running shoes walking shoes ...\",\n",
       " 'Sneakers For Men',\n",
       " 'Stylish Comfortable Lightweight, Breathable Walking Sho...',\n",
       " 'Sneakers For Men',\n",
       " 'Sneakers For Men',\n",
       " 'Lightweight Pack Of 1 Trendy Sneakers Sneakers For Men',\n",
       " 'Casual Sneakers Green Shoes For Men And Boys Sneakers F...',\n",
       " 'Luxury Fashionable casual shoes Sneakers For Men',\n",
       " 'Modern Trendy Sneakers Shoes Sneakers For Men',\n",
       " 'Sneakers For Men',\n",
       " 'Combo Pack Of 4 Casual Shoes Loafer Shoes Sneakers For ...',\n",
       " 'Sneakers For Men',\n",
       " 'Casual Sneakers Canvas Shoes For Men Sneakers For Men',\n",
       " 'Shark-41 Sneakers For Men',\n",
       " 'Modern Trendy Sneakers Shoes Sneakers For Men',\n",
       " 'Sneakers For Men',\n",
       " 'Sneakers For Men',\n",
       " \"Casual , Partywear Sneakers Shoes For Men's And Boys Wh...\",\n",
       " 'Sneakers For Men',\n",
       " 'PANAL Sneakers For Men',\n",
       " \"Original Luxury Branded Fashionable Men's Casual Walkin...\",\n",
       " 'casual for men Sneakers For Men',\n",
       " 'Sneakers For Men',\n",
       " 'Sneakers For Men',\n",
       " 'Kwik FIT casual sneaker shoes and partywear shoes Casua...',\n",
       " 'Series 7 Sneakers For Men',\n",
       " 'Puma Smash Vulc Sneakers For Men',\n",
       " 'Wings Print Premium Fancy Stylish Fashion Sneakers Clas...',\n",
       " 'Sneakers For Men',\n",
       " 'Casual Sneakers White Shoes For Men Sneakers For Men',\n",
       " 'CR-1 Sneakers For Men',\n",
       " 'Sneakers For Men',\n",
       " 'Sneakers For Men',\n",
       " 'Sneakers For Men',\n",
       " 'Sneakers For Men',\n",
       " 'Sneakers Sneakers For Men',\n",
       " 'Sneakers For Men',\n",
       " 'Sneakers For Men',\n",
       " 'Sneakers For Men',\n",
       " 'Sneakers For Men']"
      ]
     },
     "execution_count": 21,
     "metadata": {},
     "output_type": "execute_result"
    }
   ],
   "source": [
    "for i in description_tag:\n",
    "    descriptions=i.text\n",
    "    Product_description.append(descriptions)\n",
    "Product_description"
   ]
  },
  {
   "cell_type": "code",
   "execution_count": 22,
   "id": "16e5f29d",
   "metadata": {},
   "outputs": [
    {
     "name": "stdout",
     "output_type": "stream",
     "text": [
      "40\n"
     ]
    }
   ],
   "source": [
    "print(len(Product_description))"
   ]
  },
  {
   "cell_type": "code",
   "execution_count": 24,
   "id": "a7c802dc",
   "metadata": {},
   "outputs": [],
   "source": [
    "next_button=driver.find_element_by_xpath(\"/html/body/div/div/div[3]/div[1]/div[2]/div[12]/div/div/nav/a[11]/span\")\n",
    "next_button.click()"
   ]
  },
  {
   "cell_type": "code",
   "execution_count": 25,
   "id": "83c7f498",
   "metadata": {},
   "outputs": [
    {
     "data": {
      "text/plain": [
       "[<selenium.webdriver.remote.webelement.WebElement (session=\"08870b69c6c066be65edd3d719de747c\", element=\"741939b7-dc8d-4e4c-b0f2-d96ab981c212\")>,\n",
       " <selenium.webdriver.remote.webelement.WebElement (session=\"08870b69c6c066be65edd3d719de747c\", element=\"8300a183-fe22-47e9-ac42-6e2535737a12\")>,\n",
       " <selenium.webdriver.remote.webelement.WebElement (session=\"08870b69c6c066be65edd3d719de747c\", element=\"c167f20b-edb1-49b9-bbe2-911a83f804a8\")>,\n",
       " <selenium.webdriver.remote.webelement.WebElement (session=\"08870b69c6c066be65edd3d719de747c\", element=\"caad2c7f-d96b-4017-8ebc-4efbd1c16321\")>,\n",
       " <selenium.webdriver.remote.webelement.WebElement (session=\"08870b69c6c066be65edd3d719de747c\", element=\"6ef23863-9890-4393-9429-3753cbd145e8\")>,\n",
       " <selenium.webdriver.remote.webelement.WebElement (session=\"08870b69c6c066be65edd3d719de747c\", element=\"5d3f8a75-627a-4900-b667-4ffa0f8ac35a\")>,\n",
       " <selenium.webdriver.remote.webelement.WebElement (session=\"08870b69c6c066be65edd3d719de747c\", element=\"665abca4-9cc0-4290-8b3e-4561cf4a790e\")>,\n",
       " <selenium.webdriver.remote.webelement.WebElement (session=\"08870b69c6c066be65edd3d719de747c\", element=\"ae1814c4-8928-416b-9d02-4209344a5b9b\")>,\n",
       " <selenium.webdriver.remote.webelement.WebElement (session=\"08870b69c6c066be65edd3d719de747c\", element=\"94f8edb6-4bc5-4453-b3d9-448ef7438874\")>,\n",
       " <selenium.webdriver.remote.webelement.WebElement (session=\"08870b69c6c066be65edd3d719de747c\", element=\"06f884e1-dbcd-4511-a855-971ca4e34207\")>,\n",
       " <selenium.webdriver.remote.webelement.WebElement (session=\"08870b69c6c066be65edd3d719de747c\", element=\"e0de1507-b941-40c6-ac47-31198b71d2c9\")>,\n",
       " <selenium.webdriver.remote.webelement.WebElement (session=\"08870b69c6c066be65edd3d719de747c\", element=\"88de4212-19af-47b4-9ed3-38225206d49b\")>,\n",
       " <selenium.webdriver.remote.webelement.WebElement (session=\"08870b69c6c066be65edd3d719de747c\", element=\"dfad21dd-aaa0-4e62-b2b4-527101ec1070\")>,\n",
       " <selenium.webdriver.remote.webelement.WebElement (session=\"08870b69c6c066be65edd3d719de747c\", element=\"4f1af373-b07b-48bd-87a6-9a3ada5dab3d\")>,\n",
       " <selenium.webdriver.remote.webelement.WebElement (session=\"08870b69c6c066be65edd3d719de747c\", element=\"fbaf719d-2f83-4041-9682-13b1aee355c5\")>,\n",
       " <selenium.webdriver.remote.webelement.WebElement (session=\"08870b69c6c066be65edd3d719de747c\", element=\"74daf2f9-9f09-4eff-bca2-1f7210fbdcd6\")>,\n",
       " <selenium.webdriver.remote.webelement.WebElement (session=\"08870b69c6c066be65edd3d719de747c\", element=\"1b994231-2bdd-48e7-b549-e8cc8df45151\")>,\n",
       " <selenium.webdriver.remote.webelement.WebElement (session=\"08870b69c6c066be65edd3d719de747c\", element=\"db95adb6-b79d-4c04-9ecd-bc5450fad127\")>,\n",
       " <selenium.webdriver.remote.webelement.WebElement (session=\"08870b69c6c066be65edd3d719de747c\", element=\"a66ce3d2-6b03-4cd4-b87d-0c33b625a13c\")>,\n",
       " <selenium.webdriver.remote.webelement.WebElement (session=\"08870b69c6c066be65edd3d719de747c\", element=\"8e36ad28-e12b-4b72-a711-57c9354f5623\")>,\n",
       " <selenium.webdriver.remote.webelement.WebElement (session=\"08870b69c6c066be65edd3d719de747c\", element=\"7cb45c7d-a655-4814-b289-a37472906d55\")>,\n",
       " <selenium.webdriver.remote.webelement.WebElement (session=\"08870b69c6c066be65edd3d719de747c\", element=\"aab1334a-6c59-486b-86f7-0a6e8a8b8066\")>,\n",
       " <selenium.webdriver.remote.webelement.WebElement (session=\"08870b69c6c066be65edd3d719de747c\", element=\"56fc33ae-0302-4032-b5cf-6c0198df9966\")>,\n",
       " <selenium.webdriver.remote.webelement.WebElement (session=\"08870b69c6c066be65edd3d719de747c\", element=\"fd81dd6b-ba96-422c-aedf-f657d02d29cb\")>,\n",
       " <selenium.webdriver.remote.webelement.WebElement (session=\"08870b69c6c066be65edd3d719de747c\", element=\"d0202021-3346-4969-9879-126fe734de4e\")>,\n",
       " <selenium.webdriver.remote.webelement.WebElement (session=\"08870b69c6c066be65edd3d719de747c\", element=\"12ee1ba7-2ec0-4cee-8cb7-f36b25720ddf\")>,\n",
       " <selenium.webdriver.remote.webelement.WebElement (session=\"08870b69c6c066be65edd3d719de747c\", element=\"1e035eeb-a6a6-4bf7-af5e-c9f47115a298\")>,\n",
       " <selenium.webdriver.remote.webelement.WebElement (session=\"08870b69c6c066be65edd3d719de747c\", element=\"902ea566-de25-4a2f-94b2-11268f1bdaee\")>,\n",
       " <selenium.webdriver.remote.webelement.WebElement (session=\"08870b69c6c066be65edd3d719de747c\", element=\"7c535a1b-a706-4289-8c71-d89323b08ac0\")>,\n",
       " <selenium.webdriver.remote.webelement.WebElement (session=\"08870b69c6c066be65edd3d719de747c\", element=\"4e8ddb4f-d135-4774-a09d-4cc2d5d62117\")>,\n",
       " <selenium.webdriver.remote.webelement.WebElement (session=\"08870b69c6c066be65edd3d719de747c\", element=\"492ee4ca-f7cb-4f47-9d84-df9ae4f6df8f\")>,\n",
       " <selenium.webdriver.remote.webelement.WebElement (session=\"08870b69c6c066be65edd3d719de747c\", element=\"24dfe3e2-c741-4538-a4c2-9c43dfa92499\")>,\n",
       " <selenium.webdriver.remote.webelement.WebElement (session=\"08870b69c6c066be65edd3d719de747c\", element=\"2883c9b3-cc4a-48da-aa85-5a6ed85e9982\")>,\n",
       " <selenium.webdriver.remote.webelement.WebElement (session=\"08870b69c6c066be65edd3d719de747c\", element=\"efb23c55-6bb7-4de3-99dd-96223fff5541\")>,\n",
       " <selenium.webdriver.remote.webelement.WebElement (session=\"08870b69c6c066be65edd3d719de747c\", element=\"d13318cb-5c83-4ec7-b847-93598cf8b1c3\")>,\n",
       " <selenium.webdriver.remote.webelement.WebElement (session=\"08870b69c6c066be65edd3d719de747c\", element=\"702c71dd-c08a-433f-8b12-3135ced0d54e\")>,\n",
       " <selenium.webdriver.remote.webelement.WebElement (session=\"08870b69c6c066be65edd3d719de747c\", element=\"757f857d-2ec4-446c-b1d5-412edde24845\")>,\n",
       " <selenium.webdriver.remote.webelement.WebElement (session=\"08870b69c6c066be65edd3d719de747c\", element=\"d53984fe-1541-4245-bc26-e9c857664e0d\")>,\n",
       " <selenium.webdriver.remote.webelement.WebElement (session=\"08870b69c6c066be65edd3d719de747c\", element=\"fa2ceabf-6ddd-4144-919c-87d8cb3a9fc6\")>,\n",
       " <selenium.webdriver.remote.webelement.WebElement (session=\"08870b69c6c066be65edd3d719de747c\", element=\"8db44eba-a485-412e-87c2-1fcbdba53b6d\")>]"
      ]
     },
     "execution_count": 25,
     "metadata": {},
     "output_type": "execute_result"
    }
   ],
   "source": [
    "brand_tags=driver.find_elements_by_xpath(\"//div[@class='_2WkVRV']\")\n",
    "brand_tags"
   ]
  },
  {
   "cell_type": "code",
   "execution_count": 26,
   "id": "3676b17f",
   "metadata": {},
   "outputs": [
    {
     "data": {
      "text/plain": [
       "['Echor',\n",
       " 'NAUTICA',\n",
       " 'BIRDE',\n",
       " 'Layasa',\n",
       " 'Magnolia',\n",
       " 'BRUTON',\n",
       " 'Robbie jones',\n",
       " 'luxury fashion',\n",
       " 'BRUTON',\n",
       " 'URBANBOX',\n",
       " 'Labbin',\n",
       " 'BRUTON',\n",
       " 'Robbie jones',\n",
       " 'Robbie jones',\n",
       " 'Kraasa',\n",
       " 'RapidBox',\n",
       " 'BRUTON',\n",
       " 'aadi',\n",
       " 'Robbie jones',\n",
       " 'Strollin',\n",
       " 'D-SNEAKERZ',\n",
       " 'Dicy',\n",
       " 'U.S. POLO ASSN.',\n",
       " 'HOTSTYLE',\n",
       " 'ASTEROID',\n",
       " 'bluemaker',\n",
       " 'HOTSTYLE',\n",
       " 'luxury fashion',\n",
       " 'KWIK FIT',\n",
       " 'Kraasa',\n",
       " 'PUMA',\n",
       " 'ASTEROID',\n",
       " 'CLYMB',\n",
       " 'Robbie jones',\n",
       " 'Dizzler',\n",
       " 'HOTSTYLE',\n",
       " 'aadi',\n",
       " 'Robbie jones',\n",
       " 'Kzaara',\n",
       " 'SLAZENGER',\n",
       " 'Kraasa',\n",
       " 'BRUTON',\n",
       " 'SCATCHITE',\n",
       " 'NAUTICA',\n",
       " 'BIRDE',\n",
       " 'NAUTICA',\n",
       " 'ONECENTRE',\n",
       " 'luxury fashion',\n",
       " 'BRUTON',\n",
       " 'Roadster',\n",
       " 'AKIMBO',\n",
       " 'BRUTON',\n",
       " 'Chevit',\n",
       " 'ZF Klub',\n",
       " 'corsac',\n",
       " 'Echor',\n",
       " 'Robbie jones',\n",
       " 'Gentax',\n",
       " 'SPARX',\n",
       " 'RapidBox',\n",
       " 'U.S. POLO ASSN.',\n",
       " 'Airland',\n",
       " 'PROVOGUE',\n",
       " 'HOTSTYLE',\n",
       " 'Numenzo',\n",
       " 'World Wear Footwear',\n",
       " 'LE GREEM',\n",
       " 'Strollin',\n",
       " 'Hida',\n",
       " 'JACK & JONES',\n",
       " 'U.S. POLO ASSN.',\n",
       " 'HOTSTYLE',\n",
       " 'Bavis',\n",
       " 'aadi',\n",
       " 'PUMA',\n",
       " 'luxury fashion',\n",
       " 'Chevit',\n",
       " 'ASTEROID',\n",
       " 'U.S. POLO ASSN.',\n",
       " 'BRUTON']"
      ]
     },
     "execution_count": 26,
     "metadata": {},
     "output_type": "execute_result"
    }
   ],
   "source": [
    "for i in brand_tags:\n",
    "    brands=i.text\n",
    "    brand_list.append(brands)\n",
    "brand_list "
   ]
  },
  {
   "cell_type": "code",
   "execution_count": 27,
   "id": "221fc25e",
   "metadata": {},
   "outputs": [
    {
     "data": {
      "text/plain": [
       "[<selenium.webdriver.remote.webelement.WebElement (session=\"08870b69c6c066be65edd3d719de747c\", element=\"1ad8c362-cc8e-4622-9a19-2070d822fd0d\")>,\n",
       " <selenium.webdriver.remote.webelement.WebElement (session=\"08870b69c6c066be65edd3d719de747c\", element=\"95a82764-faba-42cd-b228-141fa4c54fc2\")>,\n",
       " <selenium.webdriver.remote.webelement.WebElement (session=\"08870b69c6c066be65edd3d719de747c\", element=\"e06e7416-3480-4527-9866-7e9c8e8393ed\")>,\n",
       " <selenium.webdriver.remote.webelement.WebElement (session=\"08870b69c6c066be65edd3d719de747c\", element=\"ff3dabc6-022d-417c-a325-6e32b77b5aeb\")>,\n",
       " <selenium.webdriver.remote.webelement.WebElement (session=\"08870b69c6c066be65edd3d719de747c\", element=\"4776a254-3b58-4b1a-bd0b-fae0507ad0cb\")>,\n",
       " <selenium.webdriver.remote.webelement.WebElement (session=\"08870b69c6c066be65edd3d719de747c\", element=\"9a7acefb-6ea7-405c-8965-4482b506415c\")>,\n",
       " <selenium.webdriver.remote.webelement.WebElement (session=\"08870b69c6c066be65edd3d719de747c\", element=\"52c80b0c-96b4-4bf0-9d3d-01a84ba49d79\")>,\n",
       " <selenium.webdriver.remote.webelement.WebElement (session=\"08870b69c6c066be65edd3d719de747c\", element=\"3a84bfc3-4a12-4d55-97da-fd82c8fd9191\")>,\n",
       " <selenium.webdriver.remote.webelement.WebElement (session=\"08870b69c6c066be65edd3d719de747c\", element=\"0dc6cda1-968a-4b6a-8af0-c13386a7612c\")>,\n",
       " <selenium.webdriver.remote.webelement.WebElement (session=\"08870b69c6c066be65edd3d719de747c\", element=\"9da49c2a-aa8e-4056-a64d-84759bbf52b4\")>,\n",
       " <selenium.webdriver.remote.webelement.WebElement (session=\"08870b69c6c066be65edd3d719de747c\", element=\"1d6a05e7-6547-457f-8f6b-1274e959af0a\")>,\n",
       " <selenium.webdriver.remote.webelement.WebElement (session=\"08870b69c6c066be65edd3d719de747c\", element=\"b1a7900b-504c-49a0-88f9-1cbcfc68ff86\")>,\n",
       " <selenium.webdriver.remote.webelement.WebElement (session=\"08870b69c6c066be65edd3d719de747c\", element=\"2753f8ce-88bf-4160-98b8-5902eb9d72cb\")>,\n",
       " <selenium.webdriver.remote.webelement.WebElement (session=\"08870b69c6c066be65edd3d719de747c\", element=\"cf5ee700-a60f-4179-b6dd-03a959397332\")>,\n",
       " <selenium.webdriver.remote.webelement.WebElement (session=\"08870b69c6c066be65edd3d719de747c\", element=\"914e1596-dfdd-4de1-a92b-925ed3ea1537\")>,\n",
       " <selenium.webdriver.remote.webelement.WebElement (session=\"08870b69c6c066be65edd3d719de747c\", element=\"cdef17c0-fa82-4f3b-ad4c-8325c7b019b3\")>,\n",
       " <selenium.webdriver.remote.webelement.WebElement (session=\"08870b69c6c066be65edd3d719de747c\", element=\"29e1d81b-6bb4-4a60-be20-54b12869dbc8\")>,\n",
       " <selenium.webdriver.remote.webelement.WebElement (session=\"08870b69c6c066be65edd3d719de747c\", element=\"b7b374ee-8571-457e-8fbd-43dce8564507\")>,\n",
       " <selenium.webdriver.remote.webelement.WebElement (session=\"08870b69c6c066be65edd3d719de747c\", element=\"3c28fd02-6f27-4985-80df-b39d68167f17\")>,\n",
       " <selenium.webdriver.remote.webelement.WebElement (session=\"08870b69c6c066be65edd3d719de747c\", element=\"f05eb656-b12b-40ef-acf6-f2449dc5e6c3\")>,\n",
       " <selenium.webdriver.remote.webelement.WebElement (session=\"08870b69c6c066be65edd3d719de747c\", element=\"41b11f27-0362-48ea-a0ba-fe2a6d64c078\")>,\n",
       " <selenium.webdriver.remote.webelement.WebElement (session=\"08870b69c6c066be65edd3d719de747c\", element=\"b377ca94-54b2-453f-bec6-920f0eb4c507\")>,\n",
       " <selenium.webdriver.remote.webelement.WebElement (session=\"08870b69c6c066be65edd3d719de747c\", element=\"9ef31545-712d-4d85-8bd8-017a85396a1c\")>,\n",
       " <selenium.webdriver.remote.webelement.WebElement (session=\"08870b69c6c066be65edd3d719de747c\", element=\"04b3fdb6-0510-4044-8563-69c4d49f6486\")>,\n",
       " <selenium.webdriver.remote.webelement.WebElement (session=\"08870b69c6c066be65edd3d719de747c\", element=\"31340a9f-7cb5-4b5a-9369-dfcf99a22086\")>,\n",
       " <selenium.webdriver.remote.webelement.WebElement (session=\"08870b69c6c066be65edd3d719de747c\", element=\"697c021a-efbd-4266-80ea-e84689587d24\")>,\n",
       " <selenium.webdriver.remote.webelement.WebElement (session=\"08870b69c6c066be65edd3d719de747c\", element=\"be2e9b94-8b98-4859-81d7-b51838728273\")>,\n",
       " <selenium.webdriver.remote.webelement.WebElement (session=\"08870b69c6c066be65edd3d719de747c\", element=\"d23edd5e-ca73-4d01-8eca-14547eee4707\")>,\n",
       " <selenium.webdriver.remote.webelement.WebElement (session=\"08870b69c6c066be65edd3d719de747c\", element=\"656dc71d-8a97-4a3c-a45e-111a9acf50c5\")>,\n",
       " <selenium.webdriver.remote.webelement.WebElement (session=\"08870b69c6c066be65edd3d719de747c\", element=\"917ef5f9-4a39-499e-9c8b-d5ffb6bdca9d\")>,\n",
       " <selenium.webdriver.remote.webelement.WebElement (session=\"08870b69c6c066be65edd3d719de747c\", element=\"4a4dd069-d036-4255-a67f-2d9d566222b1\")>,\n",
       " <selenium.webdriver.remote.webelement.WebElement (session=\"08870b69c6c066be65edd3d719de747c\", element=\"e1d44844-97b2-4604-a273-794ec4226f4b\")>,\n",
       " <selenium.webdriver.remote.webelement.WebElement (session=\"08870b69c6c066be65edd3d719de747c\", element=\"bd79e5ab-5703-41fe-824b-a735956a2ee8\")>,\n",
       " <selenium.webdriver.remote.webelement.WebElement (session=\"08870b69c6c066be65edd3d719de747c\", element=\"59aa81b1-a137-4b41-9da0-067fec48e2de\")>,\n",
       " <selenium.webdriver.remote.webelement.WebElement (session=\"08870b69c6c066be65edd3d719de747c\", element=\"393e5a1d-73dd-4992-a835-97ed8c6c7196\")>,\n",
       " <selenium.webdriver.remote.webelement.WebElement (session=\"08870b69c6c066be65edd3d719de747c\", element=\"8ce72425-9c32-46cd-9e88-7294ec1df399\")>,\n",
       " <selenium.webdriver.remote.webelement.WebElement (session=\"08870b69c6c066be65edd3d719de747c\", element=\"39bf0145-5cba-4c70-a711-c568c92a4120\")>,\n",
       " <selenium.webdriver.remote.webelement.WebElement (session=\"08870b69c6c066be65edd3d719de747c\", element=\"37986771-6200-4825-8c49-038be64f368e\")>,\n",
       " <selenium.webdriver.remote.webelement.WebElement (session=\"08870b69c6c066be65edd3d719de747c\", element=\"ae0aec24-00f6-4a8d-badc-607b900ca560\")>,\n",
       " <selenium.webdriver.remote.webelement.WebElement (session=\"08870b69c6c066be65edd3d719de747c\", element=\"6a2c32bb-0c35-4e7f-9bc0-a8ff74bb1142\")>]"
      ]
     },
     "execution_count": 27,
     "metadata": {},
     "output_type": "execute_result"
    }
   ],
   "source": [
    "price_tags=driver.find_elements_by_xpath(\"//div[@class='_30jeq3']\")\n",
    "price_tags"
   ]
  },
  {
   "cell_type": "code",
   "execution_count": 28,
   "id": "9396ffe0",
   "metadata": {},
   "outputs": [
    {
     "data": {
      "text/plain": [
       "['₹569',\n",
       " '₹1,324',\n",
       " '₹299',\n",
       " '₹399',\n",
       " '₹374',\n",
       " '₹199',\n",
       " '₹399',\n",
       " '₹448',\n",
       " '₹283',\n",
       " '₹198',\n",
       " '₹474',\n",
       " '₹499',\n",
       " '₹379',\n",
       " '₹399',\n",
       " '₹419',\n",
       " '₹660',\n",
       " '₹269',\n",
       " '₹319',\n",
       " '₹399',\n",
       " '₹439',\n",
       " '₹284',\n",
       " '₹284',\n",
       " '₹1,295',\n",
       " '₹180',\n",
       " '₹474',\n",
       " '₹399',\n",
       " '₹245',\n",
       " '₹450',\n",
       " '₹397',\n",
       " '₹449',\n",
       " '₹2,089',\n",
       " '₹519',\n",
       " '₹519',\n",
       " '₹379',\n",
       " '₹470',\n",
       " '₹258',\n",
       " '₹299',\n",
       " '₹379',\n",
       " '₹244',\n",
       " '₹979',\n",
       " '₹479',\n",
       " '₹278',\n",
       " '₹360',\n",
       " '₹1,324',\n",
       " '₹299',\n",
       " '₹1,059',\n",
       " '₹300',\n",
       " '₹448',\n",
       " '₹281',\n",
       " '₹989',\n",
       " '₹549',\n",
       " '₹499',\n",
       " '₹310',\n",
       " '₹349',\n",
       " '₹499',\n",
       " '₹569',\n",
       " '₹399',\n",
       " '₹433',\n",
       " '₹740',\n",
       " '₹660',\n",
       " '₹1,295',\n",
       " '₹210',\n",
       " '₹299',\n",
       " '₹245',\n",
       " '₹450',\n",
       " '₹269',\n",
       " '₹424',\n",
       " '₹439',\n",
       " '₹569',\n",
       " '₹1,079',\n",
       " '₹1,295',\n",
       " '₹180',\n",
       " '₹392',\n",
       " '₹319',\n",
       " '₹2,269',\n",
       " '₹450',\n",
       " '₹649',\n",
       " '₹474',\n",
       " '₹1,295',\n",
       " '₹269']"
      ]
     },
     "execution_count": 28,
     "metadata": {},
     "output_type": "execute_result"
    }
   ],
   "source": [
    "for i in price_tags:\n",
    "    prices=i.text\n",
    "    price_list.append(prices)\n",
    "price_list"
   ]
  },
  {
   "cell_type": "code",
   "execution_count": 29,
   "id": "f6914115",
   "metadata": {},
   "outputs": [
    {
     "data": {
      "text/plain": [
       "[<selenium.webdriver.remote.webelement.WebElement (session=\"08870b69c6c066be65edd3d719de747c\", element=\"1dbd908a-14fa-4022-9d9e-d79681e86ec3\")>,\n",
       " <selenium.webdriver.remote.webelement.WebElement (session=\"08870b69c6c066be65edd3d719de747c\", element=\"0e47715d-f55a-41e0-bdf0-cb31d56fd703\")>,\n",
       " <selenium.webdriver.remote.webelement.WebElement (session=\"08870b69c6c066be65edd3d719de747c\", element=\"e0716dad-6658-416b-a399-c4cc7c476d16\")>,\n",
       " <selenium.webdriver.remote.webelement.WebElement (session=\"08870b69c6c066be65edd3d719de747c\", element=\"d3a6e843-8c16-40f1-83bb-2ecb4491a92b\")>,\n",
       " <selenium.webdriver.remote.webelement.WebElement (session=\"08870b69c6c066be65edd3d719de747c\", element=\"a6d756e6-e11c-4b01-863b-5f4d4de05b23\")>,\n",
       " <selenium.webdriver.remote.webelement.WebElement (session=\"08870b69c6c066be65edd3d719de747c\", element=\"6ee41471-4783-4636-a5dc-17724232c347\")>,\n",
       " <selenium.webdriver.remote.webelement.WebElement (session=\"08870b69c6c066be65edd3d719de747c\", element=\"da09908f-1e8b-46f7-82dd-97b7e2f5bda3\")>,\n",
       " <selenium.webdriver.remote.webelement.WebElement (session=\"08870b69c6c066be65edd3d719de747c\", element=\"e486d83d-5759-4b0f-9402-c1236a4a6ddb\")>,\n",
       " <selenium.webdriver.remote.webelement.WebElement (session=\"08870b69c6c066be65edd3d719de747c\", element=\"7dc42a70-7a01-4c02-8b08-4294c903d288\")>,\n",
       " <selenium.webdriver.remote.webelement.WebElement (session=\"08870b69c6c066be65edd3d719de747c\", element=\"3284b1f5-b8e2-4771-89a4-a6db8382f5b6\")>,\n",
       " <selenium.webdriver.remote.webelement.WebElement (session=\"08870b69c6c066be65edd3d719de747c\", element=\"45987fa1-2aff-4410-9344-94cc27bc0742\")>,\n",
       " <selenium.webdriver.remote.webelement.WebElement (session=\"08870b69c6c066be65edd3d719de747c\", element=\"d273c0d5-3ec3-403c-9758-00d422404b2c\")>,\n",
       " <selenium.webdriver.remote.webelement.WebElement (session=\"08870b69c6c066be65edd3d719de747c\", element=\"002a57fc-eb7e-43b6-a9de-2b3c60c76940\")>,\n",
       " <selenium.webdriver.remote.webelement.WebElement (session=\"08870b69c6c066be65edd3d719de747c\", element=\"f37d3edc-2c47-4ae8-bba3-b51c4669ff87\")>,\n",
       " <selenium.webdriver.remote.webelement.WebElement (session=\"08870b69c6c066be65edd3d719de747c\", element=\"3441003a-c276-44f0-b736-cfbcde5f8948\")>,\n",
       " <selenium.webdriver.remote.webelement.WebElement (session=\"08870b69c6c066be65edd3d719de747c\", element=\"eab1e844-95f1-488b-97be-1ef76471b9bd\")>,\n",
       " <selenium.webdriver.remote.webelement.WebElement (session=\"08870b69c6c066be65edd3d719de747c\", element=\"dd41e7f0-832e-459e-a184-c20a38c3860e\")>,\n",
       " <selenium.webdriver.remote.webelement.WebElement (session=\"08870b69c6c066be65edd3d719de747c\", element=\"204264c1-39d0-45a2-abe8-9668e7453a04\")>,\n",
       " <selenium.webdriver.remote.webelement.WebElement (session=\"08870b69c6c066be65edd3d719de747c\", element=\"7c51b890-120f-44c9-8e28-2b595e760f42\")>,\n",
       " <selenium.webdriver.remote.webelement.WebElement (session=\"08870b69c6c066be65edd3d719de747c\", element=\"d658f492-9aaa-4898-8d6c-81c7bd575aa7\")>,\n",
       " <selenium.webdriver.remote.webelement.WebElement (session=\"08870b69c6c066be65edd3d719de747c\", element=\"91f1ae07-a18e-4214-a22c-56015d8d22fc\")>,\n",
       " <selenium.webdriver.remote.webelement.WebElement (session=\"08870b69c6c066be65edd3d719de747c\", element=\"0c3466af-4ec7-44b5-871d-0cce71913a0f\")>,\n",
       " <selenium.webdriver.remote.webelement.WebElement (session=\"08870b69c6c066be65edd3d719de747c\", element=\"be733dbe-785f-4be1-a2d2-2244abf144d6\")>,\n",
       " <selenium.webdriver.remote.webelement.WebElement (session=\"08870b69c6c066be65edd3d719de747c\", element=\"1b5538fd-e030-4586-b7aa-9b2dd15a2a02\")>,\n",
       " <selenium.webdriver.remote.webelement.WebElement (session=\"08870b69c6c066be65edd3d719de747c\", element=\"d22eaf26-017f-4de6-bbfb-3d62fdbd2ea8\")>,\n",
       " <selenium.webdriver.remote.webelement.WebElement (session=\"08870b69c6c066be65edd3d719de747c\", element=\"0d9ad30e-0a1a-4928-bc1c-6d011448c08b\")>,\n",
       " <selenium.webdriver.remote.webelement.WebElement (session=\"08870b69c6c066be65edd3d719de747c\", element=\"24fe471b-2cd1-42cb-a92b-c8d7f175042e\")>,\n",
       " <selenium.webdriver.remote.webelement.WebElement (session=\"08870b69c6c066be65edd3d719de747c\", element=\"a4477d10-111e-43b0-aa39-a48e7774782f\")>,\n",
       " <selenium.webdriver.remote.webelement.WebElement (session=\"08870b69c6c066be65edd3d719de747c\", element=\"b5dd3ab2-1020-4048-9fcd-98e6785b3366\")>,\n",
       " <selenium.webdriver.remote.webelement.WebElement (session=\"08870b69c6c066be65edd3d719de747c\", element=\"8143767e-2637-46f5-b232-20641c5e41ed\")>,\n",
       " <selenium.webdriver.remote.webelement.WebElement (session=\"08870b69c6c066be65edd3d719de747c\", element=\"58198cb0-8eac-498b-bf0b-46a5b6919893\")>,\n",
       " <selenium.webdriver.remote.webelement.WebElement (session=\"08870b69c6c066be65edd3d719de747c\", element=\"c43e3ccd-77a1-4005-89aa-996407454463\")>,\n",
       " <selenium.webdriver.remote.webelement.WebElement (session=\"08870b69c6c066be65edd3d719de747c\", element=\"ce3ed153-ada4-4bfa-bfe2-0c4030967d0e\")>,\n",
       " <selenium.webdriver.remote.webelement.WebElement (session=\"08870b69c6c066be65edd3d719de747c\", element=\"1fa724f2-c4e2-404e-a006-eefd5764d35a\")>,\n",
       " <selenium.webdriver.remote.webelement.WebElement (session=\"08870b69c6c066be65edd3d719de747c\", element=\"7ac36185-4dee-4289-bb9f-9d3f63fb1740\")>]"
      ]
     },
     "execution_count": 29,
     "metadata": {},
     "output_type": "execute_result"
    }
   ],
   "source": [
    "description_tags=driver.find_elements_by_xpath(\"//a[@class='IRpwTa']\")\n",
    "description_tags"
   ]
  },
  {
   "cell_type": "code",
   "execution_count": 30,
   "id": "7b813f03",
   "metadata": {},
   "outputs": [
    {
     "data": {
      "text/plain": [
       "[\"Men's Casual sneaker shoes running shoes walking shoes ...\",\n",
       " 'Sneakers For Men',\n",
       " 'Stylish Comfortable Lightweight, Breathable Walking Sho...',\n",
       " 'Sneakers For Men',\n",
       " 'Sneakers For Men',\n",
       " 'Lightweight Pack Of 1 Trendy Sneakers Sneakers For Men',\n",
       " 'Casual Sneakers Green Shoes For Men And Boys Sneakers F...',\n",
       " 'Luxury Fashionable casual shoes Sneakers For Men',\n",
       " 'Modern Trendy Sneakers Shoes Sneakers For Men',\n",
       " 'Sneakers For Men',\n",
       " 'Combo Pack Of 4 Casual Shoes Loafer Shoes Sneakers For ...',\n",
       " 'Sneakers For Men',\n",
       " 'Casual Sneakers Canvas Shoes For Men Sneakers For Men',\n",
       " 'Shark-41 Sneakers For Men',\n",
       " 'Modern Trendy Sneakers Shoes Sneakers For Men',\n",
       " 'Sneakers For Men',\n",
       " 'Sneakers For Men',\n",
       " \"Casual , Partywear Sneakers Shoes For Men's And Boys Wh...\",\n",
       " 'Sneakers For Men',\n",
       " 'PANAL Sneakers For Men',\n",
       " \"Original Luxury Branded Fashionable Men's Casual Walkin...\",\n",
       " 'casual for men Sneakers For Men',\n",
       " 'Sneakers For Men',\n",
       " 'Sneakers For Men',\n",
       " 'Kwik FIT casual sneaker shoes and partywear shoes Casua...',\n",
       " 'Series 7 Sneakers For Men',\n",
       " 'Puma Smash Vulc Sneakers For Men',\n",
       " 'Wings Print Premium Fancy Stylish Fashion Sneakers Clas...',\n",
       " 'Sneakers For Men',\n",
       " 'Casual Sneakers White Shoes For Men Sneakers For Men',\n",
       " 'CR-1 Sneakers For Men',\n",
       " 'Sneakers For Men',\n",
       " 'Sneakers For Men',\n",
       " 'Sneakers For Men',\n",
       " 'Sneakers For Men',\n",
       " 'Sneakers Sneakers For Men',\n",
       " 'Sneakers For Men',\n",
       " 'Sneakers For Men',\n",
       " 'Sneakers For Men',\n",
       " 'Sneakers For Men',\n",
       " 'Casuals, Canvas, Partywear Sneakers For Men',\n",
       " 'Lattest Sneakers Shoe Sneakers For Men',\n",
       " 'Sneakers Sneakers For Men',\n",
       " 'Sneakers For Men',\n",
       " 'Stylish Comfortable Lightweight, Breathable Casual Walk...',\n",
       " 'Sneakers For Men',\n",
       " 'STR2 Sneakers For Men',\n",
       " 'Luxury Fashionable casual shoes Sneakers For Men',\n",
       " 'Modern Trendy Sneakers Shoes Sneakers For Men',\n",
       " 'Sneakers For Men',\n",
       " 'Combo Pack Of 4 Casual Shoes Loafer Shoes Sneakers For ...',\n",
       " 'CH-527 Trendy Star Perfect Casuals Sneakers For Men',\n",
       " 'Sneakers For Men',\n",
       " 'STYLISH MENS BLACK SNEAKER Sneakers For Men',\n",
       " \"Men's Casual sneaker shoes running shoes walking shoes ...\",\n",
       " 'Casual Sneakers Shoes For Men And Boys Sneakers For Men',\n",
       " 'Design Lightweight Stylish and Tredy Sports Running Sho...',\n",
       " 'sm323 Sneakers For Men',\n",
       " 'Sneakers For Men',\n",
       " '1259 smart black lace-ups sneakers for men Sneakers For...',\n",
       " 'Sneakers For Men',\n",
       " 'Sneakers For Men',\n",
       " '411 Casual Sneakers For Men',\n",
       " 'Exclusive Affordable Collection of Trendy & Stylish Cas...',\n",
       " 'Comfortable & Ultra Light Weight Sneaker Sneakers For M...',\n",
       " 'JFWGEORGE KNIT LACE UP Sneakers For Men',\n",
       " 'Sneakers For Men',\n",
       " 'Combo Pack of 2 Casual Shoes For Men Sneakers For Men',\n",
       " 'Sneakers For Men',\n",
       " 'x KL Seattle Sneakers For Men',\n",
       " 'Sneakers For Men',\n",
       " 'Super Stylish & Trendy Combo Pack of 02 Pairs Sneakers ...',\n",
       " \"Original Luxury Branded Fashionable Men's Casual Walkin...\",\n",
       " 'Sneakers For Men',\n",
       " 'Modern Trendy Sneakers Shoes Sneakers For Men']"
      ]
     },
     "execution_count": 30,
     "metadata": {},
     "output_type": "execute_result"
    }
   ],
   "source": [
    "for i in description_tags:\n",
    "    descriptions=i.text\n",
    "    Product_description.append(descriptions)\n",
    "Product_description"
   ]
  },
  {
   "cell_type": "code",
   "execution_count": 31,
   "id": "ac34033a",
   "metadata": {},
   "outputs": [
    {
     "data": {
      "text/plain": [
       "[<selenium.webdriver.remote.webelement.WebElement (session=\"08870b69c6c066be65edd3d719de747c\", element=\"eb69ce48-1ef2-4d04-8652-3725aa7dca92\")>,\n",
       " <selenium.webdriver.remote.webelement.WebElement (session=\"08870b69c6c066be65edd3d719de747c\", element=\"8cf5fc01-7964-43da-a7c6-022208ea6a3a\")>,\n",
       " <selenium.webdriver.remote.webelement.WebElement (session=\"08870b69c6c066be65edd3d719de747c\", element=\"e15bf8b4-ee5d-4e53-9289-6afb8ac09ffd\")>,\n",
       " <selenium.webdriver.remote.webelement.WebElement (session=\"08870b69c6c066be65edd3d719de747c\", element=\"5faf3280-d95b-44f8-8d3e-ac60e92b6cad\")>,\n",
       " <selenium.webdriver.remote.webelement.WebElement (session=\"08870b69c6c066be65edd3d719de747c\", element=\"85cf6500-b55e-45a8-95b4-fc2af7aadae5\")>]"
      ]
     },
     "execution_count": 31,
     "metadata": {},
     "output_type": "execute_result"
    }
   ],
   "source": [
    "description_tag=driver.find_elements_by_xpath(\"//a[@class='IRpwTa _2-ICcC']\")\n",
    "description_tag"
   ]
  },
  {
   "cell_type": "code",
   "execution_count": 32,
   "id": "0f519865",
   "metadata": {},
   "outputs": [
    {
     "data": {
      "text/plain": [
       "[\"Men's Casual sneaker shoes running shoes walking shoes ...\",\n",
       " 'Sneakers For Men',\n",
       " 'Stylish Comfortable Lightweight, Breathable Walking Sho...',\n",
       " 'Sneakers For Men',\n",
       " 'Sneakers For Men',\n",
       " 'Lightweight Pack Of 1 Trendy Sneakers Sneakers For Men',\n",
       " 'Casual Sneakers Green Shoes For Men And Boys Sneakers F...',\n",
       " 'Luxury Fashionable casual shoes Sneakers For Men',\n",
       " 'Modern Trendy Sneakers Shoes Sneakers For Men',\n",
       " 'Sneakers For Men',\n",
       " 'Combo Pack Of 4 Casual Shoes Loafer Shoes Sneakers For ...',\n",
       " 'Sneakers For Men',\n",
       " 'Casual Sneakers Canvas Shoes For Men Sneakers For Men',\n",
       " 'Shark-41 Sneakers For Men',\n",
       " 'Modern Trendy Sneakers Shoes Sneakers For Men',\n",
       " 'Sneakers For Men',\n",
       " 'Sneakers For Men',\n",
       " \"Casual , Partywear Sneakers Shoes For Men's And Boys Wh...\",\n",
       " 'Sneakers For Men',\n",
       " 'PANAL Sneakers For Men',\n",
       " \"Original Luxury Branded Fashionable Men's Casual Walkin...\",\n",
       " 'casual for men Sneakers For Men',\n",
       " 'Sneakers For Men',\n",
       " 'Sneakers For Men',\n",
       " 'Kwik FIT casual sneaker shoes and partywear shoes Casua...',\n",
       " 'Series 7 Sneakers For Men',\n",
       " 'Puma Smash Vulc Sneakers For Men',\n",
       " 'Wings Print Premium Fancy Stylish Fashion Sneakers Clas...',\n",
       " 'Sneakers For Men',\n",
       " 'Casual Sneakers White Shoes For Men Sneakers For Men',\n",
       " 'CR-1 Sneakers For Men',\n",
       " 'Sneakers For Men',\n",
       " 'Sneakers For Men',\n",
       " 'Sneakers For Men',\n",
       " 'Sneakers For Men',\n",
       " 'Sneakers Sneakers For Men',\n",
       " 'Sneakers For Men',\n",
       " 'Sneakers For Men',\n",
       " 'Sneakers For Men',\n",
       " 'Sneakers For Men',\n",
       " 'Casuals, Canvas, Partywear Sneakers For Men',\n",
       " 'Lattest Sneakers Shoe Sneakers For Men',\n",
       " 'Sneakers Sneakers For Men',\n",
       " 'Sneakers For Men',\n",
       " 'Stylish Comfortable Lightweight, Breathable Casual Walk...',\n",
       " 'Sneakers For Men',\n",
       " 'STR2 Sneakers For Men',\n",
       " 'Luxury Fashionable casual shoes Sneakers For Men',\n",
       " 'Modern Trendy Sneakers Shoes Sneakers For Men',\n",
       " 'Sneakers For Men',\n",
       " 'Combo Pack Of 4 Casual Shoes Loafer Shoes Sneakers For ...',\n",
       " 'CH-527 Trendy Star Perfect Casuals Sneakers For Men',\n",
       " 'Sneakers For Men',\n",
       " 'STYLISH MENS BLACK SNEAKER Sneakers For Men',\n",
       " \"Men's Casual sneaker shoes running shoes walking shoes ...\",\n",
       " 'Casual Sneakers Shoes For Men And Boys Sneakers For Men',\n",
       " 'Design Lightweight Stylish and Tredy Sports Running Sho...',\n",
       " 'sm323 Sneakers For Men',\n",
       " 'Sneakers For Men',\n",
       " '1259 smart black lace-ups sneakers for men Sneakers For...',\n",
       " 'Sneakers For Men',\n",
       " 'Sneakers For Men',\n",
       " '411 Casual Sneakers For Men',\n",
       " 'Exclusive Affordable Collection of Trendy & Stylish Cas...',\n",
       " 'Comfortable & Ultra Light Weight Sneaker Sneakers For M...',\n",
       " 'JFWGEORGE KNIT LACE UP Sneakers For Men',\n",
       " 'Sneakers For Men',\n",
       " 'Combo Pack of 2 Casual Shoes For Men Sneakers For Men',\n",
       " 'Sneakers For Men',\n",
       " 'x KL Seattle Sneakers For Men',\n",
       " 'Sneakers For Men',\n",
       " 'Super Stylish & Trendy Combo Pack of 02 Pairs Sneakers ...',\n",
       " \"Original Luxury Branded Fashionable Men's Casual Walkin...\",\n",
       " 'Sneakers For Men',\n",
       " 'Modern Trendy Sneakers Shoes Sneakers For Men',\n",
       " 'A-SHOES-205 Sneakers For Men',\n",
       " 'Sneakers For Men',\n",
       " 'Sneakers For Men',\n",
       " 'Sneakers For Men',\n",
       " 'Sneakers For Men']"
      ]
     },
     "execution_count": 32,
     "metadata": {},
     "output_type": "execute_result"
    }
   ],
   "source": [
    "for i in description_tag:\n",
    "    descriptions=i.text\n",
    "    Product_description.append(descriptions)\n",
    "Product_description"
   ]
  },
  {
   "cell_type": "code",
   "execution_count": 33,
   "id": "6cd922c0",
   "metadata": {},
   "outputs": [
    {
     "name": "stdout",
     "output_type": "stream",
     "text": [
      "80\n"
     ]
    }
   ],
   "source": [
    "print(len(Product_description))"
   ]
  },
  {
   "cell_type": "code",
   "execution_count": 34,
   "id": "4e442e95",
   "metadata": {},
   "outputs": [],
   "source": [
    "next_button=driver.find_element_by_xpath(\"/html/body/div/div/div[3]/div[1]/div[2]/div[12]/div/div/nav/a[12]/span\")\n",
    "next_button.click()"
   ]
  },
  {
   "cell_type": "code",
   "execution_count": 35,
   "id": "b254f6cd",
   "metadata": {},
   "outputs": [
    {
     "data": {
      "text/plain": [
       "[<selenium.webdriver.remote.webelement.WebElement (session=\"08870b69c6c066be65edd3d719de747c\", element=\"563b1542-b2cf-482a-8def-21f8521a921f\")>,\n",
       " <selenium.webdriver.remote.webelement.WebElement (session=\"08870b69c6c066be65edd3d719de747c\", element=\"d7894cf4-31bd-45fe-9e99-31176908f31c\")>,\n",
       " <selenium.webdriver.remote.webelement.WebElement (session=\"08870b69c6c066be65edd3d719de747c\", element=\"395e0e83-fc90-4029-bef5-3aa1460c3338\")>,\n",
       " <selenium.webdriver.remote.webelement.WebElement (session=\"08870b69c6c066be65edd3d719de747c\", element=\"c0803208-8093-4ae9-8551-f433f3c804d1\")>,\n",
       " <selenium.webdriver.remote.webelement.WebElement (session=\"08870b69c6c066be65edd3d719de747c\", element=\"6ebdc02c-ca6b-4966-82ff-9dfe7967ae04\")>,\n",
       " <selenium.webdriver.remote.webelement.WebElement (session=\"08870b69c6c066be65edd3d719de747c\", element=\"af4d1307-0fad-4c5b-a182-45ef0c6245c4\")>,\n",
       " <selenium.webdriver.remote.webelement.WebElement (session=\"08870b69c6c066be65edd3d719de747c\", element=\"9953d083-68f9-4505-9247-454cf8b13dbb\")>,\n",
       " <selenium.webdriver.remote.webelement.WebElement (session=\"08870b69c6c066be65edd3d719de747c\", element=\"7e487e9f-7ccc-4c0c-b0f3-bd141fd78e1f\")>,\n",
       " <selenium.webdriver.remote.webelement.WebElement (session=\"08870b69c6c066be65edd3d719de747c\", element=\"1509bbba-adbe-4cb9-a826-5f689569a552\")>,\n",
       " <selenium.webdriver.remote.webelement.WebElement (session=\"08870b69c6c066be65edd3d719de747c\", element=\"e691b118-1caf-4d69-b99e-e80354ec3e82\")>,\n",
       " <selenium.webdriver.remote.webelement.WebElement (session=\"08870b69c6c066be65edd3d719de747c\", element=\"d83f6336-3396-47b2-ae73-097d34b399c9\")>,\n",
       " <selenium.webdriver.remote.webelement.WebElement (session=\"08870b69c6c066be65edd3d719de747c\", element=\"32cf4022-47ee-40a3-95a4-9639a58b804b\")>,\n",
       " <selenium.webdriver.remote.webelement.WebElement (session=\"08870b69c6c066be65edd3d719de747c\", element=\"0ac537b9-94cf-4908-9013-83b14e4fb29d\")>,\n",
       " <selenium.webdriver.remote.webelement.WebElement (session=\"08870b69c6c066be65edd3d719de747c\", element=\"0e65ea71-eebf-441a-9673-9272fe3ce246\")>,\n",
       " <selenium.webdriver.remote.webelement.WebElement (session=\"08870b69c6c066be65edd3d719de747c\", element=\"f0e4202c-b34e-467f-ab2d-d9253ca6f443\")>,\n",
       " <selenium.webdriver.remote.webelement.WebElement (session=\"08870b69c6c066be65edd3d719de747c\", element=\"dff8684b-d0b1-49f5-b8ee-3ad591a81e81\")>,\n",
       " <selenium.webdriver.remote.webelement.WebElement (session=\"08870b69c6c066be65edd3d719de747c\", element=\"24d4318f-fa62-4650-986c-c75ab2bd23b0\")>,\n",
       " <selenium.webdriver.remote.webelement.WebElement (session=\"08870b69c6c066be65edd3d719de747c\", element=\"e64eb20c-20da-43ca-866b-26e0bb6c7a5b\")>,\n",
       " <selenium.webdriver.remote.webelement.WebElement (session=\"08870b69c6c066be65edd3d719de747c\", element=\"ece6dc9f-cb21-4927-afcd-b545e63d98f7\")>,\n",
       " <selenium.webdriver.remote.webelement.WebElement (session=\"08870b69c6c066be65edd3d719de747c\", element=\"6407d888-8735-4f35-a15d-068834caa177\")>,\n",
       " <selenium.webdriver.remote.webelement.WebElement (session=\"08870b69c6c066be65edd3d719de747c\", element=\"e28d0a50-4df7-453e-ba9c-0df8daee52eb\")>,\n",
       " <selenium.webdriver.remote.webelement.WebElement (session=\"08870b69c6c066be65edd3d719de747c\", element=\"a1f2d3c4-1364-409e-811b-df46265dcdd0\")>,\n",
       " <selenium.webdriver.remote.webelement.WebElement (session=\"08870b69c6c066be65edd3d719de747c\", element=\"3c836c2e-30db-4a45-991a-99308a009719\")>,\n",
       " <selenium.webdriver.remote.webelement.WebElement (session=\"08870b69c6c066be65edd3d719de747c\", element=\"093fee50-5841-444e-a0a4-93b000e61214\")>,\n",
       " <selenium.webdriver.remote.webelement.WebElement (session=\"08870b69c6c066be65edd3d719de747c\", element=\"e0c425dd-a00d-4abc-b380-5ceca9bcc26e\")>,\n",
       " <selenium.webdriver.remote.webelement.WebElement (session=\"08870b69c6c066be65edd3d719de747c\", element=\"21a5a3a3-6bd0-45e3-933a-190dd2d28df1\")>,\n",
       " <selenium.webdriver.remote.webelement.WebElement (session=\"08870b69c6c066be65edd3d719de747c\", element=\"e579ecce-1b62-4657-a467-d58973fddd78\")>,\n",
       " <selenium.webdriver.remote.webelement.WebElement (session=\"08870b69c6c066be65edd3d719de747c\", element=\"59d89f18-89e8-4950-9c70-f87bb2435fad\")>,\n",
       " <selenium.webdriver.remote.webelement.WebElement (session=\"08870b69c6c066be65edd3d719de747c\", element=\"b688acdd-6124-40b6-b6c3-ba56b41a683d\")>,\n",
       " <selenium.webdriver.remote.webelement.WebElement (session=\"08870b69c6c066be65edd3d719de747c\", element=\"67dcc685-4856-4cc3-b69e-09f4b0b4b923\")>,\n",
       " <selenium.webdriver.remote.webelement.WebElement (session=\"08870b69c6c066be65edd3d719de747c\", element=\"9d3040e2-d90f-46eb-9b2b-052799290b0b\")>,\n",
       " <selenium.webdriver.remote.webelement.WebElement (session=\"08870b69c6c066be65edd3d719de747c\", element=\"74a35283-1bb9-4a89-9156-32c1cc3c0304\")>,\n",
       " <selenium.webdriver.remote.webelement.WebElement (session=\"08870b69c6c066be65edd3d719de747c\", element=\"5483c59e-1d64-4fc4-899f-2fc8e9ce8de6\")>,\n",
       " <selenium.webdriver.remote.webelement.WebElement (session=\"08870b69c6c066be65edd3d719de747c\", element=\"12334298-c668-4a4e-825f-ce0447390473\")>,\n",
       " <selenium.webdriver.remote.webelement.WebElement (session=\"08870b69c6c066be65edd3d719de747c\", element=\"c3ccb6c5-d94b-494d-82df-42cac06903e1\")>,\n",
       " <selenium.webdriver.remote.webelement.WebElement (session=\"08870b69c6c066be65edd3d719de747c\", element=\"392a644c-b78d-49a1-a520-5a83b5d8a799\")>,\n",
       " <selenium.webdriver.remote.webelement.WebElement (session=\"08870b69c6c066be65edd3d719de747c\", element=\"60ae8e89-545e-4777-9883-1b68f1cd5732\")>,\n",
       " <selenium.webdriver.remote.webelement.WebElement (session=\"08870b69c6c066be65edd3d719de747c\", element=\"48b03952-9aaf-4045-9f3b-cb700a93c909\")>,\n",
       " <selenium.webdriver.remote.webelement.WebElement (session=\"08870b69c6c066be65edd3d719de747c\", element=\"0351301b-78a3-4aac-ad03-f678e1b8893d\")>,\n",
       " <selenium.webdriver.remote.webelement.WebElement (session=\"08870b69c6c066be65edd3d719de747c\", element=\"a55208aa-4398-40de-ab47-efeb076cb677\")>]"
      ]
     },
     "execution_count": 35,
     "metadata": {},
     "output_type": "execute_result"
    }
   ],
   "source": [
    "brand_tags=driver.find_elements_by_xpath(\"//div[@class='_2WkVRV']\")\n",
    "brand_tags"
   ]
  },
  {
   "cell_type": "code",
   "execution_count": 36,
   "id": "bb298dfb",
   "metadata": {},
   "outputs": [
    {
     "data": {
      "text/plain": [
       "['Echor',\n",
       " 'NAUTICA',\n",
       " 'BIRDE',\n",
       " 'Layasa',\n",
       " 'Magnolia',\n",
       " 'BRUTON',\n",
       " 'Robbie jones',\n",
       " 'luxury fashion',\n",
       " 'BRUTON',\n",
       " 'URBANBOX',\n",
       " 'Labbin',\n",
       " 'BRUTON',\n",
       " 'Robbie jones',\n",
       " 'Robbie jones',\n",
       " 'Kraasa',\n",
       " 'RapidBox',\n",
       " 'BRUTON',\n",
       " 'aadi',\n",
       " 'Robbie jones',\n",
       " 'Strollin',\n",
       " 'D-SNEAKERZ',\n",
       " 'Dicy',\n",
       " 'U.S. POLO ASSN.',\n",
       " 'HOTSTYLE',\n",
       " 'ASTEROID',\n",
       " 'bluemaker',\n",
       " 'HOTSTYLE',\n",
       " 'luxury fashion',\n",
       " 'KWIK FIT',\n",
       " 'Kraasa',\n",
       " 'PUMA',\n",
       " 'ASTEROID',\n",
       " 'CLYMB',\n",
       " 'Robbie jones',\n",
       " 'Dizzler',\n",
       " 'HOTSTYLE',\n",
       " 'aadi',\n",
       " 'Robbie jones',\n",
       " 'Kzaara',\n",
       " 'SLAZENGER',\n",
       " 'Kraasa',\n",
       " 'BRUTON',\n",
       " 'SCATCHITE',\n",
       " 'NAUTICA',\n",
       " 'BIRDE',\n",
       " 'NAUTICA',\n",
       " 'ONECENTRE',\n",
       " 'luxury fashion',\n",
       " 'BRUTON',\n",
       " 'Roadster',\n",
       " 'AKIMBO',\n",
       " 'BRUTON',\n",
       " 'Chevit',\n",
       " 'ZF Klub',\n",
       " 'corsac',\n",
       " 'Echor',\n",
       " 'Robbie jones',\n",
       " 'Gentax',\n",
       " 'SPARX',\n",
       " 'RapidBox',\n",
       " 'U.S. POLO ASSN.',\n",
       " 'Airland',\n",
       " 'PROVOGUE',\n",
       " 'HOTSTYLE',\n",
       " 'Numenzo',\n",
       " 'World Wear Footwear',\n",
       " 'LE GREEM',\n",
       " 'Strollin',\n",
       " 'Hida',\n",
       " 'JACK & JONES',\n",
       " 'U.S. POLO ASSN.',\n",
       " 'HOTSTYLE',\n",
       " 'Bavis',\n",
       " 'aadi',\n",
       " 'PUMA',\n",
       " 'luxury fashion',\n",
       " 'Chevit',\n",
       " 'ASTEROID',\n",
       " 'U.S. POLO ASSN.',\n",
       " 'BRUTON',\n",
       " 'Hida',\n",
       " 'SPARX',\n",
       " 'RODDICK SHOES',\n",
       " 'NAUTICA',\n",
       " 'LE GREEM',\n",
       " 'KNIGHT WALKERS',\n",
       " 'revord',\n",
       " 'luxury fashion',\n",
       " 'luxury fashion',\n",
       " 'Numenzo',\n",
       " 'Echor',\n",
       " 'BRUTON',\n",
       " 'Layasa',\n",
       " 'AMICO',\n",
       " 'WHITE WALKERS',\n",
       " 'Echor',\n",
       " 'ADIDAS',\n",
       " 'BRUTON',\n",
       " 'Echor',\n",
       " 'RapidBox',\n",
       " 'Chevit',\n",
       " 'NAUTICA',\n",
       " 'BRUTON',\n",
       " 'HOTSTYLE',\n",
       " 'Airland',\n",
       " 'Gentax',\n",
       " \"LEVI'S\",\n",
       " 'Strollin',\n",
       " 'Rzisbo',\n",
       " 'RapidBox',\n",
       " 'PUMA',\n",
       " 'HOTSTYLE',\n",
       " 'BIRDE',\n",
       " 'WOODLAND',\n",
       " 'CAMPUS',\n",
       " 'luxury fashion',\n",
       " 'asics',\n",
       " 'Bretton',\n",
       " 'Chevit',\n",
       " 'BRUTON']"
      ]
     },
     "execution_count": 36,
     "metadata": {},
     "output_type": "execute_result"
    }
   ],
   "source": [
    "for i in brand_tags:\n",
    "    brands=i.text\n",
    "    brand_list.append(brands)\n",
    "brand_list  "
   ]
  },
  {
   "cell_type": "code",
   "execution_count": 37,
   "id": "565fe080",
   "metadata": {},
   "outputs": [
    {
     "data": {
      "text/plain": [
       "[<selenium.webdriver.remote.webelement.WebElement (session=\"08870b69c6c066be65edd3d719de747c\", element=\"66e87d08-9513-45f8-ba61-0ec60ef5da19\")>,\n",
       " <selenium.webdriver.remote.webelement.WebElement (session=\"08870b69c6c066be65edd3d719de747c\", element=\"faf1d13f-eff3-4d0e-b322-23cc43eb7932\")>,\n",
       " <selenium.webdriver.remote.webelement.WebElement (session=\"08870b69c6c066be65edd3d719de747c\", element=\"c26c3aab-3925-48e4-b57f-7faec09c12e6\")>,\n",
       " <selenium.webdriver.remote.webelement.WebElement (session=\"08870b69c6c066be65edd3d719de747c\", element=\"560377b5-8d81-4bac-96af-ab5fb53d067e\")>,\n",
       " <selenium.webdriver.remote.webelement.WebElement (session=\"08870b69c6c066be65edd3d719de747c\", element=\"a7efdf4f-f274-4c16-ac02-7591fe08a8f7\")>,\n",
       " <selenium.webdriver.remote.webelement.WebElement (session=\"08870b69c6c066be65edd3d719de747c\", element=\"10f4af87-5206-4f94-9806-cf7e2f0f89e1\")>,\n",
       " <selenium.webdriver.remote.webelement.WebElement (session=\"08870b69c6c066be65edd3d719de747c\", element=\"075d64e5-ea39-4606-841d-979b6cea12f9\")>,\n",
       " <selenium.webdriver.remote.webelement.WebElement (session=\"08870b69c6c066be65edd3d719de747c\", element=\"dabac359-906d-4b33-96e3-727902554d4c\")>,\n",
       " <selenium.webdriver.remote.webelement.WebElement (session=\"08870b69c6c066be65edd3d719de747c\", element=\"09c34ee2-fc5e-40fd-ad53-5a89314c3741\")>,\n",
       " <selenium.webdriver.remote.webelement.WebElement (session=\"08870b69c6c066be65edd3d719de747c\", element=\"860c181c-b7c4-48f1-80dc-5521120b5288\")>,\n",
       " <selenium.webdriver.remote.webelement.WebElement (session=\"08870b69c6c066be65edd3d719de747c\", element=\"0d1850b0-590d-4c16-938f-fbd3e7b4091f\")>,\n",
       " <selenium.webdriver.remote.webelement.WebElement (session=\"08870b69c6c066be65edd3d719de747c\", element=\"3e1ce37d-6899-4f95-9fa0-084e3271e140\")>,\n",
       " <selenium.webdriver.remote.webelement.WebElement (session=\"08870b69c6c066be65edd3d719de747c\", element=\"367f86e6-85fc-415b-a08a-996786f110f2\")>,\n",
       " <selenium.webdriver.remote.webelement.WebElement (session=\"08870b69c6c066be65edd3d719de747c\", element=\"8c069a30-7b94-49d5-ab97-18df716ddfdc\")>,\n",
       " <selenium.webdriver.remote.webelement.WebElement (session=\"08870b69c6c066be65edd3d719de747c\", element=\"0d4e6f76-8e1d-4fcd-9b46-d72213a14281\")>,\n",
       " <selenium.webdriver.remote.webelement.WebElement (session=\"08870b69c6c066be65edd3d719de747c\", element=\"62703266-59e4-47da-96d3-c9eb9ee2f7b0\")>,\n",
       " <selenium.webdriver.remote.webelement.WebElement (session=\"08870b69c6c066be65edd3d719de747c\", element=\"69ffcbfb-2e1b-4dc3-8b54-2e30ea631366\")>,\n",
       " <selenium.webdriver.remote.webelement.WebElement (session=\"08870b69c6c066be65edd3d719de747c\", element=\"b293a241-96e2-4b09-9384-59642f0a0055\")>,\n",
       " <selenium.webdriver.remote.webelement.WebElement (session=\"08870b69c6c066be65edd3d719de747c\", element=\"fda969db-36d5-4ca5-b1a0-e4330ba87afa\")>,\n",
       " <selenium.webdriver.remote.webelement.WebElement (session=\"08870b69c6c066be65edd3d719de747c\", element=\"8bc2cd33-ad87-48a6-908a-72ce53ea8256\")>,\n",
       " <selenium.webdriver.remote.webelement.WebElement (session=\"08870b69c6c066be65edd3d719de747c\", element=\"8bde2de5-2066-4226-a186-a3b3169cf110\")>,\n",
       " <selenium.webdriver.remote.webelement.WebElement (session=\"08870b69c6c066be65edd3d719de747c\", element=\"e23bc45f-56ff-46da-a9c4-fec4d21d17d8\")>,\n",
       " <selenium.webdriver.remote.webelement.WebElement (session=\"08870b69c6c066be65edd3d719de747c\", element=\"3743d1a7-5890-426b-9812-ca7ebc4e9784\")>,\n",
       " <selenium.webdriver.remote.webelement.WebElement (session=\"08870b69c6c066be65edd3d719de747c\", element=\"c119751d-93bc-4478-a07e-216548384561\")>,\n",
       " <selenium.webdriver.remote.webelement.WebElement (session=\"08870b69c6c066be65edd3d719de747c\", element=\"19789bd5-90aa-44db-9770-3d37ef46a9b0\")>,\n",
       " <selenium.webdriver.remote.webelement.WebElement (session=\"08870b69c6c066be65edd3d719de747c\", element=\"70b18df0-293d-48e8-8a1d-feb221d06c13\")>,\n",
       " <selenium.webdriver.remote.webelement.WebElement (session=\"08870b69c6c066be65edd3d719de747c\", element=\"001f99f0-8629-4e1f-8a42-ee5ca8c8579b\")>,\n",
       " <selenium.webdriver.remote.webelement.WebElement (session=\"08870b69c6c066be65edd3d719de747c\", element=\"209d7b55-04ce-40f7-8133-9b3d31b633bf\")>,\n",
       " <selenium.webdriver.remote.webelement.WebElement (session=\"08870b69c6c066be65edd3d719de747c\", element=\"e0db1370-c110-4f8a-91a7-3fbda75cf8d6\")>,\n",
       " <selenium.webdriver.remote.webelement.WebElement (session=\"08870b69c6c066be65edd3d719de747c\", element=\"1c65ee6f-9ec6-4575-b5af-d383860d73ad\")>,\n",
       " <selenium.webdriver.remote.webelement.WebElement (session=\"08870b69c6c066be65edd3d719de747c\", element=\"bbe2ee4f-3961-4077-95ee-c74bf590099e\")>,\n",
       " <selenium.webdriver.remote.webelement.WebElement (session=\"08870b69c6c066be65edd3d719de747c\", element=\"7fc02fe2-3ded-4ff1-aa02-20b87f9fcade\")>,\n",
       " <selenium.webdriver.remote.webelement.WebElement (session=\"08870b69c6c066be65edd3d719de747c\", element=\"92718b8b-c87f-445c-993c-520a230a3df8\")>,\n",
       " <selenium.webdriver.remote.webelement.WebElement (session=\"08870b69c6c066be65edd3d719de747c\", element=\"1ed7541d-ccac-4e5d-a9ff-d7a46e7e224f\")>,\n",
       " <selenium.webdriver.remote.webelement.WebElement (session=\"08870b69c6c066be65edd3d719de747c\", element=\"07d2e5fd-c46a-4afd-a92c-a118158f9f9d\")>,\n",
       " <selenium.webdriver.remote.webelement.WebElement (session=\"08870b69c6c066be65edd3d719de747c\", element=\"d8b9a54b-e30f-4b87-84cf-0bb4245862fc\")>,\n",
       " <selenium.webdriver.remote.webelement.WebElement (session=\"08870b69c6c066be65edd3d719de747c\", element=\"70644b91-5558-44fa-9de9-4a63d135361f\")>,\n",
       " <selenium.webdriver.remote.webelement.WebElement (session=\"08870b69c6c066be65edd3d719de747c\", element=\"e806f5b0-1cb3-49fd-84f5-3a8ec207dc3e\")>,\n",
       " <selenium.webdriver.remote.webelement.WebElement (session=\"08870b69c6c066be65edd3d719de747c\", element=\"45a49b58-9811-4635-b097-425349a23a47\")>,\n",
       " <selenium.webdriver.remote.webelement.WebElement (session=\"08870b69c6c066be65edd3d719de747c\", element=\"94ddfa2a-5f46-4e83-8eea-4e4091b0f9c1\")>]"
      ]
     },
     "execution_count": 37,
     "metadata": {},
     "output_type": "execute_result"
    }
   ],
   "source": [
    "price_tags=driver.find_elements_by_xpath(\"//div[@class='_30jeq3']\")\n",
    "price_tags"
   ]
  },
  {
   "cell_type": "code",
   "execution_count": 38,
   "id": "abebcf93",
   "metadata": {},
   "outputs": [
    {
     "data": {
      "text/plain": [
       "['₹569',\n",
       " '₹1,324',\n",
       " '₹299',\n",
       " '₹399',\n",
       " '₹374',\n",
       " '₹199',\n",
       " '₹399',\n",
       " '₹448',\n",
       " '₹283',\n",
       " '₹198',\n",
       " '₹474',\n",
       " '₹499',\n",
       " '₹379',\n",
       " '₹399',\n",
       " '₹419',\n",
       " '₹660',\n",
       " '₹269',\n",
       " '₹319',\n",
       " '₹399',\n",
       " '₹439',\n",
       " '₹284',\n",
       " '₹284',\n",
       " '₹1,295',\n",
       " '₹180',\n",
       " '₹474',\n",
       " '₹399',\n",
       " '₹245',\n",
       " '₹450',\n",
       " '₹397',\n",
       " '₹449',\n",
       " '₹2,089',\n",
       " '₹519',\n",
       " '₹519',\n",
       " '₹379',\n",
       " '₹470',\n",
       " '₹258',\n",
       " '₹299',\n",
       " '₹379',\n",
       " '₹244',\n",
       " '₹979',\n",
       " '₹479',\n",
       " '₹278',\n",
       " '₹360',\n",
       " '₹1,324',\n",
       " '₹299',\n",
       " '₹1,059',\n",
       " '₹300',\n",
       " '₹448',\n",
       " '₹281',\n",
       " '₹989',\n",
       " '₹549',\n",
       " '₹499',\n",
       " '₹310',\n",
       " '₹349',\n",
       " '₹499',\n",
       " '₹569',\n",
       " '₹399',\n",
       " '₹433',\n",
       " '₹740',\n",
       " '₹660',\n",
       " '₹1,295',\n",
       " '₹210',\n",
       " '₹299',\n",
       " '₹245',\n",
       " '₹450',\n",
       " '₹269',\n",
       " '₹424',\n",
       " '₹439',\n",
       " '₹569',\n",
       " '₹1,079',\n",
       " '₹1,295',\n",
       " '₹180',\n",
       " '₹392',\n",
       " '₹319',\n",
       " '₹2,269',\n",
       " '₹450',\n",
       " '₹649',\n",
       " '₹474',\n",
       " '₹1,295',\n",
       " '₹269',\n",
       " '₹584',\n",
       " '₹744',\n",
       " '₹485',\n",
       " '₹1,324',\n",
       " '₹424',\n",
       " '₹664',\n",
       " '₹145',\n",
       " '₹448',\n",
       " '₹404',\n",
       " '₹569',\n",
       " '₹539',\n",
       " '₹499',\n",
       " '₹399',\n",
       " '₹549',\n",
       " '₹599',\n",
       " '₹569',\n",
       " '₹1,819',\n",
       " '₹499',\n",
       " '₹539',\n",
       " '₹660',\n",
       " '₹269',\n",
       " '₹899',\n",
       " '₹549',\n",
       " '₹245',\n",
       " '₹207',\n",
       " '₹392',\n",
       " '₹1,259',\n",
       " '₹439',\n",
       " '₹490',\n",
       " '₹665',\n",
       " '₹1,511',\n",
       " '₹180',\n",
       " '₹356',\n",
       " '₹1,077',\n",
       " '₹1,106',\n",
       " '₹450',\n",
       " '₹1,845',\n",
       " '₹251',\n",
       " '₹254',\n",
       " '₹269']"
      ]
     },
     "execution_count": 38,
     "metadata": {},
     "output_type": "execute_result"
    }
   ],
   "source": [
    "for i in price_tags:\n",
    "    prices=i.text\n",
    "    price_list.append(prices)\n",
    "price_list  "
   ]
  },
  {
   "cell_type": "code",
   "execution_count": 39,
   "id": "6cab416e",
   "metadata": {},
   "outputs": [
    {
     "data": {
      "text/plain": [
       "[<selenium.webdriver.remote.webelement.WebElement (session=\"08870b69c6c066be65edd3d719de747c\", element=\"1719f20d-baad-43eb-aec2-4c8f63bf3d1d\")>,\n",
       " <selenium.webdriver.remote.webelement.WebElement (session=\"08870b69c6c066be65edd3d719de747c\", element=\"fb65ea16-c888-4a96-ba58-568291720b95\")>,\n",
       " <selenium.webdriver.remote.webelement.WebElement (session=\"08870b69c6c066be65edd3d719de747c\", element=\"7941f75c-0f7d-4911-9620-48230c8a409a\")>,\n",
       " <selenium.webdriver.remote.webelement.WebElement (session=\"08870b69c6c066be65edd3d719de747c\", element=\"24634f78-ecb3-4f9a-8ed9-126573dba8b0\")>,\n",
       " <selenium.webdriver.remote.webelement.WebElement (session=\"08870b69c6c066be65edd3d719de747c\", element=\"d0955e87-ce2b-4fbe-9401-3e8d01947f86\")>,\n",
       " <selenium.webdriver.remote.webelement.WebElement (session=\"08870b69c6c066be65edd3d719de747c\", element=\"7bdc90fb-9c27-4025-9dfa-423e21f987cd\")>,\n",
       " <selenium.webdriver.remote.webelement.WebElement (session=\"08870b69c6c066be65edd3d719de747c\", element=\"07af5fe2-a2c2-4f31-a95b-1da201a1f2fa\")>,\n",
       " <selenium.webdriver.remote.webelement.WebElement (session=\"08870b69c6c066be65edd3d719de747c\", element=\"292edbbd-c5a4-450a-992f-ebb3dddeb24a\")>,\n",
       " <selenium.webdriver.remote.webelement.WebElement (session=\"08870b69c6c066be65edd3d719de747c\", element=\"5eb99506-faa6-4f3a-a53e-ce9599ded537\")>,\n",
       " <selenium.webdriver.remote.webelement.WebElement (session=\"08870b69c6c066be65edd3d719de747c\", element=\"2bcc1c04-1fd3-4f93-97d1-92a0c39c3651\")>,\n",
       " <selenium.webdriver.remote.webelement.WebElement (session=\"08870b69c6c066be65edd3d719de747c\", element=\"63e1882d-8e3e-4c27-8356-e5edbd566953\")>,\n",
       " <selenium.webdriver.remote.webelement.WebElement (session=\"08870b69c6c066be65edd3d719de747c\", element=\"a1e84451-cab4-4d4f-ba4e-0f9051ba3bc8\")>,\n",
       " <selenium.webdriver.remote.webelement.WebElement (session=\"08870b69c6c066be65edd3d719de747c\", element=\"e985e77d-79f4-47be-a669-835d5bd39937\")>,\n",
       " <selenium.webdriver.remote.webelement.WebElement (session=\"08870b69c6c066be65edd3d719de747c\", element=\"db2898d9-0195-4196-8d42-63ab2574922d\")>,\n",
       " <selenium.webdriver.remote.webelement.WebElement (session=\"08870b69c6c066be65edd3d719de747c\", element=\"b1b0e617-2b59-40a5-9561-3583c6f9061d\")>,\n",
       " <selenium.webdriver.remote.webelement.WebElement (session=\"08870b69c6c066be65edd3d719de747c\", element=\"f43ae990-7543-4d9e-90d0-39f0a43e26d5\")>,\n",
       " <selenium.webdriver.remote.webelement.WebElement (session=\"08870b69c6c066be65edd3d719de747c\", element=\"036a6c13-6327-45fc-86ae-8073cd21cb47\")>,\n",
       " <selenium.webdriver.remote.webelement.WebElement (session=\"08870b69c6c066be65edd3d719de747c\", element=\"6b805284-7743-4199-837d-9a260237b90d\")>,\n",
       " <selenium.webdriver.remote.webelement.WebElement (session=\"08870b69c6c066be65edd3d719de747c\", element=\"9a05b98c-3728-4e31-a7f4-6c41867f3aeb\")>,\n",
       " <selenium.webdriver.remote.webelement.WebElement (session=\"08870b69c6c066be65edd3d719de747c\", element=\"6e4cc53a-e3da-4745-80bf-9d915e871ca2\")>,\n",
       " <selenium.webdriver.remote.webelement.WebElement (session=\"08870b69c6c066be65edd3d719de747c\", element=\"2a1854e2-39ad-4698-a570-9cbaeac3fbe2\")>,\n",
       " <selenium.webdriver.remote.webelement.WebElement (session=\"08870b69c6c066be65edd3d719de747c\", element=\"31d6834a-d1ee-4c3d-b8b8-c467b8767bac\")>,\n",
       " <selenium.webdriver.remote.webelement.WebElement (session=\"08870b69c6c066be65edd3d719de747c\", element=\"1f16b63d-31bc-4547-801b-05e7e58ff54d\")>,\n",
       " <selenium.webdriver.remote.webelement.WebElement (session=\"08870b69c6c066be65edd3d719de747c\", element=\"ee62254b-ca0e-42c3-bc9b-112cb9c95789\")>,\n",
       " <selenium.webdriver.remote.webelement.WebElement (session=\"08870b69c6c066be65edd3d719de747c\", element=\"61d51538-4550-42d6-a1a5-52889ae9fd33\")>,\n",
       " <selenium.webdriver.remote.webelement.WebElement (session=\"08870b69c6c066be65edd3d719de747c\", element=\"f2520acb-9afe-4f68-b718-7b3ddc12672c\")>,\n",
       " <selenium.webdriver.remote.webelement.WebElement (session=\"08870b69c6c066be65edd3d719de747c\", element=\"86723785-edd3-4dc9-bf12-561a1634031e\")>,\n",
       " <selenium.webdriver.remote.webelement.WebElement (session=\"08870b69c6c066be65edd3d719de747c\", element=\"8ede0c30-926a-4ca9-a5c8-8aa99fd2758a\")>,\n",
       " <selenium.webdriver.remote.webelement.WebElement (session=\"08870b69c6c066be65edd3d719de747c\", element=\"0eb89c77-4f1c-4780-b5d1-1614b3d22ca2\")>,\n",
       " <selenium.webdriver.remote.webelement.WebElement (session=\"08870b69c6c066be65edd3d719de747c\", element=\"9ba9a56a-1413-469d-addd-b7c7439257ed\")>,\n",
       " <selenium.webdriver.remote.webelement.WebElement (session=\"08870b69c6c066be65edd3d719de747c\", element=\"f8c181da-aea3-44c0-9d93-89772915d981\")>,\n",
       " <selenium.webdriver.remote.webelement.WebElement (session=\"08870b69c6c066be65edd3d719de747c\", element=\"66801c76-84e0-4602-80fa-6829479b4e8c\")>,\n",
       " <selenium.webdriver.remote.webelement.WebElement (session=\"08870b69c6c066be65edd3d719de747c\", element=\"d3a134e7-ce17-4bd5-8a68-ac5de1912cb8\")>]"
      ]
     },
     "execution_count": 39,
     "metadata": {},
     "output_type": "execute_result"
    }
   ],
   "source": [
    "description_tags=driver.find_elements_by_xpath(\"//a[@class='IRpwTa']\")\n",
    "description_tags"
   ]
  },
  {
   "cell_type": "code",
   "execution_count": 40,
   "id": "edcac5cf",
   "metadata": {},
   "outputs": [
    {
     "data": {
      "text/plain": [
       "[\"Men's Casual sneaker shoes running shoes walking shoes ...\",\n",
       " 'Sneakers For Men',\n",
       " 'Stylish Comfortable Lightweight, Breathable Walking Sho...',\n",
       " 'Sneakers For Men',\n",
       " 'Sneakers For Men',\n",
       " 'Lightweight Pack Of 1 Trendy Sneakers Sneakers For Men',\n",
       " 'Casual Sneakers Green Shoes For Men And Boys Sneakers F...',\n",
       " 'Luxury Fashionable casual shoes Sneakers For Men',\n",
       " 'Modern Trendy Sneakers Shoes Sneakers For Men',\n",
       " 'Sneakers For Men',\n",
       " 'Combo Pack Of 4 Casual Shoes Loafer Shoes Sneakers For ...',\n",
       " 'Sneakers For Men',\n",
       " 'Casual Sneakers Canvas Shoes For Men Sneakers For Men',\n",
       " 'Shark-41 Sneakers For Men',\n",
       " 'Modern Trendy Sneakers Shoes Sneakers For Men',\n",
       " 'Sneakers For Men',\n",
       " 'Sneakers For Men',\n",
       " \"Casual , Partywear Sneakers Shoes For Men's And Boys Wh...\",\n",
       " 'Sneakers For Men',\n",
       " 'PANAL Sneakers For Men',\n",
       " \"Original Luxury Branded Fashionable Men's Casual Walkin...\",\n",
       " 'casual for men Sneakers For Men',\n",
       " 'Sneakers For Men',\n",
       " 'Sneakers For Men',\n",
       " 'Kwik FIT casual sneaker shoes and partywear shoes Casua...',\n",
       " 'Series 7 Sneakers For Men',\n",
       " 'Puma Smash Vulc Sneakers For Men',\n",
       " 'Wings Print Premium Fancy Stylish Fashion Sneakers Clas...',\n",
       " 'Sneakers For Men',\n",
       " 'Casual Sneakers White Shoes For Men Sneakers For Men',\n",
       " 'CR-1 Sneakers For Men',\n",
       " 'Sneakers For Men',\n",
       " 'Sneakers For Men',\n",
       " 'Sneakers For Men',\n",
       " 'Sneakers For Men',\n",
       " 'Sneakers Sneakers For Men',\n",
       " 'Sneakers For Men',\n",
       " 'Sneakers For Men',\n",
       " 'Sneakers For Men',\n",
       " 'Sneakers For Men',\n",
       " 'Casuals, Canvas, Partywear Sneakers For Men',\n",
       " 'Lattest Sneakers Shoe Sneakers For Men',\n",
       " 'Sneakers Sneakers For Men',\n",
       " 'Sneakers For Men',\n",
       " 'Stylish Comfortable Lightweight, Breathable Casual Walk...',\n",
       " 'Sneakers For Men',\n",
       " 'STR2 Sneakers For Men',\n",
       " 'Luxury Fashionable casual shoes Sneakers For Men',\n",
       " 'Modern Trendy Sneakers Shoes Sneakers For Men',\n",
       " 'Sneakers For Men',\n",
       " 'Combo Pack Of 4 Casual Shoes Loafer Shoes Sneakers For ...',\n",
       " 'CH-527 Trendy Star Perfect Casuals Sneakers For Men',\n",
       " 'Sneakers For Men',\n",
       " 'STYLISH MENS BLACK SNEAKER Sneakers For Men',\n",
       " \"Men's Casual sneaker shoes running shoes walking shoes ...\",\n",
       " 'Casual Sneakers Shoes For Men And Boys Sneakers For Men',\n",
       " 'Design Lightweight Stylish and Tredy Sports Running Sho...',\n",
       " 'sm323 Sneakers For Men',\n",
       " 'Sneakers For Men',\n",
       " '1259 smart black lace-ups sneakers for men Sneakers For...',\n",
       " 'Sneakers For Men',\n",
       " 'Sneakers For Men',\n",
       " '411 Casual Sneakers For Men',\n",
       " 'Exclusive Affordable Collection of Trendy & Stylish Cas...',\n",
       " 'Comfortable & Ultra Light Weight Sneaker Sneakers For M...',\n",
       " 'JFWGEORGE KNIT LACE UP Sneakers For Men',\n",
       " 'Sneakers For Men',\n",
       " 'Combo Pack of 2 Casual Shoes For Men Sneakers For Men',\n",
       " 'Sneakers For Men',\n",
       " 'x KL Seattle Sneakers For Men',\n",
       " 'Sneakers For Men',\n",
       " 'Super Stylish & Trendy Combo Pack of 02 Pairs Sneakers ...',\n",
       " \"Original Luxury Branded Fashionable Men's Casual Walkin...\",\n",
       " 'Sneakers For Men',\n",
       " 'Modern Trendy Sneakers Shoes Sneakers For Men',\n",
       " 'A-SHOES-205 Sneakers For Men',\n",
       " 'Sneakers For Men',\n",
       " 'Sneakers For Men',\n",
       " 'Sneakers For Men',\n",
       " 'Sneakers For Men',\n",
       " 'Men White Sneakers Sneakers For Men',\n",
       " 'Fashion Outdoor Canvas Casual Light Weight Lace-up Even...',\n",
       " 'Sneakers For Men',\n",
       " 'Comfortable & Ultra Light Weight Sneaker Sneakers For M...',\n",
       " 'SS1100 Sneakers For Men',\n",
       " 'Luxury Fashionable casual shoes Sneakers For Men',\n",
       " 'Sneakers For Men',\n",
       " 'Sneakers For Men',\n",
       " \"Men's Sneakers Fashion Lightweight Running Shoes Tennis...\",\n",
       " 'Combo Pack Of 4 Casual Shoes Loafer Shoes Sneakers For ...',\n",
       " 'Sneakers For Men',\n",
       " 'Sneakers For Men',\n",
       " 'Stylish & Trending Outdoor Walking Comfortable Sneakers...',\n",
       " \"Men's Casual sneaker shoes running shoes walking shoes ...\",\n",
       " 'STREET ICON M Sneakers For Men',\n",
       " 'Combo Pack Of 2 Latest Stylish Casual Shoes for Men Lac...',\n",
       " \"Men's Sneakers Fashion Lightweight Running Shoes Tennis...\",\n",
       " '516 Trendy Star Perfect Sneakers For Men',\n",
       " 'Sneakers For Men',\n",
       " 'Modern & Trendy Collection Combo Pack of 02 Shoes for M...',\n",
       " 'Sneakers For Men',\n",
       " 'shoe Sneakers For Men',\n",
       " 'Design Lightweight Stylish and Tredy Sports Running Sho...',\n",
       " \"Levi's Men's Henry Sneakers Sneakers For Men\",\n",
       " 'Sneakers For Men',\n",
       " 'Blend Sneakers For Men',\n",
       " 'Stylish Comfortable Lightweight, Breathable Walking Sho...',\n",
       " 'Sneakers For Men',\n",
       " 'EXPLORE Sneakers For Men',\n",
       " 'Sneakers For Men',\n",
       " 'AMPLICA Sneakers For Men',\n",
       " '494 Perfect Sports Shoes for Running Training Hikking &...',\n",
       " 'Modern Trendy Sneakers Shoes Sneakers For Men']"
      ]
     },
     "execution_count": 40,
     "metadata": {},
     "output_type": "execute_result"
    }
   ],
   "source": [
    "for i in description_tags:\n",
    "    descriptions=i.text\n",
    "    Product_description.append(descriptions)\n",
    "Product_description   "
   ]
  },
  {
   "cell_type": "code",
   "execution_count": 41,
   "id": "27420706",
   "metadata": {},
   "outputs": [
    {
     "data": {
      "text/plain": [
       "[<selenium.webdriver.remote.webelement.WebElement (session=\"08870b69c6c066be65edd3d719de747c\", element=\"fc265e8d-7650-4d23-9659-501ec45fd2eb\")>,\n",
       " <selenium.webdriver.remote.webelement.WebElement (session=\"08870b69c6c066be65edd3d719de747c\", element=\"71b73689-b162-44a9-80f9-b0c12e3f496c\")>,\n",
       " <selenium.webdriver.remote.webelement.WebElement (session=\"08870b69c6c066be65edd3d719de747c\", element=\"e2efc9e3-0314-42da-b07b-545bcc2bf934\")>,\n",
       " <selenium.webdriver.remote.webelement.WebElement (session=\"08870b69c6c066be65edd3d719de747c\", element=\"975c3fe5-e386-46c6-b9e4-331300290090\")>,\n",
       " <selenium.webdriver.remote.webelement.WebElement (session=\"08870b69c6c066be65edd3d719de747c\", element=\"13ed8710-9524-4db5-894b-f61b163fc290\")>,\n",
       " <selenium.webdriver.remote.webelement.WebElement (session=\"08870b69c6c066be65edd3d719de747c\", element=\"296f969c-5973-47be-a11b-e77780ccdbd1\")>,\n",
       " <selenium.webdriver.remote.webelement.WebElement (session=\"08870b69c6c066be65edd3d719de747c\", element=\"d2ed4bdc-304a-4399-8a70-3471c5aef635\")>]"
      ]
     },
     "execution_count": 41,
     "metadata": {},
     "output_type": "execute_result"
    }
   ],
   "source": [
    "description_tag=driver.find_elements_by_xpath(\"//a[@class='IRpwTa _2-ICcC']\")\n",
    "description_tag"
   ]
  },
  {
   "cell_type": "code",
   "execution_count": 42,
   "id": "2c80f319",
   "metadata": {},
   "outputs": [
    {
     "data": {
      "text/plain": [
       "[\"Men's Casual sneaker shoes running shoes walking shoes ...\",\n",
       " 'Sneakers For Men',\n",
       " 'Stylish Comfortable Lightweight, Breathable Walking Sho...',\n",
       " 'Sneakers For Men',\n",
       " 'Sneakers For Men',\n",
       " 'Lightweight Pack Of 1 Trendy Sneakers Sneakers For Men',\n",
       " 'Casual Sneakers Green Shoes For Men And Boys Sneakers F...',\n",
       " 'Luxury Fashionable casual shoes Sneakers For Men',\n",
       " 'Modern Trendy Sneakers Shoes Sneakers For Men',\n",
       " 'Sneakers For Men',\n",
       " 'Combo Pack Of 4 Casual Shoes Loafer Shoes Sneakers For ...',\n",
       " 'Sneakers For Men',\n",
       " 'Casual Sneakers Canvas Shoes For Men Sneakers For Men',\n",
       " 'Shark-41 Sneakers For Men',\n",
       " 'Modern Trendy Sneakers Shoes Sneakers For Men',\n",
       " 'Sneakers For Men',\n",
       " 'Sneakers For Men',\n",
       " \"Casual , Partywear Sneakers Shoes For Men's And Boys Wh...\",\n",
       " 'Sneakers For Men',\n",
       " 'PANAL Sneakers For Men',\n",
       " \"Original Luxury Branded Fashionable Men's Casual Walkin...\",\n",
       " 'casual for men Sneakers For Men',\n",
       " 'Sneakers For Men',\n",
       " 'Sneakers For Men',\n",
       " 'Kwik FIT casual sneaker shoes and partywear shoes Casua...',\n",
       " 'Series 7 Sneakers For Men',\n",
       " 'Puma Smash Vulc Sneakers For Men',\n",
       " 'Wings Print Premium Fancy Stylish Fashion Sneakers Clas...',\n",
       " 'Sneakers For Men',\n",
       " 'Casual Sneakers White Shoes For Men Sneakers For Men',\n",
       " 'CR-1 Sneakers For Men',\n",
       " 'Sneakers For Men',\n",
       " 'Sneakers For Men',\n",
       " 'Sneakers For Men',\n",
       " 'Sneakers For Men',\n",
       " 'Sneakers Sneakers For Men',\n",
       " 'Sneakers For Men',\n",
       " 'Sneakers For Men',\n",
       " 'Sneakers For Men',\n",
       " 'Sneakers For Men',\n",
       " 'Casuals, Canvas, Partywear Sneakers For Men',\n",
       " 'Lattest Sneakers Shoe Sneakers For Men',\n",
       " 'Sneakers Sneakers For Men',\n",
       " 'Sneakers For Men',\n",
       " 'Stylish Comfortable Lightweight, Breathable Casual Walk...',\n",
       " 'Sneakers For Men',\n",
       " 'STR2 Sneakers For Men',\n",
       " 'Luxury Fashionable casual shoes Sneakers For Men',\n",
       " 'Modern Trendy Sneakers Shoes Sneakers For Men',\n",
       " 'Sneakers For Men',\n",
       " 'Combo Pack Of 4 Casual Shoes Loafer Shoes Sneakers For ...',\n",
       " 'CH-527 Trendy Star Perfect Casuals Sneakers For Men',\n",
       " 'Sneakers For Men',\n",
       " 'STYLISH MENS BLACK SNEAKER Sneakers For Men',\n",
       " \"Men's Casual sneaker shoes running shoes walking shoes ...\",\n",
       " 'Casual Sneakers Shoes For Men And Boys Sneakers For Men',\n",
       " 'Design Lightweight Stylish and Tredy Sports Running Sho...',\n",
       " 'sm323 Sneakers For Men',\n",
       " 'Sneakers For Men',\n",
       " '1259 smart black lace-ups sneakers for men Sneakers For...',\n",
       " 'Sneakers For Men',\n",
       " 'Sneakers For Men',\n",
       " '411 Casual Sneakers For Men',\n",
       " 'Exclusive Affordable Collection of Trendy & Stylish Cas...',\n",
       " 'Comfortable & Ultra Light Weight Sneaker Sneakers For M...',\n",
       " 'JFWGEORGE KNIT LACE UP Sneakers For Men',\n",
       " 'Sneakers For Men',\n",
       " 'Combo Pack of 2 Casual Shoes For Men Sneakers For Men',\n",
       " 'Sneakers For Men',\n",
       " 'x KL Seattle Sneakers For Men',\n",
       " 'Sneakers For Men',\n",
       " 'Super Stylish & Trendy Combo Pack of 02 Pairs Sneakers ...',\n",
       " \"Original Luxury Branded Fashionable Men's Casual Walkin...\",\n",
       " 'Sneakers For Men',\n",
       " 'Modern Trendy Sneakers Shoes Sneakers For Men',\n",
       " 'A-SHOES-205 Sneakers For Men',\n",
       " 'Sneakers For Men',\n",
       " 'Sneakers For Men',\n",
       " 'Sneakers For Men',\n",
       " 'Sneakers For Men',\n",
       " 'Men White Sneakers Sneakers For Men',\n",
       " 'Fashion Outdoor Canvas Casual Light Weight Lace-up Even...',\n",
       " 'Sneakers For Men',\n",
       " 'Comfortable & Ultra Light Weight Sneaker Sneakers For M...',\n",
       " 'SS1100 Sneakers For Men',\n",
       " 'Luxury Fashionable casual shoes Sneakers For Men',\n",
       " 'Sneakers For Men',\n",
       " 'Sneakers For Men',\n",
       " \"Men's Sneakers Fashion Lightweight Running Shoes Tennis...\",\n",
       " 'Combo Pack Of 4 Casual Shoes Loafer Shoes Sneakers For ...',\n",
       " 'Sneakers For Men',\n",
       " 'Sneakers For Men',\n",
       " 'Stylish & Trending Outdoor Walking Comfortable Sneakers...',\n",
       " \"Men's Casual sneaker shoes running shoes walking shoes ...\",\n",
       " 'STREET ICON M Sneakers For Men',\n",
       " 'Combo Pack Of 2 Latest Stylish Casual Shoes for Men Lac...',\n",
       " \"Men's Sneakers Fashion Lightweight Running Shoes Tennis...\",\n",
       " '516 Trendy Star Perfect Sneakers For Men',\n",
       " 'Sneakers For Men',\n",
       " 'Modern & Trendy Collection Combo Pack of 02 Shoes for M...',\n",
       " 'Sneakers For Men',\n",
       " 'shoe Sneakers For Men',\n",
       " 'Design Lightweight Stylish and Tredy Sports Running Sho...',\n",
       " \"Levi's Men's Henry Sneakers Sneakers For Men\",\n",
       " 'Sneakers For Men',\n",
       " 'Blend Sneakers For Men',\n",
       " 'Stylish Comfortable Lightweight, Breathable Walking Sho...',\n",
       " 'Sneakers For Men',\n",
       " 'EXPLORE Sneakers For Men',\n",
       " 'Sneakers For Men',\n",
       " 'AMPLICA Sneakers For Men',\n",
       " '494 Perfect Sports Shoes for Running Training Hikking &...',\n",
       " 'Modern Trendy Sneakers Shoes Sneakers For Men',\n",
       " 'Sneakers For Men',\n",
       " 'Sneakers For Men',\n",
       " 'Sneakers For Men',\n",
       " 'Sneakers For Men',\n",
       " 'Sneakers For Men',\n",
       " 'Sneakers For Men',\n",
       " 'Classy Stylish Ayasa Sneakers Sneakers For Men']"
      ]
     },
     "execution_count": 42,
     "metadata": {},
     "output_type": "execute_result"
    }
   ],
   "source": [
    "for i in description_tag:\n",
    "    descriptions=i.text\n",
    "    Product_description.append(descriptions)\n",
    "Product_description    "
   ]
  },
  {
   "cell_type": "code",
   "execution_count": 44,
   "id": "0f1716f9",
   "metadata": {},
   "outputs": [
    {
     "name": "stdout",
     "output_type": "stream",
     "text": [
      "120 120 120\n"
     ]
    }
   ],
   "source": [
    "print(len(brand_list),len(price_list),len(Product_description))"
   ]
  },
  {
   "cell_type": "code",
   "execution_count": 45,
   "id": "2cf5a286",
   "metadata": {},
   "outputs": [
    {
     "data": {
      "text/html": [
       "<div>\n",
       "<style scoped>\n",
       "    .dataframe tbody tr th:only-of-type {\n",
       "        vertical-align: middle;\n",
       "    }\n",
       "\n",
       "    .dataframe tbody tr th {\n",
       "        vertical-align: top;\n",
       "    }\n",
       "\n",
       "    .dataframe thead th {\n",
       "        text-align: right;\n",
       "    }\n",
       "</style>\n",
       "<table border=\"1\" class=\"dataframe\">\n",
       "  <thead>\n",
       "    <tr style=\"text-align: right;\">\n",
       "      <th></th>\n",
       "      <th>brand</th>\n",
       "      <th>prices</th>\n",
       "      <th>Product_desription</th>\n",
       "    </tr>\n",
       "  </thead>\n",
       "  <tbody>\n",
       "    <tr>\n",
       "      <th>0</th>\n",
       "      <td>Echor</td>\n",
       "      <td>₹569</td>\n",
       "      <td>Men's Casual sneaker shoes running shoes walki...</td>\n",
       "    </tr>\n",
       "    <tr>\n",
       "      <th>1</th>\n",
       "      <td>NAUTICA</td>\n",
       "      <td>₹1,324</td>\n",
       "      <td>Sneakers For Men</td>\n",
       "    </tr>\n",
       "    <tr>\n",
       "      <th>2</th>\n",
       "      <td>BIRDE</td>\n",
       "      <td>₹299</td>\n",
       "      <td>Stylish Comfortable Lightweight, Breathable Wa...</td>\n",
       "    </tr>\n",
       "    <tr>\n",
       "      <th>3</th>\n",
       "      <td>Layasa</td>\n",
       "      <td>₹399</td>\n",
       "      <td>Sneakers For Men</td>\n",
       "    </tr>\n",
       "    <tr>\n",
       "      <th>4</th>\n",
       "      <td>Magnolia</td>\n",
       "      <td>₹374</td>\n",
       "      <td>Sneakers For Men</td>\n",
       "    </tr>\n",
       "    <tr>\n",
       "      <th>...</th>\n",
       "      <td>...</td>\n",
       "      <td>...</td>\n",
       "      <td>...</td>\n",
       "    </tr>\n",
       "    <tr>\n",
       "      <th>115</th>\n",
       "      <td>luxury fashion</td>\n",
       "      <td>₹450</td>\n",
       "      <td>Sneakers For Men</td>\n",
       "    </tr>\n",
       "    <tr>\n",
       "      <th>116</th>\n",
       "      <td>asics</td>\n",
       "      <td>₹1,845</td>\n",
       "      <td>Sneakers For Men</td>\n",
       "    </tr>\n",
       "    <tr>\n",
       "      <th>117</th>\n",
       "      <td>Bretton</td>\n",
       "      <td>₹251</td>\n",
       "      <td>Sneakers For Men</td>\n",
       "    </tr>\n",
       "    <tr>\n",
       "      <th>118</th>\n",
       "      <td>Chevit</td>\n",
       "      <td>₹254</td>\n",
       "      <td>Sneakers For Men</td>\n",
       "    </tr>\n",
       "    <tr>\n",
       "      <th>119</th>\n",
       "      <td>BRUTON</td>\n",
       "      <td>₹269</td>\n",
       "      <td>Classy Stylish Ayasa Sneakers Sneakers For Men</td>\n",
       "    </tr>\n",
       "  </tbody>\n",
       "</table>\n",
       "<p>120 rows × 3 columns</p>\n",
       "</div>"
      ],
      "text/plain": [
       "              brand  prices                                 Product_desription\n",
       "0             Echor    ₹569  Men's Casual sneaker shoes running shoes walki...\n",
       "1           NAUTICA  ₹1,324                                   Sneakers For Men\n",
       "2             BIRDE    ₹299  Stylish Comfortable Lightweight, Breathable Wa...\n",
       "3            Layasa    ₹399                                   Sneakers For Men\n",
       "4          Magnolia    ₹374                                   Sneakers For Men\n",
       "..              ...     ...                                                ...\n",
       "115  luxury fashion    ₹450                                   Sneakers For Men\n",
       "116           asics  ₹1,845                                   Sneakers For Men\n",
       "117         Bretton    ₹251                                   Sneakers For Men\n",
       "118          Chevit    ₹254                                   Sneakers For Men\n",
       "119          BRUTON    ₹269     Classy Stylish Ayasa Sneakers Sneakers For Men\n",
       "\n",
       "[120 rows x 3 columns]"
      ]
     },
     "execution_count": 45,
     "metadata": {},
     "output_type": "execute_result"
    }
   ],
   "source": [
    "df=pd.DataFrame({'brand':brand_list,'prices':price_list,'Product_desription':Product_description})\n",
    "df"
   ]
  },
  {
   "cell_type": "markdown",
   "id": "6ec99ea4",
   "metadata": {},
   "source": [
    "## ANS 7"
   ]
  },
  {
   "cell_type": "code",
   "execution_count": 32,
   "id": "327fc475",
   "metadata": {},
   "outputs": [],
   "source": [
    "driver.get(\"https://www.myntra.com/shoes\")"
   ]
  },
  {
   "cell_type": "code",
   "execution_count": 38,
   "id": "89501514",
   "metadata": {},
   "outputs": [],
   "source": [
    "tap_button=driver.find_element_by_xpath(\"/html/body/div[2]/div/div[1]/main/div[3]/div[1]/section/div/div[5]/ul/li[2]/label/div\")\n",
    "tap_button.click()"
   ]
  },
  {
   "cell_type": "code",
   "execution_count": 36,
   "id": "b9b12712",
   "metadata": {},
   "outputs": [],
   "source": [
    "tap_button=driver.find_element_by_xpath(\"/html/body/div[2]/div/div[1]/main/div[3]/div[1]/section/div/div[6]/ul/li[1]/label/div\")\n",
    "tap_button.click()"
   ]
  },
  {
   "cell_type": "code",
   "execution_count": 39,
   "id": "a160e91d",
   "metadata": {},
   "outputs": [],
   "source": [
    "brand=[]\n",
    "shoe_description=[]\n",
    "prices=[]"
   ]
  },
  {
   "cell_type": "code",
   "execution_count": 40,
   "id": "f353ab30",
   "metadata": {},
   "outputs": [
    {
     "data": {
      "text/plain": [
       "[<selenium.webdriver.remote.webelement.WebElement (session=\"63ccfbc125c3fb6bf210ba248054f278\", element=\"942b9264-95b2-4b5e-aa42-b12d5630139f\")>,\n",
       " <selenium.webdriver.remote.webelement.WebElement (session=\"63ccfbc125c3fb6bf210ba248054f278\", element=\"a221c1c1-d857-43a2-8ccb-c405da8b60db\")>,\n",
       " <selenium.webdriver.remote.webelement.WebElement (session=\"63ccfbc125c3fb6bf210ba248054f278\", element=\"168158e8-b739-4bdf-b6ae-a0d76811112d\")>,\n",
       " <selenium.webdriver.remote.webelement.WebElement (session=\"63ccfbc125c3fb6bf210ba248054f278\", element=\"69036de1-e887-47db-926a-6aede7af0227\")>,\n",
       " <selenium.webdriver.remote.webelement.WebElement (session=\"63ccfbc125c3fb6bf210ba248054f278\", element=\"15396745-783b-43ad-913a-95c7e9ed67fb\")>,\n",
       " <selenium.webdriver.remote.webelement.WebElement (session=\"63ccfbc125c3fb6bf210ba248054f278\", element=\"98d96910-a031-4cbf-85ea-03c8d353a93d\")>,\n",
       " <selenium.webdriver.remote.webelement.WebElement (session=\"63ccfbc125c3fb6bf210ba248054f278\", element=\"5ff6302a-eab0-4d55-a630-315b1399d7d1\")>,\n",
       " <selenium.webdriver.remote.webelement.WebElement (session=\"63ccfbc125c3fb6bf210ba248054f278\", element=\"e40866dc-7aaa-42dd-8287-f9ac09ada317\")>,\n",
       " <selenium.webdriver.remote.webelement.WebElement (session=\"63ccfbc125c3fb6bf210ba248054f278\", element=\"94196ae8-828d-4bc5-843e-a34b348a0f4f\")>,\n",
       " <selenium.webdriver.remote.webelement.WebElement (session=\"63ccfbc125c3fb6bf210ba248054f278\", element=\"8e8c6153-5b1a-4256-8166-ea87f7181e2a\")>,\n",
       " <selenium.webdriver.remote.webelement.WebElement (session=\"63ccfbc125c3fb6bf210ba248054f278\", element=\"c4dccb5b-6285-49bc-a6eb-44591fe8008e\")>,\n",
       " <selenium.webdriver.remote.webelement.WebElement (session=\"63ccfbc125c3fb6bf210ba248054f278\", element=\"ad2c4aaa-4a3a-4d9e-8c0e-49cdc731c409\")>,\n",
       " <selenium.webdriver.remote.webelement.WebElement (session=\"63ccfbc125c3fb6bf210ba248054f278\", element=\"74dc9c95-e34f-4751-9f7c-5d1cfbb8b1bd\")>,\n",
       " <selenium.webdriver.remote.webelement.WebElement (session=\"63ccfbc125c3fb6bf210ba248054f278\", element=\"5fb44a05-8a03-44e5-9bba-17c715012e53\")>,\n",
       " <selenium.webdriver.remote.webelement.WebElement (session=\"63ccfbc125c3fb6bf210ba248054f278\", element=\"e2502b3e-10a2-483c-b6f0-21d7ad22e13d\")>,\n",
       " <selenium.webdriver.remote.webelement.WebElement (session=\"63ccfbc125c3fb6bf210ba248054f278\", element=\"1f271f01-ddf0-4cb0-9fe9-5038fcc20e8d\")>,\n",
       " <selenium.webdriver.remote.webelement.WebElement (session=\"63ccfbc125c3fb6bf210ba248054f278\", element=\"7f6deebd-a7aa-438e-bfdd-4606b98d5236\")>,\n",
       " <selenium.webdriver.remote.webelement.WebElement (session=\"63ccfbc125c3fb6bf210ba248054f278\", element=\"9bafa822-696e-47d0-97b9-d688ccf71e99\")>,\n",
       " <selenium.webdriver.remote.webelement.WebElement (session=\"63ccfbc125c3fb6bf210ba248054f278\", element=\"19961945-55fc-45a7-a6a2-3503c0731f5e\")>,\n",
       " <selenium.webdriver.remote.webelement.WebElement (session=\"63ccfbc125c3fb6bf210ba248054f278\", element=\"a80a46f3-09e9-44c3-968c-e52a85778601\")>,\n",
       " <selenium.webdriver.remote.webelement.WebElement (session=\"63ccfbc125c3fb6bf210ba248054f278\", element=\"badb9684-5e97-4209-8e82-e993075b5842\")>,\n",
       " <selenium.webdriver.remote.webelement.WebElement (session=\"63ccfbc125c3fb6bf210ba248054f278\", element=\"6aac43d1-01e1-4e4f-9efe-bf0e4c307b4b\")>,\n",
       " <selenium.webdriver.remote.webelement.WebElement (session=\"63ccfbc125c3fb6bf210ba248054f278\", element=\"901cdc4c-29ae-43dc-b9f3-21520e0ae74c\")>,\n",
       " <selenium.webdriver.remote.webelement.WebElement (session=\"63ccfbc125c3fb6bf210ba248054f278\", element=\"5b00d8f5-6554-4d3e-8b24-7294111b9552\")>,\n",
       " <selenium.webdriver.remote.webelement.WebElement (session=\"63ccfbc125c3fb6bf210ba248054f278\", element=\"2685fb77-4b15-44f1-ba26-7a11265d27a3\")>,\n",
       " <selenium.webdriver.remote.webelement.WebElement (session=\"63ccfbc125c3fb6bf210ba248054f278\", element=\"d11f4ea3-6bfa-4209-bee2-a33383e25a58\")>,\n",
       " <selenium.webdriver.remote.webelement.WebElement (session=\"63ccfbc125c3fb6bf210ba248054f278\", element=\"dcc77a9a-71f9-481f-ae37-1de785ce5f9d\")>,\n",
       " <selenium.webdriver.remote.webelement.WebElement (session=\"63ccfbc125c3fb6bf210ba248054f278\", element=\"5fb97a83-f6e9-451b-bc33-02273528058c\")>,\n",
       " <selenium.webdriver.remote.webelement.WebElement (session=\"63ccfbc125c3fb6bf210ba248054f278\", element=\"33694cf9-38e6-42a0-ab72-23be5fefc243\")>,\n",
       " <selenium.webdriver.remote.webelement.WebElement (session=\"63ccfbc125c3fb6bf210ba248054f278\", element=\"febec730-01f7-4c8a-afa2-6ad8f17ea0b6\")>,\n",
       " <selenium.webdriver.remote.webelement.WebElement (session=\"63ccfbc125c3fb6bf210ba248054f278\", element=\"c2a448f0-a802-4f61-9055-1024426e62b8\")>,\n",
       " <selenium.webdriver.remote.webelement.WebElement (session=\"63ccfbc125c3fb6bf210ba248054f278\", element=\"8bb6eaf7-5a70-4362-8da3-8fe0f1674fa4\")>,\n",
       " <selenium.webdriver.remote.webelement.WebElement (session=\"63ccfbc125c3fb6bf210ba248054f278\", element=\"a21cf20c-1ea7-4482-9c71-d399345eb868\")>,\n",
       " <selenium.webdriver.remote.webelement.WebElement (session=\"63ccfbc125c3fb6bf210ba248054f278\", element=\"060c768f-0f7f-41d3-bfe1-6486aa9f5de9\")>,\n",
       " <selenium.webdriver.remote.webelement.WebElement (session=\"63ccfbc125c3fb6bf210ba248054f278\", element=\"443e2c77-bef1-492e-8aab-fec55974d996\")>,\n",
       " <selenium.webdriver.remote.webelement.WebElement (session=\"63ccfbc125c3fb6bf210ba248054f278\", element=\"10ac551d-73fb-461d-9724-c9b5e4dc2c4e\")>,\n",
       " <selenium.webdriver.remote.webelement.WebElement (session=\"63ccfbc125c3fb6bf210ba248054f278\", element=\"878bcbd0-cc6a-4852-b367-bca957f7934c\")>,\n",
       " <selenium.webdriver.remote.webelement.WebElement (session=\"63ccfbc125c3fb6bf210ba248054f278\", element=\"11419869-7c81-4556-85f9-0a9655d3a553\")>,\n",
       " <selenium.webdriver.remote.webelement.WebElement (session=\"63ccfbc125c3fb6bf210ba248054f278\", element=\"8e02ddbb-7ef4-4cdb-a52f-1d988fa2818d\")>,\n",
       " <selenium.webdriver.remote.webelement.WebElement (session=\"63ccfbc125c3fb6bf210ba248054f278\", element=\"94c08bc7-3211-4c16-9561-75f424c55cd8\")>,\n",
       " <selenium.webdriver.remote.webelement.WebElement (session=\"63ccfbc125c3fb6bf210ba248054f278\", element=\"1734e1ee-f013-45e3-b79b-9adec2887af8\")>,\n",
       " <selenium.webdriver.remote.webelement.WebElement (session=\"63ccfbc125c3fb6bf210ba248054f278\", element=\"12214a01-aab0-40b0-875a-234386b164ad\")>,\n",
       " <selenium.webdriver.remote.webelement.WebElement (session=\"63ccfbc125c3fb6bf210ba248054f278\", element=\"6479dcad-a731-486f-bcd0-f0f2014a5243\")>,\n",
       " <selenium.webdriver.remote.webelement.WebElement (session=\"63ccfbc125c3fb6bf210ba248054f278\", element=\"eab46e71-6f32-487a-a5f7-9c45ee7b29ed\")>,\n",
       " <selenium.webdriver.remote.webelement.WebElement (session=\"63ccfbc125c3fb6bf210ba248054f278\", element=\"a2f81f9c-8346-453d-b269-a94cee464218\")>,\n",
       " <selenium.webdriver.remote.webelement.WebElement (session=\"63ccfbc125c3fb6bf210ba248054f278\", element=\"4730f259-70a4-4b86-8ebf-e4fe91eae0ea\")>,\n",
       " <selenium.webdriver.remote.webelement.WebElement (session=\"63ccfbc125c3fb6bf210ba248054f278\", element=\"a4e1a85f-4971-4162-ae14-fe8e4e098903\")>,\n",
       " <selenium.webdriver.remote.webelement.WebElement (session=\"63ccfbc125c3fb6bf210ba248054f278\", element=\"d1f31a38-2384-47d9-83e2-427500b19b7b\")>,\n",
       " <selenium.webdriver.remote.webelement.WebElement (session=\"63ccfbc125c3fb6bf210ba248054f278\", element=\"08b1e554-aedb-4f4d-a364-7be77f1d6be9\")>,\n",
       " <selenium.webdriver.remote.webelement.WebElement (session=\"63ccfbc125c3fb6bf210ba248054f278\", element=\"850b4952-e3ca-42e4-b236-aaafac151256\")>]"
      ]
     },
     "execution_count": 40,
     "metadata": {},
     "output_type": "execute_result"
    }
   ],
   "source": [
    "brand_tags=driver.find_elements_by_xpath(\"//h3[@class='product-brand']\")\n",
    "brand_tags"
   ]
  },
  {
   "cell_type": "code",
   "execution_count": 41,
   "id": "27ffca16",
   "metadata": {},
   "outputs": [
    {
     "data": {
      "text/plain": [
       "['Skechers',\n",
       " 'Nike',\n",
       " 'UNDER ARMOUR',\n",
       " 'UNDER ARMOUR',\n",
       " 'Geox',\n",
       " 'Skechers',\n",
       " 'Nike',\n",
       " 'Nike',\n",
       " 'Puma',\n",
       " 'UNDER ARMOUR',\n",
       " 'UNDER ARMOUR',\n",
       " 'ADIDAS',\n",
       " 'Vans',\n",
       " 'Skechers',\n",
       " 'UNDER ARMOUR',\n",
       " 'Puma',\n",
       " 'Hush Puppies',\n",
       " 'Skechers',\n",
       " 'Geox',\n",
       " 'UNDER ARMOUR',\n",
       " 'Geox',\n",
       " 'J.FONTINI',\n",
       " 'Geox',\n",
       " 'Columbia',\n",
       " 'ADIDAS',\n",
       " 'ADIDAS',\n",
       " 'Hush Puppies',\n",
       " 'ASICS',\n",
       " 'Geox',\n",
       " 'Geox',\n",
       " 'Geox',\n",
       " 'Geox',\n",
       " 'Geox',\n",
       " 'ADIDAS',\n",
       " 'Geox',\n",
       " 'UNDER ARMOUR',\n",
       " 'Geox',\n",
       " 'Geox',\n",
       " 'Geox',\n",
       " 'Columbia',\n",
       " 'Geox',\n",
       " 'Geox',\n",
       " 'UNDER ARMOUR',\n",
       " 'ADIDAS',\n",
       " 'Geox',\n",
       " 'EVADICT By Decathlon',\n",
       " 'Saint G',\n",
       " 'Geox',\n",
       " 'Xtep',\n",
       " 'KIPRUN By Decathlon']"
      ]
     },
     "execution_count": 41,
     "metadata": {},
     "output_type": "execute_result"
    }
   ],
   "source": [
    "for i in brand_tags:\n",
    "    brands=i.text\n",
    "    brand.append(brands)\n",
    "brand    "
   ]
  },
  {
   "cell_type": "code",
   "execution_count": 42,
   "id": "1a0aa56e",
   "metadata": {},
   "outputs": [
    {
     "data": {
      "text/plain": [
       "[<selenium.webdriver.remote.webelement.WebElement (session=\"63ccfbc125c3fb6bf210ba248054f278\", element=\"b18b59a9-8c81-475f-9034-535d1f828bc0\")>,\n",
       " <selenium.webdriver.remote.webelement.WebElement (session=\"63ccfbc125c3fb6bf210ba248054f278\", element=\"780879b3-23e2-493b-8286-0c6151eccdf9\")>,\n",
       " <selenium.webdriver.remote.webelement.WebElement (session=\"63ccfbc125c3fb6bf210ba248054f278\", element=\"52d2a7da-3914-4182-8774-bf8b5a8c7f90\")>,\n",
       " <selenium.webdriver.remote.webelement.WebElement (session=\"63ccfbc125c3fb6bf210ba248054f278\", element=\"d298ce3c-c199-4e13-9b1d-94cbb1fdf304\")>,\n",
       " <selenium.webdriver.remote.webelement.WebElement (session=\"63ccfbc125c3fb6bf210ba248054f278\", element=\"958c64ff-85b0-49f6-a44c-a9d426d77768\")>,\n",
       " <selenium.webdriver.remote.webelement.WebElement (session=\"63ccfbc125c3fb6bf210ba248054f278\", element=\"8cea1e54-464a-4a82-86eb-681615c05e16\")>,\n",
       " <selenium.webdriver.remote.webelement.WebElement (session=\"63ccfbc125c3fb6bf210ba248054f278\", element=\"ba5d089d-b762-4849-acff-09ad1f9e68f9\")>,\n",
       " <selenium.webdriver.remote.webelement.WebElement (session=\"63ccfbc125c3fb6bf210ba248054f278\", element=\"ff4d447e-1105-477e-86be-6fb2d6363666\")>,\n",
       " <selenium.webdriver.remote.webelement.WebElement (session=\"63ccfbc125c3fb6bf210ba248054f278\", element=\"854d92a0-f6f3-4b71-8569-93ff621c7b3a\")>,\n",
       " <selenium.webdriver.remote.webelement.WebElement (session=\"63ccfbc125c3fb6bf210ba248054f278\", element=\"46791b22-1713-42b8-8b54-b4e3d364ffd1\")>,\n",
       " <selenium.webdriver.remote.webelement.WebElement (session=\"63ccfbc125c3fb6bf210ba248054f278\", element=\"bb5bca87-7429-4699-8b8e-e783ed0b7515\")>,\n",
       " <selenium.webdriver.remote.webelement.WebElement (session=\"63ccfbc125c3fb6bf210ba248054f278\", element=\"b3a9ca42-4fb8-42a9-9b39-fbc4ee702e67\")>,\n",
       " <selenium.webdriver.remote.webelement.WebElement (session=\"63ccfbc125c3fb6bf210ba248054f278\", element=\"4d0cbb0b-553a-4a90-bf3b-f60f996ab176\")>,\n",
       " <selenium.webdriver.remote.webelement.WebElement (session=\"63ccfbc125c3fb6bf210ba248054f278\", element=\"75684a37-cebc-4bae-b9e6-b12463597a6e\")>,\n",
       " <selenium.webdriver.remote.webelement.WebElement (session=\"63ccfbc125c3fb6bf210ba248054f278\", element=\"e164cd9f-eca2-40a1-97eb-9c8abde0ef43\")>,\n",
       " <selenium.webdriver.remote.webelement.WebElement (session=\"63ccfbc125c3fb6bf210ba248054f278\", element=\"a5024afe-8792-4e4f-a3b5-35ca2fa8cff0\")>,\n",
       " <selenium.webdriver.remote.webelement.WebElement (session=\"63ccfbc125c3fb6bf210ba248054f278\", element=\"f13854a6-e2a9-4cb9-b136-b4573ed9846b\")>,\n",
       " <selenium.webdriver.remote.webelement.WebElement (session=\"63ccfbc125c3fb6bf210ba248054f278\", element=\"aaa2622c-1ccf-4922-9041-86115dddf572\")>,\n",
       " <selenium.webdriver.remote.webelement.WebElement (session=\"63ccfbc125c3fb6bf210ba248054f278\", element=\"7aa342bd-b4c7-4ad1-ad8e-ce94015f2060\")>,\n",
       " <selenium.webdriver.remote.webelement.WebElement (session=\"63ccfbc125c3fb6bf210ba248054f278\", element=\"b14e6d9d-1c75-40a8-b4c8-251d6b12861e\")>,\n",
       " <selenium.webdriver.remote.webelement.WebElement (session=\"63ccfbc125c3fb6bf210ba248054f278\", element=\"03b54984-d400-4d2e-9602-835af8ab1c11\")>,\n",
       " <selenium.webdriver.remote.webelement.WebElement (session=\"63ccfbc125c3fb6bf210ba248054f278\", element=\"3e2c3439-ff7b-42d2-acc8-fa955d7a7f2f\")>,\n",
       " <selenium.webdriver.remote.webelement.WebElement (session=\"63ccfbc125c3fb6bf210ba248054f278\", element=\"e0db54f6-01f8-47ed-8549-62f48f557464\")>,\n",
       " <selenium.webdriver.remote.webelement.WebElement (session=\"63ccfbc125c3fb6bf210ba248054f278\", element=\"77adbdc5-fac9-41d1-824d-9fa7412b08c9\")>,\n",
       " <selenium.webdriver.remote.webelement.WebElement (session=\"63ccfbc125c3fb6bf210ba248054f278\", element=\"89f131b6-42d1-4577-9131-60a0d6cacc72\")>,\n",
       " <selenium.webdriver.remote.webelement.WebElement (session=\"63ccfbc125c3fb6bf210ba248054f278\", element=\"c3bd56cb-1dc6-4a47-bb44-451078ebeafb\")>,\n",
       " <selenium.webdriver.remote.webelement.WebElement (session=\"63ccfbc125c3fb6bf210ba248054f278\", element=\"cd84abe1-8999-4273-9ab3-bb904730f801\")>,\n",
       " <selenium.webdriver.remote.webelement.WebElement (session=\"63ccfbc125c3fb6bf210ba248054f278\", element=\"6102a1ee-463b-4443-ac07-7485391f72eb\")>,\n",
       " <selenium.webdriver.remote.webelement.WebElement (session=\"63ccfbc125c3fb6bf210ba248054f278\", element=\"a297fcb6-3f45-438c-9661-912661d0c559\")>,\n",
       " <selenium.webdriver.remote.webelement.WebElement (session=\"63ccfbc125c3fb6bf210ba248054f278\", element=\"46bf5f28-160a-44cd-abc1-8523cba76c49\")>,\n",
       " <selenium.webdriver.remote.webelement.WebElement (session=\"63ccfbc125c3fb6bf210ba248054f278\", element=\"27c89194-d7c6-4040-9347-9227d74d7492\")>,\n",
       " <selenium.webdriver.remote.webelement.WebElement (session=\"63ccfbc125c3fb6bf210ba248054f278\", element=\"b518986f-1b32-45d1-b0e0-9e11b7170740\")>,\n",
       " <selenium.webdriver.remote.webelement.WebElement (session=\"63ccfbc125c3fb6bf210ba248054f278\", element=\"0b28e14b-1ba5-4070-8f7b-0c0a830baa45\")>,\n",
       " <selenium.webdriver.remote.webelement.WebElement (session=\"63ccfbc125c3fb6bf210ba248054f278\", element=\"d7dd2695-fdf9-408a-9520-e9c5b301d39b\")>,\n",
       " <selenium.webdriver.remote.webelement.WebElement (session=\"63ccfbc125c3fb6bf210ba248054f278\", element=\"79afbf7d-b425-4b54-9a20-7b4739f5d904\")>,\n",
       " <selenium.webdriver.remote.webelement.WebElement (session=\"63ccfbc125c3fb6bf210ba248054f278\", element=\"b2e51ac7-e804-4129-98cc-d0494eb7f55a\")>,\n",
       " <selenium.webdriver.remote.webelement.WebElement (session=\"63ccfbc125c3fb6bf210ba248054f278\", element=\"860a6a59-07f4-4223-92d1-d872813f2616\")>,\n",
       " <selenium.webdriver.remote.webelement.WebElement (session=\"63ccfbc125c3fb6bf210ba248054f278\", element=\"aa66e336-9c17-4a6b-bdc0-e8847c64e976\")>,\n",
       " <selenium.webdriver.remote.webelement.WebElement (session=\"63ccfbc125c3fb6bf210ba248054f278\", element=\"2c47d1fd-1d83-4828-b62f-f899a6fc24bf\")>,\n",
       " <selenium.webdriver.remote.webelement.WebElement (session=\"63ccfbc125c3fb6bf210ba248054f278\", element=\"03cf1ea5-d686-4051-b7f6-45d66b593ffb\")>,\n",
       " <selenium.webdriver.remote.webelement.WebElement (session=\"63ccfbc125c3fb6bf210ba248054f278\", element=\"292a7685-cca8-40f2-a2f6-4a587246c7b5\")>,\n",
       " <selenium.webdriver.remote.webelement.WebElement (session=\"63ccfbc125c3fb6bf210ba248054f278\", element=\"eff7474f-3ddd-4daf-b6ee-239a459c7078\")>,\n",
       " <selenium.webdriver.remote.webelement.WebElement (session=\"63ccfbc125c3fb6bf210ba248054f278\", element=\"e08042f8-a4fe-47f8-835d-1bb9bab38497\")>,\n",
       " <selenium.webdriver.remote.webelement.WebElement (session=\"63ccfbc125c3fb6bf210ba248054f278\", element=\"b267b7e5-535a-43c0-b912-9f33e44cacc1\")>,\n",
       " <selenium.webdriver.remote.webelement.WebElement (session=\"63ccfbc125c3fb6bf210ba248054f278\", element=\"4381f573-935d-4600-bc33-134362d71baa\")>,\n",
       " <selenium.webdriver.remote.webelement.WebElement (session=\"63ccfbc125c3fb6bf210ba248054f278\", element=\"bee7203b-2740-4ad4-ae93-0da3882ba9ce\")>,\n",
       " <selenium.webdriver.remote.webelement.WebElement (session=\"63ccfbc125c3fb6bf210ba248054f278\", element=\"0d729b79-100c-4603-a02a-92149bd17334\")>,\n",
       " <selenium.webdriver.remote.webelement.WebElement (session=\"63ccfbc125c3fb6bf210ba248054f278\", element=\"85ed9569-52ac-4c3b-8811-ba76bdff9493\")>,\n",
       " <selenium.webdriver.remote.webelement.WebElement (session=\"63ccfbc125c3fb6bf210ba248054f278\", element=\"e281e1f7-5f1c-485d-9f31-540c2df7df0b\")>,\n",
       " <selenium.webdriver.remote.webelement.WebElement (session=\"63ccfbc125c3fb6bf210ba248054f278\", element=\"bfc3b116-c517-40f2-bd13-0752874945a1\")>]"
      ]
     },
     "execution_count": 42,
     "metadata": {},
     "output_type": "execute_result"
    }
   ],
   "source": [
    "price_tags=driver.find_elements_by_xpath(\"//div[@class='product-price']\")\n",
    "price_tags"
   ]
  },
  {
   "cell_type": "code",
   "execution_count": 43,
   "id": "d6ca625a",
   "metadata": {},
   "outputs": [
    {
     "data": {
      "text/plain": [
       "['Rs. 8499',\n",
       " 'Rs. 10495',\n",
       " 'Rs. 8999',\n",
       " 'Rs. 7999',\n",
       " 'Rs. 9341Rs. 10990(15% OFF)',\n",
       " 'Rs. 7499',\n",
       " 'Rs. 10495',\n",
       " 'Rs. 8046Rs. 11495(30% OFF)',\n",
       " 'Rs. 7149Rs. 10999(35% OFF)',\n",
       " 'Rs. 8999',\n",
       " 'Rs. 11999',\n",
       " 'Rs. 10499Rs. 14999(30% OFF)',\n",
       " 'Rs. 8249Rs. 10999(25% OFF)',\n",
       " 'Rs. 7499',\n",
       " 'Rs. 8999',\n",
       " 'Rs. 8249Rs. 14999(45% OFF)',\n",
       " 'Rs. 7199Rs. 7999(10% OFF)',\n",
       " 'Rs. 7999',\n",
       " 'Rs. 12990',\n",
       " 'Rs. 11999',\n",
       " 'Rs. 8992Rs. 11990(25% OFF)',\n",
       " 'Rs. 8490',\n",
       " 'Rs. 9441Rs. 10490(10% OFF)',\n",
       " 'Rs. 11699Rs. 12999(10% OFF)',\n",
       " 'Rs. 9899Rs. 17999(45% OFF)',\n",
       " 'Rs. 9999',\n",
       " 'Rs. 7999Rs. 9999(20% OFF)',\n",
       " 'Rs. 13999',\n",
       " 'Rs. 9891Rs. 10990(10% OFF)',\n",
       " 'Rs. 9891Rs. 10990(10% OFF)',\n",
       " 'Rs. 8991Rs. 9990(10% OFF)',\n",
       " 'Rs. 9341Rs. 10990(15% OFF)',\n",
       " 'Rs. 8491Rs. 9990(15% OFF)',\n",
       " 'Rs. 13999',\n",
       " 'Rs. 7492Rs. 9990(25% OFF)',\n",
       " 'Rs. 8999Rs. 9999(10% OFF)',\n",
       " 'Rs. 7499Rs. 9999(25% OFF)',\n",
       " 'Rs. 7117Rs. 9490(25% OFF)',\n",
       " 'Rs. 13990',\n",
       " 'Rs. 7199Rs. 7999(10% OFF)',\n",
       " 'Rs. 10990',\n",
       " 'Rs. 12990',\n",
       " 'Rs. 8999Rs. 9999(10% OFF)',\n",
       " 'Rs. 13999',\n",
       " 'Rs. 13990',\n",
       " 'Rs. 9239Rs. 10499(12% OFF)',\n",
       " 'Rs. 9810Rs. 10900(10% OFF)',\n",
       " 'Rs. 11041Rs. 12990(15% OFF)',\n",
       " 'Rs. 7699',\n",
       " 'Rs. 7372Rs. 10099(27% OFF)']"
      ]
     },
     "execution_count": 43,
     "metadata": {},
     "output_type": "execute_result"
    }
   ],
   "source": [
    "for i in price_tags:\n",
    "    price=i.text\n",
    "    prices.append(price)\n",
    "prices    "
   ]
  },
  {
   "cell_type": "code",
   "execution_count": 44,
   "id": "ad3184b1",
   "metadata": {},
   "outputs": [
    {
     "data": {
      "text/plain": [
       "[<selenium.webdriver.remote.webelement.WebElement (session=\"63ccfbc125c3fb6bf210ba248054f278\", element=\"167ee62d-f017-4a90-89aa-e32f83dc1fb2\")>,\n",
       " <selenium.webdriver.remote.webelement.WebElement (session=\"63ccfbc125c3fb6bf210ba248054f278\", element=\"bd79932a-2fc3-479a-81f4-fd38ea35c44b\")>,\n",
       " <selenium.webdriver.remote.webelement.WebElement (session=\"63ccfbc125c3fb6bf210ba248054f278\", element=\"f1816168-fa18-4c1e-bf4c-b70b62ad142d\")>,\n",
       " <selenium.webdriver.remote.webelement.WebElement (session=\"63ccfbc125c3fb6bf210ba248054f278\", element=\"8f17b83c-e7fd-4156-a271-117c529a5f1c\")>,\n",
       " <selenium.webdriver.remote.webelement.WebElement (session=\"63ccfbc125c3fb6bf210ba248054f278\", element=\"82a66073-6cb2-49fd-9adf-36bee8dc437d\")>,\n",
       " <selenium.webdriver.remote.webelement.WebElement (session=\"63ccfbc125c3fb6bf210ba248054f278\", element=\"42c04f95-f264-4cc7-8647-3bcf6fc41b36\")>,\n",
       " <selenium.webdriver.remote.webelement.WebElement (session=\"63ccfbc125c3fb6bf210ba248054f278\", element=\"d857d7e5-778b-4635-b83b-b2305b5b2a4a\")>,\n",
       " <selenium.webdriver.remote.webelement.WebElement (session=\"63ccfbc125c3fb6bf210ba248054f278\", element=\"b7622dce-5cd6-4ca8-9716-cfec13ca607f\")>,\n",
       " <selenium.webdriver.remote.webelement.WebElement (session=\"63ccfbc125c3fb6bf210ba248054f278\", element=\"887adbb2-9e89-4f0e-b792-ddf7f4589564\")>,\n",
       " <selenium.webdriver.remote.webelement.WebElement (session=\"63ccfbc125c3fb6bf210ba248054f278\", element=\"f0ef7646-428b-452b-bad2-9ce16aeb3c27\")>,\n",
       " <selenium.webdriver.remote.webelement.WebElement (session=\"63ccfbc125c3fb6bf210ba248054f278\", element=\"9aaa5462-d562-4dc7-b428-e18935eba73e\")>,\n",
       " <selenium.webdriver.remote.webelement.WebElement (session=\"63ccfbc125c3fb6bf210ba248054f278\", element=\"d76bfc08-2362-4b98-8922-7729cbf6daa0\")>,\n",
       " <selenium.webdriver.remote.webelement.WebElement (session=\"63ccfbc125c3fb6bf210ba248054f278\", element=\"ac8954b3-ce4b-4e40-94fd-7052a514b082\")>,\n",
       " <selenium.webdriver.remote.webelement.WebElement (session=\"63ccfbc125c3fb6bf210ba248054f278\", element=\"2f65219c-452e-4acb-92f9-cd43b87cad32\")>,\n",
       " <selenium.webdriver.remote.webelement.WebElement (session=\"63ccfbc125c3fb6bf210ba248054f278\", element=\"d4eeae15-bf2f-411a-9f7d-dac92f4cbf2d\")>,\n",
       " <selenium.webdriver.remote.webelement.WebElement (session=\"63ccfbc125c3fb6bf210ba248054f278\", element=\"48fdd6a1-ec87-48d6-8d15-cf9001dfe9b4\")>,\n",
       " <selenium.webdriver.remote.webelement.WebElement (session=\"63ccfbc125c3fb6bf210ba248054f278\", element=\"1d0b34a9-769e-48ac-90fb-7ccd4059ae53\")>,\n",
       " <selenium.webdriver.remote.webelement.WebElement (session=\"63ccfbc125c3fb6bf210ba248054f278\", element=\"04757913-a1be-4599-9dd5-19f310f6c6ff\")>,\n",
       " <selenium.webdriver.remote.webelement.WebElement (session=\"63ccfbc125c3fb6bf210ba248054f278\", element=\"9f527b36-5ff0-4726-870b-f5bade6e7925\")>,\n",
       " <selenium.webdriver.remote.webelement.WebElement (session=\"63ccfbc125c3fb6bf210ba248054f278\", element=\"a6dd18c9-dce2-4daf-9663-1e9194f36340\")>,\n",
       " <selenium.webdriver.remote.webelement.WebElement (session=\"63ccfbc125c3fb6bf210ba248054f278\", element=\"03c100ff-7a0c-4d96-aa33-1a10ccffce40\")>,\n",
       " <selenium.webdriver.remote.webelement.WebElement (session=\"63ccfbc125c3fb6bf210ba248054f278\", element=\"2be52cff-11ce-498f-a9bf-7c3b9fa3cca2\")>,\n",
       " <selenium.webdriver.remote.webelement.WebElement (session=\"63ccfbc125c3fb6bf210ba248054f278\", element=\"8d68a5fa-57bd-4ac3-8729-b8086d6f6da0\")>,\n",
       " <selenium.webdriver.remote.webelement.WebElement (session=\"63ccfbc125c3fb6bf210ba248054f278\", element=\"47b02cca-f2e0-4751-be87-e31be25e029b\")>,\n",
       " <selenium.webdriver.remote.webelement.WebElement (session=\"63ccfbc125c3fb6bf210ba248054f278\", element=\"ac40ed24-bb35-4cfc-8bee-7b8ae498d108\")>,\n",
       " <selenium.webdriver.remote.webelement.WebElement (session=\"63ccfbc125c3fb6bf210ba248054f278\", element=\"a32d705b-4fc4-4c66-8ed7-be7cb70d075f\")>,\n",
       " <selenium.webdriver.remote.webelement.WebElement (session=\"63ccfbc125c3fb6bf210ba248054f278\", element=\"2396c937-b2a3-4348-a58f-43c896baf5b0\")>,\n",
       " <selenium.webdriver.remote.webelement.WebElement (session=\"63ccfbc125c3fb6bf210ba248054f278\", element=\"0778f69c-3175-4867-92b5-b0fdc6a9e291\")>,\n",
       " <selenium.webdriver.remote.webelement.WebElement (session=\"63ccfbc125c3fb6bf210ba248054f278\", element=\"eae99c7a-8b24-4eda-a195-b86ef5bd0c58\")>,\n",
       " <selenium.webdriver.remote.webelement.WebElement (session=\"63ccfbc125c3fb6bf210ba248054f278\", element=\"bdc1b706-a857-4644-9886-3c8b8c737fe8\")>,\n",
       " <selenium.webdriver.remote.webelement.WebElement (session=\"63ccfbc125c3fb6bf210ba248054f278\", element=\"4313e74b-eaf2-4092-801a-7eee65a4fa2c\")>,\n",
       " <selenium.webdriver.remote.webelement.WebElement (session=\"63ccfbc125c3fb6bf210ba248054f278\", element=\"c33ccfca-8fd0-4f12-a65a-ff5463fbcfe8\")>,\n",
       " <selenium.webdriver.remote.webelement.WebElement (session=\"63ccfbc125c3fb6bf210ba248054f278\", element=\"df5cf110-ab69-498c-a4f8-2e1ab18ef545\")>,\n",
       " <selenium.webdriver.remote.webelement.WebElement (session=\"63ccfbc125c3fb6bf210ba248054f278\", element=\"f072bf9e-c4af-49b4-8cd6-83a7c6ddbccf\")>,\n",
       " <selenium.webdriver.remote.webelement.WebElement (session=\"63ccfbc125c3fb6bf210ba248054f278\", element=\"4ad16b65-9ff0-4b7c-9a96-872265655f63\")>,\n",
       " <selenium.webdriver.remote.webelement.WebElement (session=\"63ccfbc125c3fb6bf210ba248054f278\", element=\"4d38c60e-e4a8-49dd-9007-76f2cb474cc5\")>,\n",
       " <selenium.webdriver.remote.webelement.WebElement (session=\"63ccfbc125c3fb6bf210ba248054f278\", element=\"a2704bf9-0ec1-4eec-addd-de16de0b3e13\")>,\n",
       " <selenium.webdriver.remote.webelement.WebElement (session=\"63ccfbc125c3fb6bf210ba248054f278\", element=\"5f5dcf02-1b9b-4bad-974d-8b5fb348d898\")>,\n",
       " <selenium.webdriver.remote.webelement.WebElement (session=\"63ccfbc125c3fb6bf210ba248054f278\", element=\"10a3c2e0-aba1-4c70-bd82-addae6e755da\")>,\n",
       " <selenium.webdriver.remote.webelement.WebElement (session=\"63ccfbc125c3fb6bf210ba248054f278\", element=\"f57386d6-f692-4a8c-b63e-19501f452f27\")>,\n",
       " <selenium.webdriver.remote.webelement.WebElement (session=\"63ccfbc125c3fb6bf210ba248054f278\", element=\"b916b669-9cf0-4fd8-99c8-0ec744358d64\")>,\n",
       " <selenium.webdriver.remote.webelement.WebElement (session=\"63ccfbc125c3fb6bf210ba248054f278\", element=\"27996558-2a1f-4ab0-8fa5-6a48524c0ddb\")>,\n",
       " <selenium.webdriver.remote.webelement.WebElement (session=\"63ccfbc125c3fb6bf210ba248054f278\", element=\"7e88ae60-ed39-44be-8a76-919878028f13\")>,\n",
       " <selenium.webdriver.remote.webelement.WebElement (session=\"63ccfbc125c3fb6bf210ba248054f278\", element=\"aa453dc1-838b-4e4e-9267-d44abf8c68d9\")>,\n",
       " <selenium.webdriver.remote.webelement.WebElement (session=\"63ccfbc125c3fb6bf210ba248054f278\", element=\"aee51e89-0c6d-4afd-9683-fc399be26fa4\")>,\n",
       " <selenium.webdriver.remote.webelement.WebElement (session=\"63ccfbc125c3fb6bf210ba248054f278\", element=\"3e67e944-f00f-40c8-9fda-fb157d1e8f5e\")>,\n",
       " <selenium.webdriver.remote.webelement.WebElement (session=\"63ccfbc125c3fb6bf210ba248054f278\", element=\"72ac7c9d-6258-4794-b7dc-f6bdd4273416\")>,\n",
       " <selenium.webdriver.remote.webelement.WebElement (session=\"63ccfbc125c3fb6bf210ba248054f278\", element=\"62d94f7c-9480-4ca2-b2ee-a19c47f582d6\")>,\n",
       " <selenium.webdriver.remote.webelement.WebElement (session=\"63ccfbc125c3fb6bf210ba248054f278\", element=\"39c6cec7-7557-4b04-9dc9-fb4b20b012ff\")>,\n",
       " <selenium.webdriver.remote.webelement.WebElement (session=\"63ccfbc125c3fb6bf210ba248054f278\", element=\"c5d7dc8b-7962-4f39-97f0-1e82aaca20cf\")>]"
      ]
     },
     "execution_count": 44,
     "metadata": {},
     "output_type": "execute_result"
    }
   ],
   "source": [
    "description_tags=driver.find_elements_by_xpath(\"//h4[@class='product-product']\")\n",
    "description_tags"
   ]
  },
  {
   "cell_type": "code",
   "execution_count": 45,
   "id": "c257198b",
   "metadata": {},
   "outputs": [
    {
     "data": {
      "text/plain": [
       "['Men Go Walk 5 Walking Shoes',\n",
       " 'Women Pegasus 39 Running Shoes',\n",
       " 'Men UA Charged Breeze Training',\n",
       " 'Men UA Charged Vantage 2 Run',\n",
       " 'Men Leather Loafers',\n",
       " 'Women Go Walk EU Walking Shoes',\n",
       " 'Women React MR 3 Running Shoes',\n",
       " 'Women React Escape Running',\n",
       " 'Men Velocity Nitro 2 Running',\n",
       " 'Men Charged Breeze Running',\n",
       " 'Men UA TriBase Reign4 Training',\n",
       " 'Men Solar Glide 4 ST Running',\n",
       " 'Men Colourblocked Sneakers',\n",
       " 'Men Woven Design Sneakers',\n",
       " 'Women Charged Breeze Running',\n",
       " 'Men Deviate Nitro Shoes',\n",
       " 'Men Textured Leather Sneakers',\n",
       " 'Men Textured Sneakers',\n",
       " 'Men Leather Sneakers',\n",
       " 'W omen TriBase Reign 4 Running',\n",
       " 'Men Leather Driving Shoes',\n",
       " 'Men Leather Fashion',\n",
       " 'Men Textured Leather Driving Shoes',\n",
       " 'Men FACET OUTDRY Trekking Shoe',\n",
       " 'Women Sports Shoes',\n",
       " 'Women Supernova Running Shoes',\n",
       " 'Men Solid Leather Formal Slip-Ons',\n",
       " 'Men Sports Shoes',\n",
       " 'Men Textured Leather Driving Shoes',\n",
       " 'Men Textured Leather Driving Shoes',\n",
       " 'Men Textured Leather Slip-On Sneakers',\n",
       " 'Men Textured Leather Driving Shoes',\n",
       " 'Men Textured Leather Driving Shoes',\n",
       " 'Women Solar Glide 5 Running',\n",
       " 'Women Textured Leather Loafers',\n",
       " 'Men HOVR Sonic SE Running Shoe',\n",
       " 'Men Solid Sneakers',\n",
       " 'Leather Block Sandals',\n",
       " 'Men Perforations Sneakers',\n",
       " 'Women REDMOND V2 TrekkingShoe',\n",
       " 'Men Leather Sneakers',\n",
       " 'Men Leather Sneakers',\n",
       " 'Women Hovr Sonic SE Run Shoes',\n",
       " 'Women KarlieKlossX9000 Running',\n",
       " 'Men Leather Sneakers',\n",
       " 'Men Running Shoes',\n",
       " 'Leather Block Sandals',\n",
       " 'Men Leather Loafers',\n",
       " 'Men Running Shoes',\n",
       " 'Men Running Shoes']"
      ]
     },
     "execution_count": 45,
     "metadata": {},
     "output_type": "execute_result"
    }
   ],
   "source": [
    "for i in description_tags:\n",
    "    description=i.text\n",
    "    shoe_description.append(description)\n",
    "shoe_description    "
   ]
  },
  {
   "cell_type": "code",
   "execution_count": 46,
   "id": "a03a543d",
   "metadata": {},
   "outputs": [],
   "source": [
    "next_button=driver.find_element_by_xpath(\"/html/body/div[2]/div/div[1]/main/div[3]/div[2]/div/div[2]/section/div[2]/ul/li[12]/a\")\n",
    "next_button.click()"
   ]
  },
  {
   "cell_type": "code",
   "execution_count": 47,
   "id": "8d82c45c",
   "metadata": {},
   "outputs": [
    {
     "data": {
      "text/plain": [
       "[<selenium.webdriver.remote.webelement.WebElement (session=\"63ccfbc125c3fb6bf210ba248054f278\", element=\"850b4952-e3ca-42e4-b236-aaafac151256\")>,\n",
       " <selenium.webdriver.remote.webelement.WebElement (session=\"63ccfbc125c3fb6bf210ba248054f278\", element=\"6114acd6-3540-4565-9d83-68882ee08b87\")>,\n",
       " <selenium.webdriver.remote.webelement.WebElement (session=\"63ccfbc125c3fb6bf210ba248054f278\", element=\"b22876b1-c77e-499e-8e6a-7b6fe0cd7fe7\")>,\n",
       " <selenium.webdriver.remote.webelement.WebElement (session=\"63ccfbc125c3fb6bf210ba248054f278\", element=\"b66e210f-030d-4071-b885-8b0d4002eeee\")>,\n",
       " <selenium.webdriver.remote.webelement.WebElement (session=\"63ccfbc125c3fb6bf210ba248054f278\", element=\"db67629f-f934-4297-8be8-fb17938bbeeb\")>,\n",
       " <selenium.webdriver.remote.webelement.WebElement (session=\"63ccfbc125c3fb6bf210ba248054f278\", element=\"55df49e4-6e4d-47b9-a227-4cab44a3acc1\")>,\n",
       " <selenium.webdriver.remote.webelement.WebElement (session=\"63ccfbc125c3fb6bf210ba248054f278\", element=\"d28dd6a3-5c8e-42f9-a8a7-824088013650\")>,\n",
       " <selenium.webdriver.remote.webelement.WebElement (session=\"63ccfbc125c3fb6bf210ba248054f278\", element=\"4b368172-c6af-4871-9e88-0c843f2f0c87\")>,\n",
       " <selenium.webdriver.remote.webelement.WebElement (session=\"63ccfbc125c3fb6bf210ba248054f278\", element=\"08c7f814-df75-421d-b855-bad5c382e6a7\")>,\n",
       " <selenium.webdriver.remote.webelement.WebElement (session=\"63ccfbc125c3fb6bf210ba248054f278\", element=\"abc14d5c-f2b2-4056-a7fa-a7afcaff06cc\")>,\n",
       " <selenium.webdriver.remote.webelement.WebElement (session=\"63ccfbc125c3fb6bf210ba248054f278\", element=\"be71bb2a-e54c-49e5-8a92-c48bb3935317\")>,\n",
       " <selenium.webdriver.remote.webelement.WebElement (session=\"63ccfbc125c3fb6bf210ba248054f278\", element=\"1170df83-4ba5-4138-8944-f538ffb1c481\")>,\n",
       " <selenium.webdriver.remote.webelement.WebElement (session=\"63ccfbc125c3fb6bf210ba248054f278\", element=\"dbf9a5ee-6dea-453f-8834-7ee1fcf58f0a\")>,\n",
       " <selenium.webdriver.remote.webelement.WebElement (session=\"63ccfbc125c3fb6bf210ba248054f278\", element=\"090e54e8-9064-49b2-beb5-080105e7eef8\")>,\n",
       " <selenium.webdriver.remote.webelement.WebElement (session=\"63ccfbc125c3fb6bf210ba248054f278\", element=\"9f576757-7fac-4074-b1f7-6646a962447d\")>,\n",
       " <selenium.webdriver.remote.webelement.WebElement (session=\"63ccfbc125c3fb6bf210ba248054f278\", element=\"7915afc5-e96e-47e8-aa7a-9e5d12938c6c\")>,\n",
       " <selenium.webdriver.remote.webelement.WebElement (session=\"63ccfbc125c3fb6bf210ba248054f278\", element=\"97e08d69-3e24-4aff-ab03-58e0d20abc28\")>,\n",
       " <selenium.webdriver.remote.webelement.WebElement (session=\"63ccfbc125c3fb6bf210ba248054f278\", element=\"7a863264-13f6-4de1-89db-fbbdb56b90a6\")>,\n",
       " <selenium.webdriver.remote.webelement.WebElement (session=\"63ccfbc125c3fb6bf210ba248054f278\", element=\"1e076684-a529-4160-bb49-ab93485af87f\")>,\n",
       " <selenium.webdriver.remote.webelement.WebElement (session=\"63ccfbc125c3fb6bf210ba248054f278\", element=\"7dedcc5e-90a1-48d6-9e2a-5ec7cd36557a\")>,\n",
       " <selenium.webdriver.remote.webelement.WebElement (session=\"63ccfbc125c3fb6bf210ba248054f278\", element=\"7c12d905-7c08-4705-b076-46e24196146a\")>,\n",
       " <selenium.webdriver.remote.webelement.WebElement (session=\"63ccfbc125c3fb6bf210ba248054f278\", element=\"39c04b17-55b4-4392-84b3-48ad20b099f4\")>,\n",
       " <selenium.webdriver.remote.webelement.WebElement (session=\"63ccfbc125c3fb6bf210ba248054f278\", element=\"fe661b24-1c3f-48af-9337-a71a323081d9\")>,\n",
       " <selenium.webdriver.remote.webelement.WebElement (session=\"63ccfbc125c3fb6bf210ba248054f278\", element=\"f25be016-71b6-46a9-80da-2c29792a8c89\")>,\n",
       " <selenium.webdriver.remote.webelement.WebElement (session=\"63ccfbc125c3fb6bf210ba248054f278\", element=\"1796475c-5fa1-4bdf-96a4-907aa63fecb9\")>,\n",
       " <selenium.webdriver.remote.webelement.WebElement (session=\"63ccfbc125c3fb6bf210ba248054f278\", element=\"3cac9c06-b090-4420-96ac-3a1032318ae9\")>,\n",
       " <selenium.webdriver.remote.webelement.WebElement (session=\"63ccfbc125c3fb6bf210ba248054f278\", element=\"2e69f296-e8ed-4a6d-bc6e-9e5d6023b8f2\")>,\n",
       " <selenium.webdriver.remote.webelement.WebElement (session=\"63ccfbc125c3fb6bf210ba248054f278\", element=\"8420bae3-c25f-4bef-b258-f7f186d6dbb5\")>,\n",
       " <selenium.webdriver.remote.webelement.WebElement (session=\"63ccfbc125c3fb6bf210ba248054f278\", element=\"304456c7-1233-42ec-9a77-2b73a2eca6c2\")>,\n",
       " <selenium.webdriver.remote.webelement.WebElement (session=\"63ccfbc125c3fb6bf210ba248054f278\", element=\"2c46b769-f0b5-48f0-8f60-9da36acdbd95\")>,\n",
       " <selenium.webdriver.remote.webelement.WebElement (session=\"63ccfbc125c3fb6bf210ba248054f278\", element=\"e27dcb21-63eb-4cfd-a364-62126859c086\")>,\n",
       " <selenium.webdriver.remote.webelement.WebElement (session=\"63ccfbc125c3fb6bf210ba248054f278\", element=\"4c472547-1abf-4023-b754-29e05b14e6a7\")>,\n",
       " <selenium.webdriver.remote.webelement.WebElement (session=\"63ccfbc125c3fb6bf210ba248054f278\", element=\"3a9e7705-2ca4-464f-9c26-82b054e16589\")>,\n",
       " <selenium.webdriver.remote.webelement.WebElement (session=\"63ccfbc125c3fb6bf210ba248054f278\", element=\"e228fdf4-3688-42b9-ad04-9e6d8701fc35\")>,\n",
       " <selenium.webdriver.remote.webelement.WebElement (session=\"63ccfbc125c3fb6bf210ba248054f278\", element=\"b1ecccb9-662f-40c2-8a45-c6615405e073\")>,\n",
       " <selenium.webdriver.remote.webelement.WebElement (session=\"63ccfbc125c3fb6bf210ba248054f278\", element=\"c0cd0bb7-dae2-4855-90e7-02b606750063\")>,\n",
       " <selenium.webdriver.remote.webelement.WebElement (session=\"63ccfbc125c3fb6bf210ba248054f278\", element=\"2e9f5a63-6fe2-43c4-b66a-fbbeb4d0fdd5\")>,\n",
       " <selenium.webdriver.remote.webelement.WebElement (session=\"63ccfbc125c3fb6bf210ba248054f278\", element=\"99ef17d8-c48d-4bec-aec1-791ae3717a6f\")>,\n",
       " <selenium.webdriver.remote.webelement.WebElement (session=\"63ccfbc125c3fb6bf210ba248054f278\", element=\"f515694e-c9f9-48d9-92be-5d1fefed807b\")>,\n",
       " <selenium.webdriver.remote.webelement.WebElement (session=\"63ccfbc125c3fb6bf210ba248054f278\", element=\"70893e0e-384e-4e07-89f4-f9bcb9b89bd3\")>,\n",
       " <selenium.webdriver.remote.webelement.WebElement (session=\"63ccfbc125c3fb6bf210ba248054f278\", element=\"38a1b967-b0d1-4083-bb50-ed6960a18ef5\")>,\n",
       " <selenium.webdriver.remote.webelement.WebElement (session=\"63ccfbc125c3fb6bf210ba248054f278\", element=\"3cdf6eb4-e5e9-4b50-b172-4e7308ce7fa1\")>,\n",
       " <selenium.webdriver.remote.webelement.WebElement (session=\"63ccfbc125c3fb6bf210ba248054f278\", element=\"6a658502-554d-4820-8373-61a7a7c0bf9c\")>,\n",
       " <selenium.webdriver.remote.webelement.WebElement (session=\"63ccfbc125c3fb6bf210ba248054f278\", element=\"df47b949-5fd9-4193-82be-7fa2818c4eab\")>,\n",
       " <selenium.webdriver.remote.webelement.WebElement (session=\"63ccfbc125c3fb6bf210ba248054f278\", element=\"178249e7-0687-4ed5-b42c-dd60507272ad\")>,\n",
       " <selenium.webdriver.remote.webelement.WebElement (session=\"63ccfbc125c3fb6bf210ba248054f278\", element=\"72f18975-2766-4b8d-a9d3-4f19e06c6bd1\")>,\n",
       " <selenium.webdriver.remote.webelement.WebElement (session=\"63ccfbc125c3fb6bf210ba248054f278\", element=\"32c451e4-3b84-4615-98c8-3a174d584d29\")>,\n",
       " <selenium.webdriver.remote.webelement.WebElement (session=\"63ccfbc125c3fb6bf210ba248054f278\", element=\"b6b08d86-866d-4530-b57c-c6e0fd0325df\")>,\n",
       " <selenium.webdriver.remote.webelement.WebElement (session=\"63ccfbc125c3fb6bf210ba248054f278\", element=\"15eb4ea0-b90a-4ba5-882d-d93d68da4a3b\")>,\n",
       " <selenium.webdriver.remote.webelement.WebElement (session=\"63ccfbc125c3fb6bf210ba248054f278\", element=\"77141175-969b-46c5-9c33-f7f2c42d4667\")>]"
      ]
     },
     "execution_count": 47,
     "metadata": {},
     "output_type": "execute_result"
    }
   ],
   "source": [
    "brand_tag=driver.find_elements_by_xpath(\"//h3[@class='product-brand']\")\n",
    "brand_tag"
   ]
  },
  {
   "cell_type": "code",
   "execution_count": 48,
   "id": "3b04243f",
   "metadata": {},
   "outputs": [
    {
     "data": {
      "text/plain": [
       "['Skechers',\n",
       " 'Nike',\n",
       " 'UNDER ARMOUR',\n",
       " 'UNDER ARMOUR',\n",
       " 'Geox',\n",
       " 'Skechers',\n",
       " 'Nike',\n",
       " 'Nike',\n",
       " 'Puma',\n",
       " 'UNDER ARMOUR',\n",
       " 'UNDER ARMOUR',\n",
       " 'ADIDAS',\n",
       " 'Vans',\n",
       " 'Skechers',\n",
       " 'UNDER ARMOUR',\n",
       " 'Puma',\n",
       " 'Hush Puppies',\n",
       " 'Skechers',\n",
       " 'Geox',\n",
       " 'UNDER ARMOUR',\n",
       " 'Geox',\n",
       " 'J.FONTINI',\n",
       " 'Geox',\n",
       " 'Columbia',\n",
       " 'ADIDAS',\n",
       " 'ADIDAS',\n",
       " 'Hush Puppies',\n",
       " 'ASICS',\n",
       " 'Geox',\n",
       " 'Geox',\n",
       " 'Geox',\n",
       " 'Geox',\n",
       " 'Geox',\n",
       " 'ADIDAS',\n",
       " 'Geox',\n",
       " 'UNDER ARMOUR',\n",
       " 'Geox',\n",
       " 'Geox',\n",
       " 'Geox',\n",
       " 'Columbia',\n",
       " 'Geox',\n",
       " 'Geox',\n",
       " 'UNDER ARMOUR',\n",
       " 'ADIDAS',\n",
       " 'Geox',\n",
       " 'EVADICT By Decathlon',\n",
       " 'Saint G',\n",
       " 'Geox',\n",
       " 'Xtep',\n",
       " 'KIPRUN By Decathlon',\n",
       " 'KIPRUN By Decathlon',\n",
       " 'J.FONTINI',\n",
       " 'ASICS',\n",
       " 'Clarks',\n",
       " 'DAVINCHI',\n",
       " 'Geox',\n",
       " 'Geox',\n",
       " 'Clarks',\n",
       " 'Saint G',\n",
       " 'Clarks',\n",
       " 'Bugatti',\n",
       " 'Bugatti',\n",
       " 'Heel & Buckle London',\n",
       " 'Saint G',\n",
       " 'Saint G',\n",
       " 'Geox',\n",
       " 'Geox',\n",
       " 'Geox',\n",
       " 'Geox',\n",
       " 'Louis Philippe',\n",
       " 'Quechua By Decathlon',\n",
       " 'Kenkoh',\n",
       " 'DAVINCHI',\n",
       " 'Geox',\n",
       " 'Geox',\n",
       " 'Saint G',\n",
       " 'FILA',\n",
       " 'Geox',\n",
       " 'J.FONTINI',\n",
       " 'ECCO',\n",
       " 'Columbia',\n",
       " 'Geox',\n",
       " 'FILA',\n",
       " 'ASICS',\n",
       " 'Columbia',\n",
       " 'Cole Haan',\n",
       " 'Geox',\n",
       " 'J.FONTINI',\n",
       " 'Clarks',\n",
       " 'Geox',\n",
       " 'J.FONTINI',\n",
       " 'Heel & Buckle London',\n",
       " 'Geox',\n",
       " 'Geox',\n",
       " 'Geox',\n",
       " 'Geox',\n",
       " 'Geox',\n",
       " 'Geox',\n",
       " 'Geox',\n",
       " 'Geox']"
      ]
     },
     "execution_count": 48,
     "metadata": {},
     "output_type": "execute_result"
    }
   ],
   "source": [
    "for i in brand_tag:\n",
    "    brandss=i.text\n",
    "    brand.append(brandss)\n",
    "brand    "
   ]
  },
  {
   "cell_type": "code",
   "execution_count": 49,
   "id": "201ccc80",
   "metadata": {},
   "outputs": [
    {
     "data": {
      "text/plain": [
       "[<selenium.webdriver.remote.webelement.WebElement (session=\"63ccfbc125c3fb6bf210ba248054f278\", element=\"bfc3b116-c517-40f2-bd13-0752874945a1\")>,\n",
       " <selenium.webdriver.remote.webelement.WebElement (session=\"63ccfbc125c3fb6bf210ba248054f278\", element=\"bff0ce0b-5acd-4532-a935-5c52675fd393\")>,\n",
       " <selenium.webdriver.remote.webelement.WebElement (session=\"63ccfbc125c3fb6bf210ba248054f278\", element=\"c374b6a3-cef7-4331-b192-1a1ebd40b978\")>,\n",
       " <selenium.webdriver.remote.webelement.WebElement (session=\"63ccfbc125c3fb6bf210ba248054f278\", element=\"6cf6d96c-80af-44cb-a806-72149abd15ca\")>,\n",
       " <selenium.webdriver.remote.webelement.WebElement (session=\"63ccfbc125c3fb6bf210ba248054f278\", element=\"82f411d5-b8af-4706-837f-34973b1b03e9\")>,\n",
       " <selenium.webdriver.remote.webelement.WebElement (session=\"63ccfbc125c3fb6bf210ba248054f278\", element=\"541e2656-3c8b-4547-a5cf-feabf7882599\")>,\n",
       " <selenium.webdriver.remote.webelement.WebElement (session=\"63ccfbc125c3fb6bf210ba248054f278\", element=\"c27d47d7-fa84-4c3e-9e14-0dda56e335b1\")>,\n",
       " <selenium.webdriver.remote.webelement.WebElement (session=\"63ccfbc125c3fb6bf210ba248054f278\", element=\"580aba2a-b1e8-4b5a-87f9-ac230093f1ee\")>,\n",
       " <selenium.webdriver.remote.webelement.WebElement (session=\"63ccfbc125c3fb6bf210ba248054f278\", element=\"9a4c98bc-1983-4a34-9a55-62b717df42c8\")>,\n",
       " <selenium.webdriver.remote.webelement.WebElement (session=\"63ccfbc125c3fb6bf210ba248054f278\", element=\"a8c2a5b2-1966-4903-abf2-e9e9f80501f5\")>,\n",
       " <selenium.webdriver.remote.webelement.WebElement (session=\"63ccfbc125c3fb6bf210ba248054f278\", element=\"857dcadb-cb2b-4df1-b2fd-2a7ba041631d\")>,\n",
       " <selenium.webdriver.remote.webelement.WebElement (session=\"63ccfbc125c3fb6bf210ba248054f278\", element=\"360617dc-0966-4083-a5f3-f9405ca91a93\")>,\n",
       " <selenium.webdriver.remote.webelement.WebElement (session=\"63ccfbc125c3fb6bf210ba248054f278\", element=\"c5a6dada-c34d-42c4-b7f7-96bc236ae71c\")>,\n",
       " <selenium.webdriver.remote.webelement.WebElement (session=\"63ccfbc125c3fb6bf210ba248054f278\", element=\"b591c59f-fb2a-4500-89cd-b9d3d1ba2a43\")>,\n",
       " <selenium.webdriver.remote.webelement.WebElement (session=\"63ccfbc125c3fb6bf210ba248054f278\", element=\"c914b84e-2c57-4ace-9a2c-a9d283bdca56\")>,\n",
       " <selenium.webdriver.remote.webelement.WebElement (session=\"63ccfbc125c3fb6bf210ba248054f278\", element=\"c2f3c2a8-a5fa-463f-845c-889532d02299\")>,\n",
       " <selenium.webdriver.remote.webelement.WebElement (session=\"63ccfbc125c3fb6bf210ba248054f278\", element=\"1c806ad8-a3a7-41a7-8e10-549cbf898848\")>,\n",
       " <selenium.webdriver.remote.webelement.WebElement (session=\"63ccfbc125c3fb6bf210ba248054f278\", element=\"3a982b86-803c-45bb-b142-dd9ea76ab85a\")>,\n",
       " <selenium.webdriver.remote.webelement.WebElement (session=\"63ccfbc125c3fb6bf210ba248054f278\", element=\"b5f17bdc-6630-42fa-8144-3f55562e6b21\")>,\n",
       " <selenium.webdriver.remote.webelement.WebElement (session=\"63ccfbc125c3fb6bf210ba248054f278\", element=\"f8cae0e4-dea8-432d-aec4-bbe868b2e55d\")>,\n",
       " <selenium.webdriver.remote.webelement.WebElement (session=\"63ccfbc125c3fb6bf210ba248054f278\", element=\"c0ff0fd7-1766-428d-b4a1-71e953cb4e3e\")>,\n",
       " <selenium.webdriver.remote.webelement.WebElement (session=\"63ccfbc125c3fb6bf210ba248054f278\", element=\"00ac5c1b-c926-4d6e-899e-8214a54b820e\")>,\n",
       " <selenium.webdriver.remote.webelement.WebElement (session=\"63ccfbc125c3fb6bf210ba248054f278\", element=\"339e166b-d17e-4136-ac15-c0905cb22e51\")>,\n",
       " <selenium.webdriver.remote.webelement.WebElement (session=\"63ccfbc125c3fb6bf210ba248054f278\", element=\"4a103574-1ba0-4444-8da0-5e3be2c05933\")>,\n",
       " <selenium.webdriver.remote.webelement.WebElement (session=\"63ccfbc125c3fb6bf210ba248054f278\", element=\"8a1c04fb-5d65-4bc0-9e7a-f6c82ff76e20\")>,\n",
       " <selenium.webdriver.remote.webelement.WebElement (session=\"63ccfbc125c3fb6bf210ba248054f278\", element=\"043530d2-600c-4391-839a-b4a53ca34b03\")>,\n",
       " <selenium.webdriver.remote.webelement.WebElement (session=\"63ccfbc125c3fb6bf210ba248054f278\", element=\"83180d11-6f49-4498-ad95-b5e1913eae91\")>,\n",
       " <selenium.webdriver.remote.webelement.WebElement (session=\"63ccfbc125c3fb6bf210ba248054f278\", element=\"f071b2a9-42da-46d2-bd7b-72d4ad474ae2\")>,\n",
       " <selenium.webdriver.remote.webelement.WebElement (session=\"63ccfbc125c3fb6bf210ba248054f278\", element=\"32c90285-7f27-40c4-8037-b5695619e214\")>,\n",
       " <selenium.webdriver.remote.webelement.WebElement (session=\"63ccfbc125c3fb6bf210ba248054f278\", element=\"bca6bf9c-babd-4efc-a3fe-f24949491080\")>,\n",
       " <selenium.webdriver.remote.webelement.WebElement (session=\"63ccfbc125c3fb6bf210ba248054f278\", element=\"63f93977-d222-454e-9fde-39931891c5c3\")>,\n",
       " <selenium.webdriver.remote.webelement.WebElement (session=\"63ccfbc125c3fb6bf210ba248054f278\", element=\"ed2ea7c7-8975-4763-822b-4b8b00bfc10d\")>,\n",
       " <selenium.webdriver.remote.webelement.WebElement (session=\"63ccfbc125c3fb6bf210ba248054f278\", element=\"7cc6629b-787e-4321-9115-fa7cba8e1210\")>,\n",
       " <selenium.webdriver.remote.webelement.WebElement (session=\"63ccfbc125c3fb6bf210ba248054f278\", element=\"0a12b1da-7568-4878-a01b-4189d1a8fd32\")>,\n",
       " <selenium.webdriver.remote.webelement.WebElement (session=\"63ccfbc125c3fb6bf210ba248054f278\", element=\"58ee5fd2-70e8-4b4e-b361-44a99f4d87e3\")>,\n",
       " <selenium.webdriver.remote.webelement.WebElement (session=\"63ccfbc125c3fb6bf210ba248054f278\", element=\"2ac91f4f-d475-44c6-8782-dd800417d6a2\")>,\n",
       " <selenium.webdriver.remote.webelement.WebElement (session=\"63ccfbc125c3fb6bf210ba248054f278\", element=\"55b34d5a-c249-46e2-b603-8db8fb7b7637\")>,\n",
       " <selenium.webdriver.remote.webelement.WebElement (session=\"63ccfbc125c3fb6bf210ba248054f278\", element=\"add088f2-4c1f-4aa9-ae9a-dbe62883e46f\")>,\n",
       " <selenium.webdriver.remote.webelement.WebElement (session=\"63ccfbc125c3fb6bf210ba248054f278\", element=\"fe5a9f1c-253a-4172-865b-da21a743b2b5\")>,\n",
       " <selenium.webdriver.remote.webelement.WebElement (session=\"63ccfbc125c3fb6bf210ba248054f278\", element=\"5757914a-9c58-46bc-8ae8-53c7f8ecbc88\")>,\n",
       " <selenium.webdriver.remote.webelement.WebElement (session=\"63ccfbc125c3fb6bf210ba248054f278\", element=\"35caf5ff-7d42-4b2e-9c55-221918c29f08\")>,\n",
       " <selenium.webdriver.remote.webelement.WebElement (session=\"63ccfbc125c3fb6bf210ba248054f278\", element=\"4dbfc9f0-dbc2-4dbf-90b2-50769e9a46b9\")>,\n",
       " <selenium.webdriver.remote.webelement.WebElement (session=\"63ccfbc125c3fb6bf210ba248054f278\", element=\"06bff6ea-7da8-4eb0-8260-6868704de5d9\")>,\n",
       " <selenium.webdriver.remote.webelement.WebElement (session=\"63ccfbc125c3fb6bf210ba248054f278\", element=\"1364601a-b421-484b-bebf-8fcc84feb67a\")>,\n",
       " <selenium.webdriver.remote.webelement.WebElement (session=\"63ccfbc125c3fb6bf210ba248054f278\", element=\"a5b553f0-10f4-417b-8912-67b2ac61e412\")>,\n",
       " <selenium.webdriver.remote.webelement.WebElement (session=\"63ccfbc125c3fb6bf210ba248054f278\", element=\"9ff7c472-74ff-4340-9183-1690cc836846\")>,\n",
       " <selenium.webdriver.remote.webelement.WebElement (session=\"63ccfbc125c3fb6bf210ba248054f278\", element=\"77836b9e-fa0b-4405-b44c-ceae7bfb773b\")>,\n",
       " <selenium.webdriver.remote.webelement.WebElement (session=\"63ccfbc125c3fb6bf210ba248054f278\", element=\"f795e44a-99e4-43ac-9f33-3f2afc2f7892\")>,\n",
       " <selenium.webdriver.remote.webelement.WebElement (session=\"63ccfbc125c3fb6bf210ba248054f278\", element=\"eba2bae4-9090-4f48-a621-609b6753983a\")>,\n",
       " <selenium.webdriver.remote.webelement.WebElement (session=\"63ccfbc125c3fb6bf210ba248054f278\", element=\"03cb58ff-41e9-4888-80ec-912363d71637\")>]"
      ]
     },
     "execution_count": 49,
     "metadata": {},
     "output_type": "execute_result"
    }
   ],
   "source": [
    "price_tag=driver.find_elements_by_xpath(\"//div[@class='product-price']\")\n",
    "price_tag"
   ]
  },
  {
   "cell_type": "code",
   "execution_count": 52,
   "id": "26bcbd62",
   "metadata": {},
   "outputs": [
    {
     "data": {
      "text/plain": [
       "['Rs. 8499',\n",
       " 'Rs. 10495',\n",
       " 'Rs. 8999',\n",
       " 'Rs. 7999',\n",
       " 'Rs. 9341Rs. 10990(15% OFF)',\n",
       " 'Rs. 7499',\n",
       " 'Rs. 10495',\n",
       " 'Rs. 8046Rs. 11495(30% OFF)',\n",
       " 'Rs. 7149Rs. 10999(35% OFF)',\n",
       " 'Rs. 8999',\n",
       " 'Rs. 11999',\n",
       " 'Rs. 10499Rs. 14999(30% OFF)',\n",
       " 'Rs. 8249Rs. 10999(25% OFF)',\n",
       " 'Rs. 7499',\n",
       " 'Rs. 8999',\n",
       " 'Rs. 8249Rs. 14999(45% OFF)',\n",
       " 'Rs. 7199Rs. 7999(10% OFF)',\n",
       " 'Rs. 7999',\n",
       " 'Rs. 12990',\n",
       " 'Rs. 11999',\n",
       " 'Rs. 8992Rs. 11990(25% OFF)',\n",
       " 'Rs. 8490',\n",
       " 'Rs. 9441Rs. 10490(10% OFF)',\n",
       " 'Rs. 11699Rs. 12999(10% OFF)',\n",
       " 'Rs. 9899Rs. 17999(45% OFF)',\n",
       " 'Rs. 9999',\n",
       " 'Rs. 7999Rs. 9999(20% OFF)',\n",
       " 'Rs. 13999',\n",
       " 'Rs. 9891Rs. 10990(10% OFF)',\n",
       " 'Rs. 9891Rs. 10990(10% OFF)',\n",
       " 'Rs. 8991Rs. 9990(10% OFF)',\n",
       " 'Rs. 9341Rs. 10990(15% OFF)',\n",
       " 'Rs. 8491Rs. 9990(15% OFF)',\n",
       " 'Rs. 13999',\n",
       " 'Rs. 7492Rs. 9990(25% OFF)',\n",
       " 'Rs. 8999Rs. 9999(10% OFF)',\n",
       " 'Rs. 7499Rs. 9999(25% OFF)',\n",
       " 'Rs. 7117Rs. 9490(25% OFF)',\n",
       " 'Rs. 13990',\n",
       " 'Rs. 7199Rs. 7999(10% OFF)',\n",
       " 'Rs. 10990',\n",
       " 'Rs. 12990',\n",
       " 'Rs. 8999Rs. 9999(10% OFF)',\n",
       " 'Rs. 13999',\n",
       " 'Rs. 13990',\n",
       " 'Rs. 9239Rs. 10499(12% OFF)',\n",
       " 'Rs. 9810Rs. 10900(10% OFF)',\n",
       " 'Rs. 11041Rs. 12990(15% OFF)',\n",
       " 'Rs. 7699',\n",
       " 'Rs. 7372Rs. 10099(27% OFF)',\n",
       " 'Rs. 7372Rs. 10099(27% OFF)',\n",
       " 'Rs. 8490',\n",
       " 'Rs. 7599Rs. 7999(5% OFF)',\n",
       " 'Rs. 7499',\n",
       " 'Rs. 8990',\n",
       " 'Rs. 8055Rs. 8950(10% OFF)',\n",
       " 'Rs. 7117Rs. 9490(25% OFF)',\n",
       " 'Rs. 7999',\n",
       " 'Rs. 8075Rs. 8500(5% OFF)',\n",
       " 'Rs. 8999',\n",
       " 'Rs. 8999',\n",
       " 'Rs. 13999',\n",
       " 'Rs. 13990',\n",
       " 'Rs. 10355Rs. 10900(5% OFF)',\n",
       " 'Rs. 10710Rs. 11900(10% OFF)',\n",
       " 'Rs. 10791Rs. 11990(10% OFF)',\n",
       " 'Rs. 10791Rs. 11990(10% OFF)',\n",
       " 'Rs. 9891Rs. 10990(10% OFF)',\n",
       " 'Rs. 11990',\n",
       " 'Rs. 9999',\n",
       " 'Rs. 9999',\n",
       " 'Rs. 10400',\n",
       " 'Rs. 8990',\n",
       " 'Rs. 8091Rs. 8990(10% OFF)',\n",
       " 'Rs. 10990',\n",
       " 'Rs. 8455Rs. 8900(5% OFF)',\n",
       " 'Rs. 9999',\n",
       " 'Rs. 7499Rs. 9999(25% OFF)',\n",
       " 'Rs. 7490',\n",
       " 'Rs. 9099Rs. 13999(35% OFF)',\n",
       " 'Rs. 8999Rs. 9999(10% OFF)',\n",
       " 'Rs. 8242Rs. 10990(25% OFF)',\n",
       " 'Rs. 7999',\n",
       " 'Rs. 7999',\n",
       " 'Rs. 8099Rs. 8999(10% OFF)',\n",
       " 'Rs. 11999',\n",
       " 'Rs. 13990',\n",
       " 'Rs. 7990',\n",
       " 'Rs. 9999',\n",
       " 'Rs. 8991Rs. 9990(10% OFF)',\n",
       " 'Rs. 8990',\n",
       " 'Rs. 7990',\n",
       " 'Rs. 8491Rs. 9990(15% OFF)',\n",
       " 'Rs. 8991Rs. 9990(10% OFF)',\n",
       " 'Rs. 8099Rs. 8999(10% OFF)',\n",
       " 'Rs. 7641Rs. 8490(10% OFF)',\n",
       " 'Rs. 8242Rs. 10990(25% OFF)',\n",
       " 'Rs. 10791Rs. 11990(10% OFF)',\n",
       " 'Rs. 10492Rs. 13990(25% OFF)',\n",
       " 'Rs. 8091Rs. 8990(10% OFF)']"
      ]
     },
     "execution_count": 52,
     "metadata": {},
     "output_type": "execute_result"
    }
   ],
   "source": [
    "for i in price_tag:\n",
    "    pricess=i.text\n",
    "    prices.append(pricess)\n",
    "prices    "
   ]
  },
  {
   "cell_type": "code",
   "execution_count": 53,
   "id": "f6e4190b",
   "metadata": {},
   "outputs": [
    {
     "data": {
      "text/plain": [
       "[<selenium.webdriver.remote.webelement.WebElement (session=\"63ccfbc125c3fb6bf210ba248054f278\", element=\"c5d7dc8b-7962-4f39-97f0-1e82aaca20cf\")>,\n",
       " <selenium.webdriver.remote.webelement.WebElement (session=\"63ccfbc125c3fb6bf210ba248054f278\", element=\"46fafad6-a754-473e-b490-8629f9bbf8d7\")>,\n",
       " <selenium.webdriver.remote.webelement.WebElement (session=\"63ccfbc125c3fb6bf210ba248054f278\", element=\"83fe4048-5854-465a-bfd4-6199c567fd3f\")>,\n",
       " <selenium.webdriver.remote.webelement.WebElement (session=\"63ccfbc125c3fb6bf210ba248054f278\", element=\"dbde8600-0901-4c69-9bbb-713facc9995f\")>,\n",
       " <selenium.webdriver.remote.webelement.WebElement (session=\"63ccfbc125c3fb6bf210ba248054f278\", element=\"a8d3da98-5489-4077-a01b-dcb6f160cf51\")>,\n",
       " <selenium.webdriver.remote.webelement.WebElement (session=\"63ccfbc125c3fb6bf210ba248054f278\", element=\"fb177ccc-108a-4559-9cad-1f29727b142d\")>,\n",
       " <selenium.webdriver.remote.webelement.WebElement (session=\"63ccfbc125c3fb6bf210ba248054f278\", element=\"76537555-ac2c-4598-8139-cd308778eb8d\")>,\n",
       " <selenium.webdriver.remote.webelement.WebElement (session=\"63ccfbc125c3fb6bf210ba248054f278\", element=\"bcf93fd4-eb56-42d0-a888-60769bb24ca2\")>,\n",
       " <selenium.webdriver.remote.webelement.WebElement (session=\"63ccfbc125c3fb6bf210ba248054f278\", element=\"27eae454-2188-4351-8683-76f83cd89138\")>,\n",
       " <selenium.webdriver.remote.webelement.WebElement (session=\"63ccfbc125c3fb6bf210ba248054f278\", element=\"c050a16a-0760-4a68-9c5e-b9ce905f93d3\")>,\n",
       " <selenium.webdriver.remote.webelement.WebElement (session=\"63ccfbc125c3fb6bf210ba248054f278\", element=\"0ab1943d-ae95-42b3-9642-7d9ff8e952a6\")>,\n",
       " <selenium.webdriver.remote.webelement.WebElement (session=\"63ccfbc125c3fb6bf210ba248054f278\", element=\"70deb123-79ac-4567-8448-f7b81641cf0f\")>,\n",
       " <selenium.webdriver.remote.webelement.WebElement (session=\"63ccfbc125c3fb6bf210ba248054f278\", element=\"8e9ab0a3-0981-4d46-89dd-2ec7fdc08d88\")>,\n",
       " <selenium.webdriver.remote.webelement.WebElement (session=\"63ccfbc125c3fb6bf210ba248054f278\", element=\"1687c60c-6d20-4360-b924-3aa1ff01195f\")>,\n",
       " <selenium.webdriver.remote.webelement.WebElement (session=\"63ccfbc125c3fb6bf210ba248054f278\", element=\"11912537-0610-4e54-8dd9-e34e3946b4d6\")>,\n",
       " <selenium.webdriver.remote.webelement.WebElement (session=\"63ccfbc125c3fb6bf210ba248054f278\", element=\"2ddb78ef-90d2-42e3-aeb2-81aae5c82ace\")>,\n",
       " <selenium.webdriver.remote.webelement.WebElement (session=\"63ccfbc125c3fb6bf210ba248054f278\", element=\"5b445ab2-c758-4b29-8f1f-23c433e5e2d7\")>,\n",
       " <selenium.webdriver.remote.webelement.WebElement (session=\"63ccfbc125c3fb6bf210ba248054f278\", element=\"a918bb34-ed50-44e2-8465-37b05c09da34\")>,\n",
       " <selenium.webdriver.remote.webelement.WebElement (session=\"63ccfbc125c3fb6bf210ba248054f278\", element=\"ce154f1e-ab12-44dd-84da-2a9ac38ec3e0\")>,\n",
       " <selenium.webdriver.remote.webelement.WebElement (session=\"63ccfbc125c3fb6bf210ba248054f278\", element=\"d5d3d101-67d2-405c-8629-85b6fb89a8b1\")>,\n",
       " <selenium.webdriver.remote.webelement.WebElement (session=\"63ccfbc125c3fb6bf210ba248054f278\", element=\"aca24771-3cad-4500-96a1-5b59f00a7163\")>,\n",
       " <selenium.webdriver.remote.webelement.WebElement (session=\"63ccfbc125c3fb6bf210ba248054f278\", element=\"6ba7cf59-eaf7-447c-9a3b-4b7d49d519e8\")>,\n",
       " <selenium.webdriver.remote.webelement.WebElement (session=\"63ccfbc125c3fb6bf210ba248054f278\", element=\"6cd524af-ac52-4a6d-ae17-fa08e66da3a8\")>,\n",
       " <selenium.webdriver.remote.webelement.WebElement (session=\"63ccfbc125c3fb6bf210ba248054f278\", element=\"8414a82c-f883-4626-80a9-ef70c5641d48\")>,\n",
       " <selenium.webdriver.remote.webelement.WebElement (session=\"63ccfbc125c3fb6bf210ba248054f278\", element=\"eedeed9d-546c-49ea-9c22-b08bdc92d8fd\")>,\n",
       " <selenium.webdriver.remote.webelement.WebElement (session=\"63ccfbc125c3fb6bf210ba248054f278\", element=\"9bf0d65d-af27-436e-9638-81551b741ad1\")>,\n",
       " <selenium.webdriver.remote.webelement.WebElement (session=\"63ccfbc125c3fb6bf210ba248054f278\", element=\"2e5ef6d7-c231-4ad7-bb9a-6eed796e9f41\")>,\n",
       " <selenium.webdriver.remote.webelement.WebElement (session=\"63ccfbc125c3fb6bf210ba248054f278\", element=\"431eed6c-10de-46f9-8f5c-547cf3d4c905\")>,\n",
       " <selenium.webdriver.remote.webelement.WebElement (session=\"63ccfbc125c3fb6bf210ba248054f278\", element=\"afc115ae-5042-4db4-b1da-12fe5efb1e16\")>,\n",
       " <selenium.webdriver.remote.webelement.WebElement (session=\"63ccfbc125c3fb6bf210ba248054f278\", element=\"036d2a16-15b6-4976-8b97-ca754aaa9407\")>,\n",
       " <selenium.webdriver.remote.webelement.WebElement (session=\"63ccfbc125c3fb6bf210ba248054f278\", element=\"dfa369fa-476e-4b06-a7d8-1946f840ba25\")>,\n",
       " <selenium.webdriver.remote.webelement.WebElement (session=\"63ccfbc125c3fb6bf210ba248054f278\", element=\"84cab95e-6375-4db0-af1f-6369a1d76528\")>,\n",
       " <selenium.webdriver.remote.webelement.WebElement (session=\"63ccfbc125c3fb6bf210ba248054f278\", element=\"b210416d-b338-493d-b1fd-93f450a9142b\")>,\n",
       " <selenium.webdriver.remote.webelement.WebElement (session=\"63ccfbc125c3fb6bf210ba248054f278\", element=\"b9455f49-9461-47db-932b-19de8b2a46b8\")>,\n",
       " <selenium.webdriver.remote.webelement.WebElement (session=\"63ccfbc125c3fb6bf210ba248054f278\", element=\"6ef7d74f-56eb-42c7-9245-030aa4dd54c3\")>,\n",
       " <selenium.webdriver.remote.webelement.WebElement (session=\"63ccfbc125c3fb6bf210ba248054f278\", element=\"72ba8310-3bc0-4fa4-bb3f-3ad0aecf959c\")>,\n",
       " <selenium.webdriver.remote.webelement.WebElement (session=\"63ccfbc125c3fb6bf210ba248054f278\", element=\"191bca5f-05ea-4986-aae7-6f957e247be4\")>,\n",
       " <selenium.webdriver.remote.webelement.WebElement (session=\"63ccfbc125c3fb6bf210ba248054f278\", element=\"7624496a-520b-4eb9-955c-56966fa86275\")>,\n",
       " <selenium.webdriver.remote.webelement.WebElement (session=\"63ccfbc125c3fb6bf210ba248054f278\", element=\"e7e3194b-fffa-4934-bd57-4c9b97bc1958\")>,\n",
       " <selenium.webdriver.remote.webelement.WebElement (session=\"63ccfbc125c3fb6bf210ba248054f278\", element=\"728d4405-1915-4bf0-8e50-3b0b057eec96\")>,\n",
       " <selenium.webdriver.remote.webelement.WebElement (session=\"63ccfbc125c3fb6bf210ba248054f278\", element=\"bb4f4c3f-472e-4a9f-95cc-809ec5c0bb4a\")>,\n",
       " <selenium.webdriver.remote.webelement.WebElement (session=\"63ccfbc125c3fb6bf210ba248054f278\", element=\"e138585c-df4d-4fbb-8c1c-e6f159a4fb6e\")>,\n",
       " <selenium.webdriver.remote.webelement.WebElement (session=\"63ccfbc125c3fb6bf210ba248054f278\", element=\"d6216c63-a2e5-4689-925d-5ed8ce61e65d\")>,\n",
       " <selenium.webdriver.remote.webelement.WebElement (session=\"63ccfbc125c3fb6bf210ba248054f278\", element=\"7823530f-7342-4b6d-bd63-bed475f0e403\")>,\n",
       " <selenium.webdriver.remote.webelement.WebElement (session=\"63ccfbc125c3fb6bf210ba248054f278\", element=\"b6e49d6d-157e-42bf-8557-e4b0ec4e1fc4\")>,\n",
       " <selenium.webdriver.remote.webelement.WebElement (session=\"63ccfbc125c3fb6bf210ba248054f278\", element=\"46160a2e-185f-4f16-8412-6c2580144c28\")>,\n",
       " <selenium.webdriver.remote.webelement.WebElement (session=\"63ccfbc125c3fb6bf210ba248054f278\", element=\"f648c740-48c7-4303-88a8-1cd0cc7215d0\")>,\n",
       " <selenium.webdriver.remote.webelement.WebElement (session=\"63ccfbc125c3fb6bf210ba248054f278\", element=\"3d2e13c4-c5dc-45e3-af59-68af702fd724\")>,\n",
       " <selenium.webdriver.remote.webelement.WebElement (session=\"63ccfbc125c3fb6bf210ba248054f278\", element=\"6dc181a6-a0ae-43d7-b8cd-56bc3101bc9d\")>,\n",
       " <selenium.webdriver.remote.webelement.WebElement (session=\"63ccfbc125c3fb6bf210ba248054f278\", element=\"6859883d-f7d5-4473-881e-492de1dc1c90\")>]"
      ]
     },
     "execution_count": 53,
     "metadata": {},
     "output_type": "execute_result"
    }
   ],
   "source": [
    "description_tag=driver.find_elements_by_xpath(\"//h4[@class='product-product']\")\n",
    "description_tag"
   ]
  },
  {
   "cell_type": "code",
   "execution_count": 54,
   "id": "e912e5f7",
   "metadata": {},
   "outputs": [
    {
     "data": {
      "text/plain": [
       "['Men Go Walk 5 Walking Shoes',\n",
       " 'Women Pegasus 39 Running Shoes',\n",
       " 'Men UA Charged Breeze Training',\n",
       " 'Men UA Charged Vantage 2 Run',\n",
       " 'Men Leather Loafers',\n",
       " 'Women Go Walk EU Walking Shoes',\n",
       " 'Women React MR 3 Running Shoes',\n",
       " 'Women React Escape Running',\n",
       " 'Men Velocity Nitro 2 Running',\n",
       " 'Men Charged Breeze Running',\n",
       " 'Men UA TriBase Reign4 Training',\n",
       " 'Men Solar Glide 4 ST Running',\n",
       " 'Men Colourblocked Sneakers',\n",
       " 'Men Woven Design Sneakers',\n",
       " 'Women Charged Breeze Running',\n",
       " 'Men Deviate Nitro Shoes',\n",
       " 'Men Textured Leather Sneakers',\n",
       " 'Men Textured Sneakers',\n",
       " 'Men Leather Sneakers',\n",
       " 'W omen TriBase Reign 4 Running',\n",
       " 'Men Leather Driving Shoes',\n",
       " 'Men Leather Fashion',\n",
       " 'Men Textured Leather Driving Shoes',\n",
       " 'Men FACET OUTDRY Trekking Shoe',\n",
       " 'Women Sports Shoes',\n",
       " 'Women Supernova Running Shoes',\n",
       " 'Men Solid Leather Formal Slip-Ons',\n",
       " 'Men Sports Shoes',\n",
       " 'Men Textured Leather Driving Shoes',\n",
       " 'Men Textured Leather Driving Shoes',\n",
       " 'Men Textured Leather Slip-On Sneakers',\n",
       " 'Men Textured Leather Driving Shoes',\n",
       " 'Men Textured Leather Driving Shoes',\n",
       " 'Women Solar Glide 5 Running',\n",
       " 'Women Textured Leather Loafers',\n",
       " 'Men HOVR Sonic SE Running Shoe',\n",
       " 'Men Solid Sneakers',\n",
       " 'Leather Block Sandals',\n",
       " 'Men Perforations Sneakers',\n",
       " 'Women REDMOND V2 TrekkingShoe',\n",
       " 'Men Leather Sneakers',\n",
       " 'Men Leather Sneakers',\n",
       " 'Women Hovr Sonic SE Run Shoes',\n",
       " 'Women KarlieKlossX9000 Running',\n",
       " 'Men Leather Sneakers',\n",
       " 'Men Running Shoes',\n",
       " 'Leather Block Sandals',\n",
       " 'Men Leather Loafers',\n",
       " 'Men Running Shoes',\n",
       " 'Men Running Shoes',\n",
       " 'Men Running Shoes',\n",
       " 'Men Textured Leather Loafers',\n",
       " 'Women Running Shoes',\n",
       " 'Men Leather Derbys',\n",
       " 'Men Textured Formal Leather Loafers',\n",
       " 'Women Ballerinas Flats',\n",
       " 'Women Textured Leather Loafers',\n",
       " 'Men Solid Leather Formal Loafers',\n",
       " 'Stiletto Heel Mules',\n",
       " 'Men Leather Slip-On Sneakers',\n",
       " 'Men Leather Monks',\n",
       " 'Men Leather Formal Derbys',\n",
       " 'Men Textured Leather Formal Loafers',\n",
       " 'Suede Leather Block Heel Boots',\n",
       " 'Men Leather Chelsea Boots',\n",
       " 'Leather Block Pumps',\n",
       " 'Textured Leather Block Pumps',\n",
       " 'Leather Block Sandals',\n",
       " 'Flatform Heels',\n",
       " 'Men Solid Leather Formal Loafers',\n",
       " 'Men Trekking Shoes',\n",
       " 'Leather Flatform Sandals',\n",
       " 'Men Formal Leather Slip-Ons',\n",
       " 'Women Open Toe Flats',\n",
       " 'Women Ballerinas Flats',\n",
       " 'Suede Embellished Ankle Boots',\n",
       " 'Women Colourblocked Leather Sneakers',\n",
       " 'Men Leather Formal Derbys',\n",
       " 'Men Leather Formal Loafers',\n",
       " 'Women Textured Leather Sneakers',\n",
       " 'PEAKFREAK OUTDRY Trekking Shoe',\n",
       " 'Women Leather Slip-On Sneakers',\n",
       " 'Women Leather Sneakers',\n",
       " 'Women Running Shoes',\n",
       " 'Women Trekking Shoes',\n",
       " 'Men GENERATION ZEROGRAND STITCHLITE',\n",
       " 'Men Solid Slip-On Sneakers',\n",
       " 'Men Textured Leather Loafers',\n",
       " 'Men Solid Formal Leather Derbys',\n",
       " 'Men Leather Formal Slip-Ons',\n",
       " 'Men Solid Loafers',\n",
       " 'Men Formal Leather Derby',\n",
       " 'Men Leather Formal Loafers',\n",
       " 'Men Leather Formal Slip-Ons',\n",
       " 'Women Leather Pumps',\n",
       " 'Women Solid Wedges',\n",
       " 'Women Solid Leather Pumps',\n",
       " 'Women Leather Solid Pumps',\n",
       " 'Men Printed Slip-On Sneakers',\n",
       " 'Women Solid Leather Heels']"
      ]
     },
     "execution_count": 54,
     "metadata": {},
     "output_type": "execute_result"
    }
   ],
   "source": [
    "for i in description_tag:\n",
    "    descriptions=i.text\n",
    "    shoe_description.append(descriptions)\n",
    "shoe_description    "
   ]
  },
  {
   "cell_type": "code",
   "execution_count": 55,
   "id": "253f1fcb",
   "metadata": {},
   "outputs": [
    {
     "data": {
      "text/html": [
       "<div>\n",
       "<style scoped>\n",
       "    .dataframe tbody tr th:only-of-type {\n",
       "        vertical-align: middle;\n",
       "    }\n",
       "\n",
       "    .dataframe tbody tr th {\n",
       "        vertical-align: top;\n",
       "    }\n",
       "\n",
       "    .dataframe thead th {\n",
       "        text-align: right;\n",
       "    }\n",
       "</style>\n",
       "<table border=\"1\" class=\"dataframe\">\n",
       "  <thead>\n",
       "    <tr style=\"text-align: right;\">\n",
       "      <th></th>\n",
       "      <th>brand</th>\n",
       "      <th>price</th>\n",
       "      <th>description</th>\n",
       "    </tr>\n",
       "  </thead>\n",
       "  <tbody>\n",
       "    <tr>\n",
       "      <th>0</th>\n",
       "      <td>Skechers</td>\n",
       "      <td>Rs. 8499</td>\n",
       "      <td>Men Go Walk 5 Walking Shoes</td>\n",
       "    </tr>\n",
       "    <tr>\n",
       "      <th>1</th>\n",
       "      <td>Nike</td>\n",
       "      <td>Rs. 10495</td>\n",
       "      <td>Women Pegasus 39 Running Shoes</td>\n",
       "    </tr>\n",
       "    <tr>\n",
       "      <th>2</th>\n",
       "      <td>UNDER ARMOUR</td>\n",
       "      <td>Rs. 8999</td>\n",
       "      <td>Men UA Charged Breeze Training</td>\n",
       "    </tr>\n",
       "    <tr>\n",
       "      <th>3</th>\n",
       "      <td>UNDER ARMOUR</td>\n",
       "      <td>Rs. 7999</td>\n",
       "      <td>Men UA Charged Vantage 2 Run</td>\n",
       "    </tr>\n",
       "    <tr>\n",
       "      <th>4</th>\n",
       "      <td>Geox</td>\n",
       "      <td>Rs. 9341Rs. 10990(15% OFF)</td>\n",
       "      <td>Men Leather Loafers</td>\n",
       "    </tr>\n",
       "    <tr>\n",
       "      <th>...</th>\n",
       "      <td>...</td>\n",
       "      <td>...</td>\n",
       "      <td>...</td>\n",
       "    </tr>\n",
       "    <tr>\n",
       "      <th>95</th>\n",
       "      <td>Geox</td>\n",
       "      <td>Rs. 7641Rs. 8490(10% OFF)</td>\n",
       "      <td>Women Solid Wedges</td>\n",
       "    </tr>\n",
       "    <tr>\n",
       "      <th>96</th>\n",
       "      <td>Geox</td>\n",
       "      <td>Rs. 8242Rs. 10990(25% OFF)</td>\n",
       "      <td>Women Solid Leather Pumps</td>\n",
       "    </tr>\n",
       "    <tr>\n",
       "      <th>97</th>\n",
       "      <td>Geox</td>\n",
       "      <td>Rs. 10791Rs. 11990(10% OFF)</td>\n",
       "      <td>Women Leather Solid Pumps</td>\n",
       "    </tr>\n",
       "    <tr>\n",
       "      <th>98</th>\n",
       "      <td>Geox</td>\n",
       "      <td>Rs. 10492Rs. 13990(25% OFF)</td>\n",
       "      <td>Men Printed Slip-On Sneakers</td>\n",
       "    </tr>\n",
       "    <tr>\n",
       "      <th>99</th>\n",
       "      <td>Geox</td>\n",
       "      <td>Rs. 8091Rs. 8990(10% OFF)</td>\n",
       "      <td>Women Solid Leather Heels</td>\n",
       "    </tr>\n",
       "  </tbody>\n",
       "</table>\n",
       "<p>100 rows × 3 columns</p>\n",
       "</div>"
      ],
      "text/plain": [
       "           brand                        price                     description\n",
       "0       Skechers                     Rs. 8499     Men Go Walk 5 Walking Shoes\n",
       "1           Nike                    Rs. 10495  Women Pegasus 39 Running Shoes\n",
       "2   UNDER ARMOUR                     Rs. 8999  Men UA Charged Breeze Training\n",
       "3   UNDER ARMOUR                     Rs. 7999    Men UA Charged Vantage 2 Run\n",
       "4           Geox   Rs. 9341Rs. 10990(15% OFF)             Men Leather Loafers\n",
       "..           ...                          ...                             ...\n",
       "95          Geox    Rs. 7641Rs. 8490(10% OFF)              Women Solid Wedges\n",
       "96          Geox   Rs. 8242Rs. 10990(25% OFF)       Women Solid Leather Pumps\n",
       "97          Geox  Rs. 10791Rs. 11990(10% OFF)       Women Leather Solid Pumps\n",
       "98          Geox  Rs. 10492Rs. 13990(25% OFF)    Men Printed Slip-On Sneakers\n",
       "99          Geox    Rs. 8091Rs. 8990(10% OFF)       Women Solid Leather Heels\n",
       "\n",
       "[100 rows x 3 columns]"
      ]
     },
     "execution_count": 55,
     "metadata": {},
     "output_type": "execute_result"
    }
   ],
   "source": [
    "# making a DataFrame\n",
    "df1=pd.DataFrame({'brand':brand,'price':prices,'description':shoe_description})\n",
    "df1"
   ]
  },
  {
   "cell_type": "markdown",
   "id": "1a9b29ea",
   "metadata": {},
   "source": [
    "## ANS 3"
   ]
  },
  {
   "cell_type": "code",
   "execution_count": 6,
   "id": "a3267fa1",
   "metadata": {},
   "outputs": [],
   "source": [
    "driver.get(\"https://www.naukri.com/\")"
   ]
  },
  {
   "cell_type": "code",
   "execution_count": 7,
   "id": "c3eed979",
   "metadata": {},
   "outputs": [],
   "source": [
    "search_field_products=driver.find_element_by_class_name(\"suggestor-input \")\n",
    "search_field_products.send_keys(\"Data Scientist\")"
   ]
  },
  {
   "cell_type": "code",
   "execution_count": 8,
   "id": "2c060ca7",
   "metadata": {},
   "outputs": [],
   "source": [
    "search_button=driver.find_element_by_xpath(\"/html/body/div/div[2]/div[3]/div/div/div[6]\")\n",
    "search_button.click()"
   ]
  },
  {
   "cell_type": "code",
   "execution_count": 9,
   "id": "0f79dde2",
   "metadata": {},
   "outputs": [],
   "source": [
    "tap_button=driver.find_element_by_xpath(\"/html/body/div[1]/div[3]/div[2]/section[1]/div[2]/div[6]/div[2]/div[2]/label/i\")\n",
    "tap_button.click()"
   ]
  },
  {
   "cell_type": "code",
   "execution_count": 10,
   "id": "68146ed1",
   "metadata": {},
   "outputs": [],
   "source": [
    "tap_button=driver.find_element_by_xpath(\"/html/body/div[1]/div[3]/div[2]/section[1]/div[2]/div[3]/div[2]/div[3]/label/i\")\n",
    "tap_button.click()"
   ]
  },
  {
   "cell_type": "code",
   "execution_count": 17,
   "id": "8f861bfc",
   "metadata": {},
   "outputs": [],
   "source": [
    "job_title=[] \n",
    "job_location=[]\n",
    "company_name=[]\n",
    "experience_required=[]"
   ]
  },
  {
   "cell_type": "code",
   "execution_count": 18,
   "id": "5bdad72d",
   "metadata": {},
   "outputs": [
    {
     "data": {
      "text/plain": [
       "[<selenium.webdriver.remote.webelement.WebElement (session=\"63ccfbc125c3fb6bf210ba248054f278\", element=\"cc9558ca-54ad-460d-8e47-21eed1f3e9eb\")>,\n",
       " <selenium.webdriver.remote.webelement.WebElement (session=\"63ccfbc125c3fb6bf210ba248054f278\", element=\"70d0cb0f-2b54-4160-b0c9-a4e111c7f24a\")>,\n",
       " <selenium.webdriver.remote.webelement.WebElement (session=\"63ccfbc125c3fb6bf210ba248054f278\", element=\"e577eba8-0683-4306-8153-77e902225ad9\")>,\n",
       " <selenium.webdriver.remote.webelement.WebElement (session=\"63ccfbc125c3fb6bf210ba248054f278\", element=\"32db7a79-68b9-4876-85ef-b0d1f4e742b0\")>,\n",
       " <selenium.webdriver.remote.webelement.WebElement (session=\"63ccfbc125c3fb6bf210ba248054f278\", element=\"bf35009a-11ce-4261-9609-33c686ff917c\")>,\n",
       " <selenium.webdriver.remote.webelement.WebElement (session=\"63ccfbc125c3fb6bf210ba248054f278\", element=\"4e64b549-f934-45df-a357-a77f1b305c2c\")>,\n",
       " <selenium.webdriver.remote.webelement.WebElement (session=\"63ccfbc125c3fb6bf210ba248054f278\", element=\"094ccfde-994b-4769-b5f6-3b78357d1735\")>,\n",
       " <selenium.webdriver.remote.webelement.WebElement (session=\"63ccfbc125c3fb6bf210ba248054f278\", element=\"612a8999-5efa-48ee-871f-f761ec518a7c\")>,\n",
       " <selenium.webdriver.remote.webelement.WebElement (session=\"63ccfbc125c3fb6bf210ba248054f278\", element=\"9cc2d7fa-02d7-439e-8be0-d623b67b8f1d\")>,\n",
       " <selenium.webdriver.remote.webelement.WebElement (session=\"63ccfbc125c3fb6bf210ba248054f278\", element=\"0f1dc298-66c7-423b-a9db-7af591794547\")>]"
      ]
     },
     "execution_count": 18,
     "metadata": {},
     "output_type": "execute_result"
    }
   ],
   "source": [
    "title_tags=driver.find_elements_by_xpath(\"//a[@class='title fw500 ellipsis']\")\n",
    "title_tags[0:10]"
   ]
  },
  {
   "cell_type": "code",
   "execution_count": 19,
   "id": "6a2cb3d8",
   "metadata": {},
   "outputs": [
    {
     "data": {
      "text/plain": [
       "['Job Opening with Wipro For Data Scientist position',\n",
       " 'Data Scientist - Machine learning AI',\n",
       " 'Data Scientist -Machine Learning with Python',\n",
       " 'Data Scientist',\n",
       " 'Data Scientist - MIND Infotech',\n",
       " 'Data Scientist - MIND Infotech',\n",
       " 'Data Scientist - Predictive Analytics',\n",
       " 'Data Scientist - Internet Jobs - II',\n",
       " 'Machine Learning Engineer | Data Engineer | Data Scientist',\n",
       " 'Dot Net Developer']"
      ]
     },
     "execution_count": 19,
     "metadata": {},
     "output_type": "execute_result"
    }
   ],
   "source": [
    "for i in title_tags:\n",
    "    titles=i.text\n",
    "    job_title.append(titles)\n",
    "job_title[0:10]"
   ]
  },
  {
   "cell_type": "code",
   "execution_count": 22,
   "id": "fdd7202a",
   "metadata": {},
   "outputs": [
    {
     "data": {
      "text/plain": [
       "[<selenium.webdriver.remote.webelement.WebElement (session=\"63ccfbc125c3fb6bf210ba248054f278\", element=\"1ed4f0f6-7d70-480a-b4eb-44bd483efa2b\")>,\n",
       " <selenium.webdriver.remote.webelement.WebElement (session=\"63ccfbc125c3fb6bf210ba248054f278\", element=\"ab681efb-7772-4f38-9c62-5f2444f992c5\")>,\n",
       " <selenium.webdriver.remote.webelement.WebElement (session=\"63ccfbc125c3fb6bf210ba248054f278\", element=\"da9eee56-a1e2-4578-9ea4-bdf3bff2c6ea\")>,\n",
       " <selenium.webdriver.remote.webelement.WebElement (session=\"63ccfbc125c3fb6bf210ba248054f278\", element=\"95705a25-900f-422e-867a-83729c90a30d\")>,\n",
       " <selenium.webdriver.remote.webelement.WebElement (session=\"63ccfbc125c3fb6bf210ba248054f278\", element=\"fbf198f8-2ba0-451a-913e-51eb1ec4bf9a\")>,\n",
       " <selenium.webdriver.remote.webelement.WebElement (session=\"63ccfbc125c3fb6bf210ba248054f278\", element=\"73ce4217-3044-4130-8276-1f040e2966a6\")>,\n",
       " <selenium.webdriver.remote.webelement.WebElement (session=\"63ccfbc125c3fb6bf210ba248054f278\", element=\"36964502-0026-4440-90a8-e8105a12e5ef\")>,\n",
       " <selenium.webdriver.remote.webelement.WebElement (session=\"63ccfbc125c3fb6bf210ba248054f278\", element=\"39aeee3e-a69a-4f26-9624-c1c34829ce8c\")>,\n",
       " <selenium.webdriver.remote.webelement.WebElement (session=\"63ccfbc125c3fb6bf210ba248054f278\", element=\"edc2de7b-01a3-4938-8e19-ab5533686947\")>,\n",
       " <selenium.webdriver.remote.webelement.WebElement (session=\"63ccfbc125c3fb6bf210ba248054f278\", element=\"c19d478d-c6ab-498f-a144-25c93cff2e33\")>]"
      ]
     },
     "execution_count": 22,
     "metadata": {},
     "output_type": "execute_result"
    }
   ],
   "source": [
    "location_tags=driver.find_elements_by_xpath(\"//li[@class='fleft grey-text br2 placeHolderLi location']\")\n",
    "location_tags[0:10]"
   ]
  },
  {
   "cell_type": "code",
   "execution_count": 23,
   "id": "20ac6f5f",
   "metadata": {},
   "outputs": [
    {
     "data": {
      "text/plain": [
       "['Kolkata, Hyderabad/Secunderabad, Chennai, Bangalore/Bengaluru, Delhi / NCR, Mumbai (All Areas)',\n",
       " 'Bangalore/Bengaluru, Delhi / NCR, Mumbai (All Areas)\\n(WFH during Covid)',\n",
       " 'Noida, New Delhi, Gurgaon/Gurugram, Delhi / NCR\\n(WFH during Covid)',\n",
       " 'Pune, Gurgaon/Gurugram, Bangalore/Bengaluru',\n",
       " 'Noida',\n",
       " 'Noida',\n",
       " 'Noida, Mumbai, Chandigarh, Hyderabad/Secunderabad, Pune, Chennai, Gurgaon/Gurugram, Coimbatore, Bangalore/Bengaluru',\n",
       " 'Bangalore/Bengaluru, Delhi / NCR, Mumbai (All Areas)',\n",
       " 'Chennai, Bangalore/Bengaluru, Delhi / NCR(Sector-8 Noida)\\n(WFH during Covid)',\n",
       " 'Gurgaon/Gurugram, Delhi / NCR']"
      ]
     },
     "execution_count": 23,
     "metadata": {},
     "output_type": "execute_result"
    }
   ],
   "source": [
    "for i in location_tags:\n",
    "    location=i.text\n",
    "    job_location.append(location)\n",
    "job_location[0:10]    \n",
    "    "
   ]
  },
  {
   "cell_type": "code",
   "execution_count": 25,
   "id": "e6d1e8a4",
   "metadata": {},
   "outputs": [
    {
     "data": {
      "text/plain": [
       "[<selenium.webdriver.remote.webelement.WebElement (session=\"63ccfbc125c3fb6bf210ba248054f278\", element=\"f2f7d098-b08e-4dd8-8383-bcdd5ea01a1e\")>,\n",
       " <selenium.webdriver.remote.webelement.WebElement (session=\"63ccfbc125c3fb6bf210ba248054f278\", element=\"e3922acd-8329-47c1-ae84-0dcbc95454f3\")>,\n",
       " <selenium.webdriver.remote.webelement.WebElement (session=\"63ccfbc125c3fb6bf210ba248054f278\", element=\"a4b5da89-ef76-4334-8658-3862dd2d489a\")>,\n",
       " <selenium.webdriver.remote.webelement.WebElement (session=\"63ccfbc125c3fb6bf210ba248054f278\", element=\"4317321e-07b4-4682-9dad-bd5ef68b8311\")>,\n",
       " <selenium.webdriver.remote.webelement.WebElement (session=\"63ccfbc125c3fb6bf210ba248054f278\", element=\"8aca77d4-d548-4284-a094-8ba480e9019f\")>,\n",
       " <selenium.webdriver.remote.webelement.WebElement (session=\"63ccfbc125c3fb6bf210ba248054f278\", element=\"1091838a-9cd9-45f4-9a5b-014286e24a17\")>,\n",
       " <selenium.webdriver.remote.webelement.WebElement (session=\"63ccfbc125c3fb6bf210ba248054f278\", element=\"56fb5387-a8eb-4a24-9b19-ce830110a594\")>,\n",
       " <selenium.webdriver.remote.webelement.WebElement (session=\"63ccfbc125c3fb6bf210ba248054f278\", element=\"aa5b1300-638e-41ee-8c49-f355bd46c749\")>,\n",
       " <selenium.webdriver.remote.webelement.WebElement (session=\"63ccfbc125c3fb6bf210ba248054f278\", element=\"e9770987-257d-4b3f-bf3b-f1df3ebdb51a\")>,\n",
       " <selenium.webdriver.remote.webelement.WebElement (session=\"63ccfbc125c3fb6bf210ba248054f278\", element=\"66a3757e-cf17-4495-ad44-49bb6d80c0b3\")>]"
      ]
     },
     "execution_count": 25,
     "metadata": {},
     "output_type": "execute_result"
    }
   ],
   "source": [
    "company_tags=driver.find_elements_by_xpath(\"//a[@class='subTitle ellipsis fleft']\")\n",
    "company_tags[0:10]"
   ]
  },
  {
   "cell_type": "code",
   "execution_count": 26,
   "id": "a011390a",
   "metadata": {},
   "outputs": [
    {
     "data": {
      "text/plain": [
       "['Wipro',\n",
       " 'Teq Analytics',\n",
       " 'Genpact',\n",
       " 'SS Supply Chain Solutions Pvt. Ltd. (3SC)',\n",
       " 'MOTHERSONSUMI INFOTECH & DESIGNS LIMITED',\n",
       " 'MOTHERSONSUMI INFOTECH & DESIGNS LIMITED',\n",
       " 'Confidential',\n",
       " 'Jobs Territory',\n",
       " 'Tidyquant (OPC) Private Limited',\n",
       " 'Nibha Infotech Private Limited',\n",
       " 'Nibha Infotech Private Limited',\n",
       " 'Mount Talent Consulting Private Limited',\n",
       " 'Om Software Internet Solutions Private Limited',\n",
       " 'KREATE ENERGY (I) PRIVATE LIMITED',\n",
       " 'Redian Software Private Limited',\n",
       " 'B4S Solutions Pvt Ltd',\n",
       " 'WEGARNER SOLUTIONS PRIVATE LIMITED',\n",
       " 'Mascot e-services',\n",
       " 'Shadow Placements',\n",
       " 'The Search House (A Div of JSD Search House Pvt. L td.)']"
      ]
     },
     "execution_count": 26,
     "metadata": {},
     "output_type": "execute_result"
    }
   ],
   "source": [
    "for i in company_tags:\n",
    "    company=i.text\n",
    "    company_name.append(company)\n",
    "company_name    "
   ]
  },
  {
   "cell_type": "code",
   "execution_count": 27,
   "id": "07ee0d52",
   "metadata": {},
   "outputs": [
    {
     "data": {
      "text/plain": [
       "['Wipro',\n",
       " 'Teq Analytics',\n",
       " 'Genpact',\n",
       " 'SS Supply Chain Solutions Pvt. Ltd. (3SC)',\n",
       " 'MOTHERSONSUMI INFOTECH & DESIGNS LIMITED',\n",
       " 'MOTHERSONSUMI INFOTECH & DESIGNS LIMITED',\n",
       " 'Confidential',\n",
       " 'Jobs Territory',\n",
       " 'Tidyquant (OPC) Private Limited',\n",
       " 'Nibha Infotech Private Limited']"
      ]
     },
     "execution_count": 27,
     "metadata": {},
     "output_type": "execute_result"
    }
   ],
   "source": [
    "company_name[0:10]"
   ]
  },
  {
   "cell_type": "code",
   "execution_count": 28,
   "id": "2dd87870",
   "metadata": {},
   "outputs": [
    {
     "data": {
      "text/plain": [
       "[<selenium.webdriver.remote.webelement.WebElement (session=\"63ccfbc125c3fb6bf210ba248054f278\", element=\"ea31936b-14e5-4a91-88e4-fe4e597a588e\")>,\n",
       " <selenium.webdriver.remote.webelement.WebElement (session=\"63ccfbc125c3fb6bf210ba248054f278\", element=\"89945953-60ec-4666-add3-ba50dd2edb48\")>,\n",
       " <selenium.webdriver.remote.webelement.WebElement (session=\"63ccfbc125c3fb6bf210ba248054f278\", element=\"fdb3ce0a-9056-4146-ad24-550538c6a755\")>,\n",
       " <selenium.webdriver.remote.webelement.WebElement (session=\"63ccfbc125c3fb6bf210ba248054f278\", element=\"4794d4cf-10b2-48f5-a780-0e84aa2865b2\")>,\n",
       " <selenium.webdriver.remote.webelement.WebElement (session=\"63ccfbc125c3fb6bf210ba248054f278\", element=\"ec539d48-f46c-4093-ad96-1872939c8ee7\")>,\n",
       " <selenium.webdriver.remote.webelement.WebElement (session=\"63ccfbc125c3fb6bf210ba248054f278\", element=\"5cee3156-958a-4561-a1b7-aee699ffc268\")>,\n",
       " <selenium.webdriver.remote.webelement.WebElement (session=\"63ccfbc125c3fb6bf210ba248054f278\", element=\"db60a78b-65f4-441a-aa26-3ac1658149eb\")>,\n",
       " <selenium.webdriver.remote.webelement.WebElement (session=\"63ccfbc125c3fb6bf210ba248054f278\", element=\"8d1c53c8-ae86-4ac5-9271-78efef096fc8\")>,\n",
       " <selenium.webdriver.remote.webelement.WebElement (session=\"63ccfbc125c3fb6bf210ba248054f278\", element=\"82f2f1f0-92a7-4225-be88-f98182a1c328\")>,\n",
       " <selenium.webdriver.remote.webelement.WebElement (session=\"63ccfbc125c3fb6bf210ba248054f278\", element=\"6daa4f02-4b33-46fa-9a89-14b50dc5c7ef\")>]"
      ]
     },
     "execution_count": 28,
     "metadata": {},
     "output_type": "execute_result"
    }
   ],
   "source": [
    "experience_tags=driver.find_elements_by_xpath(\"//li[@class='fleft grey-text br2 placeHolderLi experience']\")\n",
    "experience_tags[0:10]"
   ]
  },
  {
   "cell_type": "code",
   "execution_count": 29,
   "id": "67893dbb",
   "metadata": {},
   "outputs": [
    {
     "data": {
      "text/plain": [
       "['2-7 Yrs',\n",
       " '3-8 Yrs',\n",
       " '1-4 Yrs',\n",
       " '2-5 Yrs',\n",
       " '4-8 Yrs',\n",
       " '4-8 Yrs',\n",
       " '1-6 Yrs',\n",
       " '3-6 Yrs',\n",
       " '1-3 Yrs',\n",
       " '3-8 Yrs']"
      ]
     },
     "execution_count": 29,
     "metadata": {},
     "output_type": "execute_result"
    }
   ],
   "source": [
    "for i in experience_tags:\n",
    "    experience=i.text\n",
    "    experience_required.append(experience)\n",
    "experience_required[0:10]    "
   ]
  },
  {
   "cell_type": "code",
   "execution_count": 30,
   "id": "ed997f82",
   "metadata": {},
   "outputs": [
    {
     "data": {
      "text/html": [
       "<div>\n",
       "<style scoped>\n",
       "    .dataframe tbody tr th:only-of-type {\n",
       "        vertical-align: middle;\n",
       "    }\n",
       "\n",
       "    .dataframe tbody tr th {\n",
       "        vertical-align: top;\n",
       "    }\n",
       "\n",
       "    .dataframe thead th {\n",
       "        text-align: right;\n",
       "    }\n",
       "</style>\n",
       "<table border=\"1\" class=\"dataframe\">\n",
       "  <thead>\n",
       "    <tr style=\"text-align: right;\">\n",
       "      <th></th>\n",
       "      <th>job_title</th>\n",
       "      <th>Location</th>\n",
       "      <th>Company</th>\n",
       "      <th>experience</th>\n",
       "    </tr>\n",
       "  </thead>\n",
       "  <tbody>\n",
       "    <tr>\n",
       "      <th>0</th>\n",
       "      <td>Job Opening with Wipro For Data Scientist posi...</td>\n",
       "      <td>Kolkata, Hyderabad/Secunderabad, Chennai, Bang...</td>\n",
       "      <td>Wipro</td>\n",
       "      <td>2-7 Yrs</td>\n",
       "    </tr>\n",
       "    <tr>\n",
       "      <th>1</th>\n",
       "      <td>Data Scientist - Machine learning AI</td>\n",
       "      <td>Bangalore/Bengaluru, Delhi / NCR, Mumbai (All ...</td>\n",
       "      <td>Teq Analytics</td>\n",
       "      <td>3-8 Yrs</td>\n",
       "    </tr>\n",
       "    <tr>\n",
       "      <th>2</th>\n",
       "      <td>Data Scientist -Machine Learning with Python</td>\n",
       "      <td>Noida, New Delhi, Gurgaon/Gurugram, Delhi / NC...</td>\n",
       "      <td>Genpact</td>\n",
       "      <td>1-4 Yrs</td>\n",
       "    </tr>\n",
       "    <tr>\n",
       "      <th>3</th>\n",
       "      <td>Data Scientist</td>\n",
       "      <td>Pune, Gurgaon/Gurugram, Bangalore/Bengaluru</td>\n",
       "      <td>SS Supply Chain Solutions Pvt. Ltd. (3SC)</td>\n",
       "      <td>2-5 Yrs</td>\n",
       "    </tr>\n",
       "    <tr>\n",
       "      <th>4</th>\n",
       "      <td>Data Scientist - MIND Infotech</td>\n",
       "      <td>Noida</td>\n",
       "      <td>MOTHERSONSUMI INFOTECH &amp; DESIGNS LIMITED</td>\n",
       "      <td>4-8 Yrs</td>\n",
       "    </tr>\n",
       "    <tr>\n",
       "      <th>5</th>\n",
       "      <td>Data Scientist - MIND Infotech</td>\n",
       "      <td>Noida</td>\n",
       "      <td>MOTHERSONSUMI INFOTECH &amp; DESIGNS LIMITED</td>\n",
       "      <td>4-8 Yrs</td>\n",
       "    </tr>\n",
       "    <tr>\n",
       "      <th>6</th>\n",
       "      <td>Data Scientist - Predictive Analytics</td>\n",
       "      <td>Noida, Mumbai, Chandigarh, Hyderabad/Secundera...</td>\n",
       "      <td>Confidential</td>\n",
       "      <td>1-6 Yrs</td>\n",
       "    </tr>\n",
       "    <tr>\n",
       "      <th>7</th>\n",
       "      <td>Data Scientist - Internet Jobs - II</td>\n",
       "      <td>Bangalore/Bengaluru, Delhi / NCR, Mumbai (All ...</td>\n",
       "      <td>Jobs Territory</td>\n",
       "      <td>3-6 Yrs</td>\n",
       "    </tr>\n",
       "    <tr>\n",
       "      <th>8</th>\n",
       "      <td>Machine Learning Engineer | Data Engineer | Da...</td>\n",
       "      <td>Chennai, Bangalore/Bengaluru, Delhi / NCR(Sect...</td>\n",
       "      <td>Tidyquant (OPC) Private Limited</td>\n",
       "      <td>1-3 Yrs</td>\n",
       "    </tr>\n",
       "    <tr>\n",
       "      <th>9</th>\n",
       "      <td>Dot Net Developer</td>\n",
       "      <td>Gurgaon/Gurugram, Delhi / NCR</td>\n",
       "      <td>Nibha Infotech Private Limited</td>\n",
       "      <td>3-8 Yrs</td>\n",
       "    </tr>\n",
       "    <tr>\n",
       "      <th>10</th>\n",
       "      <td>Data Scientists</td>\n",
       "      <td>Gurgaon/Gurugram</td>\n",
       "      <td>Nibha Infotech Private Limited</td>\n",
       "      <td>5-8 Yrs</td>\n",
       "    </tr>\n",
       "    <tr>\n",
       "      <th>11</th>\n",
       "      <td>Data Science - Immediate Joiner - Pune, Noida,...</td>\n",
       "      <td>Noida, Pune, Gurgaon/Gurugram, Bangalore/Benga...</td>\n",
       "      <td>Mount Talent Consulting Private Limited</td>\n",
       "      <td>4-8 Yrs</td>\n",
       "    </tr>\n",
       "    <tr>\n",
       "      <th>12</th>\n",
       "      <td>Data Scientist (Python) Immediate Joiners</td>\n",
       "      <td>Noida, Pune, Ahmedabad</td>\n",
       "      <td>Om Software Internet Solutions Private Limited</td>\n",
       "      <td>1-4 Yrs</td>\n",
       "    </tr>\n",
       "    <tr>\n",
       "      <th>13</th>\n",
       "      <td>Data Science Associate</td>\n",
       "      <td>Delhi / NCR(Vaishali)</td>\n",
       "      <td>KREATE ENERGY (I) PRIVATE LIMITED</td>\n",
       "      <td>2-4 Yrs</td>\n",
       "    </tr>\n",
       "    <tr>\n",
       "      <th>14</th>\n",
       "      <td>Data Scientist (4-8 Years)</td>\n",
       "      <td>Gurgaon/Gurugram, Delhi / NCR</td>\n",
       "      <td>Redian Software Private Limited</td>\n",
       "      <td>4-8 Yrs</td>\n",
       "    </tr>\n",
       "    <tr>\n",
       "      <th>15</th>\n",
       "      <td>Sr.Data Science Analyst || Exp- 7+ yrs || Delh...</td>\n",
       "      <td>Delhi / NCR(Sultanpur)</td>\n",
       "      <td>B4S Solutions Pvt Ltd</td>\n",
       "      <td>7-10 Yrs</td>\n",
       "    </tr>\n",
       "    <tr>\n",
       "      <th>16</th>\n",
       "      <td>Data Scientist / Sr. Data Scientist</td>\n",
       "      <td>Noida</td>\n",
       "      <td>WEGARNER SOLUTIONS PRIVATE LIMITED</td>\n",
       "      <td>2-7 Yrs</td>\n",
       "    </tr>\n",
       "    <tr>\n",
       "      <th>17</th>\n",
       "      <td>Hiring For Data Science- Gurgaon/ Noida</td>\n",
       "      <td>Noida, Gurgaon/Gurugram</td>\n",
       "      <td>Mascot e-services</td>\n",
       "      <td>6-10 Yrs</td>\n",
       "    </tr>\n",
       "    <tr>\n",
       "      <th>18</th>\n",
       "      <td>Hiring For Data Scientist For Gurgaon Location</td>\n",
       "      <td>Noida, Gurgaon/Gurugram, Delhi / NCR</td>\n",
       "      <td>Shadow Placements</td>\n",
       "      <td>4-7 Yrs</td>\n",
       "    </tr>\n",
       "    <tr>\n",
       "      <th>19</th>\n",
       "      <td>Data Analyst (Data Sets, Statistical Models) -...</td>\n",
       "      <td>Gurgaon/Gurugram</td>\n",
       "      <td>The Search House (A Div of JSD Search House Pv...</td>\n",
       "      <td>3-8 Yrs</td>\n",
       "    </tr>\n",
       "  </tbody>\n",
       "</table>\n",
       "</div>"
      ],
      "text/plain": [
       "                                            job_title  \\\n",
       "0   Job Opening with Wipro For Data Scientist posi...   \n",
       "1                Data Scientist - Machine learning AI   \n",
       "2        Data Scientist -Machine Learning with Python   \n",
       "3                                      Data Scientist   \n",
       "4                      Data Scientist - MIND Infotech   \n",
       "5                      Data Scientist - MIND Infotech   \n",
       "6               Data Scientist - Predictive Analytics   \n",
       "7                 Data Scientist - Internet Jobs - II   \n",
       "8   Machine Learning Engineer | Data Engineer | Da...   \n",
       "9                                   Dot Net Developer   \n",
       "10                                    Data Scientists   \n",
       "11  Data Science - Immediate Joiner - Pune, Noida,...   \n",
       "12          Data Scientist (Python) Immediate Joiners   \n",
       "13                             Data Science Associate   \n",
       "14                         Data Scientist (4-8 Years)   \n",
       "15  Sr.Data Science Analyst || Exp- 7+ yrs || Delh...   \n",
       "16                Data Scientist / Sr. Data Scientist   \n",
       "17            Hiring For Data Science- Gurgaon/ Noida   \n",
       "18     Hiring For Data Scientist For Gurgaon Location   \n",
       "19  Data Analyst (Data Sets, Statistical Models) -...   \n",
       "\n",
       "                                             Location  \\\n",
       "0   Kolkata, Hyderabad/Secunderabad, Chennai, Bang...   \n",
       "1   Bangalore/Bengaluru, Delhi / NCR, Mumbai (All ...   \n",
       "2   Noida, New Delhi, Gurgaon/Gurugram, Delhi / NC...   \n",
       "3         Pune, Gurgaon/Gurugram, Bangalore/Bengaluru   \n",
       "4                                               Noida   \n",
       "5                                               Noida   \n",
       "6   Noida, Mumbai, Chandigarh, Hyderabad/Secundera...   \n",
       "7   Bangalore/Bengaluru, Delhi / NCR, Mumbai (All ...   \n",
       "8   Chennai, Bangalore/Bengaluru, Delhi / NCR(Sect...   \n",
       "9                       Gurgaon/Gurugram, Delhi / NCR   \n",
       "10                                   Gurgaon/Gurugram   \n",
       "11  Noida, Pune, Gurgaon/Gurugram, Bangalore/Benga...   \n",
       "12                             Noida, Pune, Ahmedabad   \n",
       "13                              Delhi / NCR(Vaishali)   \n",
       "14                      Gurgaon/Gurugram, Delhi / NCR   \n",
       "15                             Delhi / NCR(Sultanpur)   \n",
       "16                                              Noida   \n",
       "17                            Noida, Gurgaon/Gurugram   \n",
       "18               Noida, Gurgaon/Gurugram, Delhi / NCR   \n",
       "19                                   Gurgaon/Gurugram   \n",
       "\n",
       "                                              Company experience  \n",
       "0                                               Wipro    2-7 Yrs  \n",
       "1                                       Teq Analytics    3-8 Yrs  \n",
       "2                                             Genpact    1-4 Yrs  \n",
       "3           SS Supply Chain Solutions Pvt. Ltd. (3SC)    2-5 Yrs  \n",
       "4            MOTHERSONSUMI INFOTECH & DESIGNS LIMITED    4-8 Yrs  \n",
       "5            MOTHERSONSUMI INFOTECH & DESIGNS LIMITED    4-8 Yrs  \n",
       "6                                        Confidential    1-6 Yrs  \n",
       "7                                      Jobs Territory    3-6 Yrs  \n",
       "8                     Tidyquant (OPC) Private Limited    1-3 Yrs  \n",
       "9                      Nibha Infotech Private Limited    3-8 Yrs  \n",
       "10                     Nibha Infotech Private Limited    5-8 Yrs  \n",
       "11            Mount Talent Consulting Private Limited    4-8 Yrs  \n",
       "12     Om Software Internet Solutions Private Limited    1-4 Yrs  \n",
       "13                  KREATE ENERGY (I) PRIVATE LIMITED    2-4 Yrs  \n",
       "14                    Redian Software Private Limited    4-8 Yrs  \n",
       "15                              B4S Solutions Pvt Ltd   7-10 Yrs  \n",
       "16                 WEGARNER SOLUTIONS PRIVATE LIMITED    2-7 Yrs  \n",
       "17                                  Mascot e-services   6-10 Yrs  \n",
       "18                                  Shadow Placements    4-7 Yrs  \n",
       "19  The Search House (A Div of JSD Search House Pv...    3-8 Yrs  "
      ]
     },
     "execution_count": 30,
     "metadata": {},
     "output_type": "execute_result"
    }
   ],
   "source": [
    "df=pd.DataFrame({'job_title':job_title,'Location':job_location,'Company':company_name,'experience':experience_required})\n",
    "df"
   ]
  },
  {
   "cell_type": "markdown",
   "id": "efa53747",
   "metadata": {},
   "source": [
    "## ANS 8"
   ]
  },
  {
   "cell_type": "code",
   "execution_count": 30,
   "id": "b692167f",
   "metadata": {},
   "outputs": [],
   "source": [
    "driver.get(\"https://www.amazon.in/\")"
   ]
  },
  {
   "cell_type": "code",
   "execution_count": 31,
   "id": "ce11b90a",
   "metadata": {},
   "outputs": [],
   "source": [
    "search_field_product=driver.find_element_by_xpath(\"/html/body/div[1]/header/div/div[1]/div[2]/div/form/div[2]/div[1]/input \")\n",
    "search_field_product.send_keys(\"Laptop\")"
   ]
  },
  {
   "cell_type": "code",
   "execution_count": 32,
   "id": "ba10bfc1",
   "metadata": {},
   "outputs": [],
   "source": [
    "search_button=driver.find_element_by_xpath(\"/html/body/div[1]/header/div/div[1]/div[2]/div/form/div[3]/div/span/input\")\n",
    "search_button.click()"
   ]
  },
  {
   "cell_type": "code",
   "execution_count": 33,
   "id": "7fae2b65",
   "metadata": {},
   "outputs": [],
   "source": [
    "tap_button=driver.find_element_by_xpath(\"/html/body/div[1]/div[2]/div[1]/div[2]/div/div[3]/span/div[1]/div/div/div[5]/ul[4]/li[13]/span/a/div/label/i\")\n",
    "tap_button.click()"
   ]
  },
  {
   "cell_type": "code",
   "execution_count": 34,
   "id": "01aa1454",
   "metadata": {},
   "outputs": [],
   "source": [
    "# making a empty list\n",
    "title=[]\n",
    "ratings=[]\n",
    "price=[]\n"
   ]
  },
  {
   "cell_type": "code",
   "execution_count": 35,
   "id": "8607c040",
   "metadata": {},
   "outputs": [
    {
     "data": {
      "text/plain": [
       "[<selenium.webdriver.remote.webelement.WebElement (session=\"f517f19fb38890d69eab44a9a8d2aa00\", element=\"51af2b56-3ef4-4b2e-ac40-afe04f61b6b4\")>,\n",
       " <selenium.webdriver.remote.webelement.WebElement (session=\"f517f19fb38890d69eab44a9a8d2aa00\", element=\"8b6cf28e-9b7c-4f86-afc6-04c12608edcc\")>,\n",
       " <selenium.webdriver.remote.webelement.WebElement (session=\"f517f19fb38890d69eab44a9a8d2aa00\", element=\"81b7a4bb-8b43-4022-84db-6b576a0d9b25\")>,\n",
       " <selenium.webdriver.remote.webelement.WebElement (session=\"f517f19fb38890d69eab44a9a8d2aa00\", element=\"36995e1d-1385-4f30-bde0-2600462e3e68\")>,\n",
       " <selenium.webdriver.remote.webelement.WebElement (session=\"f517f19fb38890d69eab44a9a8d2aa00\", element=\"2324b148-1d99-4310-a27e-f3071e6ad430\")>,\n",
       " <selenium.webdriver.remote.webelement.WebElement (session=\"f517f19fb38890d69eab44a9a8d2aa00\", element=\"ce6366ce-0ace-4c3a-89b3-0fc54dd07611\")>,\n",
       " <selenium.webdriver.remote.webelement.WebElement (session=\"f517f19fb38890d69eab44a9a8d2aa00\", element=\"105de873-7744-475a-82c5-21fb98cb43a3\")>,\n",
       " <selenium.webdriver.remote.webelement.WebElement (session=\"f517f19fb38890d69eab44a9a8d2aa00\", element=\"6bc3b01a-6012-4ce2-875e-3e77d34ab308\")>,\n",
       " <selenium.webdriver.remote.webelement.WebElement (session=\"f517f19fb38890d69eab44a9a8d2aa00\", element=\"863e13ad-290e-4644-ac48-4bc7257acaa2\")>,\n",
       " <selenium.webdriver.remote.webelement.WebElement (session=\"f517f19fb38890d69eab44a9a8d2aa00\", element=\"6c944d77-048c-4afe-8230-2f476b612b3d\")>]"
      ]
     },
     "execution_count": 35,
     "metadata": {},
     "output_type": "execute_result"
    }
   ],
   "source": [
    "title_tags=driver.find_elements_by_xpath(\"//span[@class='a-size-medium a-color-base a-text-normal']\")\n",
    "title_tags[0:10]"
   ]
  },
  {
   "cell_type": "code",
   "execution_count": 36,
   "id": "293c8f84",
   "metadata": {},
   "outputs": [
    {
     "data": {
      "text/plain": [
       "['LG Gram 16 Intel Evo 11th Gen i7 Thin & Light Laptop 2K+ IPS 16:10 Display [16 GB RAM/ 512 GB SSD/ Windows 11 / Iris Xe Graphics/ Thunderbolt 4, USC -C x 2 / 1.19 kg, Black/ 3Yr Warranty] 16Z90P',\n",
       " 'LG Gram 17 Intel Evo 11th Gen i7 Thin & Light Laptop 2K+ IPS 16:10 Display [16 GB RAM/ 512 GB SSD/ Windows 11 / Iris Xe Graphics/ Thunderbolt 4/ USC -C x 2 / 1.35 kg, Black/ 3Yr Warranty] 17Z90P',\n",
       " 'ASUS VivoBook 14 (2021), 14-inch (35.56 cms) FHD, Intel Core i7-1065G7 10th Gen, Thin and Light Laptop (16GB/512GB SSD/Integrated Graphics/Office 2021/Windows 11/Silver/1.6 Kg), X415JA-EK701WS',\n",
       " 'Lenovo IdeaPad 5 Pro 11th Gen Intel Core i7 14 inches QHD IPS Thin and Light Laptop (16GB/512GB SSD/Iris Xe Graphics/Windows 11/Office 2021/Backlit/300Nits/Storm Grey/1.41Kg), 82L3006YIN',\n",
       " 'ASUS TUF Gaming F15 (2021), 15.6\" (39.62 cms) FHD 144Hz, Intel Core i7-11600H 11th Gen, 4GB RTX 3050 Graphics, Gaming Laptop (16GB/512GB SSD/Windows 10/Office 2019/Gray/2.3 Kg), FX566HCB-HN299TS',\n",
       " 'HP Pavilion 14 12th Gen Intel Core i7 16GB SDRAM/1TB SSD 14 inch(35.6cm) FHD,IPS,Micro-Edge Display/Intel UHD Graphics/B&O/Win 11/Alexa Built-in/Backlit KB/FPR/MSO 2021/Natural Silver, 14-dv2015TU',\n",
       " 'HP Pavilion x360 11th Gen Intel Core i7 14 inch(35.6 cm) FHD Multitouch 2-in-1 Laptop(16GB RAM/512GB SSD/B&O/Win 11/FPR/Backlit KB/Intel Iris Xe Graphics/Pen/Alexa/MS Office/Silver/1.52Kg) 14-dy1047TU',\n",
       " 'HP Victus 11th Gen Intel Core i7-11800H 16.1-inch(40.9 cm) FHD Gaming Laptop (16GB RAM/512GB SSD/144 Hz/300 nits/7 ms Response time/GeForce RTX 3060 6GB Graphics/Backlit KB/Win 11/MSO), 16-d0361TX',\n",
       " 'ASUS Vivobook X515JA-EJ701WS Intel Core I7-1065G7 15.6 inches FHD 512 GB SSD /16 GB/Windows 11/Office 2019/1Y (Transparent Silver, 2 kg)',\n",
       " 'ASUS Zenbook 14 OLED (2022), 14\" (35.56 cms) 2.8K OLED 16:10 90Hz, Intel Core Evo i7-1260P 12th Gen, Thin and Light Laptop (16GB/512GB SSD/Windows 11/Office 2021/Blue/1.39 kg), UX3402ZA-KM731WS']"
      ]
     },
     "execution_count": 36,
     "metadata": {},
     "output_type": "execute_result"
    }
   ],
   "source": [
    "for i in title_tags:\n",
    "    titles=i.text\n",
    "    title.append(titles)\n",
    "title[0:10]    "
   ]
  },
  {
   "cell_type": "code",
   "execution_count": 37,
   "id": "dad880da",
   "metadata": {},
   "outputs": [
    {
     "data": {
      "text/plain": [
       "['LG Gram 16 Intel Evo 11th Gen i7 Thin & Light Laptop 2K+ IPS 16:10 Display [16 GB RAM/ 512 GB SSD/ Windows 11 / Iris Xe Graphics/ Thunderbolt 4, USC -C x 2 / 1.19 kg, Black/ 3Yr Warranty] 16Z90P',\n",
       " 'LG Gram 17 Intel Evo 11th Gen i7 Thin & Light Laptop 2K+ IPS 16:10 Display [16 GB RAM/ 512 GB SSD/ Windows 11 / Iris Xe Graphics/ Thunderbolt 4/ USC -C x 2 / 1.35 kg, Black/ 3Yr Warranty] 17Z90P',\n",
       " 'ASUS VivoBook 14 (2021), 14-inch (35.56 cms) FHD, Intel Core i7-1065G7 10th Gen, Thin and Light Laptop (16GB/512GB SSD/Integrated Graphics/Office 2021/Windows 11/Silver/1.6 Kg), X415JA-EK701WS',\n",
       " 'Lenovo IdeaPad 5 Pro 11th Gen Intel Core i7 14 inches QHD IPS Thin and Light Laptop (16GB/512GB SSD/Iris Xe Graphics/Windows 11/Office 2021/Backlit/300Nits/Storm Grey/1.41Kg), 82L3006YIN',\n",
       " 'ASUS TUF Gaming F15 (2021), 15.6\" (39.62 cms) FHD 144Hz, Intel Core i7-11600H 11th Gen, 4GB RTX 3050 Graphics, Gaming Laptop (16GB/512GB SSD/Windows 10/Office 2019/Gray/2.3 Kg), FX566HCB-HN299TS',\n",
       " 'HP Pavilion 14 12th Gen Intel Core i7 16GB SDRAM/1TB SSD 14 inch(35.6cm) FHD,IPS,Micro-Edge Display/Intel UHD Graphics/B&O/Win 11/Alexa Built-in/Backlit KB/FPR/MSO 2021/Natural Silver, 14-dv2015TU',\n",
       " 'HP Pavilion x360 11th Gen Intel Core i7 14 inch(35.6 cm) FHD Multitouch 2-in-1 Laptop(16GB RAM/512GB SSD/B&O/Win 11/FPR/Backlit KB/Intel Iris Xe Graphics/Pen/Alexa/MS Office/Silver/1.52Kg) 14-dy1047TU',\n",
       " 'HP Victus 11th Gen Intel Core i7-11800H 16.1-inch(40.9 cm) FHD Gaming Laptop (16GB RAM/512GB SSD/144 Hz/300 nits/7 ms Response time/GeForce RTX 3060 6GB Graphics/Backlit KB/Win 11/MSO), 16-d0361TX',\n",
       " 'ASUS Vivobook X515JA-EJ701WS Intel Core I7-1065G7 15.6 inches FHD 512 GB SSD /16 GB/Windows 11/Office 2019/1Y (Transparent Silver, 2 kg)',\n",
       " 'ASUS Zenbook 14 OLED (2022), 14\" (35.56 cms) 2.8K OLED 16:10 90Hz, Intel Core Evo i7-1260P 12th Gen, Thin and Light Laptop (16GB/512GB SSD/Windows 11/Office 2021/Blue/1.39 kg), UX3402ZA-KM731WS']"
      ]
     },
     "execution_count": 37,
     "metadata": {},
     "output_type": "execute_result"
    }
   ],
   "source": [
    "titles=title[0:10]\n",
    "titles"
   ]
  },
  {
   "cell_type": "code",
   "execution_count": 38,
   "id": "eb462f28",
   "metadata": {},
   "outputs": [
    {
     "data": {
      "text/plain": [
       "[<selenium.webdriver.remote.webelement.WebElement (session=\"f517f19fb38890d69eab44a9a8d2aa00\", element=\"ae916492-4871-4ce5-95db-8c44496902b6\")>,\n",
       " <selenium.webdriver.remote.webelement.WebElement (session=\"f517f19fb38890d69eab44a9a8d2aa00\", element=\"7655826d-7a8f-4912-866e-83ac7c1bdaf2\")>,\n",
       " <selenium.webdriver.remote.webelement.WebElement (session=\"f517f19fb38890d69eab44a9a8d2aa00\", element=\"7e004c02-5cc6-4835-b3ba-f3133f93cfde\")>,\n",
       " <selenium.webdriver.remote.webelement.WebElement (session=\"f517f19fb38890d69eab44a9a8d2aa00\", element=\"14c30bfa-9e62-444a-9f7b-c9a746d53a18\")>,\n",
       " <selenium.webdriver.remote.webelement.WebElement (session=\"f517f19fb38890d69eab44a9a8d2aa00\", element=\"0c36a664-fc89-457f-bb56-a4aae01864b2\")>,\n",
       " <selenium.webdriver.remote.webelement.WebElement (session=\"f517f19fb38890d69eab44a9a8d2aa00\", element=\"0f273e89-2d7e-451d-8457-452f6b286652\")>,\n",
       " <selenium.webdriver.remote.webelement.WebElement (session=\"f517f19fb38890d69eab44a9a8d2aa00\", element=\"de197388-213b-4558-8af5-67e1bd69ff0f\")>,\n",
       " <selenium.webdriver.remote.webelement.WebElement (session=\"f517f19fb38890d69eab44a9a8d2aa00\", element=\"6b4db295-3b54-489a-8315-5357d77b3c63\")>,\n",
       " <selenium.webdriver.remote.webelement.WebElement (session=\"f517f19fb38890d69eab44a9a8d2aa00\", element=\"73bdbc7a-afd2-4ac1-897f-1a9cb3d78d76\")>,\n",
       " <selenium.webdriver.remote.webelement.WebElement (session=\"f517f19fb38890d69eab44a9a8d2aa00\", element=\"797d958a-0098-4fad-b704-21a881adffa1\")>,\n",
       " <selenium.webdriver.remote.webelement.WebElement (session=\"f517f19fb38890d69eab44a9a8d2aa00\", element=\"d9400e63-1e3e-453d-8f34-aeca0c587e2d\")>,\n",
       " <selenium.webdriver.remote.webelement.WebElement (session=\"f517f19fb38890d69eab44a9a8d2aa00\", element=\"edd72e80-7a9a-4418-af19-af282bdec4f9\")>,\n",
       " <selenium.webdriver.remote.webelement.WebElement (session=\"f517f19fb38890d69eab44a9a8d2aa00\", element=\"0d2a4cb5-de07-40d2-8743-021d8ec99113\")>,\n",
       " <selenium.webdriver.remote.webelement.WebElement (session=\"f517f19fb38890d69eab44a9a8d2aa00\", element=\"3de5559f-5af6-4696-8e86-6751ccaf173b\")>,\n",
       " <selenium.webdriver.remote.webelement.WebElement (session=\"f517f19fb38890d69eab44a9a8d2aa00\", element=\"cdc285d8-d76c-411f-8f60-d165a9384061\")>,\n",
       " <selenium.webdriver.remote.webelement.WebElement (session=\"f517f19fb38890d69eab44a9a8d2aa00\", element=\"c4430019-a70a-4aeb-9410-340943f645c7\")>,\n",
       " <selenium.webdriver.remote.webelement.WebElement (session=\"f517f19fb38890d69eab44a9a8d2aa00\", element=\"efd2c813-c18c-4da8-8d22-85770e61fb80\")>,\n",
       " <selenium.webdriver.remote.webelement.WebElement (session=\"f517f19fb38890d69eab44a9a8d2aa00\", element=\"549828a7-b679-42f8-8957-a1e5292f8ee3\")>,\n",
       " <selenium.webdriver.remote.webelement.WebElement (session=\"f517f19fb38890d69eab44a9a8d2aa00\", element=\"6b5318be-3c12-4d3c-94c1-ad84362a3a23\")>,\n",
       " <selenium.webdriver.remote.webelement.WebElement (session=\"f517f19fb38890d69eab44a9a8d2aa00\", element=\"5f8d7203-5c71-4002-8ff5-052c44795cd0\")>,\n",
       " <selenium.webdriver.remote.webelement.WebElement (session=\"f517f19fb38890d69eab44a9a8d2aa00\", element=\"8043f76f-ec46-45ea-b397-58528e179088\")>,\n",
       " <selenium.webdriver.remote.webelement.WebElement (session=\"f517f19fb38890d69eab44a9a8d2aa00\", element=\"eb81a830-cf6e-4260-934e-53da71540981\")>,\n",
       " <selenium.webdriver.remote.webelement.WebElement (session=\"f517f19fb38890d69eab44a9a8d2aa00\", element=\"2ec24061-e057-47e5-9e7b-17f87db8867b\")>,\n",
       " <selenium.webdriver.remote.webelement.WebElement (session=\"f517f19fb38890d69eab44a9a8d2aa00\", element=\"fed68ad1-3a33-4b0d-a74c-2665e3934bc7\")>,\n",
       " <selenium.webdriver.remote.webelement.WebElement (session=\"f517f19fb38890d69eab44a9a8d2aa00\", element=\"f7b319e7-f03b-4272-9d42-7a22c3b4778b\")>,\n",
       " <selenium.webdriver.remote.webelement.WebElement (session=\"f517f19fb38890d69eab44a9a8d2aa00\", element=\"3f71db4a-ad92-4a01-8f39-ca37c09fe7e8\")>,\n",
       " <selenium.webdriver.remote.webelement.WebElement (session=\"f517f19fb38890d69eab44a9a8d2aa00\", element=\"d454e486-a06b-4652-ae4b-e9702c12c67a\")>,\n",
       " <selenium.webdriver.remote.webelement.WebElement (session=\"f517f19fb38890d69eab44a9a8d2aa00\", element=\"ce69f070-ba90-425c-a280-84709f46126a\")>,\n",
       " <selenium.webdriver.remote.webelement.WebElement (session=\"f517f19fb38890d69eab44a9a8d2aa00\", element=\"2ed6ba2f-40e7-499b-81ee-fd8ebaa085f8\")>,\n",
       " <selenium.webdriver.remote.webelement.WebElement (session=\"f517f19fb38890d69eab44a9a8d2aa00\", element=\"53cdc209-abb9-495d-8f04-f072e1ca96eb\")>,\n",
       " <selenium.webdriver.remote.webelement.WebElement (session=\"f517f19fb38890d69eab44a9a8d2aa00\", element=\"e6d7b327-7a06-4181-a849-8f85e938e38f\")>]"
      ]
     },
     "execution_count": 38,
     "metadata": {},
     "output_type": "execute_result"
    }
   ],
   "source": [
    "price_tag=driver.find_elements_by_xpath(\"//span[@class='a-price-whole']\")\n",
    "price_tag"
   ]
  },
  {
   "cell_type": "code",
   "execution_count": 39,
   "id": "62d19e8f",
   "metadata": {},
   "outputs": [
    {
     "data": {
      "text/plain": [
       "['86,490',\n",
       " '88,490',\n",
       " '57,490',\n",
       " '74,512',\n",
       " '83,990',\n",
       " '76,492',\n",
       " '86,990',\n",
       " '84,490',\n",
       " '1,20,062',\n",
       " '57,290',\n",
       " '1,04,990',\n",
       " '89,009',\n",
       " '79,990',\n",
       " '1,08,990',\n",
       " '88,490',\n",
       " '74,512',\n",
       " '79,990',\n",
       " '40,500',\n",
       " '57,999',\n",
       " '49,990',\n",
       " '79,500',\n",
       " '98,900',\n",
       " '64,990',\n",
       " '65,192',\n",
       " '49,829',\n",
       " '53,498',\n",
       " '94,990',\n",
       " '49,990',\n",
       " '55,990',\n",
       " '58,999',\n",
       " '97,175']"
      ]
     },
     "execution_count": 39,
     "metadata": {},
     "output_type": "execute_result"
    }
   ],
   "source": [
    "for i in price_tag:\n",
    "    prices=i.text\n",
    "    price.append(prices)\n",
    "price    "
   ]
  },
  {
   "cell_type": "code",
   "execution_count": 40,
   "id": "49183a61",
   "metadata": {},
   "outputs": [
    {
     "data": {
      "text/plain": [
       "['86,490',\n",
       " '88,490',\n",
       " '57,490',\n",
       " '74,512',\n",
       " '83,990',\n",
       " '76,492',\n",
       " '86,990',\n",
       " '84,490',\n",
       " '1,20,062',\n",
       " '57,290']"
      ]
     },
     "execution_count": 40,
     "metadata": {},
     "output_type": "execute_result"
    }
   ],
   "source": [
    "prices=price[0:10]\n",
    "prices"
   ]
  },
  {
   "cell_type": "code",
   "execution_count": 47,
   "id": "207fa65f",
   "metadata": {},
   "outputs": [
    {
     "data": {
      "text/plain": [
       "[<selenium.webdriver.remote.webelement.WebElement (session=\"f517f19fb38890d69eab44a9a8d2aa00\", element=\"f5357811-6f9b-428b-89db-1ef458a6a21d\")>,\n",
       " <selenium.webdriver.remote.webelement.WebElement (session=\"f517f19fb38890d69eab44a9a8d2aa00\", element=\"668df065-f8b3-4d66-b311-8d0a35e2cbf1\")>,\n",
       " <selenium.webdriver.remote.webelement.WebElement (session=\"f517f19fb38890d69eab44a9a8d2aa00\", element=\"e4995785-86d7-4c94-b044-43a87f668b8d\")>,\n",
       " <selenium.webdriver.remote.webelement.WebElement (session=\"f517f19fb38890d69eab44a9a8d2aa00\", element=\"888f9dbc-0e6e-4bd0-8cb9-ccc06dae12d5\")>,\n",
       " <selenium.webdriver.remote.webelement.WebElement (session=\"f517f19fb38890d69eab44a9a8d2aa00\", element=\"b09c764e-a378-472a-b627-81c3858d59af\")>,\n",
       " <selenium.webdriver.remote.webelement.WebElement (session=\"f517f19fb38890d69eab44a9a8d2aa00\", element=\"ef4c292c-21a2-42de-9140-9e9663ef63b8\")>,\n",
       " <selenium.webdriver.remote.webelement.WebElement (session=\"f517f19fb38890d69eab44a9a8d2aa00\", element=\"b17e9eed-2a80-4010-af8c-641fa260fb10\")>,\n",
       " <selenium.webdriver.remote.webelement.WebElement (session=\"f517f19fb38890d69eab44a9a8d2aa00\", element=\"fc61f97e-a615-4717-a8ef-8b31d56e1a6b\")>,\n",
       " <selenium.webdriver.remote.webelement.WebElement (session=\"f517f19fb38890d69eab44a9a8d2aa00\", element=\"9aba44c5-672b-412d-9121-24a8c6ac7b83\")>]"
      ]
     },
     "execution_count": 47,
     "metadata": {},
     "output_type": "execute_result"
    }
   ],
   "source": [
    "rating_tags=driver.find_elements_by_xpath(\"//span[@class='a-size-medium a-color-base a-text-beside-button a-text-bold']\")\n",
    "rating_tags"
   ]
  },
  {
   "cell_type": "code",
   "execution_count": 48,
   "id": "3b977ba2",
   "metadata": {},
   "outputs": [
    {
     "data": {
      "text/plain": [
       "['', '', '', '', '', '', '', '', '', '']"
      ]
     },
     "execution_count": 48,
     "metadata": {},
     "output_type": "execute_result"
    }
   ],
   "source": [
    "for i in rating_tags:\n",
    "    rating=i.text\n",
    "    ratings.append(rating)\n",
    "ratings    "
   ]
  },
  {
   "cell_type": "code",
   "execution_count": 56,
   "id": "073045a9",
   "metadata": {},
   "outputs": [
    {
     "data": {
      "text/html": [
       "<div>\n",
       "<style scoped>\n",
       "    .dataframe tbody tr th:only-of-type {\n",
       "        vertical-align: middle;\n",
       "    }\n",
       "\n",
       "    .dataframe tbody tr th {\n",
       "        vertical-align: top;\n",
       "    }\n",
       "\n",
       "    .dataframe thead th {\n",
       "        text-align: right;\n",
       "    }\n",
       "</style>\n",
       "<table border=\"1\" class=\"dataframe\">\n",
       "  <thead>\n",
       "    <tr style=\"text-align: right;\">\n",
       "      <th></th>\n",
       "      <th>title</th>\n",
       "      <th>prices</th>\n",
       "    </tr>\n",
       "  </thead>\n",
       "  <tbody>\n",
       "    <tr>\n",
       "      <th>0</th>\n",
       "      <td>LG Gram 16 Intel Evo 11th Gen i7 Thin &amp; Light ...</td>\n",
       "      <td>75,309</td>\n",
       "    </tr>\n",
       "    <tr>\n",
       "      <th>1</th>\n",
       "      <td>LG Gram 17 Intel Evo 11th Gen i7 Thin &amp; Light ...</td>\n",
       "      <td>57,490</td>\n",
       "    </tr>\n",
       "    <tr>\n",
       "      <th>2</th>\n",
       "      <td>Lenovo IdeaPad 5 Pro 11th Gen Intel Core i7 14...</td>\n",
       "      <td>86,990</td>\n",
       "    </tr>\n",
       "    <tr>\n",
       "      <th>3</th>\n",
       "      <td>ASUS VivoBook 14 (2021), 14-inch (35.56 cms) F...</td>\n",
       "      <td>84,490</td>\n",
       "    </tr>\n",
       "    <tr>\n",
       "      <th>4</th>\n",
       "      <td>HP Pavilion 14 12th Gen Intel Core i7 16GB SDR...</td>\n",
       "      <td>89,791</td>\n",
       "    </tr>\n",
       "    <tr>\n",
       "      <th>5</th>\n",
       "      <td>HP Pavilion x360 11th Gen Intel Core i7 14 inc...</td>\n",
       "      <td>57,290</td>\n",
       "    </tr>\n",
       "    <tr>\n",
       "      <th>6</th>\n",
       "      <td>HP Pavilion 15 12th Gen Intel Core i7 16GB SDR...</td>\n",
       "      <td>92,400</td>\n",
       "    </tr>\n",
       "    <tr>\n",
       "      <th>7</th>\n",
       "      <td>ASUS Vivobook X515JA-EJ701WS Intel Core I7-106...</td>\n",
       "      <td>79,990</td>\n",
       "    </tr>\n",
       "    <tr>\n",
       "      <th>8</th>\n",
       "      <td>HP Pavilion 11th Gen Intel Core i7 15.6 inches...</td>\n",
       "      <td>83,990</td>\n",
       "    </tr>\n",
       "    <tr>\n",
       "      <th>9</th>\n",
       "      <td>Samsung Galaxy Book2 Intel 12th Gen core i7 39...</td>\n",
       "      <td>88,490</td>\n",
       "    </tr>\n",
       "  </tbody>\n",
       "</table>\n",
       "</div>"
      ],
      "text/plain": [
       "                                               title  prices\n",
       "0  LG Gram 16 Intel Evo 11th Gen i7 Thin & Light ...  75,309\n",
       "1  LG Gram 17 Intel Evo 11th Gen i7 Thin & Light ...  57,490\n",
       "2  Lenovo IdeaPad 5 Pro 11th Gen Intel Core i7 14...  86,990\n",
       "3  ASUS VivoBook 14 (2021), 14-inch (35.56 cms) F...  84,490\n",
       "4  HP Pavilion 14 12th Gen Intel Core i7 16GB SDR...  89,791\n",
       "5  HP Pavilion x360 11th Gen Intel Core i7 14 inc...  57,290\n",
       "6  HP Pavilion 15 12th Gen Intel Core i7 16GB SDR...  92,400\n",
       "7  ASUS Vivobook X515JA-EJ701WS Intel Core I7-106...  79,990\n",
       "8  HP Pavilion 11th Gen Intel Core i7 15.6 inches...  83,990\n",
       "9  Samsung Galaxy Book2 Intel 12th Gen core i7 39...  88,490"
      ]
     },
     "execution_count": 56,
     "metadata": {},
     "output_type": "execute_result"
    }
   ],
   "source": [
    "df=pd.DataFrame({'title':titles,'prices':prices})\n",
    "df"
   ]
  },
  {
   "cell_type": "markdown",
   "id": "3b04d23a",
   "metadata": {},
   "source": [
    "## ANS 9"
   ]
  },
  {
   "cell_type": "code",
   "execution_count": 23,
   "id": "5b226e15",
   "metadata": {},
   "outputs": [],
   "source": [
    "driver.get(\"https://www.ambitionbox.com/\")"
   ]
  },
  {
   "cell_type": "code",
   "execution_count": 24,
   "id": "1da876ef",
   "metadata": {},
   "outputs": [],
   "source": [
    "tap_button=driver.find_element_by_xpath(\"/html/body/div[1]/nav/nav/a[6]\")\n",
    "tap_button.click()"
   ]
  },
  {
   "cell_type": "code",
   "execution_count": 25,
   "id": "1437f3c7",
   "metadata": {},
   "outputs": [],
   "source": [
    "search_field_designation=driver.find_element_by_xpath(\"/html/body/div/div/div/div[2]/div[1]/div[1]/div/div/div/div/span/input\")\n",
    "search_field_designation.send_keys(\"Data Scientist\")"
   ]
  },
  {
   "cell_type": "code",
   "execution_count": 26,
   "id": "3379b11e",
   "metadata": {},
   "outputs": [],
   "source": [
    "search_button=driver.find_element_by_xpath(\"/html/body/div/div/div/div[2]/div[1]/div[1]/div/div/div/button/span\")\n",
    "search_button.click()"
   ]
  },
  {
   "cell_type": "code",
   "execution_count": 27,
   "id": "b0f0df1a",
   "metadata": {},
   "outputs": [],
   "source": [
    "tap_button=driver.find_element_by_xpath(\"/html/body/div/div/div/div[2]/div[1]/div[2]/div[1]/div/div/div/div[2]/div[1]/i\")\n",
    "tap_button.click()"
   ]
  },
  {
   "cell_type": "code",
   "execution_count": 28,
   "id": "dd815b1d",
   "metadata": {},
   "outputs": [],
   "source": [
    "search_location=driver.find_element_by_xpath(\"/html/body/div/div/div/div[2]/div[1]/div[2]/div[1]/div/div/div/div[2]/div[2]/div/div[2]/input\")\n",
    "search_location.send_keys(\"noida\")"
   ]
  },
  {
   "cell_type": "code",
   "execution_count": 29,
   "id": "d78e171f",
   "metadata": {},
   "outputs": [],
   "source": [
    "tap_button=driver.find_element_by_xpath(\"/html/body/div/div/div/div[2]/div[1]/div[2]/div[1]/div/div/div/div[2]/div[2]/div/div[3]/div[1]/div[1]/div/label\")\n",
    "tap_button.click()"
   ]
  },
  {
   "cell_type": "code",
   "execution_count": 30,
   "id": "a25fa811",
   "metadata": {},
   "outputs": [],
   "source": [
    "# creating empty list\n",
    "company_name=[]\n",
    "job_posted=[]\n",
    "ratings=[]"
   ]
  },
  {
   "cell_type": "code",
   "execution_count": 31,
   "id": "42fe9d5a",
   "metadata": {},
   "outputs": [
    {
     "data": {
      "text/plain": [
       "[<selenium.webdriver.remote.webelement.WebElement (session=\"39ffe88ac509ea5028674813a5b2f3de\", element=\"37a6f74b-0c82-4d4d-b36a-4d4a2b7cb89d\")>,\n",
       " <selenium.webdriver.remote.webelement.WebElement (session=\"39ffe88ac509ea5028674813a5b2f3de\", element=\"5140721b-e964-43fd-b127-332e874ea4c5\")>,\n",
       " <selenium.webdriver.remote.webelement.WebElement (session=\"39ffe88ac509ea5028674813a5b2f3de\", element=\"52db9bfb-35df-45ac-af8b-fbb416c7e65c\")>,\n",
       " <selenium.webdriver.remote.webelement.WebElement (session=\"39ffe88ac509ea5028674813a5b2f3de\", element=\"04847587-6a32-411a-aec6-712b3e2226cc\")>,\n",
       " <selenium.webdriver.remote.webelement.WebElement (session=\"39ffe88ac509ea5028674813a5b2f3de\", element=\"67fc6d20-8385-40f8-be52-d2ee5ed7e286\")>,\n",
       " <selenium.webdriver.remote.webelement.WebElement (session=\"39ffe88ac509ea5028674813a5b2f3de\", element=\"7ee4ead1-1b05-4e9a-a92a-15fd0f896706\")>,\n",
       " <selenium.webdriver.remote.webelement.WebElement (session=\"39ffe88ac509ea5028674813a5b2f3de\", element=\"3a4e6a6c-af4e-4958-81ee-0abf0c8df197\")>,\n",
       " <selenium.webdriver.remote.webelement.WebElement (session=\"39ffe88ac509ea5028674813a5b2f3de\", element=\"c3c76111-a4be-4c56-abf2-3eb17a88a2af\")>,\n",
       " <selenium.webdriver.remote.webelement.WebElement (session=\"39ffe88ac509ea5028674813a5b2f3de\", element=\"79b05ca1-fc98-4ad2-8f4e-8cb10cc81129\")>,\n",
       " <selenium.webdriver.remote.webelement.WebElement (session=\"39ffe88ac509ea5028674813a5b2f3de\", element=\"b301f9e8-9901-45dd-bb71-ae6bec3dc1d1\")>]"
      ]
     },
     "execution_count": 31,
     "metadata": {},
     "output_type": "execute_result"
    }
   ],
   "source": [
    "name_tags=driver.find_elements_by_xpath(\"//p[@class='company body-medium']\")\n",
    "name_tags"
   ]
  },
  {
   "cell_type": "code",
   "execution_count": 32,
   "id": "14485e16",
   "metadata": {},
   "outputs": [
    {
     "data": {
      "text/plain": [
       "['GENPACT India Private Limited',\n",
       " 'Optum Global Solutions (India) Private Limited',\n",
       " 'GENPACT India Private Limited',\n",
       " 'Hcl Technologies Limited',\n",
       " 'EXL Services.com ( I ) Pvt. Ltd.',\n",
       " 'Paytm',\n",
       " 'Om Software Internet Solutions Private Limited',\n",
       " 'Paytm',\n",
       " 'MOTHERSONSUMI INFOTECH & DESIGNS LIMITED',\n",
       " 'Ashkom Media India Private Limited']"
      ]
     },
     "execution_count": 32,
     "metadata": {},
     "output_type": "execute_result"
    }
   ],
   "source": [
    "for i in name_tags:\n",
    "    names=i.text\n",
    "    company_name.append(names)\n",
    "company_name    "
   ]
  },
  {
   "cell_type": "code",
   "execution_count": 33,
   "id": "c5a67889",
   "metadata": {},
   "outputs": [
    {
     "data": {
      "text/plain": [
       "[<selenium.webdriver.remote.webelement.WebElement (session=\"39ffe88ac509ea5028674813a5b2f3de\", element=\"8482a1f1-6271-4014-bd9e-a2e23124ebee\")>,\n",
       " <selenium.webdriver.remote.webelement.WebElement (session=\"39ffe88ac509ea5028674813a5b2f3de\", element=\"621112f1-91a0-4b31-ad95-2099ac37e92a\")>,\n",
       " <selenium.webdriver.remote.webelement.WebElement (session=\"39ffe88ac509ea5028674813a5b2f3de\", element=\"2314ac07-5cad-440b-b0d3-20336968d132\")>,\n",
       " <selenium.webdriver.remote.webelement.WebElement (session=\"39ffe88ac509ea5028674813a5b2f3de\", element=\"d0dfe51a-7b24-43c2-ad27-a893f47cc59c\")>,\n",
       " <selenium.webdriver.remote.webelement.WebElement (session=\"39ffe88ac509ea5028674813a5b2f3de\", element=\"65b04b76-b2ca-4ca0-8f0d-517292719092\")>,\n",
       " <selenium.webdriver.remote.webelement.WebElement (session=\"39ffe88ac509ea5028674813a5b2f3de\", element=\"b704e6a5-cfcb-478a-9eac-df4515fa3fb5\")>,\n",
       " <selenium.webdriver.remote.webelement.WebElement (session=\"39ffe88ac509ea5028674813a5b2f3de\", element=\"7d636032-6b32-4e5b-9018-60e09f5d139f\")>,\n",
       " <selenium.webdriver.remote.webelement.WebElement (session=\"39ffe88ac509ea5028674813a5b2f3de\", element=\"4a2f6cbc-5b85-49c9-905b-0c9aae1119de\")>,\n",
       " <selenium.webdriver.remote.webelement.WebElement (session=\"39ffe88ac509ea5028674813a5b2f3de\", element=\"3154296a-00e2-416c-a107-df01f6a24345\")>,\n",
       " <selenium.webdriver.remote.webelement.WebElement (session=\"39ffe88ac509ea5028674813a5b2f3de\", element=\"856f86cf-ce2d-43c6-830c-5d7904b276a3\")>,\n",
       " <selenium.webdriver.remote.webelement.WebElement (session=\"39ffe88ac509ea5028674813a5b2f3de\", element=\"75e01607-a537-45bf-b57b-8991bca2c118\")>,\n",
       " <selenium.webdriver.remote.webelement.WebElement (session=\"39ffe88ac509ea5028674813a5b2f3de\", element=\"0ddc72d8-f291-4783-8539-4fb00d41b84d\")>,\n",
       " <selenium.webdriver.remote.webelement.WebElement (session=\"39ffe88ac509ea5028674813a5b2f3de\", element=\"a1daf3b4-0976-4031-907a-edcc9890f879\")>,\n",
       " <selenium.webdriver.remote.webelement.WebElement (session=\"39ffe88ac509ea5028674813a5b2f3de\", element=\"8a9d51ba-1c2e-4900-b875-d2090a33bd80\")>,\n",
       " <selenium.webdriver.remote.webelement.WebElement (session=\"39ffe88ac509ea5028674813a5b2f3de\", element=\"7c5e3e90-2b42-46e9-a0d1-a2fe2317837a\")>,\n",
       " <selenium.webdriver.remote.webelement.WebElement (session=\"39ffe88ac509ea5028674813a5b2f3de\", element=\"ce8da623-c7a0-415b-9d0e-229518ff60c4\")>,\n",
       " <selenium.webdriver.remote.webelement.WebElement (session=\"39ffe88ac509ea5028674813a5b2f3de\", element=\"faa899de-3ac6-4d41-a2af-f44faa795320\")>,\n",
       " <selenium.webdriver.remote.webelement.WebElement (session=\"39ffe88ac509ea5028674813a5b2f3de\", element=\"ba7d6c8a-ea5a-4efd-8e82-0d6b9a017d32\")>,\n",
       " <selenium.webdriver.remote.webelement.WebElement (session=\"39ffe88ac509ea5028674813a5b2f3de\", element=\"c70a33f6-3e4e-4853-a772-7072cc484dcc\")>,\n",
       " <selenium.webdriver.remote.webelement.WebElement (session=\"39ffe88ac509ea5028674813a5b2f3de\", element=\"67f11b50-3920-4110-a745-aac743545669\")>]"
      ]
     },
     "execution_count": 33,
     "metadata": {},
     "output_type": "execute_result"
    }
   ],
   "source": [
    "job_posted_tags=driver.find_elements_by_xpath(\"//span[@class='body-small-l']\")\n",
    "job_posted_tags"
   ]
  },
  {
   "cell_type": "code",
   "execution_count": 35,
   "id": "9f1ef286",
   "metadata": {},
   "outputs": [
    {
     "data": {
      "text/plain": [
       "['9d ago',\n",
       " 'via naukri.com',\n",
       " '17d ago',\n",
       " 'via naukri.com',\n",
       " '16d ago',\n",
       " 'via naukri.com',\n",
       " '19d ago',\n",
       " 'via naukri.com',\n",
       " '30d ago',\n",
       " 'via naukri.com',\n",
       " '12d ago',\n",
       " 'via naukri.com',\n",
       " '20d ago',\n",
       " 'via naukri.com',\n",
       " '30d ago',\n",
       " 'via naukri.com',\n",
       " '17d ago',\n",
       " 'via naukri.com',\n",
       " '16d ago',\n",
       " 'via naukri.com']"
      ]
     },
     "execution_count": 35,
     "metadata": {},
     "output_type": "execute_result"
    }
   ],
   "source": [
    "for i in job_posted_tags:\n",
    "    jobs=i.text\n",
    "    job_posted.append(jobs)\n",
    "job_posted    "
   ]
  },
  {
   "cell_type": "code",
   "execution_count": 38,
   "id": "9d5141e9",
   "metadata": {},
   "outputs": [
    {
     "data": {
      "text/plain": [
       "['9d ago',\n",
       " '17d ago',\n",
       " '16d ago',\n",
       " '19d ago',\n",
       " '30d ago',\n",
       " '12d ago',\n",
       " '20d ago',\n",
       " '30d ago',\n",
       " '17d ago',\n",
       " '16d ago']"
      ]
     },
     "execution_count": 38,
     "metadata": {},
     "output_type": "execute_result"
    }
   ],
   "source": [
    "jobs_posted = [job_posted[i] for i in range(len(job_posted)) if i % 2 != 1]\n",
    "jobs_posted"
   ]
  },
  {
   "cell_type": "code",
   "execution_count": 39,
   "id": "0617d6a9",
   "metadata": {},
   "outputs": [
    {
     "data": {
      "text/plain": [
       "[<selenium.webdriver.remote.webelement.WebElement (session=\"39ffe88ac509ea5028674813a5b2f3de\", element=\"1a5a028c-756e-4350-81e2-e7473c2aa3d6\")>,\n",
       " <selenium.webdriver.remote.webelement.WebElement (session=\"39ffe88ac509ea5028674813a5b2f3de\", element=\"7749bf46-4ed4-4f92-a9cc-99a8a5a330a9\")>,\n",
       " <selenium.webdriver.remote.webelement.WebElement (session=\"39ffe88ac509ea5028674813a5b2f3de\", element=\"c72469b3-f210-4b3d-97fe-4fac181eccfa\")>,\n",
       " <selenium.webdriver.remote.webelement.WebElement (session=\"39ffe88ac509ea5028674813a5b2f3de\", element=\"d0e332a3-1459-491d-bd07-2b8fe51f9cf4\")>,\n",
       " <selenium.webdriver.remote.webelement.WebElement (session=\"39ffe88ac509ea5028674813a5b2f3de\", element=\"98e341ab-d8e5-4a6d-bcf0-d8568eaa8419\")>,\n",
       " <selenium.webdriver.remote.webelement.WebElement (session=\"39ffe88ac509ea5028674813a5b2f3de\", element=\"1e5b75a3-f677-4935-a64a-c266974d28ee\")>,\n",
       " <selenium.webdriver.remote.webelement.WebElement (session=\"39ffe88ac509ea5028674813a5b2f3de\", element=\"08cbd88d-3bfe-4d2d-8d56-6b0e49d69c83\")>,\n",
       " <selenium.webdriver.remote.webelement.WebElement (session=\"39ffe88ac509ea5028674813a5b2f3de\", element=\"3e658cad-2ea2-4b32-b5ee-31af6e89ea9d\")>,\n",
       " <selenium.webdriver.remote.webelement.WebElement (session=\"39ffe88ac509ea5028674813a5b2f3de\", element=\"a8dbff8a-1d14-48b0-828b-da67e7a20301\")>,\n",
       " <selenium.webdriver.remote.webelement.WebElement (session=\"39ffe88ac509ea5028674813a5b2f3de\", element=\"2a86abc0-3f83-425b-971a-891b0d1d77e0\")>]"
      ]
     },
     "execution_count": 39,
     "metadata": {},
     "output_type": "execute_result"
    }
   ],
   "source": [
    "rating_tags=driver.find_elements_by_xpath(\"//span[@class='body-small']\")\n",
    "rating_tags"
   ]
  },
  {
   "cell_type": "code",
   "execution_count": 40,
   "id": "35b061b0",
   "metadata": {},
   "outputs": [
    {
     "data": {
      "text/plain": [
       "['4.0', '4.2', '4.0', '3.9', '3.9', '3.7', '4.5', '3.7', '3.3', '3.5']"
      ]
     },
     "execution_count": 40,
     "metadata": {},
     "output_type": "execute_result"
    }
   ],
   "source": [
    "for i in rating_tags:\n",
    "    rating=i.text\n",
    "    ratings.append(rating)\n",
    "ratings"
   ]
  },
  {
   "cell_type": "code",
   "execution_count": 41,
   "id": "b5a66226",
   "metadata": {},
   "outputs": [
    {
     "data": {
      "text/html": [
       "<div>\n",
       "<style scoped>\n",
       "    .dataframe tbody tr th:only-of-type {\n",
       "        vertical-align: middle;\n",
       "    }\n",
       "\n",
       "    .dataframe tbody tr th {\n",
       "        vertical-align: top;\n",
       "    }\n",
       "\n",
       "    .dataframe thead th {\n",
       "        text-align: right;\n",
       "    }\n",
       "</style>\n",
       "<table border=\"1\" class=\"dataframe\">\n",
       "  <thead>\n",
       "    <tr style=\"text-align: right;\">\n",
       "      <th></th>\n",
       "      <th>comapny name</th>\n",
       "      <th>rating</th>\n",
       "      <th>job_posted</th>\n",
       "    </tr>\n",
       "  </thead>\n",
       "  <tbody>\n",
       "    <tr>\n",
       "      <th>0</th>\n",
       "      <td>GENPACT India Private Limited</td>\n",
       "      <td>4.0</td>\n",
       "      <td>9d ago</td>\n",
       "    </tr>\n",
       "    <tr>\n",
       "      <th>1</th>\n",
       "      <td>Optum Global Solutions (India) Private Limited</td>\n",
       "      <td>4.2</td>\n",
       "      <td>17d ago</td>\n",
       "    </tr>\n",
       "    <tr>\n",
       "      <th>2</th>\n",
       "      <td>GENPACT India Private Limited</td>\n",
       "      <td>4.0</td>\n",
       "      <td>16d ago</td>\n",
       "    </tr>\n",
       "    <tr>\n",
       "      <th>3</th>\n",
       "      <td>Hcl Technologies Limited</td>\n",
       "      <td>3.9</td>\n",
       "      <td>19d ago</td>\n",
       "    </tr>\n",
       "    <tr>\n",
       "      <th>4</th>\n",
       "      <td>EXL Services.com ( I ) Pvt. Ltd.</td>\n",
       "      <td>3.9</td>\n",
       "      <td>30d ago</td>\n",
       "    </tr>\n",
       "    <tr>\n",
       "      <th>5</th>\n",
       "      <td>Paytm</td>\n",
       "      <td>3.7</td>\n",
       "      <td>12d ago</td>\n",
       "    </tr>\n",
       "    <tr>\n",
       "      <th>6</th>\n",
       "      <td>Om Software Internet Solutions Private Limited</td>\n",
       "      <td>4.5</td>\n",
       "      <td>20d ago</td>\n",
       "    </tr>\n",
       "    <tr>\n",
       "      <th>7</th>\n",
       "      <td>Paytm</td>\n",
       "      <td>3.7</td>\n",
       "      <td>30d ago</td>\n",
       "    </tr>\n",
       "    <tr>\n",
       "      <th>8</th>\n",
       "      <td>MOTHERSONSUMI INFOTECH &amp; DESIGNS LIMITED</td>\n",
       "      <td>3.3</td>\n",
       "      <td>17d ago</td>\n",
       "    </tr>\n",
       "    <tr>\n",
       "      <th>9</th>\n",
       "      <td>Ashkom Media India Private Limited</td>\n",
       "      <td>3.5</td>\n",
       "      <td>16d ago</td>\n",
       "    </tr>\n",
       "  </tbody>\n",
       "</table>\n",
       "</div>"
      ],
      "text/plain": [
       "                                     comapny name rating job_posted\n",
       "0                   GENPACT India Private Limited    4.0     9d ago\n",
       "1  Optum Global Solutions (India) Private Limited    4.2    17d ago\n",
       "2                   GENPACT India Private Limited    4.0    16d ago\n",
       "3                        Hcl Technologies Limited    3.9    19d ago\n",
       "4                EXL Services.com ( I ) Pvt. Ltd.    3.9    30d ago\n",
       "5                                           Paytm    3.7    12d ago\n",
       "6  Om Software Internet Solutions Private Limited    4.5    20d ago\n",
       "7                                           Paytm    3.7    30d ago\n",
       "8        MOTHERSONSUMI INFOTECH & DESIGNS LIMITED    3.3    17d ago\n",
       "9              Ashkom Media India Private Limited    3.5    16d ago"
      ]
     },
     "execution_count": 41,
     "metadata": {},
     "output_type": "execute_result"
    }
   ],
   "source": [
    "df2=pd.DataFrame({'comapny name':company_name,'rating':ratings,'job_posted':jobs_posted})\n",
    "df2"
   ]
  },
  {
   "cell_type": "markdown",
   "id": "c0497fb2",
   "metadata": {},
   "source": [
    "## ANS 10"
   ]
  },
  {
   "cell_type": "code",
   "execution_count": 49,
   "id": "a4cc1bb4",
   "metadata": {},
   "outputs": [],
   "source": [
    "driver.get(\"https://www.ambitionbox.com/\")"
   ]
  },
  {
   "cell_type": "code",
   "execution_count": 50,
   "id": "07ade507",
   "metadata": {},
   "outputs": [],
   "source": [
    "tap_button=driver.find_element_by_xpath(\"/html/body/div[1]/nav/nav/a[4]\")\n",
    "tap_button.click()"
   ]
  },
  {
   "cell_type": "code",
   "execution_count": 51,
   "id": "ca9515b6",
   "metadata": {},
   "outputs": [],
   "source": [
    "search_job_profile=driver.find_element_by_xpath(\"/html/body/div/div/div/main/section[1]/div[2]/div[1]/span/input\")\n",
    "search_job_profile.send_keys(\"Data Scientist\")"
   ]
  },
  {
   "cell_type": "code",
   "execution_count": 60,
   "id": "eb9eabf6",
   "metadata": {},
   "outputs": [],
   "source": [
    "# creating empty list\n",
    "company_name=[]\n",
    "total_salary=[]\n",
    "min_salary=[]\n",
    "max_salary=[]\n",
    "avg_salary=[]\n",
    "exp_required=[]"
   ]
  },
  {
   "cell_type": "code",
   "execution_count": 61,
   "id": "57c0821c",
   "metadata": {},
   "outputs": [
    {
     "data": {
      "text/plain": [
       "[<selenium.webdriver.remote.webelement.WebElement (session=\"f517f19fb38890d69eab44a9a8d2aa00\", element=\"68f9c651-66d1-424c-8715-09d0601e7ce2\")>,\n",
       " <selenium.webdriver.remote.webelement.WebElement (session=\"f517f19fb38890d69eab44a9a8d2aa00\", element=\"4cea4ec2-0907-4dc2-b075-b98adaf13fc3\")>,\n",
       " <selenium.webdriver.remote.webelement.WebElement (session=\"f517f19fb38890d69eab44a9a8d2aa00\", element=\"e04b0777-3cf8-4b45-875a-30a02c57ab84\")>,\n",
       " <selenium.webdriver.remote.webelement.WebElement (session=\"f517f19fb38890d69eab44a9a8d2aa00\", element=\"30f08f45-a993-488b-a19e-1e7ec57b0b6e\")>,\n",
       " <selenium.webdriver.remote.webelement.WebElement (session=\"f517f19fb38890d69eab44a9a8d2aa00\", element=\"37ca4748-786a-4067-aff4-3a5140e03a08\")>,\n",
       " <selenium.webdriver.remote.webelement.WebElement (session=\"f517f19fb38890d69eab44a9a8d2aa00\", element=\"1049ad03-3d57-4a7a-ba58-bb5dfd61dde1\")>,\n",
       " <selenium.webdriver.remote.webelement.WebElement (session=\"f517f19fb38890d69eab44a9a8d2aa00\", element=\"fb0643d3-7326-4ac6-b5ee-a0b873abfc06\")>,\n",
       " <selenium.webdriver.remote.webelement.WebElement (session=\"f517f19fb38890d69eab44a9a8d2aa00\", element=\"2a574172-e32f-4358-b67b-93b4c6de0c9b\")>,\n",
       " <selenium.webdriver.remote.webelement.WebElement (session=\"f517f19fb38890d69eab44a9a8d2aa00\", element=\"fb7dce8b-b5dd-4427-82b8-5b79fc3522af\")>,\n",
       " <selenium.webdriver.remote.webelement.WebElement (session=\"f517f19fb38890d69eab44a9a8d2aa00\", element=\"14704a5b-b8b3-45d2-be00-e48492d43dfd\")>]"
      ]
     },
     "execution_count": 61,
     "metadata": {},
     "output_type": "execute_result"
    }
   ],
   "source": [
    "company_tags=driver.find_elements_by_xpath(\"//div[@class='name']\")\n",
    "company_tags"
   ]
  },
  {
   "cell_type": "code",
   "execution_count": 62,
   "id": "f545abc4",
   "metadata": {},
   "outputs": [
    {
     "data": {
      "text/plain": [
       "['Walmart\\nbased on 12 salaries',\n",
       " 'Ab Inbev\\nbased on 33 salaries',\n",
       " 'American Express\\nbased on 10 salaries',\n",
       " 'ZS\\nbased on 15 salaries',\n",
       " 'Optum\\nbased on 33 salaries',\n",
       " 'Reliance Jio\\nbased on 21 salaries',\n",
       " 'Fractal Analytics\\nbased on 83 salaries',\n",
       " 'Tiger Analytics\\nbased on 50 salaries',\n",
       " 'UnitedHealth\\nbased on 57 salaries',\n",
       " 'EXL Service\\nbased on 10 salaries']"
      ]
     },
     "execution_count": 62,
     "metadata": {},
     "output_type": "execute_result"
    }
   ],
   "source": [
    "for i in company_tags:\n",
    "    name=i.text\n",
    "    company_name.append(name)\n",
    "company_name    "
   ]
  },
  {
   "cell_type": "code",
   "execution_count": 65,
   "id": "f238797b",
   "metadata": {},
   "outputs": [
    {
     "data": {
      "text/plain": [
       "[<selenium.webdriver.remote.webelement.WebElement (session=\"f517f19fb38890d69eab44a9a8d2aa00\", element=\"bb995ec6-d649-4aab-8fbd-68111621052d\")>,\n",
       " <selenium.webdriver.remote.webelement.WebElement (session=\"f517f19fb38890d69eab44a9a8d2aa00\", element=\"8945342e-0746-47fe-8167-938ae120c627\")>,\n",
       " <selenium.webdriver.remote.webelement.WebElement (session=\"f517f19fb38890d69eab44a9a8d2aa00\", element=\"ba0c2cd2-c4ed-45d9-a8d6-81068783cb48\")>,\n",
       " <selenium.webdriver.remote.webelement.WebElement (session=\"f517f19fb38890d69eab44a9a8d2aa00\", element=\"b0739708-9c9a-451a-9700-f37ec9a47b1b\")>,\n",
       " <selenium.webdriver.remote.webelement.WebElement (session=\"f517f19fb38890d69eab44a9a8d2aa00\", element=\"420aa207-5b01-4af2-a70e-8e188c4e7ef9\")>,\n",
       " <selenium.webdriver.remote.webelement.WebElement (session=\"f517f19fb38890d69eab44a9a8d2aa00\", element=\"9903edec-33fe-4b5c-b772-1273102f2014\")>,\n",
       " <selenium.webdriver.remote.webelement.WebElement (session=\"f517f19fb38890d69eab44a9a8d2aa00\", element=\"583e8953-6fc3-4647-b492-21170ccd6273\")>,\n",
       " <selenium.webdriver.remote.webelement.WebElement (session=\"f517f19fb38890d69eab44a9a8d2aa00\", element=\"92b786d2-6798-4564-8f77-746e1aab197d\")>,\n",
       " <selenium.webdriver.remote.webelement.WebElement (session=\"f517f19fb38890d69eab44a9a8d2aa00\", element=\"a4c83b45-7947-48e4-8419-d83b5c62e422\")>,\n",
       " <selenium.webdriver.remote.webelement.WebElement (session=\"f517f19fb38890d69eab44a9a8d2aa00\", element=\"7046f3d5-8a97-401f-92ef-cea663b2992c\")>,\n",
       " <selenium.webdriver.remote.webelement.WebElement (session=\"f517f19fb38890d69eab44a9a8d2aa00\", element=\"037ef3c9-6244-4c45-9a7c-f33012a78df2\")>,\n",
       " <selenium.webdriver.remote.webelement.WebElement (session=\"f517f19fb38890d69eab44a9a8d2aa00\", element=\"717385b4-e7ad-4877-a39c-30daa7563446\")>,\n",
       " <selenium.webdriver.remote.webelement.WebElement (session=\"f517f19fb38890d69eab44a9a8d2aa00\", element=\"250fc253-bbbb-4cfc-866d-e4d57c95d3ab\")>,\n",
       " <selenium.webdriver.remote.webelement.WebElement (session=\"f517f19fb38890d69eab44a9a8d2aa00\", element=\"9b3a86ac-1020-4f4e-8453-7d8b9d2c6f70\")>,\n",
       " <selenium.webdriver.remote.webelement.WebElement (session=\"f517f19fb38890d69eab44a9a8d2aa00\", element=\"092c3ff1-4237-477e-a16e-72a4788a9ba7\")>,\n",
       " <selenium.webdriver.remote.webelement.WebElement (session=\"f517f19fb38890d69eab44a9a8d2aa00\", element=\"85692523-da12-4f3b-b62d-2783d527ba16\")>,\n",
       " <selenium.webdriver.remote.webelement.WebElement (session=\"f517f19fb38890d69eab44a9a8d2aa00\", element=\"be06b446-6125-4a61-b86b-0eb0c042a27c\")>,\n",
       " <selenium.webdriver.remote.webelement.WebElement (session=\"f517f19fb38890d69eab44a9a8d2aa00\", element=\"96a77aac-ddef-4c5f-b0f0-5e9719a1cb36\")>,\n",
       " <selenium.webdriver.remote.webelement.WebElement (session=\"f517f19fb38890d69eab44a9a8d2aa00\", element=\"2a0e61ce-ebde-4979-94b2-b7e6bba6555f\")>,\n",
       " <selenium.webdriver.remote.webelement.WebElement (session=\"f517f19fb38890d69eab44a9a8d2aa00\", element=\"b9f9f716-52dd-48fd-8854-902acc5103ba\")>]"
      ]
     },
     "execution_count": 65,
     "metadata": {},
     "output_type": "execute_result"
    }
   ],
   "source": [
    "min_tags=driver.find_elements_by_xpath(\"//div[@class='value body-medium']\")\n",
    "min_tags"
   ]
  },
  {
   "cell_type": "code",
   "execution_count": 67,
   "id": "5c08214e",
   "metadata": {},
   "outputs": [
    {
     "data": {
      "text/plain": [
       "['₹ 25.0L',\n",
       " '₹ 36.0L',\n",
       " '₹ 15.0L',\n",
       " '₹ 25.5L',\n",
       " '₹ 14.1L',\n",
       " '₹ 25.0L',\n",
       " '₹ 11.0L',\n",
       " '₹ 22.0L',\n",
       " '₹ 11.0L',\n",
       " '₹ 22.6L',\n",
       " '₹ 5.6L',\n",
       " '₹ 26.2L',\n",
       " '₹ 10.0L',\n",
       " '₹ 22.0L',\n",
       " '₹ 9.0L',\n",
       " '₹ 20.0L',\n",
       " '₹ 8.3L',\n",
       " '₹ 21.1L',\n",
       " '₹ 8.9L',\n",
       " '₹ 21.0L']"
      ]
     },
     "execution_count": 67,
     "metadata": {},
     "output_type": "execute_result"
    }
   ],
   "source": [
    "for i in min_tags:\n",
    "    salary=i.text\n",
    "    min_salary.append(salary)\n",
    "min_salary"
   ]
  },
  {
   "cell_type": "code",
   "execution_count": 71,
   "id": "12b53502",
   "metadata": {},
   "outputs": [],
   "source": [
    "max_salary = [min_salary[i] for i in range(len(min_salary)) if i % 2 != 0]"
   ]
  },
  {
   "cell_type": "code",
   "execution_count": 72,
   "id": "1141fe8f",
   "metadata": {},
   "outputs": [
    {
     "data": {
      "text/plain": [
       "['₹ 36.0L',\n",
       " '₹ 25.5L',\n",
       " '₹ 25.0L',\n",
       " '₹ 22.0L',\n",
       " '₹ 22.6L',\n",
       " '₹ 26.2L',\n",
       " '₹ 22.0L',\n",
       " '₹ 20.0L',\n",
       " '₹ 21.1L',\n",
       " '₹ 21.0L']"
      ]
     },
     "execution_count": 72,
     "metadata": {},
     "output_type": "execute_result"
    }
   ],
   "source": [
    "max_salary"
   ]
  },
  {
   "cell_type": "code",
   "execution_count": 73,
   "id": "7ccd1e3c",
   "metadata": {},
   "outputs": [],
   "source": [
    "min_salary = [min_salary[i] for i in range(len(min_salary)) if i % 2 != 1]"
   ]
  },
  {
   "cell_type": "code",
   "execution_count": 74,
   "id": "9908b1ad",
   "metadata": {},
   "outputs": [
    {
     "data": {
      "text/plain": [
       "['₹ 25.0L',\n",
       " '₹ 15.0L',\n",
       " '₹ 14.1L',\n",
       " '₹ 11.0L',\n",
       " '₹ 11.0L',\n",
       " '₹ 5.6L',\n",
       " '₹ 10.0L',\n",
       " '₹ 9.0L',\n",
       " '₹ 8.3L',\n",
       " '₹ 8.9L']"
      ]
     },
     "execution_count": 74,
     "metadata": {},
     "output_type": "execute_result"
    }
   ],
   "source": [
    "min_salary"
   ]
  },
  {
   "cell_type": "code",
   "execution_count": 76,
   "id": "240de4d4",
   "metadata": {},
   "outputs": [
    {
     "data": {
      "text/plain": [
       "[<selenium.webdriver.remote.webelement.WebElement (session=\"f517f19fb38890d69eab44a9a8d2aa00\", element=\"d81046ee-df39-4abd-982f-6a584741e957\")>,\n",
       " <selenium.webdriver.remote.webelement.WebElement (session=\"f517f19fb38890d69eab44a9a8d2aa00\", element=\"b9bfd3cb-70ba-49c9-88e3-9a81736b8d28\")>,\n",
       " <selenium.webdriver.remote.webelement.WebElement (session=\"f517f19fb38890d69eab44a9a8d2aa00\", element=\"d24c6aac-30fd-4849-8a26-0fed403c32bf\")>,\n",
       " <selenium.webdriver.remote.webelement.WebElement (session=\"f517f19fb38890d69eab44a9a8d2aa00\", element=\"8cef7512-2336-49fa-af07-c9b0c6be9d53\")>,\n",
       " <selenium.webdriver.remote.webelement.WebElement (session=\"f517f19fb38890d69eab44a9a8d2aa00\", element=\"45c68e04-1e0e-46c5-b3fe-fd9e6b248f64\")>,\n",
       " <selenium.webdriver.remote.webelement.WebElement (session=\"f517f19fb38890d69eab44a9a8d2aa00\", element=\"2f0959de-536e-49f4-98b9-f72589e16f67\")>,\n",
       " <selenium.webdriver.remote.webelement.WebElement (session=\"f517f19fb38890d69eab44a9a8d2aa00\", element=\"a67f67ea-d044-449d-ad93-4c6addbc57c7\")>,\n",
       " <selenium.webdriver.remote.webelement.WebElement (session=\"f517f19fb38890d69eab44a9a8d2aa00\", element=\"95cdc5ff-89b0-4411-bb31-6e13625484bc\")>,\n",
       " <selenium.webdriver.remote.webelement.WebElement (session=\"f517f19fb38890d69eab44a9a8d2aa00\", element=\"b136eab3-538c-4b6e-8ae0-faddeb8b0c0a\")>,\n",
       " <selenium.webdriver.remote.webelement.WebElement (session=\"f517f19fb38890d69eab44a9a8d2aa00\", element=\"b1b334d7-0815-4fd6-bcdb-efca7c8aea77\")>]"
      ]
     },
     "execution_count": 76,
     "metadata": {},
     "output_type": "execute_result"
    }
   ],
   "source": [
    "avg_tags=driver.find_elements_by_xpath(\"//p[@class='averageCtc']\")\n",
    "avg_tags"
   ]
  },
  {
   "cell_type": "code",
   "execution_count": 77,
   "id": "c74f553b",
   "metadata": {},
   "outputs": [
    {
     "data": {
      "text/plain": [
       "['₹ 30.2L',\n",
       " '₹ 20.6L',\n",
       " '₹ 19.9L',\n",
       " '₹ 16.7L',\n",
       " '₹ 16.1L',\n",
       " '₹ 15.7L',\n",
       " '₹ 15.4L',\n",
       " '₹ 14.8L',\n",
       " '₹ 14.0L',\n",
       " '₹ 13.3L']"
      ]
     },
     "execution_count": 77,
     "metadata": {},
     "output_type": "execute_result"
    }
   ],
   "source": [
    "for i in avg_tags:\n",
    "    salary=i.text\n",
    "    avg_salary.append(salary)\n",
    "avg_salary    "
   ]
  },
  {
   "cell_type": "code",
   "execution_count": 79,
   "id": "4fc1ed5a",
   "metadata": {},
   "outputs": [
    {
     "data": {
      "text/plain": [
       "[<selenium.webdriver.remote.webelement.WebElement (session=\"f517f19fb38890d69eab44a9a8d2aa00\", element=\"cfea8924-d56e-4ddc-90c3-3513e1e95729\")>,\n",
       " <selenium.webdriver.remote.webelement.WebElement (session=\"f517f19fb38890d69eab44a9a8d2aa00\", element=\"7e22fab2-1303-49df-9f42-20cd9f48d4e5\")>,\n",
       " <selenium.webdriver.remote.webelement.WebElement (session=\"f517f19fb38890d69eab44a9a8d2aa00\", element=\"c8ff968b-734e-4d87-b16b-214b2bfb1799\")>,\n",
       " <selenium.webdriver.remote.webelement.WebElement (session=\"f517f19fb38890d69eab44a9a8d2aa00\", element=\"686d6816-5fc6-45a8-9311-f56f9b903ac0\")>,\n",
       " <selenium.webdriver.remote.webelement.WebElement (session=\"f517f19fb38890d69eab44a9a8d2aa00\", element=\"0ac2c276-4d6a-4f5c-ac6d-b30e0b45c341\")>,\n",
       " <selenium.webdriver.remote.webelement.WebElement (session=\"f517f19fb38890d69eab44a9a8d2aa00\", element=\"02fe1019-d265-4385-b7f5-74501f089828\")>,\n",
       " <selenium.webdriver.remote.webelement.WebElement (session=\"f517f19fb38890d69eab44a9a8d2aa00\", element=\"ccacdf40-c7f3-4265-9051-1db2e279c670\")>,\n",
       " <selenium.webdriver.remote.webelement.WebElement (session=\"f517f19fb38890d69eab44a9a8d2aa00\", element=\"40e949a8-e05e-4e2a-8e68-4d92c184a8f2\")>,\n",
       " <selenium.webdriver.remote.webelement.WebElement (session=\"f517f19fb38890d69eab44a9a8d2aa00\", element=\"0e580506-6b17-4250-af2f-294598d859eb\")>,\n",
       " <selenium.webdriver.remote.webelement.WebElement (session=\"f517f19fb38890d69eab44a9a8d2aa00\", element=\"a083ae7a-b24d-4666-8fcf-ac7517fbda83\")>]"
      ]
     },
     "execution_count": 79,
     "metadata": {},
     "output_type": "execute_result"
    }
   ],
   "source": [
    "exp_tags=driver.find_elements_by_xpath(\"//div[@class='salaries sbold-list-header']\")\n",
    "exp_tags"
   ]
  },
  {
   "cell_type": "code",
   "execution_count": 92,
   "id": "c61bd0b3",
   "metadata": {},
   "outputs": [
    {
     "data": {
      "text/plain": [
       "['Data Scientist\\n . \\n3 yrs exp',\n",
       " 'Data Scientist\\n . \\n3-4 yrs exp',\n",
       " 'Data Scientist\\n . \\n4 yrs exp',\n",
       " 'Data Scientist\\n . \\n2 yrs exp',\n",
       " 'Data Scientist\\n . \\n3-4 yrs exp',\n",
       " 'Data Scientist\\n . \\n3-4 yrs exp',\n",
       " 'Data Scientist\\n . \\n2-4 yrs exp',\n",
       " 'Data Scientist\\n . \\n2-4 yrs exp',\n",
       " 'Data Scientist\\n . \\n2-4 yrs exp',\n",
       " 'Data Scientist\\n . \\n4 yrs exp',\n",
       " 'Data Scientist\\n . \\n3 yrs exp',\n",
       " 'Data Scientist\\n . \\n3-4 yrs exp',\n",
       " 'Data Scientist\\n . \\n4 yrs exp',\n",
       " 'Data Scientist\\n . \\n2 yrs exp',\n",
       " 'Data Scientist\\n . \\n3-4 yrs exp',\n",
       " 'Data Scientist\\n . \\n3-4 yrs exp',\n",
       " 'Data Scientist\\n . \\n2-4 yrs exp',\n",
       " 'Data Scientist\\n . \\n2-4 yrs exp',\n",
       " 'Data Scientist\\n . \\n2-4 yrs exp',\n",
       " 'Data Scientist\\n . \\n4 yrs exp',\n",
       " 'Data Scientist\\n . \\n3 yrs exp',\n",
       " 'Data Scientist\\n . \\n3-4 yrs exp',\n",
       " 'Data Scientist\\n . \\n4 yrs exp',\n",
       " 'Data Scientist\\n . \\n2 yrs exp',\n",
       " 'Data Scientist\\n . \\n3-4 yrs exp',\n",
       " 'Data Scientist\\n . \\n3-4 yrs exp',\n",
       " 'Data Scientist\\n . \\n2-4 yrs exp',\n",
       " 'Data Scientist\\n . \\n2-4 yrs exp',\n",
       " 'Data Scientist\\n . \\n2-4 yrs exp',\n",
       " 'Data Scientist\\n . \\n4 yrs exp',\n",
       " 'Data Scientist\\n . \\n3 yrs exp',\n",
       " 'Data Scientist\\n . \\n3-4 yrs exp',\n",
       " 'Data Scientist\\n . \\n4 yrs exp',\n",
       " 'Data Scientist\\n . \\n2 yrs exp',\n",
       " 'Data Scientist\\n . \\n3-4 yrs exp',\n",
       " 'Data Scientist\\n . \\n3-4 yrs exp',\n",
       " 'Data Scientist\\n . \\n2-4 yrs exp',\n",
       " 'Data Scientist\\n . \\n2-4 yrs exp',\n",
       " 'Data Scientist\\n . \\n2-4 yrs exp',\n",
       " 'Data Scientist\\n . \\n4 yrs exp']"
      ]
     },
     "execution_count": 92,
     "metadata": {},
     "output_type": "execute_result"
    }
   ],
   "source": [
    "for i in exp_tags:\n",
    "    experience=i.text\n",
    "    exp_required.append(experience)\n",
    "exp_required"
   ]
  },
  {
   "cell_type": "code",
   "execution_count": 98,
   "id": "288b15c7",
   "metadata": {},
   "outputs": [],
   "source": [
    "experience=exp_required[0:10]"
   ]
  },
  {
   "cell_type": "code",
   "execution_count": 99,
   "id": "bb742cc3",
   "metadata": {},
   "outputs": [
    {
     "data": {
      "text/plain": [
       "['Data Scientist\\n . \\n3 yrs exp',\n",
       " 'Data Scientist\\n . \\n3-4 yrs exp',\n",
       " 'Data Scientist\\n . \\n4 yrs exp',\n",
       " 'Data Scientist\\n . \\n2 yrs exp',\n",
       " 'Data Scientist\\n . \\n3-4 yrs exp',\n",
       " 'Data Scientist\\n . \\n3-4 yrs exp',\n",
       " 'Data Scientist\\n . \\n2-4 yrs exp',\n",
       " 'Data Scientist\\n . \\n2-4 yrs exp',\n",
       " 'Data Scientist\\n . \\n2-4 yrs exp',\n",
       " 'Data Scientist\\n . \\n4 yrs exp']"
      ]
     },
     "execution_count": 99,
     "metadata": {},
     "output_type": "execute_result"
    }
   ],
   "source": [
    "experience"
   ]
  },
  {
   "cell_type": "code",
   "execution_count": 100,
   "id": "f6548116",
   "metadata": {},
   "outputs": [
    {
     "name": "stdout",
     "output_type": "stream",
     "text": [
      "10 10 10 10 10\n"
     ]
    }
   ],
   "source": [
    "print(len(company_name),len(max_salary),len(min_salary),len(avg_salary),len(experience))"
   ]
  },
  {
   "cell_type": "code",
   "execution_count": 101,
   "id": "f8509c35",
   "metadata": {},
   "outputs": [
    {
     "data": {
      "text/html": [
       "<div>\n",
       "<style scoped>\n",
       "    .dataframe tbody tr th:only-of-type {\n",
       "        vertical-align: middle;\n",
       "    }\n",
       "\n",
       "    .dataframe tbody tr th {\n",
       "        vertical-align: top;\n",
       "    }\n",
       "\n",
       "    .dataframe thead th {\n",
       "        text-align: right;\n",
       "    }\n",
       "</style>\n",
       "<table border=\"1\" class=\"dataframe\">\n",
       "  <thead>\n",
       "    <tr style=\"text-align: right;\">\n",
       "      <th></th>\n",
       "      <th>company_name with total_salaries</th>\n",
       "      <th>minimum_salary</th>\n",
       "      <th>average_salary</th>\n",
       "      <th>maximum_salary</th>\n",
       "      <th>experience</th>\n",
       "    </tr>\n",
       "  </thead>\n",
       "  <tbody>\n",
       "    <tr>\n",
       "      <th>0</th>\n",
       "      <td>Walmart\\nbased on 12 salaries</td>\n",
       "      <td>₹ 25.0L</td>\n",
       "      <td>₹ 30.2L</td>\n",
       "      <td>₹ 36.0L</td>\n",
       "      <td>Data Scientist\\n . \\n3 yrs exp</td>\n",
       "    </tr>\n",
       "    <tr>\n",
       "      <th>1</th>\n",
       "      <td>Ab Inbev\\nbased on 33 salaries</td>\n",
       "      <td>₹ 15.0L</td>\n",
       "      <td>₹ 20.6L</td>\n",
       "      <td>₹ 25.5L</td>\n",
       "      <td>Data Scientist\\n . \\n3-4 yrs exp</td>\n",
       "    </tr>\n",
       "    <tr>\n",
       "      <th>2</th>\n",
       "      <td>American Express\\nbased on 10 salaries</td>\n",
       "      <td>₹ 14.1L</td>\n",
       "      <td>₹ 19.9L</td>\n",
       "      <td>₹ 25.0L</td>\n",
       "      <td>Data Scientist\\n . \\n4 yrs exp</td>\n",
       "    </tr>\n",
       "    <tr>\n",
       "      <th>3</th>\n",
       "      <td>ZS\\nbased on 15 salaries</td>\n",
       "      <td>₹ 11.0L</td>\n",
       "      <td>₹ 16.7L</td>\n",
       "      <td>₹ 22.0L</td>\n",
       "      <td>Data Scientist\\n . \\n2 yrs exp</td>\n",
       "    </tr>\n",
       "    <tr>\n",
       "      <th>4</th>\n",
       "      <td>Optum\\nbased on 33 salaries</td>\n",
       "      <td>₹ 11.0L</td>\n",
       "      <td>₹ 16.1L</td>\n",
       "      <td>₹ 22.6L</td>\n",
       "      <td>Data Scientist\\n . \\n3-4 yrs exp</td>\n",
       "    </tr>\n",
       "    <tr>\n",
       "      <th>5</th>\n",
       "      <td>Reliance Jio\\nbased on 21 salaries</td>\n",
       "      <td>₹ 5.6L</td>\n",
       "      <td>₹ 15.7L</td>\n",
       "      <td>₹ 26.2L</td>\n",
       "      <td>Data Scientist\\n . \\n3-4 yrs exp</td>\n",
       "    </tr>\n",
       "    <tr>\n",
       "      <th>6</th>\n",
       "      <td>Fractal Analytics\\nbased on 83 salaries</td>\n",
       "      <td>₹ 10.0L</td>\n",
       "      <td>₹ 15.4L</td>\n",
       "      <td>₹ 22.0L</td>\n",
       "      <td>Data Scientist\\n . \\n2-4 yrs exp</td>\n",
       "    </tr>\n",
       "    <tr>\n",
       "      <th>7</th>\n",
       "      <td>Tiger Analytics\\nbased on 50 salaries</td>\n",
       "      <td>₹ 9.0L</td>\n",
       "      <td>₹ 14.8L</td>\n",
       "      <td>₹ 20.0L</td>\n",
       "      <td>Data Scientist\\n . \\n2-4 yrs exp</td>\n",
       "    </tr>\n",
       "    <tr>\n",
       "      <th>8</th>\n",
       "      <td>UnitedHealth\\nbased on 57 salaries</td>\n",
       "      <td>₹ 8.3L</td>\n",
       "      <td>₹ 14.0L</td>\n",
       "      <td>₹ 21.1L</td>\n",
       "      <td>Data Scientist\\n . \\n2-4 yrs exp</td>\n",
       "    </tr>\n",
       "    <tr>\n",
       "      <th>9</th>\n",
       "      <td>EXL Service\\nbased on 10 salaries</td>\n",
       "      <td>₹ 8.9L</td>\n",
       "      <td>₹ 13.3L</td>\n",
       "      <td>₹ 21.0L</td>\n",
       "      <td>Data Scientist\\n . \\n4 yrs exp</td>\n",
       "    </tr>\n",
       "  </tbody>\n",
       "</table>\n",
       "</div>"
      ],
      "text/plain": [
       "          company_name with total_salaries minimum_salary average_salary  \\\n",
       "0            Walmart\\nbased on 12 salaries        ₹ 25.0L        ₹ 30.2L   \n",
       "1           Ab Inbev\\nbased on 33 salaries        ₹ 15.0L        ₹ 20.6L   \n",
       "2   American Express\\nbased on 10 salaries        ₹ 14.1L        ₹ 19.9L   \n",
       "3                 ZS\\nbased on 15 salaries        ₹ 11.0L        ₹ 16.7L   \n",
       "4              Optum\\nbased on 33 salaries        ₹ 11.0L        ₹ 16.1L   \n",
       "5       Reliance Jio\\nbased on 21 salaries         ₹ 5.6L        ₹ 15.7L   \n",
       "6  Fractal Analytics\\nbased on 83 salaries        ₹ 10.0L        ₹ 15.4L   \n",
       "7    Tiger Analytics\\nbased on 50 salaries         ₹ 9.0L        ₹ 14.8L   \n",
       "8       UnitedHealth\\nbased on 57 salaries         ₹ 8.3L        ₹ 14.0L   \n",
       "9        EXL Service\\nbased on 10 salaries         ₹ 8.9L        ₹ 13.3L   \n",
       "\n",
       "  maximum_salary                        experience  \n",
       "0        ₹ 36.0L    Data Scientist\\n . \\n3 yrs exp  \n",
       "1        ₹ 25.5L  Data Scientist\\n . \\n3-4 yrs exp  \n",
       "2        ₹ 25.0L    Data Scientist\\n . \\n4 yrs exp  \n",
       "3        ₹ 22.0L    Data Scientist\\n . \\n2 yrs exp  \n",
       "4        ₹ 22.6L  Data Scientist\\n . \\n3-4 yrs exp  \n",
       "5        ₹ 26.2L  Data Scientist\\n . \\n3-4 yrs exp  \n",
       "6        ₹ 22.0L  Data Scientist\\n . \\n2-4 yrs exp  \n",
       "7        ₹ 20.0L  Data Scientist\\n . \\n2-4 yrs exp  \n",
       "8        ₹ 21.1L  Data Scientist\\n . \\n2-4 yrs exp  \n",
       "9        ₹ 21.0L    Data Scientist\\n . \\n4 yrs exp  "
      ]
     },
     "execution_count": 101,
     "metadata": {},
     "output_type": "execute_result"
    }
   ],
   "source": [
    "df=pd.DataFrame({'company_name with total_salaries':company_name,'minimum_salary':min_salary,'average_salary':avg_salary,'maximum_salary':max_salary,'experience':experience})\n",
    "df"
   ]
  }
 ],
 "metadata": {
  "kernelspec": {
   "display_name": "Python 3 (ipykernel)",
   "language": "python",
   "name": "python3"
  },
  "language_info": {
   "codemirror_mode": {
    "name": "ipython",
    "version": 3
   },
   "file_extension": ".py",
   "mimetype": "text/x-python",
   "name": "python",
   "nbconvert_exporter": "python",
   "pygments_lexer": "ipython3",
   "version": "3.9.7"
  }
 },
 "nbformat": 4,
 "nbformat_minor": 5
}
