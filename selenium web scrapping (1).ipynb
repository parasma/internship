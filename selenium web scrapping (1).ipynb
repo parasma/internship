{
 "cells": [
  {
   "cell_type": "code",
   "execution_count": 2,
   "id": "9aea47cd",
   "metadata": {},
   "outputs": [
    {
     "name": "stdout",
     "output_type": "stream",
     "text": [
      "Requirement already satisfied: selenium in c:\\users\\dell\\anaconda3\\lib\\site-packages (4.2.0)\n",
      "Requirement already satisfied: trio-websocket~=0.9 in c:\\users\\dell\\anaconda3\\lib\\site-packages (from selenium) (0.9.2)\n",
      "Requirement already satisfied: trio~=0.17 in c:\\users\\dell\\anaconda3\\lib\\site-packages (from selenium) (0.21.0)\n",
      "Requirement already satisfied: urllib3[secure,socks]~=1.26 in c:\\users\\dell\\anaconda3\\lib\\site-packages (from selenium) (1.26.7)\n",
      "Requirement already satisfied: sortedcontainers in c:\\users\\dell\\anaconda3\\lib\\site-packages (from trio~=0.17->selenium) (2.4.0)\n",
      "Requirement already satisfied: attrs>=19.2.0 in c:\\users\\dell\\anaconda3\\lib\\site-packages (from trio~=0.17->selenium) (21.2.0)\n",
      "Requirement already satisfied: async-generator>=1.9 in c:\\users\\dell\\anaconda3\\lib\\site-packages (from trio~=0.17->selenium) (1.10)\n",
      "Requirement already satisfied: cffi>=1.14 in c:\\users\\dell\\anaconda3\\lib\\site-packages (from trio~=0.17->selenium) (1.14.6)\n",
      "Requirement already satisfied: outcome in c:\\users\\dell\\anaconda3\\lib\\site-packages (from trio~=0.17->selenium) (1.1.0)\n",
      "Requirement already satisfied: idna in c:\\users\\dell\\anaconda3\\lib\\site-packages (from trio~=0.17->selenium) (3.2)\n",
      "Requirement already satisfied: sniffio in c:\\users\\dell\\anaconda3\\lib\\site-packages (from trio~=0.17->selenium) (1.2.0)\n",
      "Requirement already satisfied: pycparser in c:\\users\\dell\\anaconda3\\lib\\site-packages (from cffi>=1.14->trio~=0.17->selenium) (2.20)\n",
      "Requirement already satisfied: wsproto>=0.14 in c:\\users\\dell\\anaconda3\\lib\\site-packages (from trio-websocket~=0.9->selenium) (1.1.0)\n",
      "Requirement already satisfied: pyOpenSSL>=0.14 in c:\\users\\dell\\anaconda3\\lib\\site-packages (from urllib3[secure,socks]~=1.26->selenium) (21.0.0)\n",
      "Requirement already satisfied: cryptography>=1.3.4 in c:\\users\\dell\\anaconda3\\lib\\site-packages (from urllib3[secure,socks]~=1.26->selenium) (3.4.8)\n",
      "Requirement already satisfied: certifi in c:\\users\\dell\\anaconda3\\lib\\site-packages (from urllib3[secure,socks]~=1.26->selenium) (2021.10.8)\n",
      "Requirement already satisfied: PySocks!=1.5.7,<2.0,>=1.5.6 in c:\\users\\dell\\anaconda3\\lib\\site-packages (from urllib3[secure,socks]~=1.26->selenium) (1.7.1)\n",
      "Requirement already satisfied: six>=1.5.2 in c:\\users\\dell\\anaconda3\\lib\\site-packages (from pyOpenSSL>=0.14->urllib3[secure,socks]~=1.26->selenium) (1.16.0)\n",
      "Requirement already satisfied: h11<1,>=0.9.0 in c:\\users\\dell\\anaconda3\\lib\\site-packages (from wsproto>=0.14->trio-websocket~=0.9->selenium) (0.13.0)\n"
     ]
    }
   ],
   "source": [
    "! pip install selenium"
   ]
  },
  {
   "cell_type": "code",
   "execution_count": 3,
   "id": "f49b7745",
   "metadata": {},
   "outputs": [],
   "source": [
    "import selenium\n",
    "import pandas as pd\n",
    "from selenium import webdriver\n",
    "import warnings\n",
    "warnings.filterwarnings(\"ignore\")\n",
    "import time"
   ]
  },
  {
   "cell_type": "code",
   "execution_count": 4,
   "id": "ed13f6ff",
   "metadata": {},
   "outputs": [],
   "source": [
    "driver=webdriver.Chrome(r\"C:\\web driver\\chromedriver.exe\")"
   ]
  },
  {
   "cell_type": "code",
   "execution_count": 5,
   "id": "8289890f",
   "metadata": {},
   "outputs": [],
   "source": [
    "driver=webdriver.Chrome(\"chromedriver.exe\")"
   ]
  },
  {
   "cell_type": "code",
   "execution_count": 6,
   "id": "c921a26f",
   "metadata": {},
   "outputs": [],
   "source": [
    "driver=webdriver.Chrome(\"chromedriver.exe\")\n",
    "time.sleep(2)"
   ]
  },
  {
   "cell_type": "code",
   "execution_count": null,
   "id": "aabdaaf0",
   "metadata": {},
   "outputs": [],
   "source": []
  },
  {
   "cell_type": "code",
   "execution_count": 8,
   "id": "efb785e0",
   "metadata": {},
   "outputs": [],
   "source": [
    "driver.get('https://www.naukri.com/')"
   ]
  },
  {
   "cell_type": "code",
   "execution_count": 9,
   "id": "8740bce1",
   "metadata": {},
   "outputs": [],
   "source": [
    "search_field_designation=driver.find_element_by_class_name(\"suggestor-input \")\n",
    "search_field_designation.send_keys(\"Data Analyst\")"
   ]
  },
  {
   "cell_type": "code",
   "execution_count": 10,
   "id": "632dc1cc",
   "metadata": {},
   "outputs": [],
   "source": [
    "search_field_location=driver.find_element_by_xpath('/html/body/div/div[2]/div[3]/div/div/div[5]/div/div/div/input')\n",
    "search_field_location.send_keys(\"Bangalore\")"
   ]
  },
  {
   "cell_type": "code",
   "execution_count": 11,
   "id": "67a836cd",
   "metadata": {},
   "outputs": [],
   "source": [
    "search_button=driver.find_element_by_xpath(\"/html/body/div/div[2]/div[3]/div/div/div[6]\")\n",
    "search_button.click()"
   ]
  },
  {
   "cell_type": "code",
   "execution_count": 12,
   "id": "545b9e62",
   "metadata": {},
   "outputs": [],
   "source": [
    "job_titles=[]\n",
    "locations_list=[]\n",
    "company_name=[]\n",
    "experience_required=[]\n"
   ]
  },
  {
   "cell_type": "code",
   "execution_count": 13,
   "id": "1c9859de",
   "metadata": {},
   "outputs": [
    {
     "data": {
      "text/plain": [
       "[<selenium.webdriver.remote.webelement.WebElement (session=\"e96455432af84c7c1baeead249b05608\", element=\"4a57008b-c69e-472f-8cd8-97aef0aa5f08\")>,\n",
       " <selenium.webdriver.remote.webelement.WebElement (session=\"e96455432af84c7c1baeead249b05608\", element=\"d246557a-b2ba-46d8-965b-057000aa7cde\")>,\n",
       " <selenium.webdriver.remote.webelement.WebElement (session=\"e96455432af84c7c1baeead249b05608\", element=\"22e22484-f7a0-45b3-8345-1daf1e25a2ed\")>,\n",
       " <selenium.webdriver.remote.webelement.WebElement (session=\"e96455432af84c7c1baeead249b05608\", element=\"677477c6-c564-4dd1-a665-23c991d363de\")>,\n",
       " <selenium.webdriver.remote.webelement.WebElement (session=\"e96455432af84c7c1baeead249b05608\", element=\"495fc3fe-2a22-4c5d-ac04-6044d892cc8d\")>,\n",
       " <selenium.webdriver.remote.webelement.WebElement (session=\"e96455432af84c7c1baeead249b05608\", element=\"bd4bca75-77b4-4e3d-98c7-4434ee944842\")>,\n",
       " <selenium.webdriver.remote.webelement.WebElement (session=\"e96455432af84c7c1baeead249b05608\", element=\"7eeac237-c293-4d3b-9bcb-8600d2427139\")>,\n",
       " <selenium.webdriver.remote.webelement.WebElement (session=\"e96455432af84c7c1baeead249b05608\", element=\"814aad68-0e2b-4d08-90ad-47fb5990afc5\")>,\n",
       " <selenium.webdriver.remote.webelement.WebElement (session=\"e96455432af84c7c1baeead249b05608\", element=\"72200586-2c97-47be-936b-4eabd781aa24\")>,\n",
       " <selenium.webdriver.remote.webelement.WebElement (session=\"e96455432af84c7c1baeead249b05608\", element=\"230bebeb-1d2e-4ff4-88a4-8322a4578333\")>]"
      ]
     },
     "execution_count": 13,
     "metadata": {},
     "output_type": "execute_result"
    }
   ],
   "source": [
    "title_tags=driver.find_elements_by_xpath(\"//a[@class='title fw500 ellipsis']\")\n",
    "title_tags[0:10]"
   ]
  },
  {
   "cell_type": "code",
   "execution_count": 14,
   "id": "3de47fb3",
   "metadata": {},
   "outputs": [
    {
     "data": {
      "text/plain": [
       "['Business Data Analyst',\n",
       " 'EY GDS Data Analyst-Finland based project',\n",
       " 'Business & Data Analyst - Alteryx (London)',\n",
       " 'Data Analyst - Data and Analytics',\n",
       " 'Senior Data Analyst',\n",
       " 'Senior Data Analyst',\n",
       " 'Data Analyst (CSD)',\n",
       " 'Data Analyst - Data Science, 3 To 5 Years',\n",
       " 'Data Analyst / Business Analyst',\n",
       " 'SAS/SQL - Healthcare Data Analyst - Bangalore']"
      ]
     },
     "execution_count": 14,
     "metadata": {},
     "output_type": "execute_result"
    }
   ],
   "source": [
    "for i in title_tags:\n",
    "    title=i.text\n",
    "    job_titles.append(title)\n",
    "job_titles[0:10]    \n",
    "    "
   ]
  },
  {
   "cell_type": "code",
   "execution_count": 15,
   "id": "827983b8",
   "metadata": {},
   "outputs": [
    {
     "data": {
      "text/plain": [
       "[<selenium.webdriver.remote.webelement.WebElement (session=\"e96455432af84c7c1baeead249b05608\", element=\"704047a4-97f0-47fc-9033-405778f76f7e\")>,\n",
       " <selenium.webdriver.remote.webelement.WebElement (session=\"e96455432af84c7c1baeead249b05608\", element=\"c5a63b9d-ff2b-406c-8185-5c3be1b13a54\")>,\n",
       " <selenium.webdriver.remote.webelement.WebElement (session=\"e96455432af84c7c1baeead249b05608\", element=\"af0e928f-38a9-4fa8-95bb-95c2be01209e\")>,\n",
       " <selenium.webdriver.remote.webelement.WebElement (session=\"e96455432af84c7c1baeead249b05608\", element=\"10c38881-68d5-401c-aaff-f10c31603b06\")>,\n",
       " <selenium.webdriver.remote.webelement.WebElement (session=\"e96455432af84c7c1baeead249b05608\", element=\"31b90dde-e312-487c-b03c-5d2e065f22c9\")>,\n",
       " <selenium.webdriver.remote.webelement.WebElement (session=\"e96455432af84c7c1baeead249b05608\", element=\"cff8d6cf-8284-49cd-b93b-81d3f4ac7e79\")>,\n",
       " <selenium.webdriver.remote.webelement.WebElement (session=\"e96455432af84c7c1baeead249b05608\", element=\"8cfc264c-c1ee-4357-b747-0e268a6e3226\")>,\n",
       " <selenium.webdriver.remote.webelement.WebElement (session=\"e96455432af84c7c1baeead249b05608\", element=\"9f0f5855-5e77-4250-971c-3fb038f50c45\")>,\n",
       " <selenium.webdriver.remote.webelement.WebElement (session=\"e96455432af84c7c1baeead249b05608\", element=\"a8b5f13d-ec56-41b8-9afa-8414b9af8914\")>,\n",
       " <selenium.webdriver.remote.webelement.WebElement (session=\"e96455432af84c7c1baeead249b05608\", element=\"50c4373b-dc98-457b-87b8-270d345b9ea7\")>]"
      ]
     },
     "execution_count": 15,
     "metadata": {},
     "output_type": "execute_result"
    }
   ],
   "source": [
    "company_tags=driver.find_elements_by_xpath(\"//a[@class='subTitle ellipsis fleft']\")\n",
    "company_tags[0:10]"
   ]
  },
  {
   "cell_type": "code",
   "execution_count": 16,
   "id": "fd50f8d5",
   "metadata": {},
   "outputs": [
    {
     "data": {
      "text/plain": [
       "['NXP Semiconductors',\n",
       " 'EY',\n",
       " 'Imaginative Brains LLP',\n",
       " 'Intel',\n",
       " 'Flipkart',\n",
       " 'Walmart',\n",
       " 'Siemens',\n",
       " 'Rise Finconnect Private Limited',\n",
       " 'METRO Cash & Carry',\n",
       " 'Genpact']"
      ]
     },
     "execution_count": 16,
     "metadata": {},
     "output_type": "execute_result"
    }
   ],
   "source": [
    "for i in company_tags:\n",
    "    company=i.text\n",
    "    company_name.append(company)\n",
    "company_name[0:10] "
   ]
  },
  {
   "cell_type": "code",
   "execution_count": 17,
   "id": "c9fc8636",
   "metadata": {},
   "outputs": [
    {
     "data": {
      "text/plain": [
       "[<selenium.webdriver.remote.webelement.WebElement (session=\"e96455432af84c7c1baeead249b05608\", element=\"a9045be5-4a0a-44cd-9843-725a6dc96c08\")>,\n",
       " <selenium.webdriver.remote.webelement.WebElement (session=\"e96455432af84c7c1baeead249b05608\", element=\"4a201403-55fb-4f64-a707-8b77a496b8a8\")>,\n",
       " <selenium.webdriver.remote.webelement.WebElement (session=\"e96455432af84c7c1baeead249b05608\", element=\"706d6277-5585-4750-8c85-7a8ab4af7af9\")>,\n",
       " <selenium.webdriver.remote.webelement.WebElement (session=\"e96455432af84c7c1baeead249b05608\", element=\"0df6646e-e457-4896-ae61-1fe576e3e7c4\")>,\n",
       " <selenium.webdriver.remote.webelement.WebElement (session=\"e96455432af84c7c1baeead249b05608\", element=\"8d2f7206-9fd8-48fa-a318-4b8e29cc73f1\")>,\n",
       " <selenium.webdriver.remote.webelement.WebElement (session=\"e96455432af84c7c1baeead249b05608\", element=\"e66ca031-880e-4cd9-9aa3-5e3406db6594\")>,\n",
       " <selenium.webdriver.remote.webelement.WebElement (session=\"e96455432af84c7c1baeead249b05608\", element=\"485a3429-8fce-4a1a-b671-cb5cd98b7432\")>,\n",
       " <selenium.webdriver.remote.webelement.WebElement (session=\"e96455432af84c7c1baeead249b05608\", element=\"fe51954d-9bdf-4edf-8ab4-b22b0ad99e68\")>,\n",
       " <selenium.webdriver.remote.webelement.WebElement (session=\"e96455432af84c7c1baeead249b05608\", element=\"95643344-f6f4-4ccd-91f4-be3f417ef15a\")>,\n",
       " <selenium.webdriver.remote.webelement.WebElement (session=\"e96455432af84c7c1baeead249b05608\", element=\"d8b1ee6a-5f8e-481f-977c-4b4f700dfdda\")>]"
      ]
     },
     "execution_count": 17,
     "metadata": {},
     "output_type": "execute_result"
    }
   ],
   "source": [
    "location_tags=driver.find_elements_by_xpath(\"//li[@class='fleft grey-text br2 placeHolderLi location']/span[1]\")\n",
    "location_tags[0:10]"
   ]
  },
  {
   "cell_type": "code",
   "execution_count": 18,
   "id": "e3eee3d8",
   "metadata": {},
   "outputs": [
    {
     "data": {
      "text/plain": [
       "['Bangalore/Bengaluru',\n",
       " 'Bangalore/Bengaluru',\n",
       " 'Bangalore/Bengaluru, Delhi / NCR, Mumbai (All Areas)',\n",
       " 'Bangalore/Bengaluru',\n",
       " 'Bangalore/Bengaluru',\n",
       " 'Bangalore/Bengaluru',\n",
       " 'Bangalore/Bengaluru',\n",
       " 'Bangalore/Bengaluru',\n",
       " 'Bangalore/Bengaluru',\n",
       " 'Bangalore/Bengaluru']"
      ]
     },
     "execution_count": 18,
     "metadata": {},
     "output_type": "execute_result"
    }
   ],
   "source": [
    "for i in location_tags:\n",
    "        locations=i.text\n",
    "        locations_list.append(locations)\n",
    "locations_list[0:10] "
   ]
  },
  {
   "cell_type": "code",
   "execution_count": 19,
   "id": "5564a72f",
   "metadata": {},
   "outputs": [
    {
     "data": {
      "text/plain": [
       "[<selenium.webdriver.remote.webelement.WebElement (session=\"e96455432af84c7c1baeead249b05608\", element=\"390202a5-f2af-4d81-aec7-27e099cc1840\")>,\n",
       " <selenium.webdriver.remote.webelement.WebElement (session=\"e96455432af84c7c1baeead249b05608\", element=\"7bb69e57-bb1d-4a72-be54-75f60ef36594\")>,\n",
       " <selenium.webdriver.remote.webelement.WebElement (session=\"e96455432af84c7c1baeead249b05608\", element=\"5f4d85f1-fa7c-402e-8a97-75b9f39ea486\")>,\n",
       " <selenium.webdriver.remote.webelement.WebElement (session=\"e96455432af84c7c1baeead249b05608\", element=\"b4aebe51-d976-45a2-b24e-477168b8ddde\")>,\n",
       " <selenium.webdriver.remote.webelement.WebElement (session=\"e96455432af84c7c1baeead249b05608\", element=\"7cc6d82a-0a27-4d40-a81e-254b85d85601\")>,\n",
       " <selenium.webdriver.remote.webelement.WebElement (session=\"e96455432af84c7c1baeead249b05608\", element=\"7f7e2cff-e46a-4410-944e-795137d91860\")>,\n",
       " <selenium.webdriver.remote.webelement.WebElement (session=\"e96455432af84c7c1baeead249b05608\", element=\"60ba3fee-6184-4e34-9f91-dbd2b0d96d40\")>,\n",
       " <selenium.webdriver.remote.webelement.WebElement (session=\"e96455432af84c7c1baeead249b05608\", element=\"bfe332db-b5d7-4fcb-9296-bf2caec9a998\")>,\n",
       " <selenium.webdriver.remote.webelement.WebElement (session=\"e96455432af84c7c1baeead249b05608\", element=\"f80cc569-8af2-4569-9365-9a8afa96b698\")>,\n",
       " <selenium.webdriver.remote.webelement.WebElement (session=\"e96455432af84c7c1baeead249b05608\", element=\"6a76988c-e282-4cf6-9878-10a129ace457\")>]"
      ]
     },
     "execution_count": 19,
     "metadata": {},
     "output_type": "execute_result"
    }
   ],
   "source": [
    "experience_tags=driver.find_elements_by_xpath(\"//li[@class='fleft grey-text br2 placeHolderLi experience']/span\")\n",
    "experience_tags[0:10]"
   ]
  },
  {
   "cell_type": "code",
   "execution_count": 20,
   "id": "13de437f",
   "metadata": {},
   "outputs": [
    {
     "data": {
      "text/plain": [
       "['2-5 Yrs',\n",
       " '0-1 Yrs',\n",
       " '5-10 Yrs',\n",
       " '3-6 Yrs',\n",
       " '3-7 Yrs',\n",
       " '4-7 Yrs',\n",
       " '2-6 Yrs',\n",
       " '2-6 Yrs',\n",
       " '3-8 Yrs',\n",
       " '7-10 Yrs']"
      ]
     },
     "execution_count": 20,
     "metadata": {},
     "output_type": "execute_result"
    }
   ],
   "source": [
    "for i in experience_tags:\n",
    "    experience=i.text\n",
    "    experience_required.append(experience)\n",
    "experience_required[0:10] "
   ]
  },
  {
   "cell_type": "code",
   "execution_count": 21,
   "id": "c2da8ada",
   "metadata": {},
   "outputs": [
    {
     "name": "stdout",
     "output_type": "stream",
     "text": [
      "20 20 20 20\n"
     ]
    }
   ],
   "source": [
    "print(len(job_titles),len(locations_list),len(experience_required),len(company_name))"
   ]
  },
  {
   "cell_type": "code",
   "execution_count": 22,
   "id": "664b602d",
   "metadata": {},
   "outputs": [
    {
     "data": {
      "text/html": [
       "<div>\n",
       "<style scoped>\n",
       "    .dataframe tbody tr th:only-of-type {\n",
       "        vertical-align: middle;\n",
       "    }\n",
       "\n",
       "    .dataframe tbody tr th {\n",
       "        vertical-align: top;\n",
       "    }\n",
       "\n",
       "    .dataframe thead th {\n",
       "        text-align: right;\n",
       "    }\n",
       "</style>\n",
       "<table border=\"1\" class=\"dataframe\">\n",
       "  <thead>\n",
       "    <tr style=\"text-align: right;\">\n",
       "      <th></th>\n",
       "      <th>Title</th>\n",
       "      <th>Company</th>\n",
       "      <th>Location</th>\n",
       "      <th>Experience</th>\n",
       "    </tr>\n",
       "  </thead>\n",
       "  <tbody>\n",
       "    <tr>\n",
       "      <th>0</th>\n",
       "      <td>Business Data Analyst</td>\n",
       "      <td>NXP Semiconductors</td>\n",
       "      <td>Bangalore/Bengaluru</td>\n",
       "      <td>2-5 Yrs</td>\n",
       "    </tr>\n",
       "    <tr>\n",
       "      <th>1</th>\n",
       "      <td>EY GDS Data Analyst-Finland based project</td>\n",
       "      <td>EY</td>\n",
       "      <td>Bangalore/Bengaluru</td>\n",
       "      <td>0-1 Yrs</td>\n",
       "    </tr>\n",
       "    <tr>\n",
       "      <th>2</th>\n",
       "      <td>Business &amp; Data Analyst - Alteryx (London)</td>\n",
       "      <td>Imaginative Brains LLP</td>\n",
       "      <td>Bangalore/Bengaluru, Delhi / NCR, Mumbai (All ...</td>\n",
       "      <td>5-10 Yrs</td>\n",
       "    </tr>\n",
       "    <tr>\n",
       "      <th>3</th>\n",
       "      <td>Data Analyst - Data and Analytics</td>\n",
       "      <td>Intel</td>\n",
       "      <td>Bangalore/Bengaluru</td>\n",
       "      <td>3-6 Yrs</td>\n",
       "    </tr>\n",
       "    <tr>\n",
       "      <th>4</th>\n",
       "      <td>Senior Data Analyst</td>\n",
       "      <td>Flipkart</td>\n",
       "      <td>Bangalore/Bengaluru</td>\n",
       "      <td>3-7 Yrs</td>\n",
       "    </tr>\n",
       "    <tr>\n",
       "      <th>5</th>\n",
       "      <td>Senior Data Analyst</td>\n",
       "      <td>Walmart</td>\n",
       "      <td>Bangalore/Bengaluru</td>\n",
       "      <td>4-7 Yrs</td>\n",
       "    </tr>\n",
       "    <tr>\n",
       "      <th>6</th>\n",
       "      <td>Data Analyst (CSD)</td>\n",
       "      <td>Siemens</td>\n",
       "      <td>Bangalore/Bengaluru</td>\n",
       "      <td>2-6 Yrs</td>\n",
       "    </tr>\n",
       "    <tr>\n",
       "      <th>7</th>\n",
       "      <td>Data Analyst - Data Science, 3 To 5 Years</td>\n",
       "      <td>Rise Finconnect Private Limited</td>\n",
       "      <td>Bangalore/Bengaluru</td>\n",
       "      <td>2-6 Yrs</td>\n",
       "    </tr>\n",
       "    <tr>\n",
       "      <th>8</th>\n",
       "      <td>Data Analyst / Business Analyst</td>\n",
       "      <td>METRO Cash &amp; Carry</td>\n",
       "      <td>Bangalore/Bengaluru</td>\n",
       "      <td>3-8 Yrs</td>\n",
       "    </tr>\n",
       "    <tr>\n",
       "      <th>9</th>\n",
       "      <td>SAS/SQL - Healthcare Data Analyst - Bangalore</td>\n",
       "      <td>Genpact</td>\n",
       "      <td>Bangalore/Bengaluru</td>\n",
       "      <td>7-10 Yrs</td>\n",
       "    </tr>\n",
       "    <tr>\n",
       "      <th>10</th>\n",
       "      <td>Genpact Hiring For Data Analyst</td>\n",
       "      <td>Genpact</td>\n",
       "      <td>Bangalore/Bengaluru</td>\n",
       "      <td>2-6 Yrs</td>\n",
       "    </tr>\n",
       "    <tr>\n",
       "      <th>11</th>\n",
       "      <td>data analyst/ data analytics / Business analys...</td>\n",
       "      <td>Leading US MNC into Analytics</td>\n",
       "      <td>Gurgaon/Gurugram, Bangalore/Bengaluru, Delhi /...</td>\n",
       "      <td>2-7 Yrs</td>\n",
       "    </tr>\n",
       "    <tr>\n",
       "      <th>12</th>\n",
       "      <td>Data analyst / Data scientist, AVP</td>\n",
       "      <td>Deutsche Bank</td>\n",
       "      <td>Bangalore/Bengaluru</td>\n",
       "      <td>6-11 Yrs</td>\n",
       "    </tr>\n",
       "    <tr>\n",
       "      <th>13</th>\n",
       "      <td>Data analyst / Data scientist, Associate</td>\n",
       "      <td>Deutsche Bank</td>\n",
       "      <td>Bangalore/Bengaluru</td>\n",
       "      <td>5-8 Yrs</td>\n",
       "    </tr>\n",
       "    <tr>\n",
       "      <th>14</th>\n",
       "      <td>Senior Mis Data Analyst</td>\n",
       "      <td>Barbeque Nation</td>\n",
       "      <td>Bangalore/Bengaluru(Sarjapur), Delhi / NCR, Mu...</td>\n",
       "      <td>5-8 Yrs</td>\n",
       "    </tr>\n",
       "    <tr>\n",
       "      <th>15</th>\n",
       "      <td>Junior Data Analyst/ Scientist- Fresher Position</td>\n",
       "      <td>Sejal Consulting Hub</td>\n",
       "      <td>Remote</td>\n",
       "      <td>0-3 Yrs</td>\n",
       "    </tr>\n",
       "    <tr>\n",
       "      <th>16</th>\n",
       "      <td>Data Analyst</td>\n",
       "      <td>PharmEasy</td>\n",
       "      <td>Bangalore/Bengaluru</td>\n",
       "      <td>1-3 Yrs</td>\n",
       "    </tr>\n",
       "    <tr>\n",
       "      <th>17</th>\n",
       "      <td>Senior Data Analyst</td>\n",
       "      <td>Qualitest India Private Limited</td>\n",
       "      <td>Bangalore/Bengaluru</td>\n",
       "      <td>5-8 Yrs</td>\n",
       "    </tr>\n",
       "    <tr>\n",
       "      <th>18</th>\n",
       "      <td>Data Analyst ( Outsourced)</td>\n",
       "      <td>ONEPLUS TECHNOLOGY INDIA PRIVATE LIMITED</td>\n",
       "      <td>Bangalore/Bengaluru</td>\n",
       "      <td>3-5 Yrs</td>\n",
       "    </tr>\n",
       "    <tr>\n",
       "      <th>19</th>\n",
       "      <td>Master Data Management Business Analyst</td>\n",
       "      <td>Accenture</td>\n",
       "      <td>Bangalore/Bengaluru</td>\n",
       "      <td>6-8 Yrs</td>\n",
       "    </tr>\n",
       "  </tbody>\n",
       "</table>\n",
       "</div>"
      ],
      "text/plain": [
       "                                                Title  \\\n",
       "0                               Business Data Analyst   \n",
       "1           EY GDS Data Analyst-Finland based project   \n",
       "2          Business & Data Analyst - Alteryx (London)   \n",
       "3                   Data Analyst - Data and Analytics   \n",
       "4                                 Senior Data Analyst   \n",
       "5                                 Senior Data Analyst   \n",
       "6                                  Data Analyst (CSD)   \n",
       "7           Data Analyst - Data Science, 3 To 5 Years   \n",
       "8                     Data Analyst / Business Analyst   \n",
       "9       SAS/SQL - Healthcare Data Analyst - Bangalore   \n",
       "10                    Genpact Hiring For Data Analyst   \n",
       "11  data analyst/ data analytics / Business analys...   \n",
       "12                 Data analyst / Data scientist, AVP   \n",
       "13           Data analyst / Data scientist, Associate   \n",
       "14                            Senior Mis Data Analyst   \n",
       "15   Junior Data Analyst/ Scientist- Fresher Position   \n",
       "16                                       Data Analyst   \n",
       "17                                Senior Data Analyst   \n",
       "18                         Data Analyst ( Outsourced)   \n",
       "19            Master Data Management Business Analyst   \n",
       "\n",
       "                                     Company  \\\n",
       "0                         NXP Semiconductors   \n",
       "1                                         EY   \n",
       "2                     Imaginative Brains LLP   \n",
       "3                                      Intel   \n",
       "4                                   Flipkart   \n",
       "5                                    Walmart   \n",
       "6                                    Siemens   \n",
       "7            Rise Finconnect Private Limited   \n",
       "8                         METRO Cash & Carry   \n",
       "9                                    Genpact   \n",
       "10                                   Genpact   \n",
       "11             Leading US MNC into Analytics   \n",
       "12                             Deutsche Bank   \n",
       "13                             Deutsche Bank   \n",
       "14                           Barbeque Nation   \n",
       "15                      Sejal Consulting Hub   \n",
       "16                                 PharmEasy   \n",
       "17           Qualitest India Private Limited   \n",
       "18  ONEPLUS TECHNOLOGY INDIA PRIVATE LIMITED   \n",
       "19                                 Accenture   \n",
       "\n",
       "                                             Location Experience  \n",
       "0                                 Bangalore/Bengaluru    2-5 Yrs  \n",
       "1                                 Bangalore/Bengaluru    0-1 Yrs  \n",
       "2   Bangalore/Bengaluru, Delhi / NCR, Mumbai (All ...   5-10 Yrs  \n",
       "3                                 Bangalore/Bengaluru    3-6 Yrs  \n",
       "4                                 Bangalore/Bengaluru    3-7 Yrs  \n",
       "5                                 Bangalore/Bengaluru    4-7 Yrs  \n",
       "6                                 Bangalore/Bengaluru    2-6 Yrs  \n",
       "7                                 Bangalore/Bengaluru    2-6 Yrs  \n",
       "8                                 Bangalore/Bengaluru    3-8 Yrs  \n",
       "9                                 Bangalore/Bengaluru   7-10 Yrs  \n",
       "10                                Bangalore/Bengaluru    2-6 Yrs  \n",
       "11  Gurgaon/Gurugram, Bangalore/Bengaluru, Delhi /...    2-7 Yrs  \n",
       "12                                Bangalore/Bengaluru   6-11 Yrs  \n",
       "13                                Bangalore/Bengaluru    5-8 Yrs  \n",
       "14  Bangalore/Bengaluru(Sarjapur), Delhi / NCR, Mu...    5-8 Yrs  \n",
       "15                                             Remote    0-3 Yrs  \n",
       "16                                Bangalore/Bengaluru    1-3 Yrs  \n",
       "17                                Bangalore/Bengaluru    5-8 Yrs  \n",
       "18                                Bangalore/Bengaluru    3-5 Yrs  \n",
       "19                                Bangalore/Bengaluru    6-8 Yrs  "
      ]
     },
     "execution_count": 22,
     "metadata": {},
     "output_type": "execute_result"
    }
   ],
   "source": [
    "df=pd.DataFrame({'Title':job_titles,'Company':company_name,'Location':locations_list,'Experience':experience_required})\n",
    "df"
   ]
  },
  {
   "cell_type": "markdown",
   "id": "64b3e68e",
   "metadata": {},
   "source": [
    "## ANS 2"
   ]
  },
  {
   "cell_type": "code",
   "execution_count": 7,
   "id": "e837fc67",
   "metadata": {},
   "outputs": [],
   "source": [
    "    driver.get('https://www.naukri.com/')"
   ]
  },
  {
   "cell_type": "code",
   "execution_count": 8,
   "id": "3abbc408",
   "metadata": {},
   "outputs": [],
   "source": [
    "search_field_designation=driver.find_element_by_class_name(\"suggestor-input \")\n",
    "search_field_designation.send_keys(\"Data Scientist\")"
   ]
  },
  {
   "cell_type": "code",
   "execution_count": 9,
   "id": "45b413c4",
   "metadata": {},
   "outputs": [],
   "source": [
    "search_field_location=driver.find_element_by_xpath('/html/body/div/div[2]/div[3]/div/div/div[5]/div/div/div/input')\n",
    "search_field_location.send_keys(\"Bangalore\")"
   ]
  },
  {
   "cell_type": "code",
   "execution_count": 10,
   "id": "f3730f08",
   "metadata": {},
   "outputs": [],
   "source": [
    "search_button=driver.find_element_by_xpath(\"/html/body/div/div[2]/div[3]/div/div/div[6]\")\n",
    "search_button.click()"
   ]
  },
  {
   "cell_type": "code",
   "execution_count": 11,
   "id": "15c3ac24",
   "metadata": {},
   "outputs": [],
   "source": [
    "job_title=[]\n",
    "location_list=[]\n",
    "companys_name=[]"
   ]
  },
  {
   "cell_type": "code",
   "execution_count": 12,
   "id": "1d0be0b7",
   "metadata": {},
   "outputs": [
    {
     "data": {
      "text/plain": [
       "[<selenium.webdriver.remote.webelement.WebElement (session=\"98768eae7fcd2a6601e3ad2280736378\", element=\"81ed782a-0013-464c-b040-5fee2616887a\")>,\n",
       " <selenium.webdriver.remote.webelement.WebElement (session=\"98768eae7fcd2a6601e3ad2280736378\", element=\"71b880c8-02fb-40a7-95ae-dbfbd665c105\")>,\n",
       " <selenium.webdriver.remote.webelement.WebElement (session=\"98768eae7fcd2a6601e3ad2280736378\", element=\"580b2996-44a0-4a91-a136-44226c5f5e99\")>,\n",
       " <selenium.webdriver.remote.webelement.WebElement (session=\"98768eae7fcd2a6601e3ad2280736378\", element=\"f04e3275-1b78-44da-a18c-4b7c3dd1ced3\")>,\n",
       " <selenium.webdriver.remote.webelement.WebElement (session=\"98768eae7fcd2a6601e3ad2280736378\", element=\"1d410152-45e1-4f61-bfc5-3e99b7167391\")>,\n",
       " <selenium.webdriver.remote.webelement.WebElement (session=\"98768eae7fcd2a6601e3ad2280736378\", element=\"1926e17f-299b-4dac-be56-3345624e7c77\")>,\n",
       " <selenium.webdriver.remote.webelement.WebElement (session=\"98768eae7fcd2a6601e3ad2280736378\", element=\"84c3bca2-3a89-4730-a116-05bcf0c478f2\")>,\n",
       " <selenium.webdriver.remote.webelement.WebElement (session=\"98768eae7fcd2a6601e3ad2280736378\", element=\"e5af8e24-4e43-44ce-a1c8-383a596e843b\")>,\n",
       " <selenium.webdriver.remote.webelement.WebElement (session=\"98768eae7fcd2a6601e3ad2280736378\", element=\"97b08cbe-39ed-4cd9-ad0b-7c4e4ad970d4\")>,\n",
       " <selenium.webdriver.remote.webelement.WebElement (session=\"98768eae7fcd2a6601e3ad2280736378\", element=\"7d6ead1e-a89a-4de2-b653-9fdc5c7f1025\")>]"
      ]
     },
     "execution_count": 12,
     "metadata": {},
     "output_type": "execute_result"
    }
   ],
   "source": [
    "title_tags=driver.find_elements_by_xpath(\"//a[@class='title fw500 ellipsis']\")\n",
    "title_tags[0:10]"
   ]
  },
  {
   "cell_type": "code",
   "execution_count": 13,
   "id": "67418c29",
   "metadata": {},
   "outputs": [
    {
     "data": {
      "text/plain": [
       "['Senior Data Scientist',\n",
       " 'Data Science - Engineering Manager',\n",
       " 'AI Technologist Vacancy',\n",
       " 'Job Opening with Wipro For Data Scientist position',\n",
       " 'DATA Scientist with Fraud Analytics Experience',\n",
       " 'Data Scientist',\n",
       " 'Data Scientist',\n",
       " 'Data Scientist',\n",
       " 'Data Scientist',\n",
       " 'Principal - Data Scientist']"
      ]
     },
     "execution_count": 13,
     "metadata": {},
     "output_type": "execute_result"
    }
   ],
   "source": [
    "for i in title_tags:\n",
    "    title=i.text\n",
    "    job_title.append(title)\n",
    "job_title[0:10] "
   ]
  },
  {
   "cell_type": "code",
   "execution_count": 14,
   "id": "f13ef5bf",
   "metadata": {},
   "outputs": [
    {
     "data": {
      "text/plain": [
       "[<selenium.webdriver.remote.webelement.WebElement (session=\"98768eae7fcd2a6601e3ad2280736378\", element=\"7ea8a739-bb2d-4f0c-973c-68b064fb9d1b\")>,\n",
       " <selenium.webdriver.remote.webelement.WebElement (session=\"98768eae7fcd2a6601e3ad2280736378\", element=\"1986567d-7a43-447d-81a4-455f291539e3\")>,\n",
       " <selenium.webdriver.remote.webelement.WebElement (session=\"98768eae7fcd2a6601e3ad2280736378\", element=\"9e3ff5a5-3080-4f5d-91ea-bcc58fef761e\")>,\n",
       " <selenium.webdriver.remote.webelement.WebElement (session=\"98768eae7fcd2a6601e3ad2280736378\", element=\"9ea12e8f-cfe3-455c-bb35-ae944befb0c2\")>,\n",
       " <selenium.webdriver.remote.webelement.WebElement (session=\"98768eae7fcd2a6601e3ad2280736378\", element=\"d2afbefb-f614-474e-8948-a1a96ce01e06\")>,\n",
       " <selenium.webdriver.remote.webelement.WebElement (session=\"98768eae7fcd2a6601e3ad2280736378\", element=\"7fb0709c-4438-46f0-bc0c-c404e13355cc\")>,\n",
       " <selenium.webdriver.remote.webelement.WebElement (session=\"98768eae7fcd2a6601e3ad2280736378\", element=\"06a8e436-6a6a-4eaf-929e-ba18bfdbaf22\")>,\n",
       " <selenium.webdriver.remote.webelement.WebElement (session=\"98768eae7fcd2a6601e3ad2280736378\", element=\"ecaa3701-6bfd-4700-b6f4-39db46a7de08\")>,\n",
       " <selenium.webdriver.remote.webelement.WebElement (session=\"98768eae7fcd2a6601e3ad2280736378\", element=\"43d4fcba-7e6d-4801-9782-0e2d8d53ae1d\")>,\n",
       " <selenium.webdriver.remote.webelement.WebElement (session=\"98768eae7fcd2a6601e3ad2280736378\", element=\"14aafc8c-fcd7-441d-9f66-859d2d533fa6\")>]"
      ]
     },
     "execution_count": 14,
     "metadata": {},
     "output_type": "execute_result"
    }
   ],
   "source": [
    "company_tags=driver.find_elements_by_xpath(\"//a[@class='subTitle ellipsis fleft']\")\n",
    "company_tags[0:10]"
   ]
  },
  {
   "cell_type": "code",
   "execution_count": 15,
   "id": "40b0901b",
   "metadata": {},
   "outputs": [
    {
     "data": {
      "text/plain": [
       "['Baker Hughes',\n",
       " 'Paytm',\n",
       " 'Wipro',\n",
       " 'Wipro',\n",
       " 'Concentrix Daksh Services',\n",
       " 'Applied Materials',\n",
       " 'Applied Materials',\n",
       " 'Applied Materials',\n",
       " 'Applied Materials',\n",
       " 'Schneider Electric']"
      ]
     },
     "execution_count": 15,
     "metadata": {},
     "output_type": "execute_result"
    }
   ],
   "source": [
    "for i in company_tags:\n",
    "    company=i.text\n",
    "    companys_name.append(company)\n",
    "companys_name[0:10] "
   ]
  },
  {
   "cell_type": "code",
   "execution_count": 16,
   "id": "addc37ae",
   "metadata": {},
   "outputs": [
    {
     "data": {
      "text/plain": [
       "[<selenium.webdriver.remote.webelement.WebElement (session=\"98768eae7fcd2a6601e3ad2280736378\", element=\"53e8b6a3-653f-497c-8f18-1c4c5d6ef8ee\")>,\n",
       " <selenium.webdriver.remote.webelement.WebElement (session=\"98768eae7fcd2a6601e3ad2280736378\", element=\"f075b3d7-d285-42aa-976f-9a9fe8369395\")>,\n",
       " <selenium.webdriver.remote.webelement.WebElement (session=\"98768eae7fcd2a6601e3ad2280736378\", element=\"159645e0-b788-4007-b012-399eb59f7524\")>,\n",
       " <selenium.webdriver.remote.webelement.WebElement (session=\"98768eae7fcd2a6601e3ad2280736378\", element=\"86f186ad-6260-4cf7-ae5c-a60620a2f87d\")>,\n",
       " <selenium.webdriver.remote.webelement.WebElement (session=\"98768eae7fcd2a6601e3ad2280736378\", element=\"58496c91-386b-43b3-9adc-6a2112874dde\")>,\n",
       " <selenium.webdriver.remote.webelement.WebElement (session=\"98768eae7fcd2a6601e3ad2280736378\", element=\"7d73107d-ae29-476d-a528-164db9b5ed6d\")>,\n",
       " <selenium.webdriver.remote.webelement.WebElement (session=\"98768eae7fcd2a6601e3ad2280736378\", element=\"405fd0a0-7ebf-4fad-9421-77dcb19a5df9\")>,\n",
       " <selenium.webdriver.remote.webelement.WebElement (session=\"98768eae7fcd2a6601e3ad2280736378\", element=\"fdd30d4d-e6e8-4bf1-9116-863cdfe14be3\")>,\n",
       " <selenium.webdriver.remote.webelement.WebElement (session=\"98768eae7fcd2a6601e3ad2280736378\", element=\"38afbe24-e1bd-4ffb-869c-037810218d61\")>,\n",
       " <selenium.webdriver.remote.webelement.WebElement (session=\"98768eae7fcd2a6601e3ad2280736378\", element=\"6db6dc48-fcb4-4dd3-93cd-be1379792abb\")>]"
      ]
     },
     "execution_count": 16,
     "metadata": {},
     "output_type": "execute_result"
    }
   ],
   "source": [
    "location_tags=driver.find_elements_by_xpath(\"//li[@class='fleft grey-text br2 placeHolderLi location']/span[1]\")\n",
    "location_tags[0:10]"
   ]
  },
  {
   "cell_type": "code",
   "execution_count": 17,
   "id": "d3fd82b2",
   "metadata": {},
   "outputs": [
    {
     "data": {
      "text/plain": [
       "['Mumbai, Bangalore/Bengaluru',\n",
       " 'Noida, Mumbai, Bangalore/Bengaluru',\n",
       " 'Kolkata, Hyderabad/Secunderabad, Pune, Ahmedabad, Chennai, Bangalore/Bengaluru, Delhi / NCR, Mumbai (All Areas)',\n",
       " 'Kolkata, Hyderabad/Secunderabad, Chennai, Bangalore/Bengaluru, Delhi / NCR, Mumbai (All Areas)',\n",
       " 'Bangalore/Bengaluru',\n",
       " 'Bangalore/Bengaluru',\n",
       " 'Bangalore/Bengaluru',\n",
       " 'Bangalore/Bengaluru',\n",
       " 'Bangalore/Bengaluru',\n",
       " 'Bangalore/Bengaluru']"
      ]
     },
     "execution_count": 17,
     "metadata": {},
     "output_type": "execute_result"
    }
   ],
   "source": [
    "for i in location_tags:\n",
    "        locations=i.text\n",
    "        location_list.append(locations)\n",
    "location_list[0:10] "
   ]
  },
  {
   "cell_type": "code",
   "execution_count": 19,
   "id": "22683b3d",
   "metadata": {},
   "outputs": [],
   "source": [
    "job_titles=job_title[0:10]\n",
    "locations_list=location_list[0:10]\n",
    "company_name=companys_name[0:10]"
   ]
  },
  {
   "cell_type": "code",
   "execution_count": 21,
   "id": "2412301e",
   "metadata": {},
   "outputs": [
    {
     "name": "stdout",
     "output_type": "stream",
     "text": [
      "10 10 10\n"
     ]
    }
   ],
   "source": [
    "print(len(job_titles),len(locations_list),len(company_name))"
   ]
  },
  {
   "cell_type": "code",
   "execution_count": 22,
   "id": "9337b344",
   "metadata": {},
   "outputs": [
    {
     "data": {
      "text/html": [
       "<div>\n",
       "<style scoped>\n",
       "    .dataframe tbody tr th:only-of-type {\n",
       "        vertical-align: middle;\n",
       "    }\n",
       "\n",
       "    .dataframe tbody tr th {\n",
       "        vertical-align: top;\n",
       "    }\n",
       "\n",
       "    .dataframe thead th {\n",
       "        text-align: right;\n",
       "    }\n",
       "</style>\n",
       "<table border=\"1\" class=\"dataframe\">\n",
       "  <thead>\n",
       "    <tr style=\"text-align: right;\">\n",
       "      <th></th>\n",
       "      <th>Title</th>\n",
       "      <th>Company</th>\n",
       "      <th>Location</th>\n",
       "    </tr>\n",
       "  </thead>\n",
       "  <tbody>\n",
       "    <tr>\n",
       "      <th>0</th>\n",
       "      <td>Senior Data Scientist</td>\n",
       "      <td>Baker Hughes</td>\n",
       "      <td>Mumbai, Bangalore/Bengaluru</td>\n",
       "    </tr>\n",
       "    <tr>\n",
       "      <th>1</th>\n",
       "      <td>Data Science - Engineering Manager</td>\n",
       "      <td>Paytm</td>\n",
       "      <td>Noida, Mumbai, Bangalore/Bengaluru</td>\n",
       "    </tr>\n",
       "    <tr>\n",
       "      <th>2</th>\n",
       "      <td>AI Technologist Vacancy</td>\n",
       "      <td>Wipro</td>\n",
       "      <td>Kolkata, Hyderabad/Secunderabad, Pune, Ahmedab...</td>\n",
       "    </tr>\n",
       "    <tr>\n",
       "      <th>3</th>\n",
       "      <td>Job Opening with Wipro For Data Scientist posi...</td>\n",
       "      <td>Wipro</td>\n",
       "      <td>Kolkata, Hyderabad/Secunderabad, Chennai, Bang...</td>\n",
       "    </tr>\n",
       "    <tr>\n",
       "      <th>4</th>\n",
       "      <td>DATA Scientist with Fraud Analytics Experience</td>\n",
       "      <td>Concentrix Daksh Services</td>\n",
       "      <td>Bangalore/Bengaluru</td>\n",
       "    </tr>\n",
       "    <tr>\n",
       "      <th>5</th>\n",
       "      <td>Data Scientist</td>\n",
       "      <td>Applied Materials</td>\n",
       "      <td>Bangalore/Bengaluru</td>\n",
       "    </tr>\n",
       "    <tr>\n",
       "      <th>6</th>\n",
       "      <td>Data Scientist</td>\n",
       "      <td>Applied Materials</td>\n",
       "      <td>Bangalore/Bengaluru</td>\n",
       "    </tr>\n",
       "    <tr>\n",
       "      <th>7</th>\n",
       "      <td>Data Scientist</td>\n",
       "      <td>Applied Materials</td>\n",
       "      <td>Bangalore/Bengaluru</td>\n",
       "    </tr>\n",
       "    <tr>\n",
       "      <th>8</th>\n",
       "      <td>Data Scientist</td>\n",
       "      <td>Applied Materials</td>\n",
       "      <td>Bangalore/Bengaluru</td>\n",
       "    </tr>\n",
       "    <tr>\n",
       "      <th>9</th>\n",
       "      <td>Principal - Data Scientist</td>\n",
       "      <td>Schneider Electric</td>\n",
       "      <td>Bangalore/Bengaluru</td>\n",
       "    </tr>\n",
       "  </tbody>\n",
       "</table>\n",
       "</div>"
      ],
      "text/plain": [
       "                                               Title  \\\n",
       "0                              Senior Data Scientist   \n",
       "1                 Data Science - Engineering Manager   \n",
       "2                            AI Technologist Vacancy   \n",
       "3  Job Opening with Wipro For Data Scientist posi...   \n",
       "4     DATA Scientist with Fraud Analytics Experience   \n",
       "5                                     Data Scientist   \n",
       "6                                     Data Scientist   \n",
       "7                                     Data Scientist   \n",
       "8                                     Data Scientist   \n",
       "9                         Principal - Data Scientist   \n",
       "\n",
       "                     Company  \\\n",
       "0               Baker Hughes   \n",
       "1                      Paytm   \n",
       "2                      Wipro   \n",
       "3                      Wipro   \n",
       "4  Concentrix Daksh Services   \n",
       "5          Applied Materials   \n",
       "6          Applied Materials   \n",
       "7          Applied Materials   \n",
       "8          Applied Materials   \n",
       "9         Schneider Electric   \n",
       "\n",
       "                                            Location  \n",
       "0                        Mumbai, Bangalore/Bengaluru  \n",
       "1                 Noida, Mumbai, Bangalore/Bengaluru  \n",
       "2  Kolkata, Hyderabad/Secunderabad, Pune, Ahmedab...  \n",
       "3  Kolkata, Hyderabad/Secunderabad, Chennai, Bang...  \n",
       "4                                Bangalore/Bengaluru  \n",
       "5                                Bangalore/Bengaluru  \n",
       "6                                Bangalore/Bengaluru  \n",
       "7                                Bangalore/Bengaluru  \n",
       "8                                Bangalore/Bengaluru  \n",
       "9                                Bangalore/Bengaluru  "
      ]
     },
     "execution_count": 22,
     "metadata": {},
     "output_type": "execute_result"
    }
   ],
   "source": [
    "df1=pd.DataFrame({'Title':job_titles,'Company':company_name,'Location':locations_list})\n",
    "df1"
   ]
  },
  {
   "cell_type": "markdown",
   "id": "58944bb5",
   "metadata": {},
   "source": [
    "## ANS 4"
   ]
  },
  {
   "cell_type": "code",
   "execution_count": 23,
   "id": "109d4d94",
   "metadata": {},
   "outputs": [],
   "source": [
    "driver.get('https://www.flipkart.com/')"
   ]
  },
  {
   "cell_type": "code",
   "execution_count": 24,
   "id": "3cee0c97",
   "metadata": {},
   "outputs": [],
   "source": [
    "search_field_designation=driver.find_element_by_class_name(\"_3704LK\")\n",
    "search_field_designation.send_keys(\"Sunglasses\")"
   ]
  },
  {
   "cell_type": "code",
   "execution_count": 25,
   "id": "bdf5757b",
   "metadata": {},
   "outputs": [],
   "source": [
    "search_button=driver.find_element_by_xpath(\"/html/body/div[1]/div/div[1]/div[1]/div[2]/div[2]/form/div/button\")\n",
    "search_button.click()"
   ]
  },
  {
   "cell_type": "code",
   "execution_count": 26,
   "id": "da253ce6",
   "metadata": {},
   "outputs": [],
   "source": [
    "brands_list=[]\n",
    "Product_description=[]\n",
    "price_list=[]"
   ]
  },
  {
   "cell_type": "code",
   "execution_count": null,
   "id": "48b152ba",
   "metadata": {},
   "outputs": [],
   "source": []
  },
  {
   "cell_type": "code",
   "execution_count": 27,
   "id": "476bd902",
   "metadata": {},
   "outputs": [
    {
     "data": {
      "text/plain": [
       "[<selenium.webdriver.remote.webelement.WebElement (session=\"98768eae7fcd2a6601e3ad2280736378\", element=\"92a2238c-1c9d-4993-8cac-609a4eb7d3b3\")>,\n",
       " <selenium.webdriver.remote.webelement.WebElement (session=\"98768eae7fcd2a6601e3ad2280736378\", element=\"4d3aa0f4-1721-47aa-b1b3-61d7eacdf429\")>,\n",
       " <selenium.webdriver.remote.webelement.WebElement (session=\"98768eae7fcd2a6601e3ad2280736378\", element=\"3a65cd3a-7351-4f24-8bb1-4cc9324cd79d\")>,\n",
       " <selenium.webdriver.remote.webelement.WebElement (session=\"98768eae7fcd2a6601e3ad2280736378\", element=\"e2ebe81f-4d35-426d-afa2-9c9ac3709a3d\")>,\n",
       " <selenium.webdriver.remote.webelement.WebElement (session=\"98768eae7fcd2a6601e3ad2280736378\", element=\"00856a2f-0912-4155-a542-e06709fe86b7\")>,\n",
       " <selenium.webdriver.remote.webelement.WebElement (session=\"98768eae7fcd2a6601e3ad2280736378\", element=\"3eff9c70-f11c-408f-80a3-05b0b9c7f08e\")>,\n",
       " <selenium.webdriver.remote.webelement.WebElement (session=\"98768eae7fcd2a6601e3ad2280736378\", element=\"69fdd73e-5080-4e71-87e9-aeff9781fd3c\")>,\n",
       " <selenium.webdriver.remote.webelement.WebElement (session=\"98768eae7fcd2a6601e3ad2280736378\", element=\"a884fb1f-d56d-444d-94d7-51f8b1b2095e\")>,\n",
       " <selenium.webdriver.remote.webelement.WebElement (session=\"98768eae7fcd2a6601e3ad2280736378\", element=\"8b21238e-c2bc-435e-ba17-309312b4d5a2\")>,\n",
       " <selenium.webdriver.remote.webelement.WebElement (session=\"98768eae7fcd2a6601e3ad2280736378\", element=\"513493ff-6a4b-4478-b3c4-47ad6d2fe44b\")>,\n",
       " <selenium.webdriver.remote.webelement.WebElement (session=\"98768eae7fcd2a6601e3ad2280736378\", element=\"2ee94bfa-0c15-41cf-a024-d828855a2cd2\")>,\n",
       " <selenium.webdriver.remote.webelement.WebElement (session=\"98768eae7fcd2a6601e3ad2280736378\", element=\"bfcae3a1-50b7-4738-99bd-904750ccdc5a\")>,\n",
       " <selenium.webdriver.remote.webelement.WebElement (session=\"98768eae7fcd2a6601e3ad2280736378\", element=\"d85e7ff5-8b0f-44be-8fba-759fcc35ebcb\")>,\n",
       " <selenium.webdriver.remote.webelement.WebElement (session=\"98768eae7fcd2a6601e3ad2280736378\", element=\"f5b42b0b-539a-43bc-8bda-e09c592a930b\")>,\n",
       " <selenium.webdriver.remote.webelement.WebElement (session=\"98768eae7fcd2a6601e3ad2280736378\", element=\"4d6a6f9d-90af-4d99-a24e-d9c3ee0812dd\")>,\n",
       " <selenium.webdriver.remote.webelement.WebElement (session=\"98768eae7fcd2a6601e3ad2280736378\", element=\"50bde70d-b433-4d78-b502-a556ef45515d\")>,\n",
       " <selenium.webdriver.remote.webelement.WebElement (session=\"98768eae7fcd2a6601e3ad2280736378\", element=\"1a9d3f98-4061-4106-9b53-8ce183f95189\")>,\n",
       " <selenium.webdriver.remote.webelement.WebElement (session=\"98768eae7fcd2a6601e3ad2280736378\", element=\"5e42da83-b440-4b9f-96d0-773fd13013d2\")>,\n",
       " <selenium.webdriver.remote.webelement.WebElement (session=\"98768eae7fcd2a6601e3ad2280736378\", element=\"21ab64f7-2561-4fb1-bf4f-39a4eb901d38\")>,\n",
       " <selenium.webdriver.remote.webelement.WebElement (session=\"98768eae7fcd2a6601e3ad2280736378\", element=\"8d3ace1d-8ea4-4da0-978e-fa12d5f52b9e\")>,\n",
       " <selenium.webdriver.remote.webelement.WebElement (session=\"98768eae7fcd2a6601e3ad2280736378\", element=\"67d27d3b-3c7f-4e4b-be21-5fb06c676551\")>,\n",
       " <selenium.webdriver.remote.webelement.WebElement (session=\"98768eae7fcd2a6601e3ad2280736378\", element=\"78e53a2a-a0ee-4c15-ad16-59dd39c86f62\")>,\n",
       " <selenium.webdriver.remote.webelement.WebElement (session=\"98768eae7fcd2a6601e3ad2280736378\", element=\"fefd525f-08bf-4f4a-b725-290966714b46\")>,\n",
       " <selenium.webdriver.remote.webelement.WebElement (session=\"98768eae7fcd2a6601e3ad2280736378\", element=\"38a21923-e07a-4646-8445-59dcdfbf100d\")>,\n",
       " <selenium.webdriver.remote.webelement.WebElement (session=\"98768eae7fcd2a6601e3ad2280736378\", element=\"b3f91f49-ae0b-4ee8-815e-a219177f4ba1\")>,\n",
       " <selenium.webdriver.remote.webelement.WebElement (session=\"98768eae7fcd2a6601e3ad2280736378\", element=\"a15fe3ec-7af6-4056-9bd7-262874922327\")>,\n",
       " <selenium.webdriver.remote.webelement.WebElement (session=\"98768eae7fcd2a6601e3ad2280736378\", element=\"c0aa57af-3aa9-439f-b4e5-a607e3bb5e3c\")>,\n",
       " <selenium.webdriver.remote.webelement.WebElement (session=\"98768eae7fcd2a6601e3ad2280736378\", element=\"5d70df8a-0608-4b10-8e07-624bab333f97\")>,\n",
       " <selenium.webdriver.remote.webelement.WebElement (session=\"98768eae7fcd2a6601e3ad2280736378\", element=\"deeb104f-6ada-41a0-b97d-03d80e778cad\")>,\n",
       " <selenium.webdriver.remote.webelement.WebElement (session=\"98768eae7fcd2a6601e3ad2280736378\", element=\"6d8415a8-3319-45a7-9a25-6fcf64da4813\")>,\n",
       " <selenium.webdriver.remote.webelement.WebElement (session=\"98768eae7fcd2a6601e3ad2280736378\", element=\"033f5a31-0324-4b48-84cb-fc7904563233\")>,\n",
       " <selenium.webdriver.remote.webelement.WebElement (session=\"98768eae7fcd2a6601e3ad2280736378\", element=\"45750431-7255-4e3f-8726-0fc2972cfaf8\")>,\n",
       " <selenium.webdriver.remote.webelement.WebElement (session=\"98768eae7fcd2a6601e3ad2280736378\", element=\"10bc4020-5a83-4525-81bc-8f771937ce7e\")>,\n",
       " <selenium.webdriver.remote.webelement.WebElement (session=\"98768eae7fcd2a6601e3ad2280736378\", element=\"94d1b294-f654-4dd2-83b7-05a55e12ea70\")>,\n",
       " <selenium.webdriver.remote.webelement.WebElement (session=\"98768eae7fcd2a6601e3ad2280736378\", element=\"a6bf2753-e814-4e5d-b527-b771caa0d630\")>,\n",
       " <selenium.webdriver.remote.webelement.WebElement (session=\"98768eae7fcd2a6601e3ad2280736378\", element=\"682f6b4f-01f8-4bed-b4b2-9eac43f925d3\")>,\n",
       " <selenium.webdriver.remote.webelement.WebElement (session=\"98768eae7fcd2a6601e3ad2280736378\", element=\"dbd5b3ac-53a9-43ef-ba69-907254910005\")>,\n",
       " <selenium.webdriver.remote.webelement.WebElement (session=\"98768eae7fcd2a6601e3ad2280736378\", element=\"0243ee5b-5279-4ed3-9fce-5c912315d35a\")>,\n",
       " <selenium.webdriver.remote.webelement.WebElement (session=\"98768eae7fcd2a6601e3ad2280736378\", element=\"722ecdf4-45c8-4746-97e8-ca451dd078cd\")>,\n",
       " <selenium.webdriver.remote.webelement.WebElement (session=\"98768eae7fcd2a6601e3ad2280736378\", element=\"5cd4ea4f-bfd7-4489-b863-33cc602442ed\")>]"
      ]
     },
     "execution_count": 27,
     "metadata": {},
     "output_type": "execute_result"
    }
   ],
   "source": [
    "brand_tags=driver.find_elements_by_xpath(\"//div[@class='_2WkVRV']\")\n",
    "brand_tags"
   ]
  },
  {
   "cell_type": "code",
   "execution_count": 28,
   "id": "6e447959",
   "metadata": {},
   "outputs": [
    {
     "data": {
      "text/plain": [
       "['LIZA ANGEL',\n",
       " 'ROZZETTA CRAFT',\n",
       " 'Mi',\n",
       " 'Elligator',\n",
       " 'Fastrack',\n",
       " 'Mi',\n",
       " 'PIRASO',\n",
       " 'GANSTA',\n",
       " 'New Specs',\n",
       " 'PIRASO',\n",
       " 'SUNBEE',\n",
       " 'ROZZETTA CRAFT',\n",
       " 'ROZZETTA CRAFT',\n",
       " 'ROZZETTA CRAFT',\n",
       " 'Mi',\n",
       " 'VINCENT CHASE',\n",
       " 'Fastrack',\n",
       " 'PIRASO',\n",
       " 'SHAAH COLLECTIONS',\n",
       " 'Sewell',\n",
       " 'New Specs',\n",
       " 'Fastrack',\n",
       " 'Lee Topper',\n",
       " 'Sewell',\n",
       " 'SUNBEE',\n",
       " 'United Colors of Benetton',\n",
       " 'United Colors of Benetton',\n",
       " 'ROYAL SON',\n",
       " 'VINCENT CHASE',\n",
       " 'PHENOMENAL',\n",
       " 'Lee Topper',\n",
       " 'AISLIN',\n",
       " 'Urbanic',\n",
       " 'PIRASO',\n",
       " 'AISLIN',\n",
       " 'ROYAL SON',\n",
       " 'ROZZETTA CRAFT',\n",
       " 'Fastrack',\n",
       " 'SRPM',\n",
       " 'agera']"
      ]
     },
     "execution_count": 28,
     "metadata": {},
     "output_type": "execute_result"
    }
   ],
   "source": [
    "for i in brand_tags:\n",
    "    brands=i.text\n",
    "    brands_list.append(brands)\n",
    "brands_list   "
   ]
  },
  {
   "cell_type": "code",
   "execution_count": 29,
   "id": "a5092969",
   "metadata": {},
   "outputs": [
    {
     "data": {
      "text/plain": [
       "[<selenium.webdriver.remote.webelement.WebElement (session=\"98768eae7fcd2a6601e3ad2280736378\", element=\"bc568fe2-d57a-4a7f-89f1-a45eb7f24960\")>,\n",
       " <selenium.webdriver.remote.webelement.WebElement (session=\"98768eae7fcd2a6601e3ad2280736378\", element=\"d3683f13-a979-48cb-b744-e4001f996c75\")>,\n",
       " <selenium.webdriver.remote.webelement.WebElement (session=\"98768eae7fcd2a6601e3ad2280736378\", element=\"85a0a9c0-3823-4cdc-b3a7-e60c4b559b15\")>,\n",
       " <selenium.webdriver.remote.webelement.WebElement (session=\"98768eae7fcd2a6601e3ad2280736378\", element=\"d9de7b9d-c041-49c5-b0d4-e9d041fa1581\")>,\n",
       " <selenium.webdriver.remote.webelement.WebElement (session=\"98768eae7fcd2a6601e3ad2280736378\", element=\"b6b57e06-da72-4b95-bc7d-5f1f2e081dd1\")>,\n",
       " <selenium.webdriver.remote.webelement.WebElement (session=\"98768eae7fcd2a6601e3ad2280736378\", element=\"0350a9c6-0c99-4f6b-92aa-d5ff72af95af\")>,\n",
       " <selenium.webdriver.remote.webelement.WebElement (session=\"98768eae7fcd2a6601e3ad2280736378\", element=\"0f73428a-2378-459a-bb70-1e4d60f41d76\")>,\n",
       " <selenium.webdriver.remote.webelement.WebElement (session=\"98768eae7fcd2a6601e3ad2280736378\", element=\"a8406744-8fa4-41af-8112-3d2fbb50ed13\")>,\n",
       " <selenium.webdriver.remote.webelement.WebElement (session=\"98768eae7fcd2a6601e3ad2280736378\", element=\"13085f55-9bd9-484e-b426-40f2a3a1880a\")>,\n",
       " <selenium.webdriver.remote.webelement.WebElement (session=\"98768eae7fcd2a6601e3ad2280736378\", element=\"dc225e85-9552-4f13-900a-c82aa0d3c994\")>,\n",
       " <selenium.webdriver.remote.webelement.WebElement (session=\"98768eae7fcd2a6601e3ad2280736378\", element=\"e228ad15-8b37-4011-9a66-591974275383\")>,\n",
       " <selenium.webdriver.remote.webelement.WebElement (session=\"98768eae7fcd2a6601e3ad2280736378\", element=\"ea3a01da-bbfc-4af3-aa4e-36482b2f148d\")>,\n",
       " <selenium.webdriver.remote.webelement.WebElement (session=\"98768eae7fcd2a6601e3ad2280736378\", element=\"49c44362-70c1-484f-91b6-b987dde8fc33\")>,\n",
       " <selenium.webdriver.remote.webelement.WebElement (session=\"98768eae7fcd2a6601e3ad2280736378\", element=\"ba7e3897-9dad-4368-b804-d21a34541515\")>,\n",
       " <selenium.webdriver.remote.webelement.WebElement (session=\"98768eae7fcd2a6601e3ad2280736378\", element=\"b546b8c6-4e03-4371-b75a-249ebd8ae9a5\")>,\n",
       " <selenium.webdriver.remote.webelement.WebElement (session=\"98768eae7fcd2a6601e3ad2280736378\", element=\"83cda9b2-97c4-4bb5-974d-7cdc1770d473\")>,\n",
       " <selenium.webdriver.remote.webelement.WebElement (session=\"98768eae7fcd2a6601e3ad2280736378\", element=\"a8aad0f4-ea07-49f8-a939-00cb0a69c418\")>,\n",
       " <selenium.webdriver.remote.webelement.WebElement (session=\"98768eae7fcd2a6601e3ad2280736378\", element=\"86f42eaa-0bb3-4a00-943a-3c35da276f86\")>,\n",
       " <selenium.webdriver.remote.webelement.WebElement (session=\"98768eae7fcd2a6601e3ad2280736378\", element=\"3eaddbf1-f170-4790-8d9a-f35cb9a875dd\")>,\n",
       " <selenium.webdriver.remote.webelement.WebElement (session=\"98768eae7fcd2a6601e3ad2280736378\", element=\"db45741b-4edf-48c6-8111-713471cb0885\")>,\n",
       " <selenium.webdriver.remote.webelement.WebElement (session=\"98768eae7fcd2a6601e3ad2280736378\", element=\"8698a69c-69ed-4672-91d0-1c1892f999be\")>,\n",
       " <selenium.webdriver.remote.webelement.WebElement (session=\"98768eae7fcd2a6601e3ad2280736378\", element=\"4de47a55-6858-43b6-a5a7-af61c7b0a150\")>,\n",
       " <selenium.webdriver.remote.webelement.WebElement (session=\"98768eae7fcd2a6601e3ad2280736378\", element=\"43a67cd9-8b9b-4e8e-a43a-b9a293027f66\")>,\n",
       " <selenium.webdriver.remote.webelement.WebElement (session=\"98768eae7fcd2a6601e3ad2280736378\", element=\"c9575bba-2613-484d-8e34-3fe291e4b956\")>,\n",
       " <selenium.webdriver.remote.webelement.WebElement (session=\"98768eae7fcd2a6601e3ad2280736378\", element=\"000d8693-d65f-4c66-bea7-71d9a2a88b9a\")>,\n",
       " <selenium.webdriver.remote.webelement.WebElement (session=\"98768eae7fcd2a6601e3ad2280736378\", element=\"42984d59-12cf-4bd6-bbac-829d7e57d9d4\")>,\n",
       " <selenium.webdriver.remote.webelement.WebElement (session=\"98768eae7fcd2a6601e3ad2280736378\", element=\"8a2aef32-c3a0-47d9-8e6a-38066a364cea\")>,\n",
       " <selenium.webdriver.remote.webelement.WebElement (session=\"98768eae7fcd2a6601e3ad2280736378\", element=\"31d43990-d86e-4b23-a27b-d340ad692bcf\")>,\n",
       " <selenium.webdriver.remote.webelement.WebElement (session=\"98768eae7fcd2a6601e3ad2280736378\", element=\"931bef7b-1b2f-455f-92d7-bcdacf395d64\")>,\n",
       " <selenium.webdriver.remote.webelement.WebElement (session=\"98768eae7fcd2a6601e3ad2280736378\", element=\"03fc8482-b05a-4c5a-b512-0eb1dfde8f2f\")>,\n",
       " <selenium.webdriver.remote.webelement.WebElement (session=\"98768eae7fcd2a6601e3ad2280736378\", element=\"337c7684-7d45-4a4b-a515-b2c76ff2b260\")>,\n",
       " <selenium.webdriver.remote.webelement.WebElement (session=\"98768eae7fcd2a6601e3ad2280736378\", element=\"ec198b2c-dbde-4974-b3e9-460b67034c21\")>,\n",
       " <selenium.webdriver.remote.webelement.WebElement (session=\"98768eae7fcd2a6601e3ad2280736378\", element=\"ff822ee7-12b9-41bd-a9d0-3a9470db28fc\")>,\n",
       " <selenium.webdriver.remote.webelement.WebElement (session=\"98768eae7fcd2a6601e3ad2280736378\", element=\"3a542e36-0652-44bb-9498-8ad25625467c\")>,\n",
       " <selenium.webdriver.remote.webelement.WebElement (session=\"98768eae7fcd2a6601e3ad2280736378\", element=\"aafbd64b-4835-4a8d-ad22-81520cde6e90\")>,\n",
       " <selenium.webdriver.remote.webelement.WebElement (session=\"98768eae7fcd2a6601e3ad2280736378\", element=\"201cd8e7-203a-47cc-8bcc-34a5e0acf50c\")>,\n",
       " <selenium.webdriver.remote.webelement.WebElement (session=\"98768eae7fcd2a6601e3ad2280736378\", element=\"89150f1c-9358-4e46-bef2-89932dc086b0\")>,\n",
       " <selenium.webdriver.remote.webelement.WebElement (session=\"98768eae7fcd2a6601e3ad2280736378\", element=\"3309aace-71b6-43e9-950f-2ecf98121d3a\")>,\n",
       " <selenium.webdriver.remote.webelement.WebElement (session=\"98768eae7fcd2a6601e3ad2280736378\", element=\"9056d2ed-9911-4022-a766-f391a4000da6\")>,\n",
       " <selenium.webdriver.remote.webelement.WebElement (session=\"98768eae7fcd2a6601e3ad2280736378\", element=\"138d0279-6358-4449-ac72-eb21a6aff4a3\")>]"
      ]
     },
     "execution_count": 29,
     "metadata": {},
     "output_type": "execute_result"
    }
   ],
   "source": [
    "price_tags=driver.find_elements_by_xpath(\"//div[@class='_30jeq3']\")\n",
    "price_tags"
   ]
  },
  {
   "cell_type": "code",
   "execution_count": 30,
   "id": "ea9b1117",
   "metadata": {},
   "outputs": [
    {
     "data": {
      "text/plain": [
       "['₹199',\n",
       " '₹349',\n",
       " '₹839',\n",
       " '₹295',\n",
       " '₹639',\n",
       " '₹854',\n",
       " '₹224',\n",
       " '₹314',\n",
       " '₹264',\n",
       " '₹359',\n",
       " '₹283',\n",
       " '₹399',\n",
       " '₹499',\n",
       " '₹319',\n",
       " '₹799',\n",
       " '₹649',\n",
       " '₹1,039',\n",
       " '₹246',\n",
       " '₹195',\n",
       " '₹616',\n",
       " '₹299',\n",
       " '₹639',\n",
       " '₹299',\n",
       " '₹616',\n",
       " '₹259',\n",
       " '₹929',\n",
       " '₹1,029',\n",
       " '₹699',\n",
       " '₹929',\n",
       " '₹349',\n",
       " '₹259',\n",
       " '₹554',\n",
       " '₹499',\n",
       " '₹359',\n",
       " '₹554',\n",
       " '₹664',\n",
       " '₹499',\n",
       " '₹1,169',\n",
       " '₹219',\n",
       " '₹242']"
      ]
     },
     "execution_count": 30,
     "metadata": {},
     "output_type": "execute_result"
    }
   ],
   "source": [
    "for i in price_tags:\n",
    "    prices=i.text\n",
    "    price_list.append(prices)\n",
    "price_list    "
   ]
  },
  {
   "cell_type": "code",
   "execution_count": 31,
   "id": "a7c08f00",
   "metadata": {},
   "outputs": [
    {
     "data": {
      "text/plain": [
       "[<selenium.webdriver.remote.webelement.WebElement (session=\"98768eae7fcd2a6601e3ad2280736378\", element=\"87e0b74b-11a9-4c5f-a01a-b166dc56af1a\")>,\n",
       " <selenium.webdriver.remote.webelement.WebElement (session=\"98768eae7fcd2a6601e3ad2280736378\", element=\"6e8de3b8-3795-43f8-84f5-c0e8c171fbcc\")>,\n",
       " <selenium.webdriver.remote.webelement.WebElement (session=\"98768eae7fcd2a6601e3ad2280736378\", element=\"075fa774-4ee4-4cd0-8f1c-a07a7856ec68\")>,\n",
       " <selenium.webdriver.remote.webelement.WebElement (session=\"98768eae7fcd2a6601e3ad2280736378\", element=\"62a36748-2105-4453-afc3-3457cb2d1767\")>,\n",
       " <selenium.webdriver.remote.webelement.WebElement (session=\"98768eae7fcd2a6601e3ad2280736378\", element=\"a1d2cf5d-f565-440a-ad44-dddb556c88ca\")>,\n",
       " <selenium.webdriver.remote.webelement.WebElement (session=\"98768eae7fcd2a6601e3ad2280736378\", element=\"2755dec4-41c4-4080-9d9f-79d8665511a3\")>,\n",
       " <selenium.webdriver.remote.webelement.WebElement (session=\"98768eae7fcd2a6601e3ad2280736378\", element=\"fb209cec-061d-42aa-aa6f-05423781a763\")>,\n",
       " <selenium.webdriver.remote.webelement.WebElement (session=\"98768eae7fcd2a6601e3ad2280736378\", element=\"c89bf5d8-8904-4bef-9327-3925b2a9479a\")>,\n",
       " <selenium.webdriver.remote.webelement.WebElement (session=\"98768eae7fcd2a6601e3ad2280736378\", element=\"ff97746a-0afd-433e-be55-aea4f1734042\")>,\n",
       " <selenium.webdriver.remote.webelement.WebElement (session=\"98768eae7fcd2a6601e3ad2280736378\", element=\"c0c618c3-3e6e-4ae8-bc2e-ae347cbed360\")>,\n",
       " <selenium.webdriver.remote.webelement.WebElement (session=\"98768eae7fcd2a6601e3ad2280736378\", element=\"d973383a-0f01-4b00-ba2f-da8da97f9917\")>,\n",
       " <selenium.webdriver.remote.webelement.WebElement (session=\"98768eae7fcd2a6601e3ad2280736378\", element=\"90b655a2-e971-448f-949f-9dbde8f0a529\")>,\n",
       " <selenium.webdriver.remote.webelement.WebElement (session=\"98768eae7fcd2a6601e3ad2280736378\", element=\"dc1292a9-0aec-4b75-b941-5893869eee3c\")>,\n",
       " <selenium.webdriver.remote.webelement.WebElement (session=\"98768eae7fcd2a6601e3ad2280736378\", element=\"48c8c290-d58b-4dd2-b7ef-084cbedefd02\")>,\n",
       " <selenium.webdriver.remote.webelement.WebElement (session=\"98768eae7fcd2a6601e3ad2280736378\", element=\"2c529a21-9ce9-4b95-9c30-3d714e7d10d5\")>,\n",
       " <selenium.webdriver.remote.webelement.WebElement (session=\"98768eae7fcd2a6601e3ad2280736378\", element=\"534f654b-3b47-494e-9633-1e5ae5b0d4c1\")>,\n",
       " <selenium.webdriver.remote.webelement.WebElement (session=\"98768eae7fcd2a6601e3ad2280736378\", element=\"e2be5b90-a9b3-4975-9388-bb7542c92f15\")>,\n",
       " <selenium.webdriver.remote.webelement.WebElement (session=\"98768eae7fcd2a6601e3ad2280736378\", element=\"035c2410-adcb-429b-bb3e-422d3f7ab1cf\")>,\n",
       " <selenium.webdriver.remote.webelement.WebElement (session=\"98768eae7fcd2a6601e3ad2280736378\", element=\"6ab0237d-e542-471d-b003-440e42c24d3c\")>,\n",
       " <selenium.webdriver.remote.webelement.WebElement (session=\"98768eae7fcd2a6601e3ad2280736378\", element=\"45f87ec9-b3d4-4120-ab82-9540863887b0\")>,\n",
       " <selenium.webdriver.remote.webelement.WebElement (session=\"98768eae7fcd2a6601e3ad2280736378\", element=\"9e7c2478-279f-4825-adc7-5a8d308ecf8f\")>,\n",
       " <selenium.webdriver.remote.webelement.WebElement (session=\"98768eae7fcd2a6601e3ad2280736378\", element=\"13623b63-67da-4ee0-a6d7-02d74247c36f\")>,\n",
       " <selenium.webdriver.remote.webelement.WebElement (session=\"98768eae7fcd2a6601e3ad2280736378\", element=\"1b066fd3-95ee-4360-a44a-5cd80ccfa86f\")>,\n",
       " <selenium.webdriver.remote.webelement.WebElement (session=\"98768eae7fcd2a6601e3ad2280736378\", element=\"28e45d4d-e67b-4267-8be7-1cba059db903\")>,\n",
       " <selenium.webdriver.remote.webelement.WebElement (session=\"98768eae7fcd2a6601e3ad2280736378\", element=\"bf86c5be-15b7-4b4a-8f6c-1e14b9bb0a28\")>,\n",
       " <selenium.webdriver.remote.webelement.WebElement (session=\"98768eae7fcd2a6601e3ad2280736378\", element=\"ad6937d1-c9d3-433d-98d0-52bf49b90c61\")>,\n",
       " <selenium.webdriver.remote.webelement.WebElement (session=\"98768eae7fcd2a6601e3ad2280736378\", element=\"fc24e460-21e7-4ee5-8315-f1a9f9187b66\")>,\n",
       " <selenium.webdriver.remote.webelement.WebElement (session=\"98768eae7fcd2a6601e3ad2280736378\", element=\"2d33195b-a145-4bd3-8c36-d724cd841b10\")>,\n",
       " <selenium.webdriver.remote.webelement.WebElement (session=\"98768eae7fcd2a6601e3ad2280736378\", element=\"a84a36ff-69c7-43af-baf4-70e82a5f0f2b\")>,\n",
       " <selenium.webdriver.remote.webelement.WebElement (session=\"98768eae7fcd2a6601e3ad2280736378\", element=\"4faae129-5919-41ae-90a4-f29c4cd914be\")>,\n",
       " <selenium.webdriver.remote.webelement.WebElement (session=\"98768eae7fcd2a6601e3ad2280736378\", element=\"921a3c86-99a0-48fc-9baa-c34ea7a980cc\")>,\n",
       " <selenium.webdriver.remote.webelement.WebElement (session=\"98768eae7fcd2a6601e3ad2280736378\", element=\"707ba86d-4cd3-42e0-8fcf-544461ed3999\")>,\n",
       " <selenium.webdriver.remote.webelement.WebElement (session=\"98768eae7fcd2a6601e3ad2280736378\", element=\"d0ff89f5-a57b-443d-8087-e937ed06c161\")>,\n",
       " <selenium.webdriver.remote.webelement.WebElement (session=\"98768eae7fcd2a6601e3ad2280736378\", element=\"ba426a81-a71b-4b47-9b2b-0d4e63a6e083\")>,\n",
       " <selenium.webdriver.remote.webelement.WebElement (session=\"98768eae7fcd2a6601e3ad2280736378\", element=\"4f59f707-8958-465a-91e1-1974301961ec\")>,\n",
       " <selenium.webdriver.remote.webelement.WebElement (session=\"98768eae7fcd2a6601e3ad2280736378\", element=\"1092884c-4ecd-4b71-9974-3e9f414be731\")>,\n",
       " <selenium.webdriver.remote.webelement.WebElement (session=\"98768eae7fcd2a6601e3ad2280736378\", element=\"f9d6fb17-a439-49d7-869e-4926292e8287\")>,\n",
       " <selenium.webdriver.remote.webelement.WebElement (session=\"98768eae7fcd2a6601e3ad2280736378\", element=\"6b213743-00c2-4f28-bd69-442aab21f00d\")>,\n",
       " <selenium.webdriver.remote.webelement.WebElement (session=\"98768eae7fcd2a6601e3ad2280736378\", element=\"39af02b7-fd7c-442a-bd58-d6cc459d4adb\")>,\n",
       " <selenium.webdriver.remote.webelement.WebElement (session=\"98768eae7fcd2a6601e3ad2280736378\", element=\"b686a008-6678-4737-8052-72551ff057f2\")>]"
      ]
     },
     "execution_count": 31,
     "metadata": {},
     "output_type": "execute_result"
    }
   ],
   "source": [
    "discription_tags=driver.find_elements_by_xpath(\"//a[@class='IRpwTa']\")\n",
    "discription_tags"
   ]
  },
  {
   "cell_type": "code",
   "execution_count": 32,
   "id": "234e2525",
   "metadata": {},
   "outputs": [
    {
     "data": {
      "text/plain": [
       "['Riding Glasses, Night Vision Spectacle Sunglasses (Fre...',\n",
       " 'UV Protection, Gradient Retro Square Sunglasses (Free S...',\n",
       " 'Polarized Aviator Sunglasses (Free Size)',\n",
       " 'UV Protection Round Sunglasses (54)',\n",
       " 'UV Protection Rectangular Sunglasses (Free Size)',\n",
       " 'Polarized Aviator Sunglasses (Free Size)',\n",
       " 'UV Protection Aviator Sunglasses (54)',\n",
       " 'UV Protection Aviator Sunglasses (57)',\n",
       " 'UV Protection Rectangular Sunglasses (Free Size)',\n",
       " 'UV Protection Aviator Sunglasses (58)',\n",
       " 'UV Protection, Polarized Wayfarer Sunglasses (Free Size...',\n",
       " 'UV Protection Spectacle Sunglasses (Free Size)',\n",
       " 'Polarized, Riding Glasses Sports, Wrap-around Sunglasse...',\n",
       " 'UV Protection Rectangular Sunglasses (Free Size)',\n",
       " 'Polarized Wayfarer Sunglasses (Free Size)',\n",
       " 'UV Protection Wayfarer Sunglasses (59)',\n",
       " 'UV Protection Aviator Sunglasses (58)',\n",
       " 'UV Protection Aviator Sunglasses (54)',\n",
       " 'UV Protection, Polarized, Mirrored Rectangular Sunglass...',\n",
       " 'Polarized Butterfly Sunglasses (Free Size)',\n",
       " 'Mirrored, UV Protection, Riding Glasses, Others Round S...',\n",
       " 'UV Protection Aviator Sunglasses (Free Size)',\n",
       " 'Riding Glasses Wrap-around Sunglasses (Free Size)',\n",
       " 'Polarized Butterfly Sunglasses (Free Size)',\n",
       " 'UV Protection, Polarized, Mirrored Retro Square Sunglas...',\n",
       " 'Gradient Cat-eye Sunglasses (57)',\n",
       " 'Gradient, UV Protection Aviator Sunglasses (56)',\n",
       " 'Polarized Retro Square Sunglasses (61)',\n",
       " 'by Lenskart Polarized, UV Protection Cat-eye Sunglasses...',\n",
       " 'UV Protection, Mirrored Clubmaster Sunglasses (Free Siz...',\n",
       " 'UV Protection Cat-eye Sunglasses (Free Size)',\n",
       " 'UV Protection, Gradient Cat-eye Sunglasses (58)',\n",
       " 'Others Oval Sunglasses (Free Size)',\n",
       " 'UV Protection Over-sized Sunglasses (65)',\n",
       " 'UV Protection, Gradient Retro Square Sunglasses (58)',\n",
       " 'UV Protection, Gradient Over-sized Sunglasses (62)',\n",
       " 'UV Protection Retro Square Sunglasses (Free Size)',\n",
       " 'UV Protection Aviator Sunglasses (58)',\n",
       " 'Others Wayfarer, Retro Square Sunglasses (50)',\n",
       " 'Gradient Aviator Sunglasses (55)']"
      ]
     },
     "execution_count": 32,
     "metadata": {},
     "output_type": "execute_result"
    }
   ],
   "source": [
    "for i in discription_tags:\n",
    "    discription=i.text\n",
    "    Product_description.append(discription)\n",
    "Product_description"
   ]
  },
  {
   "cell_type": "code",
   "execution_count": 33,
   "id": "ea4a8df5",
   "metadata": {},
   "outputs": [],
   "source": [
    "next_button=driver.find_element_by_xpath(\"/html/body/div[1]/div/div[3]/div[1]/div[2]/div[12]/div/div/nav/a[11]\")\n",
    "next_button.click()"
   ]
  },
  {
   "cell_type": "code",
   "execution_count": 34,
   "id": "bb44597b",
   "metadata": {},
   "outputs": [
    {
     "data": {
      "text/plain": [
       "[<selenium.webdriver.remote.webelement.WebElement (session=\"98768eae7fcd2a6601e3ad2280736378\", element=\"f66dd0a0-77e5-4ba7-b590-7e5606b637b7\")>,\n",
       " <selenium.webdriver.remote.webelement.WebElement (session=\"98768eae7fcd2a6601e3ad2280736378\", element=\"b90a2b81-228b-4fb2-98a3-78191bb11121\")>,\n",
       " <selenium.webdriver.remote.webelement.WebElement (session=\"98768eae7fcd2a6601e3ad2280736378\", element=\"fba7d40b-4213-4e38-9bf1-af765d7181f3\")>,\n",
       " <selenium.webdriver.remote.webelement.WebElement (session=\"98768eae7fcd2a6601e3ad2280736378\", element=\"3d0d738a-34c2-4fb5-8e38-6cf37898fd30\")>,\n",
       " <selenium.webdriver.remote.webelement.WebElement (session=\"98768eae7fcd2a6601e3ad2280736378\", element=\"328c02bc-0cf5-4ca4-ba7b-7d9ef5b68625\")>,\n",
       " <selenium.webdriver.remote.webelement.WebElement (session=\"98768eae7fcd2a6601e3ad2280736378\", element=\"248f895d-ec14-4b98-8e07-8be026c48392\")>,\n",
       " <selenium.webdriver.remote.webelement.WebElement (session=\"98768eae7fcd2a6601e3ad2280736378\", element=\"be895ffc-47c1-45dd-9099-2064f3297f15\")>,\n",
       " <selenium.webdriver.remote.webelement.WebElement (session=\"98768eae7fcd2a6601e3ad2280736378\", element=\"5914848a-d613-4d04-9caf-5b424dc9b8d0\")>,\n",
       " <selenium.webdriver.remote.webelement.WebElement (session=\"98768eae7fcd2a6601e3ad2280736378\", element=\"5fa364d1-3e72-4fbe-9972-78b386fc0f7a\")>,\n",
       " <selenium.webdriver.remote.webelement.WebElement (session=\"98768eae7fcd2a6601e3ad2280736378\", element=\"5dd69b91-5012-481f-b47c-c0d023417c1b\")>,\n",
       " <selenium.webdriver.remote.webelement.WebElement (session=\"98768eae7fcd2a6601e3ad2280736378\", element=\"556927fe-264a-43b7-b146-6c4ddbe1a988\")>,\n",
       " <selenium.webdriver.remote.webelement.WebElement (session=\"98768eae7fcd2a6601e3ad2280736378\", element=\"9ea4753f-9811-40c2-9bf6-ddeee5c11177\")>,\n",
       " <selenium.webdriver.remote.webelement.WebElement (session=\"98768eae7fcd2a6601e3ad2280736378\", element=\"f0d6d8ad-d572-460e-a881-7e2151e3f181\")>,\n",
       " <selenium.webdriver.remote.webelement.WebElement (session=\"98768eae7fcd2a6601e3ad2280736378\", element=\"cf79b561-b67c-4578-b95b-578260aab916\")>,\n",
       " <selenium.webdriver.remote.webelement.WebElement (session=\"98768eae7fcd2a6601e3ad2280736378\", element=\"258336c9-d1db-48f0-ad3b-e58dc7068e37\")>,\n",
       " <selenium.webdriver.remote.webelement.WebElement (session=\"98768eae7fcd2a6601e3ad2280736378\", element=\"45810ff1-525e-449d-a1be-6e4f4f1c257e\")>,\n",
       " <selenium.webdriver.remote.webelement.WebElement (session=\"98768eae7fcd2a6601e3ad2280736378\", element=\"e36f72f3-ba97-40ba-98fa-6106c4eed3ad\")>,\n",
       " <selenium.webdriver.remote.webelement.WebElement (session=\"98768eae7fcd2a6601e3ad2280736378\", element=\"be00ac88-81e1-48f7-a86b-0c13f31b2773\")>,\n",
       " <selenium.webdriver.remote.webelement.WebElement (session=\"98768eae7fcd2a6601e3ad2280736378\", element=\"88ed208e-eccc-4591-9df7-75266001a60c\")>,\n",
       " <selenium.webdriver.remote.webelement.WebElement (session=\"98768eae7fcd2a6601e3ad2280736378\", element=\"1259862a-9590-4281-9882-66acec6ac90b\")>,\n",
       " <selenium.webdriver.remote.webelement.WebElement (session=\"98768eae7fcd2a6601e3ad2280736378\", element=\"1515f636-81a0-4cad-acb8-52e983796cb4\")>,\n",
       " <selenium.webdriver.remote.webelement.WebElement (session=\"98768eae7fcd2a6601e3ad2280736378\", element=\"536c33f8-ebc5-4d9f-83ac-69ddf0400c58\")>,\n",
       " <selenium.webdriver.remote.webelement.WebElement (session=\"98768eae7fcd2a6601e3ad2280736378\", element=\"38c7237f-5d81-43fe-bdab-9a24454a4220\")>,\n",
       " <selenium.webdriver.remote.webelement.WebElement (session=\"98768eae7fcd2a6601e3ad2280736378\", element=\"8d60016d-12ee-473d-81b5-fd7bf9dd723f\")>,\n",
       " <selenium.webdriver.remote.webelement.WebElement (session=\"98768eae7fcd2a6601e3ad2280736378\", element=\"6d96713a-5b61-4fb0-96ab-952e16cd17cb\")>,\n",
       " <selenium.webdriver.remote.webelement.WebElement (session=\"98768eae7fcd2a6601e3ad2280736378\", element=\"14551836-6230-4ebd-af61-d6d203f111f8\")>,\n",
       " <selenium.webdriver.remote.webelement.WebElement (session=\"98768eae7fcd2a6601e3ad2280736378\", element=\"25e4a6e4-b616-4d7e-9d67-1822d8514388\")>,\n",
       " <selenium.webdriver.remote.webelement.WebElement (session=\"98768eae7fcd2a6601e3ad2280736378\", element=\"523f244c-3608-4e33-949f-f536e64e0dcb\")>,\n",
       " <selenium.webdriver.remote.webelement.WebElement (session=\"98768eae7fcd2a6601e3ad2280736378\", element=\"a9e3f835-635f-4267-b500-4ff871e1e16c\")>,\n",
       " <selenium.webdriver.remote.webelement.WebElement (session=\"98768eae7fcd2a6601e3ad2280736378\", element=\"55a76dd3-6d3f-4961-9b54-ab3ff9de37a0\")>,\n",
       " <selenium.webdriver.remote.webelement.WebElement (session=\"98768eae7fcd2a6601e3ad2280736378\", element=\"04679769-eaa8-420a-b789-33bae9fa5c89\")>,\n",
       " <selenium.webdriver.remote.webelement.WebElement (session=\"98768eae7fcd2a6601e3ad2280736378\", element=\"3c5a5d0b-f2a2-4ba4-902c-05b868fe40cd\")>,\n",
       " <selenium.webdriver.remote.webelement.WebElement (session=\"98768eae7fcd2a6601e3ad2280736378\", element=\"ed240321-823b-48c4-9b44-b5acf0e87640\")>,\n",
       " <selenium.webdriver.remote.webelement.WebElement (session=\"98768eae7fcd2a6601e3ad2280736378\", element=\"6d77ef58-66a2-41fc-a830-34169aad2e57\")>,\n",
       " <selenium.webdriver.remote.webelement.WebElement (session=\"98768eae7fcd2a6601e3ad2280736378\", element=\"1f592ae7-dd53-4fc4-93ad-dd1105e8384a\")>,\n",
       " <selenium.webdriver.remote.webelement.WebElement (session=\"98768eae7fcd2a6601e3ad2280736378\", element=\"66195a95-0271-4b50-9d30-60cd5bcc7312\")>,\n",
       " <selenium.webdriver.remote.webelement.WebElement (session=\"98768eae7fcd2a6601e3ad2280736378\", element=\"28b15351-ec08-4902-bf81-20c28836489a\")>,\n",
       " <selenium.webdriver.remote.webelement.WebElement (session=\"98768eae7fcd2a6601e3ad2280736378\", element=\"e1d36722-caa9-4bdf-b474-a6a2a5874c76\")>,\n",
       " <selenium.webdriver.remote.webelement.WebElement (session=\"98768eae7fcd2a6601e3ad2280736378\", element=\"aa713b94-6d90-4cea-8abe-6d4a0c23e287\")>,\n",
       " <selenium.webdriver.remote.webelement.WebElement (session=\"98768eae7fcd2a6601e3ad2280736378\", element=\"a9de743b-600a-4557-888d-6bd9d5ccb9c7\")>]"
      ]
     },
     "execution_count": 34,
     "metadata": {},
     "output_type": "execute_result"
    }
   ],
   "source": [
    "brand_tags=driver.find_elements_by_xpath(\"//div[@class='_2WkVRV']\")\n",
    "brand_tags"
   ]
  },
  {
   "cell_type": "code",
   "execution_count": 35,
   "id": "211c82b8",
   "metadata": {},
   "outputs": [
    {
     "data": {
      "text/plain": [
       "['LIZA ANGEL',\n",
       " 'ROZZETTA CRAFT',\n",
       " 'Mi',\n",
       " 'Elligator',\n",
       " 'Fastrack',\n",
       " 'Mi',\n",
       " 'PIRASO',\n",
       " 'GANSTA',\n",
       " 'New Specs',\n",
       " 'PIRASO',\n",
       " 'SUNBEE',\n",
       " 'ROZZETTA CRAFT',\n",
       " 'ROZZETTA CRAFT',\n",
       " 'ROZZETTA CRAFT',\n",
       " 'Mi',\n",
       " 'VINCENT CHASE',\n",
       " 'Fastrack',\n",
       " 'PIRASO',\n",
       " 'SHAAH COLLECTIONS',\n",
       " 'Sewell',\n",
       " 'New Specs',\n",
       " 'Fastrack',\n",
       " 'Lee Topper',\n",
       " 'Sewell',\n",
       " 'SUNBEE',\n",
       " 'United Colors of Benetton',\n",
       " 'United Colors of Benetton',\n",
       " 'ROYAL SON',\n",
       " 'VINCENT CHASE',\n",
       " 'PHENOMENAL',\n",
       " 'Lee Topper',\n",
       " 'AISLIN',\n",
       " 'Urbanic',\n",
       " 'PIRASO',\n",
       " 'AISLIN',\n",
       " 'ROYAL SON',\n",
       " 'ROZZETTA CRAFT',\n",
       " 'Fastrack',\n",
       " 'SRPM',\n",
       " 'agera',\n",
       " 'Urbanic',\n",
       " 'Lee Topper',\n",
       " 'AISLIN',\n",
       " 'VINCENT CHASE',\n",
       " 'Elligator',\n",
       " 'PIRASO',\n",
       " 'Fastrack',\n",
       " 'VINCENT CHASE',\n",
       " 'ROZZETTA CRAFT',\n",
       " 'SRPM',\n",
       " 'NuVew',\n",
       " 'AISLIN',\n",
       " 'Fastrack',\n",
       " 'ROYAL SON',\n",
       " 'GANSTA',\n",
       " 'Flizz',\n",
       " 'SHAAH COLLECTIONS',\n",
       " 'PIRASO',\n",
       " 'AISLIN',\n",
       " 'ROYAL SON',\n",
       " 'Fastrack',\n",
       " 'ROYAL SON',\n",
       " 'ROZZETTA CRAFT',\n",
       " 'DEIXELS',\n",
       " 'New Specs',\n",
       " 'WROGN',\n",
       " 'GHAWK',\n",
       " 'ROZZETTA CRAFT',\n",
       " 'kingsunglasses',\n",
       " 'kingsunglasses',\n",
       " 'ROZZETTA CRAFT',\n",
       " 'Sewell',\n",
       " 'kingsunglasses',\n",
       " 'Fastrack',\n",
       " 'HRX by Hrithik Roshan',\n",
       " 'ROYAL SON',\n",
       " 'VINCENT CHASE',\n",
       " 'SUNBEE',\n",
       " 'Lee Topper',\n",
       " 'ROZZETTA CRAFT']"
      ]
     },
     "execution_count": 35,
     "metadata": {},
     "output_type": "execute_result"
    }
   ],
   "source": [
    "for i in brand_tags:\n",
    "    brands=i.text\n",
    "    brands_list.append(brands)\n",
    "brands_list    "
   ]
  },
  {
   "cell_type": "code",
   "execution_count": 36,
   "id": "e0a7d19f",
   "metadata": {},
   "outputs": [
    {
     "data": {
      "text/plain": [
       "[<selenium.webdriver.remote.webelement.WebElement (session=\"98768eae7fcd2a6601e3ad2280736378\", element=\"3143ffde-e318-4c95-91f0-e339cbf80c25\")>,\n",
       " <selenium.webdriver.remote.webelement.WebElement (session=\"98768eae7fcd2a6601e3ad2280736378\", element=\"188f616c-c095-4e9a-a618-62f6c7b402ab\")>,\n",
       " <selenium.webdriver.remote.webelement.WebElement (session=\"98768eae7fcd2a6601e3ad2280736378\", element=\"bb432b53-ec4e-4151-a1c7-f426c8ba1db3\")>,\n",
       " <selenium.webdriver.remote.webelement.WebElement (session=\"98768eae7fcd2a6601e3ad2280736378\", element=\"246d6eda-0615-4297-9e9c-336e0714acbc\")>,\n",
       " <selenium.webdriver.remote.webelement.WebElement (session=\"98768eae7fcd2a6601e3ad2280736378\", element=\"a7bf4948-9c83-4214-ba28-091092710b07\")>,\n",
       " <selenium.webdriver.remote.webelement.WebElement (session=\"98768eae7fcd2a6601e3ad2280736378\", element=\"6c92ebe9-1cd6-4f2c-9d19-facf62792afa\")>,\n",
       " <selenium.webdriver.remote.webelement.WebElement (session=\"98768eae7fcd2a6601e3ad2280736378\", element=\"dac65f59-192e-4d30-8e6a-f1a52da1c784\")>,\n",
       " <selenium.webdriver.remote.webelement.WebElement (session=\"98768eae7fcd2a6601e3ad2280736378\", element=\"62844a64-79e6-4aef-8339-d853ce6624e8\")>,\n",
       " <selenium.webdriver.remote.webelement.WebElement (session=\"98768eae7fcd2a6601e3ad2280736378\", element=\"46a0aba4-4b71-4f1c-8e03-02b1b6c1fcb5\")>,\n",
       " <selenium.webdriver.remote.webelement.WebElement (session=\"98768eae7fcd2a6601e3ad2280736378\", element=\"7221e593-4ac9-4417-829e-02398a57947f\")>,\n",
       " <selenium.webdriver.remote.webelement.WebElement (session=\"98768eae7fcd2a6601e3ad2280736378\", element=\"2bad943a-2457-47e5-9f5a-d541328ba6e1\")>,\n",
       " <selenium.webdriver.remote.webelement.WebElement (session=\"98768eae7fcd2a6601e3ad2280736378\", element=\"f5bcc4df-5e31-45b1-bfe0-fc038eb4ad0e\")>,\n",
       " <selenium.webdriver.remote.webelement.WebElement (session=\"98768eae7fcd2a6601e3ad2280736378\", element=\"61a06ab4-71c9-4b44-9533-320ff91d1939\")>,\n",
       " <selenium.webdriver.remote.webelement.WebElement (session=\"98768eae7fcd2a6601e3ad2280736378\", element=\"165e4a3c-207a-4801-9359-41e0991c97a3\")>,\n",
       " <selenium.webdriver.remote.webelement.WebElement (session=\"98768eae7fcd2a6601e3ad2280736378\", element=\"7bc438d7-8122-4a41-a7d8-c39c9e433bcf\")>,\n",
       " <selenium.webdriver.remote.webelement.WebElement (session=\"98768eae7fcd2a6601e3ad2280736378\", element=\"be7d3e40-bc85-43be-a6bd-77e72c9aa5be\")>,\n",
       " <selenium.webdriver.remote.webelement.WebElement (session=\"98768eae7fcd2a6601e3ad2280736378\", element=\"33a2c600-f781-4215-8d44-a8abef7241f4\")>,\n",
       " <selenium.webdriver.remote.webelement.WebElement (session=\"98768eae7fcd2a6601e3ad2280736378\", element=\"1cff6559-401d-4f60-bd82-15a05dc3711b\")>,\n",
       " <selenium.webdriver.remote.webelement.WebElement (session=\"98768eae7fcd2a6601e3ad2280736378\", element=\"c294534d-fa81-4307-8164-a86a527f9733\")>,\n",
       " <selenium.webdriver.remote.webelement.WebElement (session=\"98768eae7fcd2a6601e3ad2280736378\", element=\"cf54ed20-5d35-40e5-9a00-fbb0bf197b6b\")>,\n",
       " <selenium.webdriver.remote.webelement.WebElement (session=\"98768eae7fcd2a6601e3ad2280736378\", element=\"4d16c59a-8414-439d-9e01-936fc4c06ec6\")>,\n",
       " <selenium.webdriver.remote.webelement.WebElement (session=\"98768eae7fcd2a6601e3ad2280736378\", element=\"1de7bc7f-2f10-4d90-85ff-3b083ef09f22\")>,\n",
       " <selenium.webdriver.remote.webelement.WebElement (session=\"98768eae7fcd2a6601e3ad2280736378\", element=\"04a32952-02a8-44b7-9a15-e7c210ef2e58\")>,\n",
       " <selenium.webdriver.remote.webelement.WebElement (session=\"98768eae7fcd2a6601e3ad2280736378\", element=\"e6924e2d-12fd-41be-af94-06844ae8c09b\")>,\n",
       " <selenium.webdriver.remote.webelement.WebElement (session=\"98768eae7fcd2a6601e3ad2280736378\", element=\"996bd2b1-013d-4c1b-bd44-a51891212233\")>,\n",
       " <selenium.webdriver.remote.webelement.WebElement (session=\"98768eae7fcd2a6601e3ad2280736378\", element=\"3631df57-526f-4f9b-8706-e3147bb3ea3a\")>,\n",
       " <selenium.webdriver.remote.webelement.WebElement (session=\"98768eae7fcd2a6601e3ad2280736378\", element=\"0a116b1e-6334-4fa7-9d6a-df9b98a96762\")>,\n",
       " <selenium.webdriver.remote.webelement.WebElement (session=\"98768eae7fcd2a6601e3ad2280736378\", element=\"a18d9f3d-e7cf-49e4-a094-b04ed4591d95\")>,\n",
       " <selenium.webdriver.remote.webelement.WebElement (session=\"98768eae7fcd2a6601e3ad2280736378\", element=\"29044475-83a0-42a4-87ff-bd036ac70f2d\")>,\n",
       " <selenium.webdriver.remote.webelement.WebElement (session=\"98768eae7fcd2a6601e3ad2280736378\", element=\"cd8d2085-bd39-4943-b2af-305b7b33db67\")>,\n",
       " <selenium.webdriver.remote.webelement.WebElement (session=\"98768eae7fcd2a6601e3ad2280736378\", element=\"772d09a6-c4be-46e5-87bc-da0ad18a039d\")>,\n",
       " <selenium.webdriver.remote.webelement.WebElement (session=\"98768eae7fcd2a6601e3ad2280736378\", element=\"51321598-596a-4538-91f1-9bddbd592e15\")>,\n",
       " <selenium.webdriver.remote.webelement.WebElement (session=\"98768eae7fcd2a6601e3ad2280736378\", element=\"a68780c6-4ed3-4390-b467-0afee77fd172\")>,\n",
       " <selenium.webdriver.remote.webelement.WebElement (session=\"98768eae7fcd2a6601e3ad2280736378\", element=\"2c31af5a-dbf3-4ee3-8b61-e8ac6a72045f\")>,\n",
       " <selenium.webdriver.remote.webelement.WebElement (session=\"98768eae7fcd2a6601e3ad2280736378\", element=\"814a8bf2-abd1-4370-b753-fd3f4555877d\")>,\n",
       " <selenium.webdriver.remote.webelement.WebElement (session=\"98768eae7fcd2a6601e3ad2280736378\", element=\"aaa1684a-ce08-4a52-822f-1d4118e9e42d\")>,\n",
       " <selenium.webdriver.remote.webelement.WebElement (session=\"98768eae7fcd2a6601e3ad2280736378\", element=\"f5214e0c-b5d0-47bc-b77b-cc0c14728fdb\")>,\n",
       " <selenium.webdriver.remote.webelement.WebElement (session=\"98768eae7fcd2a6601e3ad2280736378\", element=\"61aa6ad2-b17e-407b-95a9-f78bd9cf3104\")>,\n",
       " <selenium.webdriver.remote.webelement.WebElement (session=\"98768eae7fcd2a6601e3ad2280736378\", element=\"3ad47b99-0ac8-48b0-8e3f-8cf4dd9b74a3\")>,\n",
       " <selenium.webdriver.remote.webelement.WebElement (session=\"98768eae7fcd2a6601e3ad2280736378\", element=\"ac2bae05-daf5-46b2-a47f-9dda6a72a21c\")>]"
      ]
     },
     "execution_count": 36,
     "metadata": {},
     "output_type": "execute_result"
    }
   ],
   "source": [
    "price_tags=driver.find_elements_by_xpath(\"//div[@class='_30jeq3']\")\n",
    "price_tags"
   ]
  },
  {
   "cell_type": "code",
   "execution_count": 37,
   "id": "92e1f408",
   "metadata": {},
   "outputs": [
    {
     "data": {
      "text/plain": [
       "['₹199',\n",
       " '₹349',\n",
       " '₹839',\n",
       " '₹295',\n",
       " '₹639',\n",
       " '₹854',\n",
       " '₹224',\n",
       " '₹314',\n",
       " '₹264',\n",
       " '₹359',\n",
       " '₹283',\n",
       " '₹399',\n",
       " '₹499',\n",
       " '₹319',\n",
       " '₹799',\n",
       " '₹649',\n",
       " '₹1,039',\n",
       " '₹246',\n",
       " '₹195',\n",
       " '₹616',\n",
       " '₹299',\n",
       " '₹639',\n",
       " '₹299',\n",
       " '₹616',\n",
       " '₹259',\n",
       " '₹929',\n",
       " '₹1,029',\n",
       " '₹699',\n",
       " '₹929',\n",
       " '₹349',\n",
       " '₹259',\n",
       " '₹554',\n",
       " '₹499',\n",
       " '₹359',\n",
       " '₹554',\n",
       " '₹664',\n",
       " '₹499',\n",
       " '₹1,169',\n",
       " '₹219',\n",
       " '₹242',\n",
       " '₹499',\n",
       " '₹259',\n",
       " '₹554',\n",
       " '₹699',\n",
       " '₹219',\n",
       " '₹359',\n",
       " '₹1,169',\n",
       " '₹899',\n",
       " '₹499',\n",
       " '₹219',\n",
       " '₹384',\n",
       " '₹554',\n",
       " '₹719',\n",
       " '₹699',\n",
       " '₹233',\n",
       " '₹389',\n",
       " '₹279',\n",
       " '₹223',\n",
       " '₹554',\n",
       " '₹569',\n",
       " '₹466',\n",
       " '₹379',\n",
       " '₹399',\n",
       " '₹249',\n",
       " '₹265',\n",
       " '₹599',\n",
       " '₹299',\n",
       " '₹649',\n",
       " '₹269',\n",
       " '₹213',\n",
       " '₹399',\n",
       " '₹323',\n",
       " '₹189',\n",
       " '₹759',\n",
       " '₹2,309',\n",
       " '₹799',\n",
       " '₹929',\n",
       " '₹283',\n",
       " '₹219',\n",
       " '₹399']"
      ]
     },
     "execution_count": 37,
     "metadata": {},
     "output_type": "execute_result"
    }
   ],
   "source": [
    "for i in price_tags:\n",
    "    price=i.text\n",
    "    price_list.append(price)\n",
    "price_list    "
   ]
  },
  {
   "cell_type": "code",
   "execution_count": 38,
   "id": "9ed3ad01",
   "metadata": {},
   "outputs": [
    {
     "data": {
      "text/plain": [
       "[<selenium.webdriver.remote.webelement.WebElement (session=\"98768eae7fcd2a6601e3ad2280736378\", element=\"19509417-014e-4220-afc0-b27b1626e6be\")>,\n",
       " <selenium.webdriver.remote.webelement.WebElement (session=\"98768eae7fcd2a6601e3ad2280736378\", element=\"6162a41a-85c3-4d8c-8f29-6adf27e4d722\")>,\n",
       " <selenium.webdriver.remote.webelement.WebElement (session=\"98768eae7fcd2a6601e3ad2280736378\", element=\"e59f7802-c225-42f6-ad1e-16a199954e1f\")>,\n",
       " <selenium.webdriver.remote.webelement.WebElement (session=\"98768eae7fcd2a6601e3ad2280736378\", element=\"987ab052-42ae-492d-9316-d2a9de2ac21c\")>,\n",
       " <selenium.webdriver.remote.webelement.WebElement (session=\"98768eae7fcd2a6601e3ad2280736378\", element=\"01047814-1f81-45fa-80d7-f3e626c1b1a7\")>,\n",
       " <selenium.webdriver.remote.webelement.WebElement (session=\"98768eae7fcd2a6601e3ad2280736378\", element=\"69963d22-79aa-4ea9-982e-21eae2baf545\")>,\n",
       " <selenium.webdriver.remote.webelement.WebElement (session=\"98768eae7fcd2a6601e3ad2280736378\", element=\"807cccdb-16c9-4135-b3ab-71071b11006c\")>,\n",
       " <selenium.webdriver.remote.webelement.WebElement (session=\"98768eae7fcd2a6601e3ad2280736378\", element=\"a01c2b98-22de-4a8a-a0a4-d01a2a0831b4\")>,\n",
       " <selenium.webdriver.remote.webelement.WebElement (session=\"98768eae7fcd2a6601e3ad2280736378\", element=\"69fabff6-0284-4000-9fcd-fd0f7ebabca6\")>,\n",
       " <selenium.webdriver.remote.webelement.WebElement (session=\"98768eae7fcd2a6601e3ad2280736378\", element=\"e37ef01c-1ebd-4b12-8ff8-86bb620a4728\")>,\n",
       " <selenium.webdriver.remote.webelement.WebElement (session=\"98768eae7fcd2a6601e3ad2280736378\", element=\"bee1feb9-73e7-4049-af3b-cfe420f063ac\")>,\n",
       " <selenium.webdriver.remote.webelement.WebElement (session=\"98768eae7fcd2a6601e3ad2280736378\", element=\"4b22ddcf-d3c2-44b9-a6b3-92d265a06549\")>,\n",
       " <selenium.webdriver.remote.webelement.WebElement (session=\"98768eae7fcd2a6601e3ad2280736378\", element=\"5f6856e8-546d-417a-978a-4cd95fdd58cb\")>,\n",
       " <selenium.webdriver.remote.webelement.WebElement (session=\"98768eae7fcd2a6601e3ad2280736378\", element=\"f637e4e5-e448-4910-9879-9efb7f7d741d\")>,\n",
       " <selenium.webdriver.remote.webelement.WebElement (session=\"98768eae7fcd2a6601e3ad2280736378\", element=\"ffdd6763-4b56-4d99-a084-97125db7f4ad\")>,\n",
       " <selenium.webdriver.remote.webelement.WebElement (session=\"98768eae7fcd2a6601e3ad2280736378\", element=\"520d926d-aa3b-4597-affc-d10d456bc908\")>,\n",
       " <selenium.webdriver.remote.webelement.WebElement (session=\"98768eae7fcd2a6601e3ad2280736378\", element=\"d12cf1f9-eb6d-4bac-8e70-7177a9b88b09\")>,\n",
       " <selenium.webdriver.remote.webelement.WebElement (session=\"98768eae7fcd2a6601e3ad2280736378\", element=\"8ad2e363-c23f-4873-9dab-b3caa1dce467\")>,\n",
       " <selenium.webdriver.remote.webelement.WebElement (session=\"98768eae7fcd2a6601e3ad2280736378\", element=\"a455bb25-4039-4baa-8604-0f8f9caa3d7f\")>,\n",
       " <selenium.webdriver.remote.webelement.WebElement (session=\"98768eae7fcd2a6601e3ad2280736378\", element=\"6b3e5c9b-beab-42e2-a67e-38363734ab49\")>,\n",
       " <selenium.webdriver.remote.webelement.WebElement (session=\"98768eae7fcd2a6601e3ad2280736378\", element=\"d543a233-25ff-414d-acc2-791ab7001046\")>,\n",
       " <selenium.webdriver.remote.webelement.WebElement (session=\"98768eae7fcd2a6601e3ad2280736378\", element=\"90854111-3775-42eb-984f-21840f2591fb\")>,\n",
       " <selenium.webdriver.remote.webelement.WebElement (session=\"98768eae7fcd2a6601e3ad2280736378\", element=\"182b904d-ad06-40d6-bf14-9283a2543c83\")>,\n",
       " <selenium.webdriver.remote.webelement.WebElement (session=\"98768eae7fcd2a6601e3ad2280736378\", element=\"ef0652ae-f84b-4785-b345-f254c0078ac1\")>,\n",
       " <selenium.webdriver.remote.webelement.WebElement (session=\"98768eae7fcd2a6601e3ad2280736378\", element=\"4b0285e9-3763-45a3-a578-7c51e5be6c9e\")>,\n",
       " <selenium.webdriver.remote.webelement.WebElement (session=\"98768eae7fcd2a6601e3ad2280736378\", element=\"67f29ae3-d21e-438f-901c-7f7bbb86664e\")>,\n",
       " <selenium.webdriver.remote.webelement.WebElement (session=\"98768eae7fcd2a6601e3ad2280736378\", element=\"ddd4ff5c-91b7-4b9b-aec7-d7dd492e0908\")>,\n",
       " <selenium.webdriver.remote.webelement.WebElement (session=\"98768eae7fcd2a6601e3ad2280736378\", element=\"09694398-ff44-4f5c-8eec-a74bddb890f4\")>,\n",
       " <selenium.webdriver.remote.webelement.WebElement (session=\"98768eae7fcd2a6601e3ad2280736378\", element=\"04950f70-1b2f-453c-9d03-a4d7750870e4\")>,\n",
       " <selenium.webdriver.remote.webelement.WebElement (session=\"98768eae7fcd2a6601e3ad2280736378\", element=\"69b0d61a-9b29-4743-8708-0ff0edf676e4\")>,\n",
       " <selenium.webdriver.remote.webelement.WebElement (session=\"98768eae7fcd2a6601e3ad2280736378\", element=\"467cb9dc-3f24-46fe-8488-b4cab19fae43\")>,\n",
       " <selenium.webdriver.remote.webelement.WebElement (session=\"98768eae7fcd2a6601e3ad2280736378\", element=\"538eecf5-c5f6-4523-a8c7-9b35cd4a1b89\")>,\n",
       " <selenium.webdriver.remote.webelement.WebElement (session=\"98768eae7fcd2a6601e3ad2280736378\", element=\"974a7ea3-eb48-4b3e-84f5-393f22892177\")>,\n",
       " <selenium.webdriver.remote.webelement.WebElement (session=\"98768eae7fcd2a6601e3ad2280736378\", element=\"5eacf884-fc53-4a00-b52f-0e257d322e44\")>,\n",
       " <selenium.webdriver.remote.webelement.WebElement (session=\"98768eae7fcd2a6601e3ad2280736378\", element=\"04d22f60-da7f-4bab-a57c-b7d5b6bc2024\")>,\n",
       " <selenium.webdriver.remote.webelement.WebElement (session=\"98768eae7fcd2a6601e3ad2280736378\", element=\"ab4dc3b2-0e9a-4851-a431-16e8a172d8ff\")>,\n",
       " <selenium.webdriver.remote.webelement.WebElement (session=\"98768eae7fcd2a6601e3ad2280736378\", element=\"f0fdb892-9440-4eba-86c3-ddf77aa084f4\")>,\n",
       " <selenium.webdriver.remote.webelement.WebElement (session=\"98768eae7fcd2a6601e3ad2280736378\", element=\"e5f3d51a-c1e9-4c96-9a82-0cb90426c0ab\")>,\n",
       " <selenium.webdriver.remote.webelement.WebElement (session=\"98768eae7fcd2a6601e3ad2280736378\", element=\"1bd75e63-39c7-461e-a69d-4ddcacc768e4\")>,\n",
       " <selenium.webdriver.remote.webelement.WebElement (session=\"98768eae7fcd2a6601e3ad2280736378\", element=\"065da09e-f8ba-46f1-97b5-23d22cfb8fd9\")>]"
      ]
     },
     "execution_count": 38,
     "metadata": {},
     "output_type": "execute_result"
    }
   ],
   "source": [
    "description_tags=driver.find_elements_by_xpath(\"//a[@class='IRpwTa']\")\n",
    "description_tags"
   ]
  },
  {
   "cell_type": "code",
   "execution_count": 39,
   "id": "372cdf50",
   "metadata": {},
   "outputs": [
    {
     "data": {
      "text/plain": [
       "['Riding Glasses, Night Vision Spectacle Sunglasses (Fre...',\n",
       " 'UV Protection, Gradient Retro Square Sunglasses (Free S...',\n",
       " 'Polarized Aviator Sunglasses (Free Size)',\n",
       " 'UV Protection Round Sunglasses (54)',\n",
       " 'UV Protection Rectangular Sunglasses (Free Size)',\n",
       " 'Polarized Aviator Sunglasses (Free Size)',\n",
       " 'UV Protection Aviator Sunglasses (54)',\n",
       " 'UV Protection Aviator Sunglasses (57)',\n",
       " 'UV Protection Rectangular Sunglasses (Free Size)',\n",
       " 'UV Protection Aviator Sunglasses (58)',\n",
       " 'UV Protection, Polarized Wayfarer Sunglasses (Free Size...',\n",
       " 'UV Protection Spectacle Sunglasses (Free Size)',\n",
       " 'Polarized, Riding Glasses Sports, Wrap-around Sunglasse...',\n",
       " 'UV Protection Rectangular Sunglasses (Free Size)',\n",
       " 'Polarized Wayfarer Sunglasses (Free Size)',\n",
       " 'UV Protection Wayfarer Sunglasses (59)',\n",
       " 'UV Protection Aviator Sunglasses (58)',\n",
       " 'UV Protection Aviator Sunglasses (54)',\n",
       " 'UV Protection, Polarized, Mirrored Rectangular Sunglass...',\n",
       " 'Polarized Butterfly Sunglasses (Free Size)',\n",
       " 'Mirrored, UV Protection, Riding Glasses, Others Round S...',\n",
       " 'UV Protection Aviator Sunglasses (Free Size)',\n",
       " 'Riding Glasses Wrap-around Sunglasses (Free Size)',\n",
       " 'Polarized Butterfly Sunglasses (Free Size)',\n",
       " 'UV Protection, Polarized, Mirrored Retro Square Sunglas...',\n",
       " 'Gradient Cat-eye Sunglasses (57)',\n",
       " 'Gradient, UV Protection Aviator Sunglasses (56)',\n",
       " 'Polarized Retro Square Sunglasses (61)',\n",
       " 'by Lenskart Polarized, UV Protection Cat-eye Sunglasses...',\n",
       " 'UV Protection, Mirrored Clubmaster Sunglasses (Free Siz...',\n",
       " 'UV Protection Cat-eye Sunglasses (Free Size)',\n",
       " 'UV Protection, Gradient Cat-eye Sunglasses (58)',\n",
       " 'Others Oval Sunglasses (Free Size)',\n",
       " 'UV Protection Over-sized Sunglasses (65)',\n",
       " 'UV Protection, Gradient Retro Square Sunglasses (58)',\n",
       " 'UV Protection, Gradient Over-sized Sunglasses (62)',\n",
       " 'UV Protection Retro Square Sunglasses (Free Size)',\n",
       " 'UV Protection Aviator Sunglasses (58)',\n",
       " 'Others Wayfarer, Retro Square Sunglasses (50)',\n",
       " 'Gradient Aviator Sunglasses (55)',\n",
       " 'Others Oval Sunglasses (Free Size)',\n",
       " 'UV Protection Cat-eye Sunglasses (Free Size)',\n",
       " 'UV Protection, Gradient Retro Square Sunglasses (58)',\n",
       " 'UV Protection Rectangular Sunglasses (52)',\n",
       " 'UV Protection Round Sunglasses (53)',\n",
       " 'UV Protection Over-sized Sunglasses (65)',\n",
       " 'UV Protection Aviator Sunglasses (58)',\n",
       " 'by Lenskart UV Protection Wayfarer Sunglasses (51)',\n",
       " 'UV Protection Retro Square Sunglasses (Free Size)',\n",
       " 'Others Wayfarer, Retro Square Sunglasses (50)',\n",
       " 'UV Protection Sports Sunglasses (62)',\n",
       " 'UV Protection, Gradient Oval Sunglasses (58)',\n",
       " 'UV Protection Shield Sunglasses (Free Size)',\n",
       " 'UV Protection, Gradient Butterfly Sunglasses (62)',\n",
       " 'Gradient, UV Protection Retro Square, Wayfarer Sunglass...',\n",
       " 'UV Protection Retro Square Sunglasses (Free Size)',\n",
       " 'UV Protection Round Sunglasses (Free Size)',\n",
       " 'UV Protection Aviator Sunglasses (54)',\n",
       " 'UV Protection, Gradient Oval Sunglasses (58)',\n",
       " 'UV Protection Retro Square Sunglasses (60)',\n",
       " 'UV Protection Aviator Sunglasses (Free Size)',\n",
       " 'Mirrored Aviator Sunglasses (Free Size)',\n",
       " 'UV Protection, Gradient Rectangular Sunglasses (Free Si...',\n",
       " 'UV Protection Wayfarer Sunglasses (Free Size)',\n",
       " 'UV Protection Round Sunglasses (Free Size)',\n",
       " 'Polarized Aviator Sunglasses (44)',\n",
       " 'UV Protection Rectangular Sunglasses (Free Size)',\n",
       " 'UV Protection Aviator Sunglasses (62)',\n",
       " 'Mirrored, UV Protection Wayfarer Sunglasses (Free Size)',\n",
       " 'UV Protection, Riding Glasses, Mirrored Wayfarer Sungla...',\n",
       " 'UV Protection, Gradient Round Sunglasses (Free Size)',\n",
       " 'UV Protection Aviator Sunglasses (Free Size)',\n",
       " 'UV Protection Rectangular Sunglasses (55)',\n",
       " 'UV Protection Wayfarer Sunglasses (Free Size)',\n",
       " 'UV Protection Aviator Sunglasses (61)',\n",
       " 'Polarized, UV Protection Wrap-around Sunglasses (62)',\n",
       " 'by Lenskart Polarized, UV Protection Round Sunglasses (...',\n",
       " 'UV Protection, Polarized, Mirrored Wayfarer Sunglasses ...',\n",
       " 'UV Protection Rectangular Sunglasses (Free Size)',\n",
       " 'Mirrored, UV Protection Round Sunglasses (Free Size)']"
      ]
     },
     "execution_count": 39,
     "metadata": {},
     "output_type": "execute_result"
    }
   ],
   "source": [
    "for i in description_tags:\n",
    "    descriptions=i.text\n",
    "    Product_description.append(descriptions)\n",
    "Product_description   \n",
    "    "
   ]
  },
  {
   "cell_type": "code",
   "execution_count": 40,
   "id": "867ab7d8",
   "metadata": {},
   "outputs": [],
   "source": [
    "next_button=driver.find_element_by_xpath(\"/html/body/div/div/div[3]/div[1]/div[2]/div[12]/div/div/nav/a[12]\")\n",
    "next_button.click()"
   ]
  },
  {
   "cell_type": "code",
   "execution_count": 49,
   "id": "eb421cd3",
   "metadata": {},
   "outputs": [
    {
     "data": {
      "text/plain": [
       "[<selenium.webdriver.remote.webelement.WebElement (session=\"98768eae7fcd2a6601e3ad2280736378\", element=\"8c455af4-7025-4026-938e-cf2842b2fcb8\")>,\n",
       " <selenium.webdriver.remote.webelement.WebElement (session=\"98768eae7fcd2a6601e3ad2280736378\", element=\"67e9ac92-2c55-479b-9f67-191991f06b68\")>,\n",
       " <selenium.webdriver.remote.webelement.WebElement (session=\"98768eae7fcd2a6601e3ad2280736378\", element=\"bc6cb8e5-2652-4795-a4dd-0718cf0bcdd5\")>,\n",
       " <selenium.webdriver.remote.webelement.WebElement (session=\"98768eae7fcd2a6601e3ad2280736378\", element=\"9586085b-4c59-430f-8e4a-bbdf4f1affee\")>,\n",
       " <selenium.webdriver.remote.webelement.WebElement (session=\"98768eae7fcd2a6601e3ad2280736378\", element=\"75a4ab84-6f07-4543-9df5-94d7b15f59fa\")>,\n",
       " <selenium.webdriver.remote.webelement.WebElement (session=\"98768eae7fcd2a6601e3ad2280736378\", element=\"1ff08951-9139-4c44-a16d-cd6011da5d30\")>,\n",
       " <selenium.webdriver.remote.webelement.WebElement (session=\"98768eae7fcd2a6601e3ad2280736378\", element=\"f99ee3a2-0806-495f-9b55-d81e5d8fb667\")>,\n",
       " <selenium.webdriver.remote.webelement.WebElement (session=\"98768eae7fcd2a6601e3ad2280736378\", element=\"58b0c22b-96c8-4bf7-a16b-06e86f805f59\")>,\n",
       " <selenium.webdriver.remote.webelement.WebElement (session=\"98768eae7fcd2a6601e3ad2280736378\", element=\"bbaaa1ec-d195-4112-8fd7-40b69820d53c\")>,\n",
       " <selenium.webdriver.remote.webelement.WebElement (session=\"98768eae7fcd2a6601e3ad2280736378\", element=\"2b220289-1b9e-40c3-8cb0-a8d31154152c\")>,\n",
       " <selenium.webdriver.remote.webelement.WebElement (session=\"98768eae7fcd2a6601e3ad2280736378\", element=\"a19b0331-346e-4116-bbe0-46c341ce50a3\")>,\n",
       " <selenium.webdriver.remote.webelement.WebElement (session=\"98768eae7fcd2a6601e3ad2280736378\", element=\"7770d6d8-920f-447f-ac84-45bee15b7081\")>,\n",
       " <selenium.webdriver.remote.webelement.WebElement (session=\"98768eae7fcd2a6601e3ad2280736378\", element=\"d73156dd-14be-4e62-b706-99b4591e42b7\")>,\n",
       " <selenium.webdriver.remote.webelement.WebElement (session=\"98768eae7fcd2a6601e3ad2280736378\", element=\"9e605e13-2f5f-4b68-9848-1f58e160dc0a\")>,\n",
       " <selenium.webdriver.remote.webelement.WebElement (session=\"98768eae7fcd2a6601e3ad2280736378\", element=\"fb1f8cc1-f01d-4cd1-96f9-3ae31e761164\")>,\n",
       " <selenium.webdriver.remote.webelement.WebElement (session=\"98768eae7fcd2a6601e3ad2280736378\", element=\"b31b5696-a0dc-4115-a805-86a3302cec6c\")>,\n",
       " <selenium.webdriver.remote.webelement.WebElement (session=\"98768eae7fcd2a6601e3ad2280736378\", element=\"c10ffeff-2c0f-44fd-b3e2-c8a738a768a5\")>,\n",
       " <selenium.webdriver.remote.webelement.WebElement (session=\"98768eae7fcd2a6601e3ad2280736378\", element=\"306475f7-afda-4cd8-8915-5fcc5fc4c448\")>,\n",
       " <selenium.webdriver.remote.webelement.WebElement (session=\"98768eae7fcd2a6601e3ad2280736378\", element=\"b330e8fd-edf0-4d38-9d70-20413d3606a9\")>,\n",
       " <selenium.webdriver.remote.webelement.WebElement (session=\"98768eae7fcd2a6601e3ad2280736378\", element=\"d78cb2fc-781f-45af-94fe-1e5900ae6127\")>,\n",
       " <selenium.webdriver.remote.webelement.WebElement (session=\"98768eae7fcd2a6601e3ad2280736378\", element=\"34f4fa41-48e6-4800-9cb1-900bf277af72\")>,\n",
       " <selenium.webdriver.remote.webelement.WebElement (session=\"98768eae7fcd2a6601e3ad2280736378\", element=\"dfd72dae-1793-43e8-a211-da11a8d31c7b\")>,\n",
       " <selenium.webdriver.remote.webelement.WebElement (session=\"98768eae7fcd2a6601e3ad2280736378\", element=\"e1e738c5-238d-45a5-a05d-31648d698ef2\")>,\n",
       " <selenium.webdriver.remote.webelement.WebElement (session=\"98768eae7fcd2a6601e3ad2280736378\", element=\"15ecfd4b-fab5-4003-9207-eea97c28c5da\")>,\n",
       " <selenium.webdriver.remote.webelement.WebElement (session=\"98768eae7fcd2a6601e3ad2280736378\", element=\"bcc35d3d-e294-4c62-b584-026f49bf17c0\")>,\n",
       " <selenium.webdriver.remote.webelement.WebElement (session=\"98768eae7fcd2a6601e3ad2280736378\", element=\"21d36ad7-dfdf-4933-916a-8014225f8561\")>,\n",
       " <selenium.webdriver.remote.webelement.WebElement (session=\"98768eae7fcd2a6601e3ad2280736378\", element=\"1b612c4e-b130-42cd-bb45-33545bff924e\")>,\n",
       " <selenium.webdriver.remote.webelement.WebElement (session=\"98768eae7fcd2a6601e3ad2280736378\", element=\"b161ecd8-831a-4746-8a12-6b882015a63e\")>,\n",
       " <selenium.webdriver.remote.webelement.WebElement (session=\"98768eae7fcd2a6601e3ad2280736378\", element=\"4137bb6c-3c01-45f5-82d3-15ea232ed362\")>,\n",
       " <selenium.webdriver.remote.webelement.WebElement (session=\"98768eae7fcd2a6601e3ad2280736378\", element=\"353cd4b6-74cb-4721-ad33-b966a450c096\")>,\n",
       " <selenium.webdriver.remote.webelement.WebElement (session=\"98768eae7fcd2a6601e3ad2280736378\", element=\"1231fe8d-da1a-4821-8a44-eb920408bd3b\")>,\n",
       " <selenium.webdriver.remote.webelement.WebElement (session=\"98768eae7fcd2a6601e3ad2280736378\", element=\"48f05a24-a18f-4493-b99c-915bea80a31d\")>,\n",
       " <selenium.webdriver.remote.webelement.WebElement (session=\"98768eae7fcd2a6601e3ad2280736378\", element=\"d5977b5c-ae3d-488e-985f-13a18d249aa0\")>,\n",
       " <selenium.webdriver.remote.webelement.WebElement (session=\"98768eae7fcd2a6601e3ad2280736378\", element=\"716b2d25-7f32-4e90-a06c-5a362f5883ca\")>,\n",
       " <selenium.webdriver.remote.webelement.WebElement (session=\"98768eae7fcd2a6601e3ad2280736378\", element=\"e759d262-a396-47d7-bc4d-dbb67b909871\")>,\n",
       " <selenium.webdriver.remote.webelement.WebElement (session=\"98768eae7fcd2a6601e3ad2280736378\", element=\"6ae62235-c4ab-4b1f-85fb-0d4d04245682\")>,\n",
       " <selenium.webdriver.remote.webelement.WebElement (session=\"98768eae7fcd2a6601e3ad2280736378\", element=\"77add7db-dc07-4cf1-a0d9-f5ea74c4a3b0\")>,\n",
       " <selenium.webdriver.remote.webelement.WebElement (session=\"98768eae7fcd2a6601e3ad2280736378\", element=\"4b57d21d-dc21-4a43-a241-578f88c78639\")>,\n",
       " <selenium.webdriver.remote.webelement.WebElement (session=\"98768eae7fcd2a6601e3ad2280736378\", element=\"6501d971-c9c9-41c0-931f-0dee1884cb90\")>,\n",
       " <selenium.webdriver.remote.webelement.WebElement (session=\"98768eae7fcd2a6601e3ad2280736378\", element=\"cdea94eb-5e65-431f-9edb-7c041065cf0e\")>]"
      ]
     },
     "execution_count": 49,
     "metadata": {},
     "output_type": "execute_result"
    }
   ],
   "source": [
    "brand_tags=driver.find_elements_by_xpath(\"//div[@class='_2WkVRV']\")\n",
    "brand_tags"
   ]
  },
  {
   "cell_type": "code",
   "execution_count": 50,
   "id": "f54750fe",
   "metadata": {},
   "outputs": [
    {
     "data": {
      "text/plain": [
       "['LIZA ANGEL',\n",
       " 'ROZZETTA CRAFT',\n",
       " 'Mi',\n",
       " 'Elligator',\n",
       " 'Fastrack',\n",
       " 'Mi',\n",
       " 'PIRASO',\n",
       " 'GANSTA',\n",
       " 'New Specs',\n",
       " 'PIRASO',\n",
       " 'SUNBEE',\n",
       " 'ROZZETTA CRAFT',\n",
       " 'ROZZETTA CRAFT',\n",
       " 'ROZZETTA CRAFT',\n",
       " 'Mi',\n",
       " 'VINCENT CHASE',\n",
       " 'Fastrack',\n",
       " 'PIRASO',\n",
       " 'SHAAH COLLECTIONS',\n",
       " 'Sewell',\n",
       " 'New Specs',\n",
       " 'Fastrack',\n",
       " 'Lee Topper',\n",
       " 'Sewell',\n",
       " 'SUNBEE',\n",
       " 'United Colors of Benetton',\n",
       " 'United Colors of Benetton',\n",
       " 'ROYAL SON',\n",
       " 'VINCENT CHASE',\n",
       " 'PHENOMENAL',\n",
       " 'Lee Topper',\n",
       " 'AISLIN',\n",
       " 'Urbanic',\n",
       " 'PIRASO',\n",
       " 'AISLIN',\n",
       " 'ROYAL SON',\n",
       " 'ROZZETTA CRAFT',\n",
       " 'Fastrack',\n",
       " 'SRPM',\n",
       " 'agera',\n",
       " 'Urbanic',\n",
       " 'Lee Topper',\n",
       " 'AISLIN',\n",
       " 'VINCENT CHASE',\n",
       " 'Elligator',\n",
       " 'PIRASO',\n",
       " 'Fastrack',\n",
       " 'VINCENT CHASE',\n",
       " 'ROZZETTA CRAFT',\n",
       " 'SRPM',\n",
       " 'NuVew',\n",
       " 'AISLIN',\n",
       " 'Fastrack',\n",
       " 'ROYAL SON',\n",
       " 'GANSTA',\n",
       " 'Flizz',\n",
       " 'SHAAH COLLECTIONS',\n",
       " 'PIRASO',\n",
       " 'AISLIN',\n",
       " 'ROYAL SON',\n",
       " 'Fastrack',\n",
       " 'ROYAL SON',\n",
       " 'ROZZETTA CRAFT',\n",
       " 'DEIXELS',\n",
       " 'New Specs',\n",
       " 'WROGN',\n",
       " 'GHAWK',\n",
       " 'ROZZETTA CRAFT',\n",
       " 'kingsunglasses',\n",
       " 'kingsunglasses',\n",
       " 'ROZZETTA CRAFT',\n",
       " 'Sewell',\n",
       " 'kingsunglasses',\n",
       " 'Fastrack',\n",
       " 'HRX by Hrithik Roshan',\n",
       " 'ROYAL SON',\n",
       " 'VINCENT CHASE',\n",
       " 'SUNBEE',\n",
       " 'Lee Topper',\n",
       " 'ROZZETTA CRAFT',\n",
       " 'New Specs',\n",
       " 'PHENOMENAL',\n",
       " 'ROYAL SON',\n",
       " 'GANSTA',\n",
       " 'GANSTA',\n",
       " 'Fastrack',\n",
       " 'Fastrack',\n",
       " 'ROZZETTA CRAFT',\n",
       " 'SRPM',\n",
       " 'ROYAL SON',\n",
       " 'Fastrack',\n",
       " 'DEIXELS',\n",
       " 'ROZZETTA CRAFT',\n",
       " 'Lee Topper',\n",
       " 'Fastrack',\n",
       " 'ROZZETTA CRAFT',\n",
       " 'Rich Club',\n",
       " 'CRYSTAL CART',\n",
       " 'kingsunglasses',\n",
       " 'VINCENT CHASE',\n",
       " 'AISLIN',\n",
       " 'Fastrack',\n",
       " 'New Specs',\n",
       " 'ROZZETTA CRAFT',\n",
       " 'PIRASO',\n",
       " 'VINCENT CHASE',\n",
       " 'Fastrack',\n",
       " 'Poloport',\n",
       " 'Fastrack',\n",
       " 'ROYAL SON',\n",
       " 'kingsunglasses',\n",
       " 'ROYAL SON',\n",
       " 'ROZZETTA CRAFT',\n",
       " 'ROYAL SON',\n",
       " 'kingsunglasses',\n",
       " 'GANSTA',\n",
       " 'maxa',\n",
       " 'VINCENT CHASE',\n",
       " 'kingsunglasses',\n",
       " 'VINCENT CHASE']"
      ]
     },
     "execution_count": 50,
     "metadata": {},
     "output_type": "execute_result"
    }
   ],
   "source": [
    "for i in brand_tags:\n",
    "    brands=i.text\n",
    "    brands_list.append(brands)\n",
    "brands_list    "
   ]
  },
  {
   "cell_type": "code",
   "execution_count": 43,
   "id": "624cb032",
   "metadata": {},
   "outputs": [
    {
     "data": {
      "text/plain": [
       "[<selenium.webdriver.remote.webelement.WebElement (session=\"98768eae7fcd2a6601e3ad2280736378\", element=\"42bc49c0-aa27-40c7-8913-445c1530914d\")>,\n",
       " <selenium.webdriver.remote.webelement.WebElement (session=\"98768eae7fcd2a6601e3ad2280736378\", element=\"52a6e81b-5229-4316-bd02-e781890af60d\")>,\n",
       " <selenium.webdriver.remote.webelement.WebElement (session=\"98768eae7fcd2a6601e3ad2280736378\", element=\"7dc7eb8f-46c8-495b-8a45-46d8871d2ed7\")>,\n",
       " <selenium.webdriver.remote.webelement.WebElement (session=\"98768eae7fcd2a6601e3ad2280736378\", element=\"00f09c8c-0b4b-4c11-9c5f-2ddfb7602c7d\")>,\n",
       " <selenium.webdriver.remote.webelement.WebElement (session=\"98768eae7fcd2a6601e3ad2280736378\", element=\"d4524062-49aa-47e4-bd68-df125176068a\")>,\n",
       " <selenium.webdriver.remote.webelement.WebElement (session=\"98768eae7fcd2a6601e3ad2280736378\", element=\"d9d3c50f-dacc-4458-a2a7-6f4803063907\")>,\n",
       " <selenium.webdriver.remote.webelement.WebElement (session=\"98768eae7fcd2a6601e3ad2280736378\", element=\"1f211f9e-08f9-4917-bb37-7d652fddd9cf\")>,\n",
       " <selenium.webdriver.remote.webelement.WebElement (session=\"98768eae7fcd2a6601e3ad2280736378\", element=\"39f06225-d075-47f6-9df4-78c26f307511\")>,\n",
       " <selenium.webdriver.remote.webelement.WebElement (session=\"98768eae7fcd2a6601e3ad2280736378\", element=\"2fa98e5f-9c80-42c2-b4aa-0a276521c97e\")>,\n",
       " <selenium.webdriver.remote.webelement.WebElement (session=\"98768eae7fcd2a6601e3ad2280736378\", element=\"7b6fdc59-2262-42c5-a03f-9288ff2e9699\")>,\n",
       " <selenium.webdriver.remote.webelement.WebElement (session=\"98768eae7fcd2a6601e3ad2280736378\", element=\"88ff0c1f-4aba-428f-9fdf-c55058a29519\")>,\n",
       " <selenium.webdriver.remote.webelement.WebElement (session=\"98768eae7fcd2a6601e3ad2280736378\", element=\"e1cfe417-a00d-4fd2-8933-7b32fe4f12c9\")>,\n",
       " <selenium.webdriver.remote.webelement.WebElement (session=\"98768eae7fcd2a6601e3ad2280736378\", element=\"3d45f694-17b2-4535-950d-d001a78cd31a\")>,\n",
       " <selenium.webdriver.remote.webelement.WebElement (session=\"98768eae7fcd2a6601e3ad2280736378\", element=\"27c6f682-18e8-4b23-bdce-4bee360082f4\")>,\n",
       " <selenium.webdriver.remote.webelement.WebElement (session=\"98768eae7fcd2a6601e3ad2280736378\", element=\"503950f3-27c4-47a2-9216-7d8f7a56ec1f\")>,\n",
       " <selenium.webdriver.remote.webelement.WebElement (session=\"98768eae7fcd2a6601e3ad2280736378\", element=\"e1b0cbe6-ff52-42bd-9fa4-54709cd49f25\")>,\n",
       " <selenium.webdriver.remote.webelement.WebElement (session=\"98768eae7fcd2a6601e3ad2280736378\", element=\"1121ac9c-e46f-471d-a2e4-1823a5e6d6f1\")>,\n",
       " <selenium.webdriver.remote.webelement.WebElement (session=\"98768eae7fcd2a6601e3ad2280736378\", element=\"6a64af96-483e-4efd-8ff4-7b78d9a883c5\")>,\n",
       " <selenium.webdriver.remote.webelement.WebElement (session=\"98768eae7fcd2a6601e3ad2280736378\", element=\"7947a136-087e-4af9-b3b2-38f78232445b\")>,\n",
       " <selenium.webdriver.remote.webelement.WebElement (session=\"98768eae7fcd2a6601e3ad2280736378\", element=\"d705d017-cd43-494b-87c0-ddeb6e806cbc\")>,\n",
       " <selenium.webdriver.remote.webelement.WebElement (session=\"98768eae7fcd2a6601e3ad2280736378\", element=\"162322d6-a982-4941-bed6-950bffa5ff81\")>,\n",
       " <selenium.webdriver.remote.webelement.WebElement (session=\"98768eae7fcd2a6601e3ad2280736378\", element=\"56d23846-4544-460a-ba34-eaf8b5a6bb24\")>,\n",
       " <selenium.webdriver.remote.webelement.WebElement (session=\"98768eae7fcd2a6601e3ad2280736378\", element=\"84a496d7-aadc-4138-a931-162672edae0f\")>,\n",
       " <selenium.webdriver.remote.webelement.WebElement (session=\"98768eae7fcd2a6601e3ad2280736378\", element=\"400d1610-9343-4920-8cf3-f8074fbe1c2a\")>,\n",
       " <selenium.webdriver.remote.webelement.WebElement (session=\"98768eae7fcd2a6601e3ad2280736378\", element=\"495ef01d-4610-4a86-8afb-736bc5e99d03\")>,\n",
       " <selenium.webdriver.remote.webelement.WebElement (session=\"98768eae7fcd2a6601e3ad2280736378\", element=\"da6c63cf-8554-4f1e-a447-e1df5ce483c1\")>,\n",
       " <selenium.webdriver.remote.webelement.WebElement (session=\"98768eae7fcd2a6601e3ad2280736378\", element=\"7d72221f-6bd3-4e41-ac57-20693b2e658b\")>,\n",
       " <selenium.webdriver.remote.webelement.WebElement (session=\"98768eae7fcd2a6601e3ad2280736378\", element=\"a350dc7f-6472-4638-b67d-19a4ed3cd1ad\")>,\n",
       " <selenium.webdriver.remote.webelement.WebElement (session=\"98768eae7fcd2a6601e3ad2280736378\", element=\"bd278442-de28-4c29-917b-66934a22c3b8\")>,\n",
       " <selenium.webdriver.remote.webelement.WebElement (session=\"98768eae7fcd2a6601e3ad2280736378\", element=\"c4d088f0-568a-4118-b160-4dd8b1242a3a\")>,\n",
       " <selenium.webdriver.remote.webelement.WebElement (session=\"98768eae7fcd2a6601e3ad2280736378\", element=\"cb6e90b6-a6bf-4035-be58-c4addcffe9df\")>,\n",
       " <selenium.webdriver.remote.webelement.WebElement (session=\"98768eae7fcd2a6601e3ad2280736378\", element=\"11dcbd0f-d733-4751-9419-918ab3320dae\")>,\n",
       " <selenium.webdriver.remote.webelement.WebElement (session=\"98768eae7fcd2a6601e3ad2280736378\", element=\"4e9625cd-5eae-4b3a-9cc8-4b0914fcc16c\")>,\n",
       " <selenium.webdriver.remote.webelement.WebElement (session=\"98768eae7fcd2a6601e3ad2280736378\", element=\"993e52ff-90d3-416b-af70-052dadc0591e\")>,\n",
       " <selenium.webdriver.remote.webelement.WebElement (session=\"98768eae7fcd2a6601e3ad2280736378\", element=\"6d15edc1-1011-4373-b54b-ee8f25bee9ff\")>,\n",
       " <selenium.webdriver.remote.webelement.WebElement (session=\"98768eae7fcd2a6601e3ad2280736378\", element=\"48195e74-eba5-4e1f-b007-b3e668e6d9f9\")>,\n",
       " <selenium.webdriver.remote.webelement.WebElement (session=\"98768eae7fcd2a6601e3ad2280736378\", element=\"b9fc6c23-30ec-44af-8c84-86a82686032f\")>,\n",
       " <selenium.webdriver.remote.webelement.WebElement (session=\"98768eae7fcd2a6601e3ad2280736378\", element=\"38517d68-b136-4baf-adab-e5c7715529b7\")>,\n",
       " <selenium.webdriver.remote.webelement.WebElement (session=\"98768eae7fcd2a6601e3ad2280736378\", element=\"af5b4501-1335-4afa-8461-62e11029e3ca\")>,\n",
       " <selenium.webdriver.remote.webelement.WebElement (session=\"98768eae7fcd2a6601e3ad2280736378\", element=\"637227f2-73e3-4251-a55c-e03a042ba877\")>]"
      ]
     },
     "execution_count": 43,
     "metadata": {},
     "output_type": "execute_result"
    }
   ],
   "source": [
    "price_tags=driver.find_elements_by_xpath(\"//div[@class='_30jeq3']\")\n",
    "price_tags"
   ]
  },
  {
   "cell_type": "code",
   "execution_count": 44,
   "id": "4e21bfc2",
   "metadata": {},
   "outputs": [
    {
     "data": {
      "text/plain": [
       "['₹199',\n",
       " '₹349',\n",
       " '₹839',\n",
       " '₹295',\n",
       " '₹639',\n",
       " '₹854',\n",
       " '₹224',\n",
       " '₹314',\n",
       " '₹264',\n",
       " '₹359',\n",
       " '₹283',\n",
       " '₹399',\n",
       " '₹499',\n",
       " '₹319',\n",
       " '₹799',\n",
       " '₹649',\n",
       " '₹1,039',\n",
       " '₹246',\n",
       " '₹195',\n",
       " '₹616',\n",
       " '₹299',\n",
       " '₹639',\n",
       " '₹299',\n",
       " '₹616',\n",
       " '₹259',\n",
       " '₹929',\n",
       " '₹1,029',\n",
       " '₹699',\n",
       " '₹929',\n",
       " '₹349',\n",
       " '₹259',\n",
       " '₹554',\n",
       " '₹499',\n",
       " '₹359',\n",
       " '₹554',\n",
       " '₹664',\n",
       " '₹499',\n",
       " '₹1,169',\n",
       " '₹219',\n",
       " '₹242',\n",
       " '₹499',\n",
       " '₹259',\n",
       " '₹554',\n",
       " '₹699',\n",
       " '₹219',\n",
       " '₹359',\n",
       " '₹1,169',\n",
       " '₹899',\n",
       " '₹499',\n",
       " '₹219',\n",
       " '₹384',\n",
       " '₹554',\n",
       " '₹719',\n",
       " '₹699',\n",
       " '₹233',\n",
       " '₹389',\n",
       " '₹279',\n",
       " '₹223',\n",
       " '₹554',\n",
       " '₹569',\n",
       " '₹466',\n",
       " '₹379',\n",
       " '₹399',\n",
       " '₹249',\n",
       " '₹265',\n",
       " '₹599',\n",
       " '₹299',\n",
       " '₹649',\n",
       " '₹269',\n",
       " '₹213',\n",
       " '₹399',\n",
       " '₹323',\n",
       " '₹189',\n",
       " '₹759',\n",
       " '₹2,309',\n",
       " '₹799',\n",
       " '₹929',\n",
       " '₹283',\n",
       " '₹219',\n",
       " '₹399',\n",
       " '₹189',\n",
       " '₹349',\n",
       " '₹379',\n",
       " '₹314',\n",
       " '₹314',\n",
       " '₹899',\n",
       " '₹635',\n",
       " '₹449',\n",
       " '₹246',\n",
       " '₹699',\n",
       " '₹1,039',\n",
       " '₹249',\n",
       " '₹449',\n",
       " '₹276',\n",
       " '₹629',\n",
       " '₹499',\n",
       " '₹199',\n",
       " '₹319',\n",
       " '₹269',\n",
       " '₹699',\n",
       " '₹554',\n",
       " '₹575',\n",
       " '₹214',\n",
       " '₹349',\n",
       " '₹345',\n",
       " '₹1,179',\n",
       " '₹647',\n",
       " '₹281',\n",
       " '₹809',\n",
       " '₹664',\n",
       " '₹214',\n",
       " '₹664',\n",
       " '₹499',\n",
       " '₹569',\n",
       " '₹189',\n",
       " '₹233',\n",
       " '₹189',\n",
       " '₹1,179',\n",
       " '₹329',\n",
       " '₹779']"
      ]
     },
     "execution_count": 44,
     "metadata": {},
     "output_type": "execute_result"
    }
   ],
   "source": [
    "for i in price_tags:\n",
    "    prices=i.text\n",
    "    price_list.append(prices)\n",
    "price_list    "
   ]
  },
  {
   "cell_type": "code",
   "execution_count": 45,
   "id": "4b034fdd",
   "metadata": {},
   "outputs": [
    {
     "data": {
      "text/plain": [
       "[<selenium.webdriver.remote.webelement.WebElement (session=\"98768eae7fcd2a6601e3ad2280736378\", element=\"d231a405-2d78-4cca-93d8-6d8092490709\")>,\n",
       " <selenium.webdriver.remote.webelement.WebElement (session=\"98768eae7fcd2a6601e3ad2280736378\", element=\"9f3a8eda-5804-4ba8-a2a9-5207c07d20fd\")>,\n",
       " <selenium.webdriver.remote.webelement.WebElement (session=\"98768eae7fcd2a6601e3ad2280736378\", element=\"05887866-89ae-4a09-aeaa-9cf9b6d46858\")>,\n",
       " <selenium.webdriver.remote.webelement.WebElement (session=\"98768eae7fcd2a6601e3ad2280736378\", element=\"5cd1300a-6d46-40d1-a3f9-61cec485d7e3\")>,\n",
       " <selenium.webdriver.remote.webelement.WebElement (session=\"98768eae7fcd2a6601e3ad2280736378\", element=\"672fbe31-a341-40b2-9555-38733d3918de\")>,\n",
       " <selenium.webdriver.remote.webelement.WebElement (session=\"98768eae7fcd2a6601e3ad2280736378\", element=\"4d73fb04-fa4d-41be-9732-3771f1e4183b\")>,\n",
       " <selenium.webdriver.remote.webelement.WebElement (session=\"98768eae7fcd2a6601e3ad2280736378\", element=\"3304af8b-76ec-4b7e-93ca-368fcad2d9f1\")>,\n",
       " <selenium.webdriver.remote.webelement.WebElement (session=\"98768eae7fcd2a6601e3ad2280736378\", element=\"3e16179b-8dd4-4787-b710-ebc8ae449864\")>,\n",
       " <selenium.webdriver.remote.webelement.WebElement (session=\"98768eae7fcd2a6601e3ad2280736378\", element=\"1a753e83-6c3e-4963-9589-42434f4efcd8\")>,\n",
       " <selenium.webdriver.remote.webelement.WebElement (session=\"98768eae7fcd2a6601e3ad2280736378\", element=\"21db9a79-feea-4449-977a-2354b9b244b1\")>,\n",
       " <selenium.webdriver.remote.webelement.WebElement (session=\"98768eae7fcd2a6601e3ad2280736378\", element=\"c00fcd21-277b-4cdb-9cd5-6d28d1d72325\")>,\n",
       " <selenium.webdriver.remote.webelement.WebElement (session=\"98768eae7fcd2a6601e3ad2280736378\", element=\"b5131105-a0e0-4097-becf-5549313508ab\")>,\n",
       " <selenium.webdriver.remote.webelement.WebElement (session=\"98768eae7fcd2a6601e3ad2280736378\", element=\"b79e3d3b-ae38-48a6-b1c5-195613717123\")>,\n",
       " <selenium.webdriver.remote.webelement.WebElement (session=\"98768eae7fcd2a6601e3ad2280736378\", element=\"43293b07-4122-4ff9-9b4d-2a7bde70c5bf\")>,\n",
       " <selenium.webdriver.remote.webelement.WebElement (session=\"98768eae7fcd2a6601e3ad2280736378\", element=\"251ef6ac-534f-4c9c-b0f9-b7fe8559684e\")>,\n",
       " <selenium.webdriver.remote.webelement.WebElement (session=\"98768eae7fcd2a6601e3ad2280736378\", element=\"d2667b86-4396-4662-a151-8289f742f030\")>,\n",
       " <selenium.webdriver.remote.webelement.WebElement (session=\"98768eae7fcd2a6601e3ad2280736378\", element=\"0e963dc9-cdee-40a6-866c-1c88f8d7b5a0\")>,\n",
       " <selenium.webdriver.remote.webelement.WebElement (session=\"98768eae7fcd2a6601e3ad2280736378\", element=\"1b654b7b-fb72-4938-acc7-bf7b3c4350c4\")>,\n",
       " <selenium.webdriver.remote.webelement.WebElement (session=\"98768eae7fcd2a6601e3ad2280736378\", element=\"f8e34900-1b15-48f8-91cb-afe337c3d9da\")>,\n",
       " <selenium.webdriver.remote.webelement.WebElement (session=\"98768eae7fcd2a6601e3ad2280736378\", element=\"695269c1-b372-48f9-9912-cab6814c26a6\")>,\n",
       " <selenium.webdriver.remote.webelement.WebElement (session=\"98768eae7fcd2a6601e3ad2280736378\", element=\"e11a8c41-135f-49e8-813a-61ab262129ce\")>,\n",
       " <selenium.webdriver.remote.webelement.WebElement (session=\"98768eae7fcd2a6601e3ad2280736378\", element=\"002a0f0f-8560-4abc-bf67-45b94d75b9a4\")>,\n",
       " <selenium.webdriver.remote.webelement.WebElement (session=\"98768eae7fcd2a6601e3ad2280736378\", element=\"bc085412-c8c6-4314-9b47-f63b148f30c5\")>,\n",
       " <selenium.webdriver.remote.webelement.WebElement (session=\"98768eae7fcd2a6601e3ad2280736378\", element=\"5ae0bf6b-d41b-4a69-afea-3529f37f27d9\")>,\n",
       " <selenium.webdriver.remote.webelement.WebElement (session=\"98768eae7fcd2a6601e3ad2280736378\", element=\"13eef134-da20-4282-9898-1e22711575a4\")>,\n",
       " <selenium.webdriver.remote.webelement.WebElement (session=\"98768eae7fcd2a6601e3ad2280736378\", element=\"a9aba855-6049-4f31-8741-7c583d1adb85\")>,\n",
       " <selenium.webdriver.remote.webelement.WebElement (session=\"98768eae7fcd2a6601e3ad2280736378\", element=\"6c883473-9642-427c-9e07-76d0501b3e3d\")>,\n",
       " <selenium.webdriver.remote.webelement.WebElement (session=\"98768eae7fcd2a6601e3ad2280736378\", element=\"ae6b3cf9-9d44-4957-a191-0b2a7baa25e7\")>,\n",
       " <selenium.webdriver.remote.webelement.WebElement (session=\"98768eae7fcd2a6601e3ad2280736378\", element=\"7e7e1bad-8c56-4481-8b84-d03667b8ad77\")>,\n",
       " <selenium.webdriver.remote.webelement.WebElement (session=\"98768eae7fcd2a6601e3ad2280736378\", element=\"64a39d8f-2f5f-4f03-ae39-0c316f949e75\")>,\n",
       " <selenium.webdriver.remote.webelement.WebElement (session=\"98768eae7fcd2a6601e3ad2280736378\", element=\"5d6e52f2-5d27-4369-b64a-42d457e187ad\")>,\n",
       " <selenium.webdriver.remote.webelement.WebElement (session=\"98768eae7fcd2a6601e3ad2280736378\", element=\"6591bbdc-92c3-4ebd-a863-f1bfac105f55\")>,\n",
       " <selenium.webdriver.remote.webelement.WebElement (session=\"98768eae7fcd2a6601e3ad2280736378\", element=\"a2811013-5d82-4e72-b90f-ad63efdcc5c9\")>,\n",
       " <selenium.webdriver.remote.webelement.WebElement (session=\"98768eae7fcd2a6601e3ad2280736378\", element=\"7cf96b4f-c965-4011-a16b-62d2daece22d\")>,\n",
       " <selenium.webdriver.remote.webelement.WebElement (session=\"98768eae7fcd2a6601e3ad2280736378\", element=\"b0666b2d-affb-45cb-aa8b-79a60aac5c37\")>,\n",
       " <selenium.webdriver.remote.webelement.WebElement (session=\"98768eae7fcd2a6601e3ad2280736378\", element=\"a315818c-2635-4051-8294-72bfe89d25cd\")>,\n",
       " <selenium.webdriver.remote.webelement.WebElement (session=\"98768eae7fcd2a6601e3ad2280736378\", element=\"84b92227-3048-4d5f-8464-fe905d32d119\")>,\n",
       " <selenium.webdriver.remote.webelement.WebElement (session=\"98768eae7fcd2a6601e3ad2280736378\", element=\"ab97a09b-68e0-43bd-a604-1256cdb90ee7\")>,\n",
       " <selenium.webdriver.remote.webelement.WebElement (session=\"98768eae7fcd2a6601e3ad2280736378\", element=\"6e64867f-b8b7-4e5c-b6dc-bee69ec72b9f\")>,\n",
       " <selenium.webdriver.remote.webelement.WebElement (session=\"98768eae7fcd2a6601e3ad2280736378\", element=\"7fcb2624-c709-470e-beda-85a2babd8682\")>]"
      ]
     },
     "execution_count": 45,
     "metadata": {},
     "output_type": "execute_result"
    }
   ],
   "source": [
    "description_tags=driver.find_elements_by_xpath(\"//a[@class='IRpwTa']\")\n",
    "description_tags"
   ]
  },
  {
   "cell_type": "code",
   "execution_count": 46,
   "id": "1013e5a0",
   "metadata": {
    "scrolled": false
   },
   "outputs": [
    {
     "data": {
      "text/plain": [
       "['Riding Glasses, Night Vision Spectacle Sunglasses (Fre...',\n",
       " 'UV Protection, Gradient Retro Square Sunglasses (Free S...',\n",
       " 'Polarized Aviator Sunglasses (Free Size)',\n",
       " 'UV Protection Round Sunglasses (54)',\n",
       " 'UV Protection Rectangular Sunglasses (Free Size)',\n",
       " 'Polarized Aviator Sunglasses (Free Size)',\n",
       " 'UV Protection Aviator Sunglasses (54)',\n",
       " 'UV Protection Aviator Sunglasses (57)',\n",
       " 'UV Protection Rectangular Sunglasses (Free Size)',\n",
       " 'UV Protection Aviator Sunglasses (58)',\n",
       " 'UV Protection, Polarized Wayfarer Sunglasses (Free Size...',\n",
       " 'UV Protection Spectacle Sunglasses (Free Size)',\n",
       " 'Polarized, Riding Glasses Sports, Wrap-around Sunglasse...',\n",
       " 'UV Protection Rectangular Sunglasses (Free Size)',\n",
       " 'Polarized Wayfarer Sunglasses (Free Size)',\n",
       " 'UV Protection Wayfarer Sunglasses (59)',\n",
       " 'UV Protection Aviator Sunglasses (58)',\n",
       " 'UV Protection Aviator Sunglasses (54)',\n",
       " 'UV Protection, Polarized, Mirrored Rectangular Sunglass...',\n",
       " 'Polarized Butterfly Sunglasses (Free Size)',\n",
       " 'Mirrored, UV Protection, Riding Glasses, Others Round S...',\n",
       " 'UV Protection Aviator Sunglasses (Free Size)',\n",
       " 'Riding Glasses Wrap-around Sunglasses (Free Size)',\n",
       " 'Polarized Butterfly Sunglasses (Free Size)',\n",
       " 'UV Protection, Polarized, Mirrored Retro Square Sunglas...',\n",
       " 'Gradient Cat-eye Sunglasses (57)',\n",
       " 'Gradient, UV Protection Aviator Sunglasses (56)',\n",
       " 'Polarized Retro Square Sunglasses (61)',\n",
       " 'by Lenskart Polarized, UV Protection Cat-eye Sunglasses...',\n",
       " 'UV Protection, Mirrored Clubmaster Sunglasses (Free Siz...',\n",
       " 'UV Protection Cat-eye Sunglasses (Free Size)',\n",
       " 'UV Protection, Gradient Cat-eye Sunglasses (58)',\n",
       " 'Others Oval Sunglasses (Free Size)',\n",
       " 'UV Protection Over-sized Sunglasses (65)',\n",
       " 'UV Protection, Gradient Retro Square Sunglasses (58)',\n",
       " 'UV Protection, Gradient Over-sized Sunglasses (62)',\n",
       " 'UV Protection Retro Square Sunglasses (Free Size)',\n",
       " 'UV Protection Aviator Sunglasses (58)',\n",
       " 'Others Wayfarer, Retro Square Sunglasses (50)',\n",
       " 'Gradient Aviator Sunglasses (55)',\n",
       " 'Others Oval Sunglasses (Free Size)',\n",
       " 'UV Protection Cat-eye Sunglasses (Free Size)',\n",
       " 'UV Protection, Gradient Retro Square Sunglasses (58)',\n",
       " 'UV Protection Rectangular Sunglasses (52)',\n",
       " 'UV Protection Round Sunglasses (53)',\n",
       " 'UV Protection Over-sized Sunglasses (65)',\n",
       " 'UV Protection Aviator Sunglasses (58)',\n",
       " 'by Lenskart UV Protection Wayfarer Sunglasses (51)',\n",
       " 'UV Protection Retro Square Sunglasses (Free Size)',\n",
       " 'Others Wayfarer, Retro Square Sunglasses (50)',\n",
       " 'UV Protection Sports Sunglasses (62)',\n",
       " 'UV Protection, Gradient Oval Sunglasses (58)',\n",
       " 'UV Protection Shield Sunglasses (Free Size)',\n",
       " 'UV Protection, Gradient Butterfly Sunglasses (62)',\n",
       " 'Gradient, UV Protection Retro Square, Wayfarer Sunglass...',\n",
       " 'UV Protection Retro Square Sunglasses (Free Size)',\n",
       " 'UV Protection Round Sunglasses (Free Size)',\n",
       " 'UV Protection Aviator Sunglasses (54)',\n",
       " 'UV Protection, Gradient Oval Sunglasses (58)',\n",
       " 'UV Protection Retro Square Sunglasses (60)',\n",
       " 'UV Protection Aviator Sunglasses (Free Size)',\n",
       " 'Mirrored Aviator Sunglasses (Free Size)',\n",
       " 'UV Protection, Gradient Rectangular Sunglasses (Free Si...',\n",
       " 'UV Protection Wayfarer Sunglasses (Free Size)',\n",
       " 'UV Protection Round Sunglasses (Free Size)',\n",
       " 'Polarized Aviator Sunglasses (44)',\n",
       " 'UV Protection Rectangular Sunglasses (Free Size)',\n",
       " 'UV Protection Aviator Sunglasses (62)',\n",
       " 'Mirrored, UV Protection Wayfarer Sunglasses (Free Size)',\n",
       " 'UV Protection, Riding Glasses, Mirrored Wayfarer Sungla...',\n",
       " 'UV Protection, Gradient Round Sunglasses (Free Size)',\n",
       " 'UV Protection Aviator Sunglasses (Free Size)',\n",
       " 'UV Protection Rectangular Sunglasses (55)',\n",
       " 'UV Protection Wayfarer Sunglasses (Free Size)',\n",
       " 'UV Protection Aviator Sunglasses (61)',\n",
       " 'Polarized, UV Protection Wrap-around Sunglasses (62)',\n",
       " 'by Lenskart Polarized, UV Protection Round Sunglasses (...',\n",
       " 'UV Protection, Polarized, Mirrored Wayfarer Sunglasses ...',\n",
       " 'UV Protection Rectangular Sunglasses (Free Size)',\n",
       " 'Mirrored, UV Protection Round Sunglasses (Free Size)',\n",
       " 'Mirrored, UV Protection Round Sunglasses (Free Size)',\n",
       " 'Mirrored, UV Protection Round Sunglasses (Free Size)',\n",
       " 'Mirrored, UV Protection Round Sunglasses (Free Size)',\n",
       " 'Mirrored, UV Protection Round Sunglasses (Free Size)',\n",
       " 'Mirrored, UV Protection Round Sunglasses (Free Size)',\n",
       " 'Mirrored, UV Protection Round Sunglasses (Free Size)',\n",
       " 'Mirrored, UV Protection Round Sunglasses (Free Size)',\n",
       " 'Mirrored, UV Protection Round Sunglasses (Free Size)',\n",
       " 'Mirrored, UV Protection Round Sunglasses (Free Size)',\n",
       " 'Mirrored, UV Protection Round Sunglasses (Free Size)',\n",
       " 'Mirrored, UV Protection Round Sunglasses (Free Size)',\n",
       " 'Mirrored, UV Protection Round Sunglasses (Free Size)',\n",
       " 'Mirrored, UV Protection Round Sunglasses (Free Size)',\n",
       " 'Mirrored, UV Protection Round Sunglasses (Free Size)',\n",
       " 'Mirrored, UV Protection Round Sunglasses (Free Size)',\n",
       " 'Mirrored, UV Protection Round Sunglasses (Free Size)',\n",
       " 'Mirrored, UV Protection Round Sunglasses (Free Size)',\n",
       " 'Mirrored, UV Protection Round Sunglasses (Free Size)',\n",
       " 'Mirrored, UV Protection Round Sunglasses (Free Size)',\n",
       " 'Mirrored, UV Protection Round Sunglasses (Free Size)',\n",
       " 'Mirrored, UV Protection Round Sunglasses (Free Size)',\n",
       " 'Mirrored, UV Protection Round Sunglasses (Free Size)',\n",
       " 'Mirrored, UV Protection Round Sunglasses (Free Size)',\n",
       " 'Mirrored, UV Protection Round Sunglasses (Free Size)',\n",
       " 'Mirrored, UV Protection Round Sunglasses (Free Size)',\n",
       " 'Mirrored, UV Protection Round Sunglasses (Free Size)',\n",
       " 'Mirrored, UV Protection Round Sunglasses (Free Size)',\n",
       " 'Mirrored, UV Protection Round Sunglasses (Free Size)',\n",
       " 'Mirrored, UV Protection Round Sunglasses (Free Size)',\n",
       " 'Mirrored, UV Protection Round Sunglasses (Free Size)',\n",
       " 'Mirrored, UV Protection Round Sunglasses (Free Size)',\n",
       " 'Mirrored, UV Protection Round Sunglasses (Free Size)',\n",
       " 'Mirrored, UV Protection Round Sunglasses (Free Size)',\n",
       " 'Mirrored, UV Protection Round Sunglasses (Free Size)',\n",
       " 'Mirrored, UV Protection Round Sunglasses (Free Size)',\n",
       " 'Mirrored, UV Protection Round Sunglasses (Free Size)',\n",
       " 'Mirrored, UV Protection Round Sunglasses (Free Size)',\n",
       " 'Mirrored, UV Protection Round Sunglasses (Free Size)',\n",
       " 'Mirrored, UV Protection Round Sunglasses (Free Size)',\n",
       " 'Mirrored, UV Protection Round Sunglasses (Free Size)']"
      ]
     },
     "execution_count": 46,
     "metadata": {},
     "output_type": "execute_result"
    }
   ],
   "source": [
    "for i in description_tags:\n",
    "    description=i.text\n",
    "    Product_description.append(descriptions)\n",
    "Product_description"
   ]
  },
  {
   "cell_type": "code",
   "execution_count": 52,
   "id": "77ff9a29",
   "metadata": {},
   "outputs": [],
   "source": [
    "brand_list=brands_list[0:100]\n",
    "prices_list=price_list[0:100]\n",
    "Products_description=Product_description[0:100]"
   ]
  },
  {
   "cell_type": "code",
   "execution_count": 53,
   "id": "0b4d622d",
   "metadata": {},
   "outputs": [
    {
     "name": "stdout",
     "output_type": "stream",
     "text": [
      "100 100 100\n"
     ]
    }
   ],
   "source": [
    "print(len(brand_list),len(prices_list),len(Products_description))"
   ]
  },
  {
   "cell_type": "code",
   "execution_count": 54,
   "id": "cdc5630e",
   "metadata": {},
   "outputs": [
    {
     "data": {
      "text/html": [
       "<div>\n",
       "<style scoped>\n",
       "    .dataframe tbody tr th:only-of-type {\n",
       "        vertical-align: middle;\n",
       "    }\n",
       "\n",
       "    .dataframe tbody tr th {\n",
       "        vertical-align: top;\n",
       "    }\n",
       "\n",
       "    .dataframe thead th {\n",
       "        text-align: right;\n",
       "    }\n",
       "</style>\n",
       "<table border=\"1\" class=\"dataframe\">\n",
       "  <thead>\n",
       "    <tr style=\"text-align: right;\">\n",
       "      <th></th>\n",
       "      <th>Brands</th>\n",
       "      <th>Prices</th>\n",
       "      <th>Product_description</th>\n",
       "    </tr>\n",
       "  </thead>\n",
       "  <tbody>\n",
       "    <tr>\n",
       "      <th>0</th>\n",
       "      <td>LIZA ANGEL</td>\n",
       "      <td>₹199</td>\n",
       "      <td>Riding Glasses, Night Vision Spectacle Sunglas...</td>\n",
       "    </tr>\n",
       "    <tr>\n",
       "      <th>1</th>\n",
       "      <td>ROZZETTA CRAFT</td>\n",
       "      <td>₹349</td>\n",
       "      <td>UV Protection, Gradient Retro Square Sunglasse...</td>\n",
       "    </tr>\n",
       "    <tr>\n",
       "      <th>2</th>\n",
       "      <td>Mi</td>\n",
       "      <td>₹839</td>\n",
       "      <td>Polarized Aviator Sunglasses (Free Size)</td>\n",
       "    </tr>\n",
       "    <tr>\n",
       "      <th>3</th>\n",
       "      <td>Elligator</td>\n",
       "      <td>₹295</td>\n",
       "      <td>UV Protection Round Sunglasses (54)</td>\n",
       "    </tr>\n",
       "    <tr>\n",
       "      <th>4</th>\n",
       "      <td>Fastrack</td>\n",
       "      <td>₹639</td>\n",
       "      <td>UV Protection Rectangular Sunglasses (Free Size)</td>\n",
       "    </tr>\n",
       "    <tr>\n",
       "      <th>...</th>\n",
       "      <td>...</td>\n",
       "      <td>...</td>\n",
       "      <td>...</td>\n",
       "    </tr>\n",
       "    <tr>\n",
       "      <th>95</th>\n",
       "      <td>ROZZETTA CRAFT</td>\n",
       "      <td>₹499</td>\n",
       "      <td>Mirrored, UV Protection Round Sunglasses (Free...</td>\n",
       "    </tr>\n",
       "    <tr>\n",
       "      <th>96</th>\n",
       "      <td>Rich Club</td>\n",
       "      <td>₹199</td>\n",
       "      <td>Mirrored, UV Protection Round Sunglasses (Free...</td>\n",
       "    </tr>\n",
       "    <tr>\n",
       "      <th>97</th>\n",
       "      <td>CRYSTAL CART</td>\n",
       "      <td>₹319</td>\n",
       "      <td>Mirrored, UV Protection Round Sunglasses (Free...</td>\n",
       "    </tr>\n",
       "    <tr>\n",
       "      <th>98</th>\n",
       "      <td>kingsunglasses</td>\n",
       "      <td>₹269</td>\n",
       "      <td>Mirrored, UV Protection Round Sunglasses (Free...</td>\n",
       "    </tr>\n",
       "    <tr>\n",
       "      <th>99</th>\n",
       "      <td>VINCENT CHASE</td>\n",
       "      <td>₹699</td>\n",
       "      <td>Mirrored, UV Protection Round Sunglasses (Free...</td>\n",
       "    </tr>\n",
       "  </tbody>\n",
       "</table>\n",
       "<p>100 rows × 3 columns</p>\n",
       "</div>"
      ],
      "text/plain": [
       "            Brands Prices                                Product_description\n",
       "0       LIZA ANGEL   ₹199  Riding Glasses, Night Vision Spectacle Sunglas...\n",
       "1   ROZZETTA CRAFT   ₹349  UV Protection, Gradient Retro Square Sunglasse...\n",
       "2               Mi   ₹839           Polarized Aviator Sunglasses (Free Size)\n",
       "3        Elligator   ₹295                UV Protection Round Sunglasses (54)\n",
       "4         Fastrack   ₹639   UV Protection Rectangular Sunglasses (Free Size)\n",
       "..             ...    ...                                                ...\n",
       "95  ROZZETTA CRAFT   ₹499  Mirrored, UV Protection Round Sunglasses (Free...\n",
       "96       Rich Club   ₹199  Mirrored, UV Protection Round Sunglasses (Free...\n",
       "97    CRYSTAL CART   ₹319  Mirrored, UV Protection Round Sunglasses (Free...\n",
       "98  kingsunglasses   ₹269  Mirrored, UV Protection Round Sunglasses (Free...\n",
       "99   VINCENT CHASE   ₹699  Mirrored, UV Protection Round Sunglasses (Free...\n",
       "\n",
       "[100 rows x 3 columns]"
      ]
     },
     "execution_count": 54,
     "metadata": {},
     "output_type": "execute_result"
    }
   ],
   "source": [
    "df=pd.DataFrame({'Brands':brand_list,'Prices':prices_list,'Product_description':Products_description})\n",
    "df"
   ]
  },
  {
   "cell_type": "markdown",
   "id": "1b9671db",
   "metadata": {},
   "source": [
    "## ANS 5"
   ]
  },
  {
   "cell_type": "code",
   "execution_count": 55,
   "id": "0b4c0329",
   "metadata": {},
   "outputs": [],
   "source": [
    "driver.get(\"https://www.flipkart.com/\")"
   ]
  },
  {
   "cell_type": "code",
   "execution_count": 56,
   "id": "e60bc121",
   "metadata": {},
   "outputs": [],
   "source": [
    "search_field_products=driver.find_element_by_class_name(\"_3704LK\")\n",
    "search_field_products.send_keys(\"iphone 11\")"
   ]
  },
  {
   "cell_type": "code",
   "execution_count": 57,
   "id": "62134dca",
   "metadata": {},
   "outputs": [],
   "source": [
    "search_button=driver.find_element_by_xpath(\"/html/body/div[1]/div/div[1]/div[1]/div[2]/div[2]/form/div/button\")\n",
    "search_button.click()"
   ]
  },
  {
   "cell_type": "code",
   "execution_count": 58,
   "id": "c44b88f8",
   "metadata": {},
   "outputs": [],
   "source": [
    "Rating=[]\n",
    "Review=[]\n",
    "Full_review=[]"
   ]
  },
  {
   "cell_type": "code",
   "execution_count": null,
   "id": "d3c2cbc6",
   "metadata": {},
   "outputs": [],
   "source": []
  },
  {
   "cell_type": "code",
   "execution_count": null,
   "id": "f8656569",
   "metadata": {},
   "outputs": [],
   "source": []
  },
  {
   "cell_type": "code",
   "execution_count": 62,
   "id": "6c2274e0",
   "metadata": {},
   "outputs": [
    {
     "name": "stderr",
     "output_type": "stream",
     "text": [
      "\n",
      "KeyboardInterrupt\n",
      "\n"
     ]
    }
   ],
   "source": [
    "Rating_tags=driver.find_elements_by_xpath(\"//div[@class='_3LWZlK _1BLPMq']\")\n",
    "Rating_tags"
   ]
  },
  {
   "cell_type": "code",
   "execution_count": null,
   "id": "94cbb354",
   "metadata": {},
   "outputs": [],
   "source": [
    "rating_tags=driver.find_elements_by_xpath(\"//div[@class='_3LWZlK _1BLPMq']\")\n",
    "rating_tags"
   ]
  },
  {
   "cell_type": "code",
   "execution_count": null,
   "id": "20d3c5a8",
   "metadata": {},
   "outputs": [],
   "source": [
    "review_tags=driver.find_elements_by_xpath(\"//p[@class='_2-N8zT']\")\n",
    "review_tags"
   ]
  },
  {
   "cell_type": "code",
   "execution_count": null,
   "id": "9ddff410",
   "metadata": {},
   "outputs": [],
   "source": []
  },
  {
   "cell_type": "code",
   "execution_count": null,
   "id": "0ff0952f",
   "metadata": {},
   "outputs": [],
   "source": []
  },
  {
   "cell_type": "code",
   "execution_count": null,
   "id": "adc67dfe",
   "metadata": {},
   "outputs": [],
   "source": []
  },
  {
   "cell_type": "code",
   "execution_count": null,
   "id": "cdd6002f",
   "metadata": {},
   "outputs": [],
   "source": []
  },
  {
   "cell_type": "code",
   "execution_count": null,
   "id": "7a652033",
   "metadata": {},
   "outputs": [],
   "source": []
  },
  {
   "cell_type": "code",
   "execution_count": null,
   "id": "77820fdc",
   "metadata": {},
   "outputs": [],
   "source": [
    "  "
   ]
  },
  {
   "cell_type": "code",
   "execution_count": null,
   "id": "8c7a01d1",
   "metadata": {},
   "outputs": [],
   "source": []
  },
  {
   "cell_type": "code",
   "execution_count": null,
   "id": "0ad1bf57",
   "metadata": {},
   "outputs": [],
   "source": []
  },
  {
   "cell_type": "code",
   "execution_count": null,
   "id": "628775d0",
   "metadata": {},
   "outputs": [],
   "source": [
    "    "
   ]
  },
  {
   "cell_type": "code",
   "execution_count": null,
   "id": "bb25ebdd",
   "metadata": {},
   "outputs": [],
   "source": []
  },
  {
   "cell_type": "code",
   "execution_count": null,
   "id": "b1bffa75",
   "metadata": {},
   "outputs": [],
   "source": [
    "  "
   ]
  },
  {
   "cell_type": "code",
   "execution_count": null,
   "id": "87834970",
   "metadata": {},
   "outputs": [],
   "source": []
  },
  {
   "cell_type": "code",
   "execution_count": null,
   "id": "f59e5bb0",
   "metadata": {},
   "outputs": [],
   "source": []
  },
  {
   "cell_type": "code",
   "execution_count": null,
   "id": "f15d80e9",
   "metadata": {},
   "outputs": [],
   "source": []
  },
  {
   "cell_type": "code",
   "execution_count": null,
   "id": "e6c7dbc5",
   "metadata": {},
   "outputs": [],
   "source": []
  },
  {
   "cell_type": "code",
   "execution_count": null,
   "id": "c18187ce",
   "metadata": {},
   "outputs": [],
   "source": []
  },
  {
   "cell_type": "code",
   "execution_count": null,
   "id": "94f21414",
   "metadata": {},
   "outputs": [],
   "source": []
  },
  {
   "cell_type": "code",
   "execution_count": null,
   "id": "be05cd2b",
   "metadata": {},
   "outputs": [],
   "source": [
    "  "
   ]
  },
  {
   "cell_type": "code",
   "execution_count": null,
   "id": "e9ecf88b",
   "metadata": {},
   "outputs": [],
   "source": []
  },
  {
   "cell_type": "code",
   "execution_count": null,
   "id": "4a99b7ba",
   "metadata": {},
   "outputs": [],
   "source": []
  },
  {
   "cell_type": "code",
   "execution_count": null,
   "id": "54ad5106",
   "metadata": {},
   "outputs": [],
   "source": []
  },
  {
   "cell_type": "code",
   "execution_count": null,
   "id": "0c8f5aad",
   "metadata": {},
   "outputs": [],
   "source": [
    "    "
   ]
  },
  {
   "cell_type": "code",
   "execution_count": null,
   "id": "43c43aa0",
   "metadata": {},
   "outputs": [],
   "source": []
  },
  {
   "cell_type": "code",
   "execution_count": null,
   "id": "03b2d275",
   "metadata": {},
   "outputs": [],
   "source": []
  },
  {
   "cell_type": "code",
   "execution_count": null,
   "id": "b5c9c43b",
   "metadata": {},
   "outputs": [],
   "source": []
  },
  {
   "cell_type": "code",
   "execution_count": null,
   "id": "fcc9d33b",
   "metadata": {},
   "outputs": [],
   "source": []
  },
  {
   "cell_type": "code",
   "execution_count": null,
   "id": "e656e0b3",
   "metadata": {},
   "outputs": [],
   "source": []
  },
  {
   "cell_type": "code",
   "execution_count": null,
   "id": "bdbe7762",
   "metadata": {},
   "outputs": [],
   "source": []
  },
  {
   "cell_type": "code",
   "execution_count": null,
   "id": "9141319e",
   "metadata": {},
   "outputs": [],
   "source": []
  },
  {
   "cell_type": "code",
   "execution_count": null,
   "id": "efb26b07",
   "metadata": {},
   "outputs": [],
   "source": [
    "  "
   ]
  },
  {
   "cell_type": "code",
   "execution_count": null,
   "id": "2874b06e",
   "metadata": {},
   "outputs": [],
   "source": []
  },
  {
   "cell_type": "code",
   "execution_count": null,
   "id": "9992c9d4",
   "metadata": {},
   "outputs": [],
   "source": [
    "  "
   ]
  },
  {
   "cell_type": "code",
   "execution_count": null,
   "id": "5192dc78",
   "metadata": {},
   "outputs": [],
   "source": []
  },
  {
   "cell_type": "code",
   "execution_count": null,
   "id": "fa996672",
   "metadata": {},
   "outputs": [],
   "source": []
  },
  {
   "cell_type": "code",
   "execution_count": null,
   "id": "261571a9",
   "metadata": {},
   "outputs": [],
   "source": []
  },
  {
   "cell_type": "code",
   "execution_count": null,
   "id": "408e8602",
   "metadata": {},
   "outputs": [],
   "source": []
  },
  {
   "cell_type": "code",
   "execution_count": null,
   "id": "b3e9a507",
   "metadata": {},
   "outputs": [],
   "source": []
  },
  {
   "cell_type": "code",
   "execution_count": null,
   "id": "9584b4d9",
   "metadata": {},
   "outputs": [],
   "source": []
  },
  {
   "cell_type": "code",
   "execution_count": null,
   "id": "755b11a2",
   "metadata": {},
   "outputs": [],
   "source": []
  },
  {
   "cell_type": "code",
   "execution_count": null,
   "id": "11da20b1",
   "metadata": {},
   "outputs": [],
   "source": []
  },
  {
   "cell_type": "code",
   "execution_count": null,
   "id": "b029e85f",
   "metadata": {},
   "outputs": [],
   "source": []
  },
  {
   "cell_type": "code",
   "execution_count": null,
   "id": "01c89dd5",
   "metadata": {},
   "outputs": [],
   "source": []
  }
 ],
 "metadata": {
  "kernelspec": {
   "display_name": "Python 3 (ipykernel)",
   "language": "python",
   "name": "python3"
  },
  "language_info": {
   "codemirror_mode": {
    "name": "ipython",
    "version": 3
   },
   "file_extension": ".py",
   "mimetype": "text/x-python",
   "name": "python",
   "nbconvert_exporter": "python",
   "pygments_lexer": "ipython3",
   "version": "3.9.7"
  }
 },
 "nbformat": 4,
 "nbformat_minor": 5
}
