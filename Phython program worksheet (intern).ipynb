{
 "cells": [
  {
   "cell_type": "code",
   "execution_count": 8,
   "id": "9e1d5e9f",
   "metadata": {},
   "outputs": [],
   "source": [
    "import numpy as np"
   ]
  },
  {
   "cell_type": "markdown",
   "id": "a1cebec7",
   "metadata": {},
   "source": [
    "## ANS 2"
   ]
  },
  {
   "cell_type": "code",
   "execution_count": 9,
   "id": "10f6b3bc",
   "metadata": {},
   "outputs": [
    {
     "data": {
      "text/plain": [
       "0"
      ]
     },
     "execution_count": 9,
     "metadata": {},
     "output_type": "execute_result"
    }
   ],
   "source": [
    "2//3\n"
   ]
  },
  {
   "cell_type": "markdown",
   "id": "1574d0f4",
   "metadata": {},
   "source": [
    "## ANS 3"
   ]
  },
  {
   "cell_type": "code",
   "execution_count": 11,
   "id": "68afa7cc",
   "metadata": {},
   "outputs": [
    {
     "data": {
      "text/plain": [
       "24"
      ]
     },
     "execution_count": 11,
     "metadata": {},
     "output_type": "execute_result"
    }
   ],
   "source": [
    "6<<2"
   ]
  },
  {
   "cell_type": "markdown",
   "id": "5f5bb0bc",
   "metadata": {},
   "source": [
    "## ANS 4"
   ]
  },
  {
   "cell_type": "code",
   "execution_count": 12,
   "id": "6b7d9dff",
   "metadata": {},
   "outputs": [
    {
     "data": {
      "text/plain": [
       "2"
      ]
     },
     "execution_count": 12,
     "metadata": {},
     "output_type": "execute_result"
    }
   ],
   "source": [
    "6&2"
   ]
  },
  {
   "cell_type": "markdown",
   "id": "db2ca850",
   "metadata": {},
   "source": [
    "## ANS 5"
   ]
  },
  {
   "cell_type": "code",
   "execution_count": 13,
   "id": "d542f081",
   "metadata": {},
   "outputs": [
    {
     "data": {
      "text/plain": [
       "6"
      ]
     },
     "execution_count": 13,
     "metadata": {},
     "output_type": "execute_result"
    }
   ],
   "source": [
    "6|2"
   ]
  },
  {
   "cell_type": "markdown",
   "id": "a3d68af5",
   "metadata": {},
   "source": [
    "## ANS 11"
   ]
  },
  {
   "cell_type": "code",
   "execution_count": 21,
   "id": "4446b167",
   "metadata": {},
   "outputs": [
    {
     "name": "stdout",
     "output_type": "stream",
     "text": [
      "Enter a number: 7\n",
      "The factorial of 7 is 5040\n"
     ]
    }
   ],
   "source": [
    "## Python program to find the factorial of a number provided by the user.\n",
    "num = 7\n",
    "\n",
    "# To take input from the user\n",
    "num = int(input(\"Enter a number: \"))\n",
    "factorial = 1\n",
    "# check if the number is negative, positive or zero\n",
    "if num < 0:\n",
    "    print(\"Sorry, factorial does not exist for negative numbers\")\n",
    "elif num == 0:\n",
    "    print(\"The factorial of 0 is 1\")\n",
    "else:\n",
    "    for i in range(1,num + 1):\n",
    "        factorial = factorial*i\n",
    "    print(\"The factorial of\",num,\"is\",factorial)    "
   ]
  },
  {
   "cell_type": "markdown",
   "id": "3e2b0b53",
   "metadata": {},
   "source": [
    "## ANS 12"
   ]
  },
  {
   "cell_type": "code",
   "execution_count": 24,
   "id": "b08eedd1",
   "metadata": {},
   "outputs": [
    {
     "name": "stdout",
     "output_type": "stream",
     "text": [
      "Enter any number:5\n",
      "5 number is prime but not composite number\n"
     ]
    }
   ],
   "source": [
    "#Input a number and check if the number is prime or composite number\n",
    "n= int(input(\"Enter any number:\"))\n",
    "if(n ==0 or n == 1):\n",
    "    print(n,\"Number is neither prime nor composite\")\n",
    "elif n>1 :\n",
    "    for i in range(2,n):\n",
    "        if(n%i == 0):\n",
    "            print(n,\"is not prime but composite number\")\n",
    "            break\n",
    "    else:\n",
    "        print(n,\"number is prime but not composite number\")\n",
    "else :\n",
    "    print(\"Please enter positive number only \")"
   ]
  },
  {
   "cell_type": "markdown",
   "id": "abce588b",
   "metadata": {},
   "source": [
    "## ANS 13"
   ]
  },
  {
   "cell_type": "code",
   "execution_count": 32,
   "id": "bd710304",
   "metadata": {},
   "outputs": [
    {
     "name": "stdout",
     "output_type": "stream",
     "text": [
      "The string is a palindrome.\n"
     ]
    }
   ],
   "source": [
    "# Program to check if a string is palindrome or not\n",
    "\n",
    "my_str = 'Madam'\n",
    "\n",
    "# make it suitable for caseless comparison\n",
    "my_str = my_str.casefold()\n",
    "\n",
    "# reverse the string\n",
    "rev_str = reversed(my_str)\n",
    "\n",
    "# check if the string is equal to its reverse\n",
    "if list(my_str) == list(rev_str):\n",
    "   print(\"The string is a palindrome.\")\n",
    "else:\n",
    "   print(\"The string is not a palindrome.\")"
   ]
  },
  {
   "cell_type": "markdown",
   "id": "e7373844",
   "metadata": {},
   "source": [
    "## ANS 14"
   ]
  },
  {
   "cell_type": "code",
   "execution_count": 33,
   "id": "02e1df26",
   "metadata": {},
   "outputs": [
    {
     "name": "stdout",
     "output_type": "stream",
     "text": [
      "Enter base: 8.5\n",
      "Enter height: 4.5\n",
      "Enter angle: 45\n",
      "Hypotenuse = 9.617692030835672\n"
     ]
    }
   ],
   "source": [
    "# Program to find a side of a right angled triangle whose two sides and an angle is given.\n",
    "import math\n",
    "\n",
    "a = float(input(\"Enter base: \"))\n",
    "b = float(input(\"Enter height: \"))\n",
    "x = float(input(\"Enter angle: \"))\n",
    "\n",
    "c = math.sqrt(a ** 2 + b ** 2)\n",
    "\n",
    "print(\"Hypotenuse =\", c)"
   ]
  },
  {
   "cell_type": "markdown",
   "id": "4290d5ec",
   "metadata": {},
   "source": [
    "## ANS 15"
   ]
  },
  {
   "cell_type": "code",
   "execution_count": 36,
   "id": "6619a0b3",
   "metadata": {},
   "outputs": [
    {
     "name": "stdout",
     "output_type": "stream",
     "text": [
      "Enter the stringParas Malhotra\n",
      "{'P': 1, 'a': 4, 'r': 2, 's': 1, ' ': 1, 'M': 1, 'l': 1, 'h': 1, 'o': 1, 't': 1}\n"
     ]
    }
   ],
   "source": [
    "str1=input(\"Enter the string\")\n",
    "d1=dict()\n",
    "for c in str1:\n",
    "    if c in d1:\n",
    "        d1[c]=d1[c]+1\n",
    "    else:\n",
    "        d1[c]=1\n",
    "print(d1)        "
   ]
  }
 ],
 "metadata": {
  "kernelspec": {
   "display_name": "Python 3 (ipykernel)",
   "language": "python",
   "name": "python3"
  },
  "language_info": {
   "codemirror_mode": {
    "name": "ipython",
    "version": 3
   },
   "file_extension": ".py",
   "mimetype": "text/x-python",
   "name": "python",
   "nbconvert_exporter": "python",
   "pygments_lexer": "ipython3",
   "version": "3.9.7"
  }
 },
 "nbformat": 4,
 "nbformat_minor": 5
}
